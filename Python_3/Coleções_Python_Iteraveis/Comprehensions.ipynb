{
 "cells": [
  {
   "cell_type": "markdown",
   "metadata": {},
   "source": [
    "# Lists Comprehensions\r\n",
    "\r\n",
    "List comprehensions (abrangências de lista) são um dos recursos mais amados da linguagem Python. \r\n",
    "Elas permitem que você componha uma nova lista de modo conciso, filtrando os elementos de uma coleção, transformando os elementos ao passar o filtro, com uma expressão concisa. A condição de filtro pode ser omitida, restando somente a expressão."
   ]
  },
  {
   "cell_type": "markdown",
   "metadata": {},
   "source": [
    "## Sintaxe \r\n",
    "A sintaxe geral de compreensão de lista é a seguinte. Consiste em três partes: iteração, transformação e filtragem.\r\n",
    "\r\n",
    "![Sintax List Comprehensions](list-comprehension-syntax.jpg)\r\n",
    "\r\n",
    "* **Iteração**: esta é a primeira parte executada em uma compreensão de lista que itera por todos os elementos do iterável. \r\n",
    "* **Transformação**: como o nome diz, a transformação será aplicada a cada elemento do iterável. No exemplo acima, estamos elevando ao quadrado cada elemento do iterável.\r\n",
    "* **Filtro (opcional)**: é opcional e filtra alguns dos elementos com base nas condições. O exemplo acima percorre todos os elementos de 1 a 10, filtra os números ímpares e considera apenas os números positivos antes de aplicar a transformação."
   ]
  },
  {
   "cell_type": "markdown",
   "metadata": {},
   "source": [
    "# Lists Comprehensions simples _**SEM**_ filtro \r\n",
    "\r\n",
    "## Converte todas as strings da lista em maiúsculas."
   ]
  },
  {
   "cell_type": "code",
   "execution_count": 8,
   "metadata": {},
   "outputs": [
    {
     "name": "stdout",
     "output_type": "stream",
     "text": [
      "['MAÇÃ', 'BANANA', 'LARANJA', 'MELANCIA']\n"
     ]
    }
   ],
   "source": [
    "# Com for\r\n",
    "frutas = [\"maçã\", \"banana\", \"laranja\", \"melancia\"]\r\n",
    "lista = []\r\n",
    "\r\n",
    "for fruta in frutas:\r\n",
    "    lista.append(fruta.upper())\r\n",
    "\r\n",
    "print(lista)"
   ]
  },
  {
   "cell_type": "code",
   "execution_count": 9,
   "metadata": {},
   "outputs": [
    {
     "name": "stdout",
     "output_type": "stream",
     "text": [
      "['MAÇÃ', 'BANANA', 'LARANJA', 'MELANCIA']\n"
     ]
    }
   ],
   "source": [
    "# Com list comprehensions\r\n",
    "frutas = [\"maçã\", \"banana\", \"laranja\", \"melancia\"]\r\n",
    "lista = []\r\n",
    "\r\n",
    "lista = [fruta.upper() for fruta in frutas]\r\n",
    "\r\n",
    "print(lista)"
   ]
  },
  {
   "cell_type": "code",
   "execution_count": 10,
   "metadata": {},
   "outputs": [
    {
     "name": "stdout",
     "output_type": "stream",
     "text": [
      "[1, 9, 16, 25, 49, 64]\n"
     ]
    }
   ],
   "source": [
    "inteiros = [1,3,4,5,7,8]\r\n",
    "quadrados = [(n * n) for n in inteiros] # potencia de n para cada n na lista inteiros\r\n",
    "print(quadrados)"
   ]
  },
  {
   "cell_type": "code",
   "execution_count": 11,
   "metadata": {},
   "outputs": [
    {
     "name": "stdout",
     "output_type": "stream",
     "text": [
      "[32.0, 50.0, 68.18, 94.1]\n"
     ]
    }
   ],
   "source": [
    "# Converter Celsius para Fahrenheit\r\n",
    "celsius = [0,10,20.1,34.5]\r\n",
    "fahrenheit = [ ((float(9)/5)*temp + 32) for temp in celsius ]\r\n",
    "print(fahrenheit)"
   ]
  },
  {
   "cell_type": "markdown",
   "metadata": {},
   "source": [
    "# Lists Comprehensions simples _**COM**_ filtro _**IF**_\r\n",
    "\r\n",
    "Observe que a instrução if vem após o loop. Em geral, se a condição é usada para filtragem."
   ]
  },
  {
   "cell_type": "code",
   "execution_count": 14,
   "metadata": {},
   "outputs": [
    {
     "name": "stdout",
     "output_type": "stream",
     "text": [
      "[4, 8]\n"
     ]
    }
   ],
   "source": [
    "# Com for - filtrando números pares\r\n",
    "inteiros = [1,3,4,5,7,8,9]\r\n",
    "pares = []\r\n",
    "\r\n",
    "for numero in inteiros:\r\n",
    "    if numero % 2 == 0:\r\n",
    "        pares.append(numero)\r\n",
    "        \r\n",
    "print(pares)"
   ]
  },
  {
   "cell_type": "code",
   "execution_count": 15,
   "metadata": {},
   "outputs": [
    {
     "name": "stdout",
     "output_type": "stream",
     "text": [
      "[4, 8]\n"
     ]
    }
   ],
   "source": [
    "# Com list comprehensions - filtrando números pares\r\n",
    "inteiros = [1,3,4,5,7,8,9]\r\n",
    "pares = []\r\n",
    "\r\n",
    "pares = [ numero for numero in inteiros if numero % 2 == 0]\r\n",
    "\r\n",
    "print(pares)"
   ]
  },
  {
   "cell_type": "markdown",
   "metadata": {},
   "source": [
    "## Lists Comprehensions simples _**COM**_ filtro _**IF - ELSE**_\r\n",
    "\r\n",
    "Quando o if-else é usado com a compreensão de lista, a sintaxe é um pouco diferente em comparação com a compreensão apenas com a instrução if. O exemplo a seguir calcula os números pares quadrados e o cubo de números ímpares entre 1 e 10 usando uma instrução if-else."
   ]
  },
  {
   "cell_type": "code",
   "execution_count": 10,
   "metadata": {},
   "outputs": [
    {
     "name": "stdout",
     "output_type": "stream",
     "text": [
      "[1, 4, 27, 16, 125, 36, 343, 64, 729, 100]\n"
     ]
    }
   ],
   "source": [
    "lista = [i**2 if i%2==0 else i**3 for i in range(1,11)]\r\n",
    "\r\n",
    "print(lista)"
   ]
  },
  {
   "cell_type": "markdown",
   "metadata": {},
   "source": [
    "# List Comprehensions _**ANINHADAS**_\r\n",
    "\r\n",
    "É possível escrever compreensões de lista aninhada, o que significa que você pode incluir uma compreensão de lista dentro de outra. Um dos usos das compreensões de lista aninhada é que elas podem ser usadas para criar matrizes n-dimensionais. "
   ]
  },
  {
   "cell_type": "markdown",
   "metadata": {},
   "source": [
    "### Criar uma matriz 5 × 5 usando compreensões de listas aninhadas."
   ]
  },
  {
   "cell_type": "code",
   "execution_count": 2,
   "metadata": {},
   "outputs": [
    {
     "name": "stdout",
     "output_type": "stream",
     "text": [
      "[[0, 0, 0, 0, 0], [0, 1, 2, 3, 4], [0, 2, 4, 6, 8], [0, 3, 6, 9, 12], [0, 4, 8, 12, 16]]\n"
     ]
    }
   ],
   "source": [
    "matriz = [[i*j for j in range(5)] for i in range(5)]\r\n",
    "\r\n",
    "print(matriz)"
   ]
  },
  {
   "cell_type": "markdown",
   "metadata": {},
   "source": [
    "# List Comprehensions _**ANINHADAS**_ com LOOPs\r\n",
    "\r\n",
    "Também é possível incluir vários loops em compreensões de lista. Você pode usar quantos loops quiser. Mas, como prática recomendada, você deve limitar a profundidade a dois para não perder a legibilidade. O exemplo a seguir usa dois loops for. "
   ]
  },
  {
   "cell_type": "code",
   "execution_count": 5,
   "metadata": {},
   "outputs": [
    {
     "name": "stdout",
     "output_type": "stream",
     "text": [
      "[0, 1, 1, 2]\n"
     ]
    }
   ],
   "source": [
    "matriz = [i+j for i in range(2) for j in range(2)]\r\n",
    "\r\n",
    "print(matriz)"
   ]
  },
  {
   "cell_type": "code",
   "execution_count": 6,
   "metadata": {},
   "outputs": [
    {
     "name": "stdout",
     "output_type": "stream",
     "text": [
      "[1, 2, 3, 4, 5, 6]\n"
     ]
    }
   ],
   "source": [
    "# Um dos usos dos loops aninhados é vetorizar a matriz (achatando a matriz). \r\n",
    "# No exemplo abaixo, my_matrix é uma matriz 2 × 2. Usando loops aninhados, \r\n",
    "# podemos criar uma versão vetorial.\r\n",
    "minha_matriz = [[1, 2, 3], [4, 5, 6]]\r\n",
    "\r\n",
    "print([valor for linha in minha_matriz for valor in linha] )"
   ]
  },
  {
   "cell_type": "markdown",
   "metadata": {},
   "source": [
    "# List Comprehensions _**MULTILINHA**_\r\n",
    "Você também pode escrever compreensões de lista multilinhas e são preferidas quando você não consegue encaixar todas as instruções em uma linha. Eles apenas aumentam a legibilidade e não oferecem nenhum benefício adicional."
   ]
  },
  {
   "cell_type": "code",
   "execution_count": 7,
   "metadata": {},
   "outputs": [
    {
     "name": "stdout",
     "output_type": "stream",
     "text": [
      "[(0, 0, 0), (0, 0, 1), (0, 1, 0), (0, 1, 1), (1, 0, 0), (1, 0, 1), (1, 1, 0), (1, 1, 1)]\n"
     ]
    }
   ],
   "source": [
    "lista = [(i, j, k) for i in range(2) for j in range(2) for k in range(2)] # uma única linha\r\n",
    "\r\n",
    "print(lista)"
   ]
  },
  {
   "cell_type": "code",
   "execution_count": 9,
   "metadata": {},
   "outputs": [
    {
     "name": "stdout",
     "output_type": "stream",
     "text": [
      "[(0, 0, 0), (0, 0, 1), (0, 1, 0), (0, 1, 1), (1, 0, 0), (1, 0, 1), (1, 1, 0), (1, 1, 1)]\n"
     ]
    }
   ],
   "source": [
    "lista = [(i, j, k) \r\n",
    "         for i in range(2) \r\n",
    "         for j in range(2) \r\n",
    "         for k in range(2)\r\n",
    "         ] # multi linha\r\n",
    "\r\n",
    "print(lista)"
   ]
  },
  {
   "cell_type": "markdown",
   "metadata": {},
   "source": [
    "# List Comprehensions Vs map( )\r\n",
    "\r\n",
    "A compreensão de lista pode ser uma alternativa à função de map( ). E também é mais rápida que a mesma."
   ]
  },
  {
   "cell_type": "code",
   "execution_count": 11,
   "metadata": {},
   "outputs": [
    {
     "name": "stdout",
     "output_type": "stream",
     "text": [
      "[1, 4, 9, 16, 25, 36, 49, 64, 81, 100]\n",
      "[1, 4, 9, 16, 25, 36, 49, 64, 81, 100]\n"
     ]
    }
   ],
   "source": [
    "# Map function\r\n",
    "map_ex = list(map(lambda x: x**2, range(1,11)))\r\n",
    "print(map_ex)\r\n",
    "\r\n",
    "# List comprehension\r\n",
    "list_ex = [num**2 for num in range(1,11)]\r\n",
    "print(list_ex)"
   ]
  },
  {
   "cell_type": "code",
   "execution_count": 15,
   "metadata": {},
   "outputs": [
    {
     "name": "stdout",
     "output_type": "stream",
     "text": [
      "map_ex=33.891265700000076\n",
      "list_ex=23.60165380000035\n"
     ]
    }
   ],
   "source": [
    "from timeit import timeit\r\n",
    "\r\n",
    "# Time taken for map function\r\n",
    "map_ex = timeit(\"list(map(lambda x: x**2, range(1,11)))\", number=10_000_000)\r\n",
    "print(f'{map_ex = }')\r\n",
    "\r\n",
    "# Time taken for list comprehension\r\n",
    "list_ex = timeit(\"[num**2 for num in range(1,11)]\", number=10_000_000)\r\n",
    "print(f'{list_ex = }')"
   ]
  },
  {
   "cell_type": "markdown",
   "metadata": {},
   "source": [
    "# List Comprehensions Vs filter( )\r\n",
    "\r\n",
    "A compreensão de lista pode ser uma alternativa à função de filter( ). E também é mais rápida que a mesma."
   ]
  },
  {
   "cell_type": "code",
   "execution_count": 17,
   "metadata": {},
   "outputs": [
    {
     "name": "stdout",
     "output_type": "stream",
     "text": [
      "[2, 4, 6, 8, 10]\n",
      "[2, 4, 6, 8, 10]\n"
     ]
    }
   ],
   "source": [
    "# Filter function\r\n",
    "filter_ex = list(filter(lambda x: x%2==0, range(1,11)))\r\n",
    "print(filter_ex)\r\n",
    "\r\n",
    "# List comprehension\r\n",
    "list_ex = [num for num in range(1,11) if num%2==0]\r\n",
    "print(list_ex)"
   ]
  },
  {
   "cell_type": "code",
   "execution_count": 34,
   "metadata": {},
   "outputs": [
    {
     "name": "stdout",
     "output_type": "stream",
     "text": [
      "filter_ex = 12.378539300000284\n",
      "list_ex = 7.8097867000001315\n"
     ]
    }
   ],
   "source": [
    "from timeit import timeit\r\n",
    "\r\n",
    "# Time taken for filter function\r\n",
    "filter_ex = timeit(\"list(filter(lambda x: x%2==0, range(1,11)))\", number=10_000_000)\r\n",
    "print(f'{filter_ex = }')\r\n",
    "\r\n",
    "# Time taken for list comprehension\r\n",
    "list_ex = timeit(\"[num for num in range(1,11) if num%2==0]\", number=10_000_000)\r\n",
    "print(f'{list_ex = }')"
   ]
  },
  {
   "cell_type": "markdown",
   "metadata": {},
   "source": [
    "# Comprehensions de conjuntos { }\r\n",
    "\r\n",
    "Podemos criar compreensões de conjuntos, mas a única diferença é que eles estão entre chaves { }. O exemplo a seguir cria uma compreensão de conjunto a partir de uma lista. Ele converte todas as strings da lista em maiúsculas e cria um conjunto (é claro, removendo as duplicatas)."
   ]
  },
  {
   "cell_type": "code",
   "execution_count": 21,
   "metadata": {},
   "outputs": [
    {
     "name": "stdout",
     "output_type": "stream",
     "text": [
      "{'.', 'PYTHON', 'COM', 'SIMPLIFIED'}\n"
     ]
    }
   ],
   "source": [
    "nomes = [\"python\", \"PYTHON\", \"simplified\", \"SIMPLIFIED\", \".\", \"com\", \"COM\"]\r\n",
    "\r\n",
    "conjunto = {nome.upper() for nome in nomes}\r\n",
    "\r\n",
    "print(conjunto)"
   ]
  },
  {
   "cell_type": "markdown",
   "metadata": {},
   "source": [
    "# Comprehensions de dicionários {key: value}\r\n",
    "\r\n",
    "As compreensões do dicionário também estão entre { } colchetes, mas seu conteúdo segue o formato chave: valor conforme o esperado. O exemplo abaixo cria uma compreensão de dicionário a partir de uma lista. Ele cria um dicionário com string como chave e comprimento da string como valor. "
   ]
  },
  {
   "cell_type": "code",
   "execution_count": 25,
   "metadata": {},
   "outputs": [
    {
     "name": "stdout",
     "output_type": "stream",
     "text": [
      "{'Python': 6, 'Simplified': 10, '.': 1, 'Com': 3}\n"
     ]
    }
   ],
   "source": [
    "nome = [\"Python\", \"Simplified\", \".\", \"Com\"]\r\n",
    "\r\n",
    "dicionario = { s: len(s) for s in nome}\r\n",
    "\r\n",
    "print(dicionario)"
   ]
  },
  {
   "cell_type": "markdown",
   "metadata": {},
   "source": [
    "# Expressões Geradoras ( )\r\n",
    "\r\n",
    "As expressões geradoras são muito semelhantes à compreensão de lista, com a diferença de que as expressões geradoras são colocadas entre parênteses ( ). Você poderia dizer que a compreensão do gerador é uma versão preguiçosa da compreensão da lista."
   ]
  },
  {
   "cell_type": "code",
   "execution_count": 36,
   "metadata": {},
   "outputs": [
    {
     "name": "stdout",
     "output_type": "stream",
     "text": [
      "<generator object <genexpr> at 0x0000023B7D765E40>\n",
      "4\n",
      "16\n",
      "36\n",
      "64\n",
      "100\n"
     ]
    }
   ],
   "source": [
    "gerador = (num**2 for num in range(1, 11) if num % 2 == 0)\r\n",
    "\r\n",
    "print(gerador)\r\n",
    "\r\n",
    "# aplicando lazy evaluetion\r\n",
    "print(next(gerador))\r\n",
    "print(next(gerador))\r\n",
    "print(next(gerador))\r\n",
    "print(next(gerador))\r\n",
    "print(next(gerador))"
   ]
  },
  {
   "cell_type": "code",
   "execution_count": 30,
   "metadata": {},
   "outputs": [
    {
     "name": "stdout",
     "output_type": "stream",
     "text": [
      "[4, 16, 36, 64, 100]\n"
     ]
    }
   ],
   "source": [
    "# imprimindo tudo de uma unica vez com list\r\n",
    "gerador = (num**2 for num in range(1, 11) if num % 2 == 0)\r\n",
    "print(list(gerador))"
   ]
  },
  {
   "cell_type": "markdown",
   "metadata": {},
   "source": [
    "## **Observações:**\r\n",
    "\r\n",
    "## _**Eficiência de armazenamento**_: uma compreensão de lista armazena a lista inteira na memória, enquanto um gerador produz um item por vez sob demanda. Conseqüentemente, as expressões geradoras são mais eficientes em termos de memória do que as listas. Como visto no exemplo abaixo, a mesma expressão geradora de código ocupa muito menos memória."
   ]
  },
  {
   "cell_type": "code",
   "execution_count": 33,
   "metadata": {},
   "outputs": [
    {
     "name": "stdout",
     "output_type": "stream",
     "text": [
      "85176\n",
      "112\n"
     ]
    }
   ],
   "source": [
    "from sys import getsizeof\r\n",
    "\r\n",
    "# Tamanho alocado em memória com list comprehension\r\n",
    "print(getsizeof([i for i in range(10000)]))\r\n",
    "\r\n",
    "# Tamanho alocado em memória com generator expression\r\n",
    "print(getsizeof((i for i in range(10000))))"
   ]
  },
  {
   "cell_type": "markdown",
   "metadata": {},
   "source": [
    "## **Observações:**\r\n",
    "\r\n",
    "## _**Eficiência de velocidade**_: as compreensões de listas são mais rápidas do que as expressões geradoras. O mesmo código leva 2.91 segundos para a compreensão de listas, mas 4.23 segundos para expressões geradoras."
   ]
  },
  {
   "cell_type": "code",
   "execution_count": 37,
   "metadata": {},
   "outputs": [
    {
     "name": "stdout",
     "output_type": "stream",
     "text": [
      "2.9132464000003893\n",
      "4.231144200000017\n"
     ]
    }
   ],
   "source": [
    "from timeit import timeit\r\n",
    "\r\n",
    "# Time taken para list comprehensions\r\n",
    "print(timeit(\"sys.getsizeof(sum([i for i in range(10000)]))\", number=10000))\r\n",
    "\r\n",
    "# Time taken para generator expression\r\n",
    "print(timeit(\"sys.getsizeof( sum(i for i in range(10000)) )\", number=10000))"
   ]
  },
  {
   "cell_type": "markdown",
   "metadata": {},
   "source": [
    "# Então, qual você deve considerar? listar compreensões ou expressões geradoras. Sempre há uma compensação entre memória e eficiência de velocidade, portanto, você precisa escolher com base nos requisitos. "
   ]
  }
 ],
 "metadata": {
  "interpreter": {
   "hash": "325cb660cce599eef17833f9bb0afcb0e3dbe3e8605c570c8e00eb36d04c5df3"
  },
  "kernelspec": {
   "display_name": "Python 3.9.5 64-bit ('venv': venv)",
   "name": "python3"
  },
  "language_info": {
   "codemirror_mode": {
    "name": "ipython",
    "version": 3
   },
   "file_extension": ".py",
   "mimetype": "text/x-python",
   "name": "python",
   "nbconvert_exporter": "python",
   "pygments_lexer": "ipython3",
   "version": "3.9.5"
  },
  "orig_nbformat": 4
 },
 "nbformat": 4,
 "nbformat_minor": 2
}