{
 "metadata": {
  "language_info": {
   "codemirror_mode": {
    "name": "ipython",
    "version": 3
   },
   "file_extension": ".py",
   "mimetype": "text/x-python",
   "name": "python",
   "nbconvert_exporter": "python",
   "pygments_lexer": "ipython3",
   "version": "3.9.5"
  },
  "orig_nbformat": 4,
  "kernelspec": {
   "name": "python3",
   "display_name": "Python 3.9.5 64-bit ('venv': venv)"
  },
  "interpreter": {
   "hash": "325cb660cce599eef17833f9bb0afcb0e3dbe3e8605c570c8e00eb36d04c5df3"
  }
 },
 "nbformat": 4,
 "nbformat_minor": 2,
 "cells": [
  {
   "source": [
    "<h1><font color=#32CD32>Set {}</font></h1>\n",
    "Set é uma coleção não ordenada de elementos. Cada elemento é único, isso significa que não existem elementos duplicados dentro do set."
   ],
   "cell_type": "markdown",
   "metadata": {}
  },
  {
   "source": [
    "<h2><font color=#00BFFF>Métodos de um set usando biblioteca rich import inspect</font></h2>"
   ],
   "cell_type": "markdown",
   "metadata": {}
  },
  {
   "cell_type": "code",
   "execution_count": 1,
   "metadata": {},
   "outputs": [
    {
     "output_type": "display_data",
     "data": {
      "text/plain": "\u001b[34m╭─\u001b[0m\u001b[34m───────────────────────────────────── \u001b[0m\u001b[1;34m<\u001b[0m\u001b[1;95mclass\u001b[0m\u001b[39m \u001b[0m\u001b[32m'set'\u001b[0m\u001b[1;34m>\u001b[0m\u001b[34m ─────────────────────────────────────\u001b[0m\u001b[34m─╮\u001b[0m\n\u001b[34m│\u001b[0m \u001b[1;35mset\u001b[0m\u001b[1;36m(\u001b[0m\u001b[1;36m)\u001b[0m\u001b[36m -> new empty set object\u001b[0m                                                             \u001b[34m│\u001b[0m\n\u001b[34m│\u001b[0m \u001b[1;35mset\u001b[0m\u001b[1;36m(\u001b[0m\u001b[36miterable\u001b[0m\u001b[1;36m)\u001b[0m\u001b[36m -> new set object\u001b[0m                                                           \u001b[34m│\u001b[0m\n\u001b[34m│\u001b[0m                                                                                           \u001b[34m│\u001b[0m\n\u001b[34m│\u001b[0m \u001b[32m╭───────────────────────────────────────────────────────────────────────────────────────╮\u001b[0m \u001b[34m│\u001b[0m\n\u001b[34m│\u001b[0m \u001b[32m│\u001b[0m \u001b[1m{\u001b[0m\u001b[32m'melancia'\u001b[0m, \u001b[32m'banana'\u001b[0m, \u001b[32m'laranja'\u001b[0m, \u001b[32m'maçã'\u001b[0m\u001b[1m}\u001b[0m                                             \u001b[32m│\u001b[0m \u001b[34m│\u001b[0m\n\u001b[34m│\u001b[0m \u001b[32m╰───────────────────────────────────────────────────────────────────────────────────────╯\u001b[0m \u001b[34m│\u001b[0m\n\u001b[34m│\u001b[0m                                                                                           \u001b[34m│\u001b[0m\n\u001b[34m│\u001b[0m                         \u001b[3;33madd\u001b[0m = \u001b[3;96mdef \u001b[0m\u001b[1;31madd\u001b[0m\u001b[1m(\u001b[0m\u001b[33m...\u001b[0m\u001b[1m)\u001b[0m \u001b[2mAdd an element to a set.\u001b[0m                       \u001b[34m│\u001b[0m\n\u001b[34m│\u001b[0m                       \u001b[3;33mclear\u001b[0m = \u001b[3;96mdef \u001b[0m\u001b[1;31mclear\u001b[0m\u001b[1m(\u001b[0m\u001b[33m...\u001b[0m\u001b[1m)\u001b[0m \u001b[2mRemove all elements from this set.\u001b[0m           \u001b[34m│\u001b[0m\n\u001b[34m│\u001b[0m                        \u001b[3;33mcopy\u001b[0m = \u001b[3;96mdef \u001b[0m\u001b[1;31mcopy\u001b[0m\u001b[1m(\u001b[0m\u001b[33m...\u001b[0m\u001b[1m)\u001b[0m \u001b[2mReturn a shallow copy of a set.\u001b[0m               \u001b[34m│\u001b[0m\n\u001b[34m│\u001b[0m                  \u001b[3;33mdifference\u001b[0m = \u001b[3;96mdef \u001b[0m\u001b[1;31mdifference\u001b[0m\u001b[1m(\u001b[0m\u001b[33m...\u001b[0m\u001b[1m)\u001b[0m \u001b[2mReturn the difference of two or more \u001b[0m   \u001b[34m│\u001b[0m\n\u001b[34m│\u001b[0m                               \u001b[2msets as a new set.\u001b[0m                                          \u001b[34m│\u001b[0m\n\u001b[34m│\u001b[0m           \u001b[3;33mdifference_update\u001b[0m = \u001b[3;96mdef \u001b[0m\u001b[1;31mdifference_update\u001b[0m\u001b[1m(\u001b[0m\u001b[33m...\u001b[0m\u001b[1m)\u001b[0m \u001b[2mRemove all elements of another \u001b[0m  \u001b[34m│\u001b[0m\n\u001b[34m│\u001b[0m                               \u001b[2mset from this set.\u001b[0m                                          \u001b[34m│\u001b[0m\n\u001b[34m│\u001b[0m                     \u001b[3;33mdiscard\u001b[0m = \u001b[3;96mdef \u001b[0m\u001b[1;31mdiscard\u001b[0m\u001b[1m(\u001b[0m\u001b[33m...\u001b[0m\u001b[1m)\u001b[0m \u001b[2mRemove an element from a set if it is a \u001b[0m   \u001b[34m│\u001b[0m\n\u001b[34m│\u001b[0m                               \u001b[2mmember.\u001b[0m                                                     \u001b[34m│\u001b[0m\n\u001b[34m│\u001b[0m                \u001b[3;33mintersection\u001b[0m = \u001b[3;96mdef \u001b[0m\u001b[1;31mintersection\u001b[0m\u001b[1m(\u001b[0m\u001b[33m...\u001b[0m\u001b[1m)\u001b[0m \u001b[2mReturn the intersection of two sets \u001b[0m  \u001b[34m│\u001b[0m\n\u001b[34m│\u001b[0m                               \u001b[2mas a new set.\u001b[0m                                               \u001b[34m│\u001b[0m\n\u001b[34m│\u001b[0m         \u001b[3;33mintersection_update\u001b[0m = \u001b[3;96mdef \u001b[0m\u001b[1;31mintersection_update\u001b[0m\u001b[1m(\u001b[0m\u001b[33m...\u001b[0m\u001b[1m)\u001b[0m \u001b[2mUpdate a set with the \u001b[0m         \u001b[34m│\u001b[0m\n\u001b[34m│\u001b[0m                               \u001b[2mintersection of itself and another.\u001b[0m                         \u001b[34m│\u001b[0m\n\u001b[34m│\u001b[0m                  \u001b[3;33misdisjoint\u001b[0m = \u001b[3;96mdef \u001b[0m\u001b[1;31misdisjoint\u001b[0m\u001b[1m(\u001b[0m\u001b[33m...\u001b[0m\u001b[1m)\u001b[0m \u001b[2mReturn \u001b[0m\u001b[2;3;92mTrue\u001b[0m\u001b[2m if two sets have a null \u001b[0m    \u001b[34m│\u001b[0m\n\u001b[34m│\u001b[0m                               \u001b[2mintersection.\u001b[0m                                               \u001b[34m│\u001b[0m\n\u001b[34m│\u001b[0m                    \u001b[3;33missubset\u001b[0m = \u001b[3;96mdef \u001b[0m\u001b[1;31missubset\u001b[0m\u001b[1m(\u001b[0m\u001b[33m...\u001b[0m\u001b[1m)\u001b[0m \u001b[2mReport whether another set contains this \u001b[0m \u001b[34m│\u001b[0m\n\u001b[34m│\u001b[0m                               \u001b[2mset.\u001b[0m                                                        \u001b[34m│\u001b[0m\n\u001b[34m│\u001b[0m                  \u001b[3;33missuperset\u001b[0m = \u001b[3;96mdef \u001b[0m\u001b[1;31missuperset\u001b[0m\u001b[1m(\u001b[0m\u001b[33m...\u001b[0m\u001b[1m)\u001b[0m \u001b[2mReport whether this set contains \u001b[0m       \u001b[34m│\u001b[0m\n\u001b[34m│\u001b[0m                               \u001b[2manother set.\u001b[0m                                                \u001b[34m│\u001b[0m\n\u001b[34m│\u001b[0m                         \u001b[3;33mpop\u001b[0m = \u001b[3;96mdef \u001b[0m\u001b[1;31mpop\u001b[0m\u001b[1m(\u001b[0m\u001b[33m...\u001b[0m\u001b[1m)\u001b[0m                                                \u001b[34m│\u001b[0m\n\u001b[34m│\u001b[0m                               \u001b[2mRemove and return an arbitrary set element.\u001b[0m                 \u001b[34m│\u001b[0m\n\u001b[34m│\u001b[0m                               \u001b[2mRaises KeyError if the set is empty.\u001b[0m                        \u001b[34m│\u001b[0m\n\u001b[34m│\u001b[0m                      \u001b[3;33mremove\u001b[0m = \u001b[3;96mdef \u001b[0m\u001b[1;31mremove\u001b[0m\u001b[1m(\u001b[0m\u001b[33m...\u001b[0m\u001b[1m)\u001b[0m \u001b[2mRemove an element from a set; it must be a \u001b[0m \u001b[34m│\u001b[0m\n\u001b[34m│\u001b[0m                               \u001b[2mmember.\u001b[0m                                                     \u001b[34m│\u001b[0m\n\u001b[34m│\u001b[0m        \u001b[3;33msymmetric_difference\u001b[0m = \u001b[3;96mdef \u001b[0m\u001b[1;31msymmetric_difference\u001b[0m\u001b[1m(\u001b[0m\u001b[33m...\u001b[0m\u001b[1m)\u001b[0m \u001b[2mReturn the symmetric \u001b[0m         \u001b[34m│\u001b[0m\n\u001b[34m│\u001b[0m                               \u001b[2mdifference of two sets as a new set.\u001b[0m                        \u001b[34m│\u001b[0m\n\u001b[34m│\u001b[0m \u001b[3;33msymmetric_difference_update\u001b[0m = \u001b[3;96mdef \u001b[0m\u001b[1;31msymmetric_difference_update\u001b[0m\u001b[1m(\u001b[0m\u001b[33m...\u001b[0m\u001b[1m)\u001b[0m \u001b[2mUpdate a set with the \u001b[0m \u001b[34m│\u001b[0m\n\u001b[34m│\u001b[0m                               \u001b[2msymmetric difference of itself and another.\u001b[0m                 \u001b[34m│\u001b[0m\n\u001b[34m│\u001b[0m                       \u001b[3;33munion\u001b[0m = \u001b[3;96mdef \u001b[0m\u001b[1;31munion\u001b[0m\u001b[1m(\u001b[0m\u001b[33m...\u001b[0m\u001b[1m)\u001b[0m \u001b[2mReturn the union of sets as a new set.\u001b[0m       \u001b[34m│\u001b[0m\n\u001b[34m│\u001b[0m                      \u001b[3;33mupdate\u001b[0m = \u001b[3;96mdef \u001b[0m\u001b[1;31mupdate\u001b[0m\u001b[1m(\u001b[0m\u001b[33m...\u001b[0m\u001b[1m)\u001b[0m \u001b[2mUpdate a set with the union of itself and \u001b[0m  \u001b[34m│\u001b[0m\n\u001b[34m│\u001b[0m                               \u001b[2mothers.\u001b[0m                                                     \u001b[34m│\u001b[0m\n\u001b[34m╰───────────────────────────────────────────────────────────────────────────────────────────╯\u001b[0m\n",
      "text/html": "<pre style=\"white-space:pre;overflow-x:auto;line-height:normal;font-family:Menlo,'DejaVu Sans Mono',consolas,'Courier New',monospace\"><span style=\"color: #000080; text-decoration-color: #000080\">╭────────────────────────────────────── </span><span style=\"color: #000080; text-decoration-color: #000080; font-weight: bold\">&lt;</span><span style=\"color: #ff00ff; text-decoration-color: #ff00ff; font-weight: bold\">class</span><span style=\"color: #000000; text-decoration-color: #000000\"> </span><span style=\"color: #008000; text-decoration-color: #008000\">'set'</span><span style=\"color: #000080; text-decoration-color: #000080; font-weight: bold\">&gt;</span><span style=\"color: #000080; text-decoration-color: #000080\"> ──────────────────────────────────────╮</span>\n<span style=\"color: #000080; text-decoration-color: #000080\">│</span> <span style=\"color: #800080; text-decoration-color: #800080; font-weight: bold\">set</span><span style=\"color: #008080; text-decoration-color: #008080; font-weight: bold\">()</span><span style=\"color: #008080; text-decoration-color: #008080\"> -&gt; new empty set object</span>                                                             <span style=\"color: #000080; text-decoration-color: #000080\">│</span>\n<span style=\"color: #000080; text-decoration-color: #000080\">│</span> <span style=\"color: #800080; text-decoration-color: #800080; font-weight: bold\">set</span><span style=\"color: #008080; text-decoration-color: #008080; font-weight: bold\">(</span><span style=\"color: #008080; text-decoration-color: #008080\">iterable</span><span style=\"color: #008080; text-decoration-color: #008080; font-weight: bold\">)</span><span style=\"color: #008080; text-decoration-color: #008080\"> -&gt; new set object</span>                                                           <span style=\"color: #000080; text-decoration-color: #000080\">│</span>\n<span style=\"color: #000080; text-decoration-color: #000080\">│</span>                                                                                           <span style=\"color: #000080; text-decoration-color: #000080\">│</span>\n<span style=\"color: #000080; text-decoration-color: #000080\">│</span> <span style=\"color: #008000; text-decoration-color: #008000\">╭───────────────────────────────────────────────────────────────────────────────────────╮</span> <span style=\"color: #000080; text-decoration-color: #000080\">│</span>\n<span style=\"color: #000080; text-decoration-color: #000080\">│</span> <span style=\"color: #008000; text-decoration-color: #008000\">│</span> <span style=\"font-weight: bold\">{</span><span style=\"color: #008000; text-decoration-color: #008000\">'melancia'</span>, <span style=\"color: #008000; text-decoration-color: #008000\">'banana'</span>, <span style=\"color: #008000; text-decoration-color: #008000\">'laranja'</span>, <span style=\"color: #008000; text-decoration-color: #008000\">'maçã'</span><span style=\"font-weight: bold\">}</span>                                             <span style=\"color: #008000; text-decoration-color: #008000\">│</span> <span style=\"color: #000080; text-decoration-color: #000080\">│</span>\n<span style=\"color: #000080; text-decoration-color: #000080\">│</span> <span style=\"color: #008000; text-decoration-color: #008000\">╰───────────────────────────────────────────────────────────────────────────────────────╯</span> <span style=\"color: #000080; text-decoration-color: #000080\">│</span>\n<span style=\"color: #000080; text-decoration-color: #000080\">│</span>                                                                                           <span style=\"color: #000080; text-decoration-color: #000080\">│</span>\n<span style=\"color: #000080; text-decoration-color: #000080\">│</span>                         <span style=\"color: #808000; text-decoration-color: #808000; font-style: italic\">add</span> = <span style=\"color: #00ffff; text-decoration-color: #00ffff; font-style: italic\">def </span><span style=\"color: #800000; text-decoration-color: #800000; font-weight: bold\">add</span><span style=\"font-weight: bold\">(</span><span style=\"color: #808000; text-decoration-color: #808000\">...</span><span style=\"font-weight: bold\">)</span> <span style=\"color: #7f7f7f; text-decoration-color: #7f7f7f\">Add an element to a set.</span>                       <span style=\"color: #000080; text-decoration-color: #000080\">│</span>\n<span style=\"color: #000080; text-decoration-color: #000080\">│</span>                       <span style=\"color: #808000; text-decoration-color: #808000; font-style: italic\">clear</span> = <span style=\"color: #00ffff; text-decoration-color: #00ffff; font-style: italic\">def </span><span style=\"color: #800000; text-decoration-color: #800000; font-weight: bold\">clear</span><span style=\"font-weight: bold\">(</span><span style=\"color: #808000; text-decoration-color: #808000\">...</span><span style=\"font-weight: bold\">)</span> <span style=\"color: #7f7f7f; text-decoration-color: #7f7f7f\">Remove all elements from this set.</span>           <span style=\"color: #000080; text-decoration-color: #000080\">│</span>\n<span style=\"color: #000080; text-decoration-color: #000080\">│</span>                        <span style=\"color: #808000; text-decoration-color: #808000; font-style: italic\">copy</span> = <span style=\"color: #00ffff; text-decoration-color: #00ffff; font-style: italic\">def </span><span style=\"color: #800000; text-decoration-color: #800000; font-weight: bold\">copy</span><span style=\"font-weight: bold\">(</span><span style=\"color: #808000; text-decoration-color: #808000\">...</span><span style=\"font-weight: bold\">)</span> <span style=\"color: #7f7f7f; text-decoration-color: #7f7f7f\">Return a shallow copy of a set.</span>               <span style=\"color: #000080; text-decoration-color: #000080\">│</span>\n<span style=\"color: #000080; text-decoration-color: #000080\">│</span>                  <span style=\"color: #808000; text-decoration-color: #808000; font-style: italic\">difference</span> = <span style=\"color: #00ffff; text-decoration-color: #00ffff; font-style: italic\">def </span><span style=\"color: #800000; text-decoration-color: #800000; font-weight: bold\">difference</span><span style=\"font-weight: bold\">(</span><span style=\"color: #808000; text-decoration-color: #808000\">...</span><span style=\"font-weight: bold\">)</span> <span style=\"color: #7f7f7f; text-decoration-color: #7f7f7f\">Return the difference of two or more </span>   <span style=\"color: #000080; text-decoration-color: #000080\">│</span>\n<span style=\"color: #000080; text-decoration-color: #000080\">│</span>                               <span style=\"color: #7f7f7f; text-decoration-color: #7f7f7f\">sets as a new set.</span>                                          <span style=\"color: #000080; text-decoration-color: #000080\">│</span>\n<span style=\"color: #000080; text-decoration-color: #000080\">│</span>           <span style=\"color: #808000; text-decoration-color: #808000; font-style: italic\">difference_update</span> = <span style=\"color: #00ffff; text-decoration-color: #00ffff; font-style: italic\">def </span><span style=\"color: #800000; text-decoration-color: #800000; font-weight: bold\">difference_update</span><span style=\"font-weight: bold\">(</span><span style=\"color: #808000; text-decoration-color: #808000\">...</span><span style=\"font-weight: bold\">)</span> <span style=\"color: #7f7f7f; text-decoration-color: #7f7f7f\">Remove all elements of another </span>  <span style=\"color: #000080; text-decoration-color: #000080\">│</span>\n<span style=\"color: #000080; text-decoration-color: #000080\">│</span>                               <span style=\"color: #7f7f7f; text-decoration-color: #7f7f7f\">set from this set.</span>                                          <span style=\"color: #000080; text-decoration-color: #000080\">│</span>\n<span style=\"color: #000080; text-decoration-color: #000080\">│</span>                     <span style=\"color: #808000; text-decoration-color: #808000; font-style: italic\">discard</span> = <span style=\"color: #00ffff; text-decoration-color: #00ffff; font-style: italic\">def </span><span style=\"color: #800000; text-decoration-color: #800000; font-weight: bold\">discard</span><span style=\"font-weight: bold\">(</span><span style=\"color: #808000; text-decoration-color: #808000\">...</span><span style=\"font-weight: bold\">)</span> <span style=\"color: #7f7f7f; text-decoration-color: #7f7f7f\">Remove an element from a set if it is a </span>   <span style=\"color: #000080; text-decoration-color: #000080\">│</span>\n<span style=\"color: #000080; text-decoration-color: #000080\">│</span>                               <span style=\"color: #7f7f7f; text-decoration-color: #7f7f7f\">member.</span>                                                     <span style=\"color: #000080; text-decoration-color: #000080\">│</span>\n<span style=\"color: #000080; text-decoration-color: #000080\">│</span>                <span style=\"color: #808000; text-decoration-color: #808000; font-style: italic\">intersection</span> = <span style=\"color: #00ffff; text-decoration-color: #00ffff; font-style: italic\">def </span><span style=\"color: #800000; text-decoration-color: #800000; font-weight: bold\">intersection</span><span style=\"font-weight: bold\">(</span><span style=\"color: #808000; text-decoration-color: #808000\">...</span><span style=\"font-weight: bold\">)</span> <span style=\"color: #7f7f7f; text-decoration-color: #7f7f7f\">Return the intersection of two sets </span>  <span style=\"color: #000080; text-decoration-color: #000080\">│</span>\n<span style=\"color: #000080; text-decoration-color: #000080\">│</span>                               <span style=\"color: #7f7f7f; text-decoration-color: #7f7f7f\">as a new set.</span>                                               <span style=\"color: #000080; text-decoration-color: #000080\">│</span>\n<span style=\"color: #000080; text-decoration-color: #000080\">│</span>         <span style=\"color: #808000; text-decoration-color: #808000; font-style: italic\">intersection_update</span> = <span style=\"color: #00ffff; text-decoration-color: #00ffff; font-style: italic\">def </span><span style=\"color: #800000; text-decoration-color: #800000; font-weight: bold\">intersection_update</span><span style=\"font-weight: bold\">(</span><span style=\"color: #808000; text-decoration-color: #808000\">...</span><span style=\"font-weight: bold\">)</span> <span style=\"color: #7f7f7f; text-decoration-color: #7f7f7f\">Update a set with the </span>         <span style=\"color: #000080; text-decoration-color: #000080\">│</span>\n<span style=\"color: #000080; text-decoration-color: #000080\">│</span>                               <span style=\"color: #7f7f7f; text-decoration-color: #7f7f7f\">intersection of itself and another.</span>                         <span style=\"color: #000080; text-decoration-color: #000080\">│</span>\n<span style=\"color: #000080; text-decoration-color: #000080\">│</span>                  <span style=\"color: #808000; text-decoration-color: #808000; font-style: italic\">isdisjoint</span> = <span style=\"color: #00ffff; text-decoration-color: #00ffff; font-style: italic\">def </span><span style=\"color: #800000; text-decoration-color: #800000; font-weight: bold\">isdisjoint</span><span style=\"font-weight: bold\">(</span><span style=\"color: #808000; text-decoration-color: #808000\">...</span><span style=\"font-weight: bold\">)</span> <span style=\"color: #7f7f7f; text-decoration-color: #7f7f7f\">Return </span><span style=\"color: #7fff7f; text-decoration-color: #7fff7f; font-style: italic\">True</span><span style=\"color: #7f7f7f; text-decoration-color: #7f7f7f\"> if two sets have a null </span>    <span style=\"color: #000080; text-decoration-color: #000080\">│</span>\n<span style=\"color: #000080; text-decoration-color: #000080\">│</span>                               <span style=\"color: #7f7f7f; text-decoration-color: #7f7f7f\">intersection.</span>                                               <span style=\"color: #000080; text-decoration-color: #000080\">│</span>\n<span style=\"color: #000080; text-decoration-color: #000080\">│</span>                    <span style=\"color: #808000; text-decoration-color: #808000; font-style: italic\">issubset</span> = <span style=\"color: #00ffff; text-decoration-color: #00ffff; font-style: italic\">def </span><span style=\"color: #800000; text-decoration-color: #800000; font-weight: bold\">issubset</span><span style=\"font-weight: bold\">(</span><span style=\"color: #808000; text-decoration-color: #808000\">...</span><span style=\"font-weight: bold\">)</span> <span style=\"color: #7f7f7f; text-decoration-color: #7f7f7f\">Report whether another set contains this </span> <span style=\"color: #000080; text-decoration-color: #000080\">│</span>\n<span style=\"color: #000080; text-decoration-color: #000080\">│</span>                               <span style=\"color: #7f7f7f; text-decoration-color: #7f7f7f\">set.</span>                                                        <span style=\"color: #000080; text-decoration-color: #000080\">│</span>\n<span style=\"color: #000080; text-decoration-color: #000080\">│</span>                  <span style=\"color: #808000; text-decoration-color: #808000; font-style: italic\">issuperset</span> = <span style=\"color: #00ffff; text-decoration-color: #00ffff; font-style: italic\">def </span><span style=\"color: #800000; text-decoration-color: #800000; font-weight: bold\">issuperset</span><span style=\"font-weight: bold\">(</span><span style=\"color: #808000; text-decoration-color: #808000\">...</span><span style=\"font-weight: bold\">)</span> <span style=\"color: #7f7f7f; text-decoration-color: #7f7f7f\">Report whether this set contains </span>       <span style=\"color: #000080; text-decoration-color: #000080\">│</span>\n<span style=\"color: #000080; text-decoration-color: #000080\">│</span>                               <span style=\"color: #7f7f7f; text-decoration-color: #7f7f7f\">another set.</span>                                                <span style=\"color: #000080; text-decoration-color: #000080\">│</span>\n<span style=\"color: #000080; text-decoration-color: #000080\">│</span>                         <span style=\"color: #808000; text-decoration-color: #808000; font-style: italic\">pop</span> = <span style=\"color: #00ffff; text-decoration-color: #00ffff; font-style: italic\">def </span><span style=\"color: #800000; text-decoration-color: #800000; font-weight: bold\">pop</span><span style=\"font-weight: bold\">(</span><span style=\"color: #808000; text-decoration-color: #808000\">...</span><span style=\"font-weight: bold\">)</span>                                                <span style=\"color: #000080; text-decoration-color: #000080\">│</span>\n<span style=\"color: #000080; text-decoration-color: #000080\">│</span>                               <span style=\"color: #7f7f7f; text-decoration-color: #7f7f7f\">Remove and return an arbitrary set element.</span>                 <span style=\"color: #000080; text-decoration-color: #000080\">│</span>\n<span style=\"color: #000080; text-decoration-color: #000080\">│</span>                               <span style=\"color: #7f7f7f; text-decoration-color: #7f7f7f\">Raises KeyError if the set is empty.</span>                        <span style=\"color: #000080; text-decoration-color: #000080\">│</span>\n<span style=\"color: #000080; text-decoration-color: #000080\">│</span>                      <span style=\"color: #808000; text-decoration-color: #808000; font-style: italic\">remove</span> = <span style=\"color: #00ffff; text-decoration-color: #00ffff; font-style: italic\">def </span><span style=\"color: #800000; text-decoration-color: #800000; font-weight: bold\">remove</span><span style=\"font-weight: bold\">(</span><span style=\"color: #808000; text-decoration-color: #808000\">...</span><span style=\"font-weight: bold\">)</span> <span style=\"color: #7f7f7f; text-decoration-color: #7f7f7f\">Remove an element from a set; it must be a </span> <span style=\"color: #000080; text-decoration-color: #000080\">│</span>\n<span style=\"color: #000080; text-decoration-color: #000080\">│</span>                               <span style=\"color: #7f7f7f; text-decoration-color: #7f7f7f\">member.</span>                                                     <span style=\"color: #000080; text-decoration-color: #000080\">│</span>\n<span style=\"color: #000080; text-decoration-color: #000080\">│</span>        <span style=\"color: #808000; text-decoration-color: #808000; font-style: italic\">symmetric_difference</span> = <span style=\"color: #00ffff; text-decoration-color: #00ffff; font-style: italic\">def </span><span style=\"color: #800000; text-decoration-color: #800000; font-weight: bold\">symmetric_difference</span><span style=\"font-weight: bold\">(</span><span style=\"color: #808000; text-decoration-color: #808000\">...</span><span style=\"font-weight: bold\">)</span> <span style=\"color: #7f7f7f; text-decoration-color: #7f7f7f\">Return the symmetric </span>         <span style=\"color: #000080; text-decoration-color: #000080\">│</span>\n<span style=\"color: #000080; text-decoration-color: #000080\">│</span>                               <span style=\"color: #7f7f7f; text-decoration-color: #7f7f7f\">difference of two sets as a new set.</span>                        <span style=\"color: #000080; text-decoration-color: #000080\">│</span>\n<span style=\"color: #000080; text-decoration-color: #000080\">│</span> <span style=\"color: #808000; text-decoration-color: #808000; font-style: italic\">symmetric_difference_update</span> = <span style=\"color: #00ffff; text-decoration-color: #00ffff; font-style: italic\">def </span><span style=\"color: #800000; text-decoration-color: #800000; font-weight: bold\">symmetric_difference_update</span><span style=\"font-weight: bold\">(</span><span style=\"color: #808000; text-decoration-color: #808000\">...</span><span style=\"font-weight: bold\">)</span> <span style=\"color: #7f7f7f; text-decoration-color: #7f7f7f\">Update a set with the </span> <span style=\"color: #000080; text-decoration-color: #000080\">│</span>\n<span style=\"color: #000080; text-decoration-color: #000080\">│</span>                               <span style=\"color: #7f7f7f; text-decoration-color: #7f7f7f\">symmetric difference of itself and another.</span>                 <span style=\"color: #000080; text-decoration-color: #000080\">│</span>\n<span style=\"color: #000080; text-decoration-color: #000080\">│</span>                       <span style=\"color: #808000; text-decoration-color: #808000; font-style: italic\">union</span> = <span style=\"color: #00ffff; text-decoration-color: #00ffff; font-style: italic\">def </span><span style=\"color: #800000; text-decoration-color: #800000; font-weight: bold\">union</span><span style=\"font-weight: bold\">(</span><span style=\"color: #808000; text-decoration-color: #808000\">...</span><span style=\"font-weight: bold\">)</span> <span style=\"color: #7f7f7f; text-decoration-color: #7f7f7f\">Return the union of sets as a new set.</span>       <span style=\"color: #000080; text-decoration-color: #000080\">│</span>\n<span style=\"color: #000080; text-decoration-color: #000080\">│</span>                      <span style=\"color: #808000; text-decoration-color: #808000; font-style: italic\">update</span> = <span style=\"color: #00ffff; text-decoration-color: #00ffff; font-style: italic\">def </span><span style=\"color: #800000; text-decoration-color: #800000; font-weight: bold\">update</span><span style=\"font-weight: bold\">(</span><span style=\"color: #808000; text-decoration-color: #808000\">...</span><span style=\"font-weight: bold\">)</span> <span style=\"color: #7f7f7f; text-decoration-color: #7f7f7f\">Update a set with the union of itself and </span>  <span style=\"color: #000080; text-decoration-color: #000080\">│</span>\n<span style=\"color: #000080; text-decoration-color: #000080\">│</span>                               <span style=\"color: #7f7f7f; text-decoration-color: #7f7f7f\">others.</span>                                                     <span style=\"color: #000080; text-decoration-color: #000080\">│</span>\n<span style=\"color: #000080; text-decoration-color: #000080\">╰───────────────────────────────────────────────────────────────────────────────────────────╯</span>\n</pre>\n"
     },
     "metadata": {}
    }
   ],
   "source": [
    "from rich import inspect\n",
    "frutas = {\"maçã\", \"banana\", \"laranja\", \"melancia\"}\n",
    "inspect(frutas, methods=True)"
   ]
  },
  {
   "source": [
    "<h3><font color=#DAA520>.add()</font></h3>"
   ],
   "cell_type": "markdown",
   "metadata": {}
  },
  {
   "cell_type": "code",
   "execution_count": 2,
   "metadata": {},
   "outputs": [
    {
     "output_type": "stream",
     "name": "stdout",
     "text": [
      "{1, 2, 3}\n{1, 2, 3, 5}\n{1, 2, 3, 5}\n"
     ]
    }
   ],
   "source": [
    "colecao = {1, 2, 3}\n",
    "print(colecao)\n",
    "colecao.add(5) # Para adicionar um elemento a um set devemos chamar a função add (invés da append):\n",
    "print(colecao)\n",
    "colecao.add(5) # E se usarmos um número que já existe? Não deve funcionar, certo? Vamos testar,e ver que o set vai ignorá-lo:\n",
    "print(colecao)"
   ]
  },
  {
   "source": [
    "<h2><font color=#00BFFF>Trabalhando com set{}</font></h2>"
   ],
   "cell_type": "markdown",
   "metadata": {}
  },
  {
   "source": [
    "<h3><font color=#DAA520>Fatiando set []</font></h3>\n",
    "É importante notar que o set não é uma sequência, pois não tem um índice. O código abaixo não funciona:\n"
   ],
   "cell_type": "markdown",
   "metadata": {}
  },
  {
   "cell_type": "code",
   "execution_count": 3,
   "metadata": {},
   "outputs": [
    {
     "output_type": "error",
     "ename": "TypeError",
     "evalue": "'set' object is not subscriptable",
     "traceback": [
      "\u001b[1;31m---------------------------------------------------------------------------\u001b[0m",
      "\u001b[1;31mTypeError\u001b[0m                                 Traceback (most recent call last)",
      "\u001b[1;32m<ipython-input-3-3b1d0056f9a5>\u001b[0m in \u001b[0;36m<module>\u001b[1;34m\u001b[0m\n\u001b[0;32m      1\u001b[0m \u001b[0mcolecao\u001b[0m \u001b[1;33m=\u001b[0m \u001b[1;33m{\u001b[0m\u001b[1;36m1\u001b[0m\u001b[1;33m,\u001b[0m \u001b[1;36m2\u001b[0m\u001b[1;33m,\u001b[0m \u001b[1;36m3\u001b[0m\u001b[1;33m}\u001b[0m\u001b[1;33m\u001b[0m\u001b[1;33m\u001b[0m\u001b[0m\n\u001b[1;32m----> 2\u001b[1;33m \u001b[0mprint\u001b[0m\u001b[1;33m(\u001b[0m\u001b[0mcolecao\u001b[0m\u001b[1;33m[\u001b[0m\u001b[1;36m0\u001b[0m\u001b[1;33m]\u001b[0m\u001b[1;33m)\u001b[0m\u001b[1;33m\u001b[0m\u001b[1;33m\u001b[0m\u001b[0m\n\u001b[0m",
      "\u001b[1;31mTypeError\u001b[0m: 'set' object is not subscriptable"
     ]
    }
   ],
   "source": [
    "colecao = {1, 2, 3}\n",
    "print(colecao[0])"
   ]
  },
  {
   "source": [
    "<h3><font color=#DAA520>Desempacotando um set com for</font></h3>\n",
    "Set não tem índice. E como não temos um índice não sabemos em qual ordem vem os valores quando imprimimos um set de dentro de um laço for:"
   ],
   "cell_type": "markdown",
   "metadata": {}
  },
  {
   "cell_type": "code",
   "execution_count": 3,
   "metadata": {},
   "outputs": [
    {
     "output_type": "stream",
     "name": "stdout",
     "text": [
      "0\n1\n2\n33\n10\n12\n"
     ]
    }
   ],
   "source": [
    "colecao = {1, 12, 33, 10, 2, 0}\n",
    "for numero in colecao:\n",
    "     print(numero)"
   ]
  },
  {
   "source": [
    "<h3><font color=#DAA520>Criando um conjunto imutável de conjunto com frozenset()</font></h3>\n",
    "\n",
    "A função frozenset() retorna um objeto frozenset imutável inicializado com elementos do iterável fornecido. \n",
    "\n",
    "O conjunto congelado é apenas uma versão imutável de um objeto de conjunto do Python. Embora os elementos de um conjunto possam ser modificados a qualquer momento, os elementos do conjunto congelado permanecem os mesmos após a criação.\n",
    "\n",
    "Devido a isso, os conjuntos congelados podem ser usados ​​como chaves no Dicionário ou como elementos de outro conjunto. Mas, como os conjuntos, não é ordenado (os elementos podem ser definidos em qualquer índice)."
   ],
   "cell_type": "markdown",
   "metadata": {}
  },
  {
   "cell_type": "code",
   "execution_count": 7,
   "metadata": {},
   "outputs": [
    {
     "output_type": "stream",
     "name": "stdout",
     "text": [
      "{1, 2, 3} - type(<class 'set'>)\n{1, 2, 3, 5} - adicionamos um elemento, conjunto mutavel!\nfrozenset({1, 2, 3, 5}) - type(<class 'frozenset'>)\n"
     ]
    },
    {
     "output_type": "error",
     "ename": "AttributeError",
     "evalue": "'frozenset' object has no attribute 'add'",
     "traceback": [
      "\u001b[1;31m---------------------------------------------------------------------------\u001b[0m",
      "\u001b[1;31mAttributeError\u001b[0m                            Traceback (most recent call last)",
      "\u001b[1;32m<ipython-input-7-38a2679ca13a>\u001b[0m in \u001b[0;36m<module>\u001b[1;34m\u001b[0m\n\u001b[0;32m      8\u001b[0m \u001b[0mprint\u001b[0m\u001b[1;33m(\u001b[0m\u001b[1;34mf'{colecao} - type({type(colecao)})'\u001b[0m\u001b[1;33m)\u001b[0m\u001b[1;33m\u001b[0m\u001b[1;33m\u001b[0m\u001b[0m\n\u001b[0;32m      9\u001b[0m \u001b[1;33m\u001b[0m\u001b[0m\n\u001b[1;32m---> 10\u001b[1;33m \u001b[0mcolecao\u001b[0m\u001b[1;33m.\u001b[0m\u001b[0madd\u001b[0m\u001b[1;33m(\u001b[0m\u001b[1;36m5\u001b[0m\u001b[1;33m)\u001b[0m\u001b[1;33m\u001b[0m\u001b[1;33m\u001b[0m\u001b[0m\n\u001b[0m",
      "\u001b[1;31mAttributeError\u001b[0m: 'frozenset' object has no attribute 'add'"
     ]
    }
   ],
   "source": [
    "colecao = {1, 2, 3}\n",
    "print(f'{colecao} - type({type(colecao)})')\n",
    "\n",
    "colecao.add(5)\n",
    "print(f'{colecao} - adicionamos um elemento, conjunto mutavel!')\n",
    "\n",
    "colecao = frozenset(colecao)\n",
    "print(f'{colecao} - type({type(colecao)})')\n",
    "\n",
    "colecao.add(5) # como agora nosso conjunto é imutável não conseguimos adicionar um elemento"
   ]
  },
  {
   "source": [
    "<h2><font color=#00BFFF>Operações em conjuntos</font></h2>\n",
    "<img src=\"Tabela operadores binários.png\">"
   ],
   "cell_type": "markdown",
   "metadata": {}
  },
  {
   "source": [
    "<h3><font color=#DAA520>Operações em conjuntos - |(or)</font></h3>\n",
    "Elementos que existem em um conjunto ou no outro"
   ],
   "cell_type": "markdown",
   "metadata": {}
  },
  {
   "cell_type": "code",
   "execution_count": 3,
   "metadata": {},
   "outputs": [
    {
     "output_type": "execute_result",
     "data": {
      "text/plain": [
       "{13, 15, 23, 42, 43, 56}"
      ]
     },
     "metadata": {},
     "execution_count": 3
    }
   ],
   "source": [
    "x = {15,23,43,56}\n",
    "y = {13,23,56,42}\n",
    "\n",
    "# numeros de x ou numeros de y (união de todos os números) \n",
    "x | y"
   ]
  },
  {
   "source": [
    "<h3><font color=#DAA520>Operações em conjuntos - &(and)</font></h3>\n",
    "Elementos que existem em ambos conjuntos"
   ],
   "cell_type": "markdown",
   "metadata": {}
  },
  {
   "cell_type": "code",
   "execution_count": 16,
   "metadata": {},
   "outputs": [
    {
     "output_type": "execute_result",
     "data": {
      "text/plain": [
       "{23, 56}"
      ]
     },
     "metadata": {},
     "execution_count": 16
    }
   ],
   "source": [
    "x = {15,23,43,56}\n",
    "y = {13,23,56,42}\n",
    "\n",
    "# numeros de x e y iguais \n",
    "x & y"
   ]
  },
  {
   "source": [
    "<h3><font color=#DAA520>Operações em conjuntos - </font></h3>\n",
    "Elementos que existem no primeiro conjunto e que NÃO estão no segundo conjunto"
   ],
   "cell_type": "markdown",
   "metadata": {}
  },
  {
   "cell_type": "code",
   "execution_count": 14,
   "metadata": {},
   "outputs": [
    {
     "output_type": "stream",
     "name": "stdout",
     "text": [
      "x - y = {43, 15}\ny - x = {42, 13}\n"
     ]
    }
   ],
   "source": [
    "x = {15,23,43,56}\n",
    "y = {13,23,56,42}\n",
    "\n",
    "# numeros de x que não estao em y \n",
    "print(f'x - y = {x-y}')\n",
    "print(f'y - x = {y-x}')"
   ]
  },
  {
   "source": [
    "<h3><font color=#DAA520>Operações em conjuntos ^(or exclusive) </font></h3>\n",
    "Elementos que existem somente no primeiro conjunto e elementos que existem somente no segundo conjunto"
   ],
   "cell_type": "markdown",
   "metadata": {}
  },
  {
   "cell_type": "code",
   "execution_count": 9,
   "metadata": {},
   "outputs": [
    {
     "output_type": "execute_result",
     "data": {
      "text/plain": [
       "{13, 15, 42, 43}"
      ]
     },
     "metadata": {},
     "execution_count": 9
    }
   ],
   "source": [
    "x = {15,23,43,56}\n",
    "y = {13,23,56,42}\n",
    "\n",
    "# numeros de x que so existe em x e y que so existe em y \n",
    "x ^ y"
   ]
  }
 ]
}