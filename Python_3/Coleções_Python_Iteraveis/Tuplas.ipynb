{
 "metadata": {
  "language_info": {
   "codemirror_mode": {
    "name": "ipython",
    "version": 3
   },
   "file_extension": ".py",
   "mimetype": "text/x-python",
   "name": "python",
   "nbconvert_exporter": "python",
   "pygments_lexer": "ipython3",
   "version": "3.9.5"
  },
  "orig_nbformat": 4,
  "kernelspec": {
   "name": "python3",
   "display_name": "Python 3.9.5 64-bit ('venv': venv)"
  },
  "interpreter": {
   "hash": "325cb660cce599eef17833f9bb0afcb0e3dbe3e8605c570c8e00eb36d04c5df3"
  }
 },
 "nbformat": 4,
 "nbformat_minor": 2,
 "cells": [
  {
   "source": [
    "<h1><font color=#32CD32>Tuplas</font></h1>\n",
    "\n",
    "As tuplas são variáveis compostas e imutáveis que permitem armazenar vários valores em uma mesma estrutura, acessíveis por chaves individuais."
   ],
   "cell_type": "markdown",
   "metadata": {}
  },
  {
   "source": [
    "<h2><font color=#00BFFF>Métodos de uma tupla usando biblioteca rich import inspect</font></h2>"
   ],
   "cell_type": "markdown",
   "metadata": {}
  },
  {
   "cell_type": "code",
   "execution_count": 5,
   "metadata": {},
   "outputs": [
    {
     "output_type": "display_data",
     "data": {
      "text/plain": "\u001b[34m╭─\u001b[0m\u001b[34m──────────────────────────────────── \u001b[0m\u001b[1;34m<\u001b[0m\u001b[1;95mclass\u001b[0m\u001b[39m \u001b[0m\u001b[32m'tuple'\u001b[0m\u001b[1;34m>\u001b[0m\u001b[34m ────────────────────────────────────\u001b[0m\u001b[34m─╮\u001b[0m\n\u001b[34m│\u001b[0m \u001b[36mBuilt-in immutable sequence.\u001b[0m                                                              \u001b[34m│\u001b[0m\n\u001b[34m│\u001b[0m                                                                                           \u001b[34m│\u001b[0m\n\u001b[34m│\u001b[0m \u001b[32m╭───────────────────────────────────────────────────────────────────────────────────────╮\u001b[0m \u001b[34m│\u001b[0m\n\u001b[34m│\u001b[0m \u001b[32m│\u001b[0m \u001b[1m(\u001b[0m\u001b[32m'maçã'\u001b[0m, \u001b[32m'banana'\u001b[0m, \u001b[32m'laranja'\u001b[0m, \u001b[32m'melancia'\u001b[0m\u001b[1m)\u001b[0m                                             \u001b[32m│\u001b[0m \u001b[34m│\u001b[0m\n\u001b[34m│\u001b[0m \u001b[32m╰───────────────────────────────────────────────────────────────────────────────────────╯\u001b[0m \u001b[34m│\u001b[0m\n\u001b[34m│\u001b[0m                                                                                           \u001b[34m│\u001b[0m\n\u001b[34m│\u001b[0m \u001b[3;33mcount\u001b[0m = \u001b[3;96mdef \u001b[0m\u001b[1;31mcount\u001b[0m\u001b[1m(\u001b[0mvalue, \u001b[35m/\u001b[0m\u001b[1m)\u001b[0m: \u001b[2mReturn number of occurrences of value.\u001b[0m                       \u001b[34m│\u001b[0m\n\u001b[34m│\u001b[0m \u001b[3;33mindex\u001b[0m = \u001b[3;96mdef \u001b[0m\u001b[1;31mindex\u001b[0m\u001b[1m(\u001b[0mvalue, \u001b[33mstart\u001b[0m=\u001b[1;36m0\u001b[0m, \u001b[33mstop\u001b[0m=\u001b[1;36m9223372036854775807\u001b[0m, \u001b[35m/\u001b[0m\u001b[1m)\u001b[0m: \u001b[2mReturn first index of \u001b[0m    \u001b[34m│\u001b[0m\n\u001b[34m│\u001b[0m         \u001b[2mvalue.\u001b[0m                                                                            \u001b[34m│\u001b[0m\n\u001b[34m╰───────────────────────────────────────────────────────────────────────────────────────────╯\u001b[0m\n",
      "text/html": "<pre style=\"white-space:pre;overflow-x:auto;line-height:normal;font-family:Menlo,'DejaVu Sans Mono',consolas,'Courier New',monospace\"><span style=\"color: #000080; text-decoration-color: #000080\">╭───────────────────────────────────── </span><span style=\"color: #000080; text-decoration-color: #000080; font-weight: bold\">&lt;</span><span style=\"color: #ff00ff; text-decoration-color: #ff00ff; font-weight: bold\">class</span><span style=\"color: #000000; text-decoration-color: #000000\"> </span><span style=\"color: #008000; text-decoration-color: #008000\">'tuple'</span><span style=\"color: #000080; text-decoration-color: #000080; font-weight: bold\">&gt;</span><span style=\"color: #000080; text-decoration-color: #000080\"> ─────────────────────────────────────╮</span>\n<span style=\"color: #000080; text-decoration-color: #000080\">│</span> <span style=\"color: #008080; text-decoration-color: #008080\">Built-in immutable sequence.</span>                                                              <span style=\"color: #000080; text-decoration-color: #000080\">│</span>\n<span style=\"color: #000080; text-decoration-color: #000080\">│</span>                                                                                           <span style=\"color: #000080; text-decoration-color: #000080\">│</span>\n<span style=\"color: #000080; text-decoration-color: #000080\">│</span> <span style=\"color: #008000; text-decoration-color: #008000\">╭───────────────────────────────────────────────────────────────────────────────────────╮</span> <span style=\"color: #000080; text-decoration-color: #000080\">│</span>\n<span style=\"color: #000080; text-decoration-color: #000080\">│</span> <span style=\"color: #008000; text-decoration-color: #008000\">│</span> <span style=\"font-weight: bold\">(</span><span style=\"color: #008000; text-decoration-color: #008000\">'maçã'</span>, <span style=\"color: #008000; text-decoration-color: #008000\">'banana'</span>, <span style=\"color: #008000; text-decoration-color: #008000\">'laranja'</span>, <span style=\"color: #008000; text-decoration-color: #008000\">'melancia'</span><span style=\"font-weight: bold\">)</span>                                             <span style=\"color: #008000; text-decoration-color: #008000\">│</span> <span style=\"color: #000080; text-decoration-color: #000080\">│</span>\n<span style=\"color: #000080; text-decoration-color: #000080\">│</span> <span style=\"color: #008000; text-decoration-color: #008000\">╰───────────────────────────────────────────────────────────────────────────────────────╯</span> <span style=\"color: #000080; text-decoration-color: #000080\">│</span>\n<span style=\"color: #000080; text-decoration-color: #000080\">│</span>                                                                                           <span style=\"color: #000080; text-decoration-color: #000080\">│</span>\n<span style=\"color: #000080; text-decoration-color: #000080\">│</span> <span style=\"color: #808000; text-decoration-color: #808000; font-style: italic\">count</span> = <span style=\"color: #00ffff; text-decoration-color: #00ffff; font-style: italic\">def </span><span style=\"color: #800000; text-decoration-color: #800000; font-weight: bold\">count</span><span style=\"font-weight: bold\">(</span>value, <span style=\"color: #800080; text-decoration-color: #800080\">/</span><span style=\"font-weight: bold\">)</span>: <span style=\"color: #7f7f7f; text-decoration-color: #7f7f7f\">Return number of occurrences of value.</span>                       <span style=\"color: #000080; text-decoration-color: #000080\">│</span>\n<span style=\"color: #000080; text-decoration-color: #000080\">│</span> <span style=\"color: #808000; text-decoration-color: #808000; font-style: italic\">index</span> = <span style=\"color: #00ffff; text-decoration-color: #00ffff; font-style: italic\">def </span><span style=\"color: #800000; text-decoration-color: #800000; font-weight: bold\">index</span><span style=\"font-weight: bold\">(</span>value, <span style=\"color: #808000; text-decoration-color: #808000\">start</span>=<span style=\"color: #008080; text-decoration-color: #008080; font-weight: bold\">0</span>, <span style=\"color: #808000; text-decoration-color: #808000\">stop</span>=<span style=\"color: #008080; text-decoration-color: #008080; font-weight: bold\">9223372036854775807</span>, <span style=\"color: #800080; text-decoration-color: #800080\">/</span><span style=\"font-weight: bold\">)</span>: <span style=\"color: #7f7f7f; text-decoration-color: #7f7f7f\">Return first index of </span>    <span style=\"color: #000080; text-decoration-color: #000080\">│</span>\n<span style=\"color: #000080; text-decoration-color: #000080\">│</span>         <span style=\"color: #7f7f7f; text-decoration-color: #7f7f7f\">value.</span>                                                                            <span style=\"color: #000080; text-decoration-color: #000080\">│</span>\n<span style=\"color: #000080; text-decoration-color: #000080\">╰───────────────────────────────────────────────────────────────────────────────────────────╯</span>\n</pre>\n"
     },
     "metadata": {}
    }
   ],
   "source": [
    "from rich import inspect\n",
    "frutas = (\"maçã\", \"banana\", \"laranja\", \"melancia\")\n",
    "inspect(frutas, methods=True)"
   ]
  },
  {
   "source": [
    "<h3><font color=#DAA520>.count()</font></h3>"
   ],
   "cell_type": "markdown",
   "metadata": {}
  },
  {
   "cell_type": "code",
   "execution_count": 6,
   "metadata": {},
   "outputs": [
    {
     "output_type": "stream",
     "name": "stdout",
     "text": [
      "Existe 3 zeros na tupla valores\n"
     ]
    }
   ],
   "source": [
    "valores = (0, 0, 0, 1, 2, 3, 4)\n",
    "print(f'Existe {valores.count(0)} zeros na tupla valores')"
   ]
  },
  {
   "source": [
    "<h3><font color=#DAA520>.index()</font></h3>"
   ],
   "cell_type": "markdown",
   "metadata": {}
  },
  {
   "cell_type": "code",
   "execution_count": 23,
   "metadata": {},
   "outputs": [
    {
     "output_type": "stream",
     "name": "stdout",
     "text": [
      "3\n5\n"
     ]
    }
   ],
   "source": [
    "frutas = ('Banana', 'Morango', 'Maçã', 'Uva', 'Maçã', 'Uva')\n",
    "print(frutas.index('Uva'))\n",
    "print(frutas.index('Uva', 4)) # o segundo argumento é onde ele vai começar procurar"
   ]
  },
  {
   "source": [
    "<h3><font color=#DAA520>sorted(tuple)</font></h3>\n",
    "sorted() em tupla devolve uma lista"
   ],
   "cell_type": "markdown",
   "metadata": {}
  },
  {
   "cell_type": "code",
   "execution_count": 21,
   "metadata": {},
   "outputs": [
    {
     "output_type": "stream",
     "name": "stdout",
     "text": [
      "['banana', 'laranja', 'maçã', 'melancia']\n"
     ]
    }
   ],
   "source": [
    "frutas = (\"maçã\", \"banana\", \"laranja\", \"melancia\")\n",
    "print(sorted(frutas))"
   ]
  },
  {
   "source": [
    "<h2><font color=#00BFFF>Trabalhando com tuplas</font></h2>"
   ],
   "cell_type": "markdown",
   "metadata": {}
  },
  {
   "cell_type": "code",
   "execution_count": 8,
   "metadata": {},
   "outputs": [
    {
     "output_type": "stream",
     "name": "stdout",
     "text": [
      "<class 'tuple'>\n<class 'tuple'>\n"
     ]
    }
   ],
   "source": [
    "# Tupla não precisa colocar parenteses *Python>3.5\n",
    "lanche = 'Hambúrguer', 'Suco', 'Pizza', 'Pudim'\n",
    "print(type(lanche))\n",
    "lanche = ('Hambúrguer', 'suco', 'Pizza', 'Pudim')\n",
    "print(type(lanche))"
   ]
  },
  {
   "source": [
    "<h3><font color=#DAA520>Tuplas são imutáveis</font></h3>\n",
    "Tuplas são imutáveis!!! Ou seja, alocou algo em um endereço não pode trocar o mesmo individualmente durante o funcionamento do programa"
   ],
   "cell_type": "markdown",
   "metadata": {}
  },
  {
   "cell_type": "code",
   "execution_count": 9,
   "metadata": {},
   "outputs": [
    {
     "output_type": "error",
     "ename": "TypeError",
     "evalue": "'tuple' object does not support item assignment",
     "traceback": [
      "\u001b[1;31m---------------------------------------------------------------------------\u001b[0m",
      "\u001b[1;31mTypeError\u001b[0m                                 Traceback (most recent call last)",
      "\u001b[1;32m<ipython-input-9-b0bc31be5546>\u001b[0m in \u001b[0;36m<module>\u001b[1;34m\u001b[0m\n\u001b[0;32m      1\u001b[0m \u001b[0mlanche\u001b[0m \u001b[1;33m=\u001b[0m \u001b[1;33m(\u001b[0m\u001b[1;34m'Hambúrguer'\u001b[0m\u001b[1;33m,\u001b[0m \u001b[1;34m'suco'\u001b[0m\u001b[1;33m,\u001b[0m \u001b[1;34m'Pizza'\u001b[0m\u001b[1;33m,\u001b[0m \u001b[1;34m'Pudim'\u001b[0m\u001b[1;33m)\u001b[0m\u001b[1;33m\u001b[0m\u001b[1;33m\u001b[0m\u001b[0m\n\u001b[1;32m----> 2\u001b[1;33m \u001b[0mlanche\u001b[0m\u001b[1;33m[\u001b[0m\u001b[1;36m0\u001b[0m\u001b[1;33m]\u001b[0m \u001b[1;33m=\u001b[0m \u001b[1;34m'Morango'\u001b[0m\u001b[1;33m\u001b[0m\u001b[1;33m\u001b[0m\u001b[0m\n\u001b[0m",
      "\u001b[1;31mTypeError\u001b[0m: 'tuple' object does not support item assignment"
     ]
    }
   ],
   "source": [
    "lanche = ('Hambúrguer', 'suco', 'Pizza', 'Pudim')\n",
    "lanche[0] = 'Morango'"
   ]
  },
  {
   "source": [
    "<h3><font color=#DAA520>Usando in e not in</font></h3>"
   ],
   "cell_type": "markdown",
   "metadata": {}
  },
  {
   "cell_type": "code",
   "execution_count": 13,
   "metadata": {},
   "outputs": [
    {
     "output_type": "stream",
     "name": "stdout",
     "text": [
      "banana esta na tupla frutas? True\nbanana esta na tupla frutas? False\n"
     ]
    }
   ],
   "source": [
    "frutas = (\"maçã\", \"banana\", \"laranja\", \"melancia\")\n",
    "print(f\"banana esta na tupla frutas? {'banana' in frutas}\")\n",
    "print(f\"banana esta na tupla frutas? {'banana' not in frutas}\")"
   ]
  },
  {
   "source": [
    "<h3><font color=#DAA520>Usando max, min e len</font></h3>"
   ],
   "cell_type": "markdown",
   "metadata": {}
  },
  {
   "cell_type": "code",
   "execution_count": 14,
   "metadata": {},
   "outputs": [
    {
     "output_type": "stream",
     "name": "stdout",
     "text": [
      "A tupla tem total de 4 elementos.\nA primeira fruta em ordem alfabetica é: banana\nA ultima fruta em ordem alfabetica é: melancia\n"
     ]
    }
   ],
   "source": [
    "frutas = (\"maçã\", \"banana\", \"laranja\", \"melancia\")\n",
    "print(f\"A tupla tem total de {len(frutas)} elementos.\")\n",
    "print(f\"A primeira fruta em ordem alfabetica é: {min(frutas)}\")\n",
    "print(f\"A ultima fruta em ordem alfabetica é: {max(frutas)}\")"
   ]
  },
  {
   "cell_type": "code",
   "execution_count": 15,
   "metadata": {},
   "outputs": [
    {
     "output_type": "stream",
     "name": "stdout",
     "text": [
      "O menor número é : 0.8\nO maior número é: 100\n"
     ]
    }
   ],
   "source": [
    "numeros = (100, 1.1, 1.8, 99, 0.8)\n",
    "print(f\"O menor número é : {min(numeros)}\")\n",
    "print(f\"O maior número é: {max(numeros)}\")"
   ]
  },
  {
   "source": [
    "<h3><font color=#DAA520>Fatiando tupla []</font></h3>"
   ],
   "cell_type": "markdown",
   "metadata": {}
  },
  {
   "cell_type": "code",
   "execution_count": 16,
   "metadata": {},
   "outputs": [
    {
     "output_type": "stream",
     "name": "stdout",
     "text": [
      " Posição frutas[0] = maçã\n Posição frutas[0][1] = a\n Posição frutas[-1] = melancia\n Posição frutas[:2] = ('maçã', 'banana')\n Posição frutas[1:3] = ('banana', 'laranja')\n Posição frutas[0:4:2] = ('maçã', 'laranja')\n"
     ]
    }
   ],
   "source": [
    "frutas = (\"maçã\", \"banana\", \"laranja\", \"melancia\")\n",
    "print(f\" Posição frutas[0] = {frutas[0]}\")\n",
    "print(f\" Posição frutas[0][1] = {frutas[0][1]}\")\n",
    "print(f\" Posição frutas[-1] = {frutas[-1]}\")\n",
    "print(f\" Posição frutas[:2] = {frutas[:2]}\")# sempre ignora o ultimo\n",
    "print(f\" Posição frutas[1:3] = {frutas[1:3]}\")\n",
    "print(f\" Posição frutas[0:4:2] = {frutas[0:4:2]}\")"
   ]
  },
  {
   "source": [
    "<h3><font color=#DAA520>Desempacotando uma tupla com for</font></h3>"
   ],
   "cell_type": "markdown",
   "metadata": {}
  },
  {
   "cell_type": "code",
   "execution_count": 20,
   "metadata": {},
   "outputs": [
    {
     "output_type": "stream",
     "name": "stdout",
     "text": [
      "(4, 5, 6, 7, 8, 9, 10)\n\n4...\n5...\n6...\n7...\n8...\n9...\n10...\n\n\n4...5...6...7...8...9...10...\n\nNa posição: 0 temos o valor 4.\nNa posição: 1 temos o valor 5.\nNa posição: 2 temos o valor 6.\nNa posição: 3 temos o valor 7.\nNa posição: 4 temos o valor 8.\nNa posição: 5 temos o valor 9.\nNa posição: 6 temos o valor 10.\n"
     ]
    }
   ],
   "source": [
    "valores = tuple(range(4,11)) \n",
    "print(f'{valores}\\n')\n",
    "for v in valores:\n",
    "    print(f'{v}...') # com for printamos verticalmente\n",
    "\n",
    "print('\\n')\n",
    "for v in valores:    \n",
    "    print(f'{v}...', end='') # com end='' printamos horizontalmente\n",
    "\n",
    "print('\\n')# usamos o \\n somente para ir para outra linha, pois o ultimo print esta com end=''\n",
    "for x, v in enumerate(valores): # printando com valores de posições usando enumerate\n",
    "    print(f'Na posição: {x} temos o valor {v}.')"
   ]
  },
  {
   "source": [
    "<h3><font color=#DAA520>Desempacotando uma tupla *rest ou *_</font></h3>\n",
    "\n",
    "A linguagem Python recentemente adquiriu um desempacotamento de tuplas um pouco mais sofisticado para ajudar em situações em que você possa querer “arrancar” alguns elementos do início da tupla. A sintaxe especial *rest é utilizada, e é também usada em assinaturas de função para capturar uma lista arbitrariamente longa de argumentos posicionais:"
   ],
   "cell_type": "markdown",
   "metadata": {}
  },
  {
   "cell_type": "code",
   "execution_count": 1,
   "metadata": {},
   "outputs": [
    {
     "output_type": "stream",
     "name": "stdout",
     "text": [
      "1 2\n[3, 4, 5]\n"
     ]
    }
   ],
   "source": [
    "values = (1, 2, 3, 4, 5)\n",
    "a, b, *rest = values # o nome rest não importa, o que importa é *, mas por boa pratica usamos *rest ou *_\n",
    "print(a, b)\n",
    "print(rest)"
   ]
  },
  {
   "cell_type": "code",
   "execution_count": 3,
   "metadata": {},
   "outputs": [
    {
     "output_type": "stream",
     "name": "stdout",
     "text": [
      "1 2\n[3, 4, 5]\n"
     ]
    }
   ],
   "source": [
    "# A parte com rest às vezes é algo que você vai querer descartar; não há nada de especial \n",
    "# acerca do nome rest. Por questão de convenção, muitos programadores Python usarão o \n",
    "# derscore (_) para variáveis indesejadas:\n",
    "values = (1, 2, 3, 4, 5)\n",
    "a, b, *_ = values\n",
    "print(a, b)\n",
    "print(_)"
   ]
  }
 ]
}