{
 "metadata": {
  "language_info": {
   "codemirror_mode": {
    "name": "ipython",
    "version": 3
   },
   "file_extension": ".py",
   "mimetype": "text/x-python",
   "name": "python",
   "nbconvert_exporter": "python",
   "pygments_lexer": "ipython3",
   "version": "3.9.5"
  },
  "orig_nbformat": 4,
  "kernelspec": {
   "name": "python395jvsc74a57bd0325cb660cce599eef17833f9bb0afcb0e3dbe3e8605c570c8e00eb36d04c5df3",
   "display_name": "Python 3.9.5 64-bit ('venv': venv)",
   "language": "python"
  },
  "interpreter": {
   "hash": "325cb660cce599eef17833f9bb0afcb0e3dbe3e8605c570c8e00eb36d04c5df3"
  }
 },
 "nbformat": 4,
 "nbformat_minor": 2,
 "cells": [
  {
   "source": [
    "<h1><font color=#32CD32>Dict {}</font></h1>\n",
    "\n",
    "Os dicionários são variáveis compostas que permitem armazenar vários valores em uma mesma estrutura, acessíveis por chaves literais.\n",
    "\n",
    "dict provavelmente é a estrutura de dados embutida mais importante de Python. Um nome mais comum para ele é hash map ou array associativo. Consiste em uma coleção de pares chave-valor de tamanho flexível, em que chave e valor são objetos Python. Uma abordagem para criar um dicionário é usar chaves { } e dois-pontos para separar as chaves e os valores"
   ],
   "cell_type": "markdown",
   "metadata": {}
  },
  {
   "source": [
    "<h2><font color=#00BFFF>Métodos de um dict usando biblioteca rich import inspect</font></h2>\n"
   ],
   "cell_type": "markdown",
   "metadata": {}
  },
  {
   "cell_type": "code",
   "execution_count": 1,
   "metadata": {},
   "outputs": [
    {
     "output_type": "display_data",
     "data": {
      "text/plain": "\u001b[34m╭─\u001b[0m\u001b[34m──────────────────────────────────── \u001b[0m\u001b[1;34m<\u001b[0m\u001b[1;95mclass\u001b[0m\u001b[39m \u001b[0m\u001b[32m'dict'\u001b[0m\u001b[1;34m>\u001b[0m\u001b[34m ─────────────────────────────────────\u001b[0m\u001b[34m─╮\u001b[0m\n\u001b[34m│\u001b[0m \u001b[1;35mdict\u001b[0m\u001b[1;36m(\u001b[0m\u001b[1;36m)\u001b[0m\u001b[36m -> new empty dictionary\u001b[0m                                                            \u001b[34m│\u001b[0m\n\u001b[34m│\u001b[0m \u001b[1;35mdict\u001b[0m\u001b[1;36m(\u001b[0m\u001b[36mmapping\u001b[0m\u001b[1;36m)\u001b[0m\u001b[36m -> new dictionary initialized from a mapping object's\u001b[0m                       \u001b[34m│\u001b[0m\n\u001b[34m│\u001b[0m \u001b[36m    \u001b[0m\u001b[1;36m(\u001b[0m\u001b[36mkey, value\u001b[0m\u001b[1;36m)\u001b[0m\u001b[36m pairs\u001b[0m                                                                    \u001b[34m│\u001b[0m\n\u001b[34m│\u001b[0m \u001b[1;35mdict\u001b[0m\u001b[1;36m(\u001b[0m\u001b[36miterable\u001b[0m\u001b[1;36m)\u001b[0m\u001b[36m -> new dictionary initialized as if via:\u001b[0m                                   \u001b[34m│\u001b[0m\n\u001b[34m│\u001b[0m \u001b[36m    d = \u001b[0m\u001b[1;36m{\u001b[0m\u001b[1;36m}\u001b[0m                                                                                \u001b[34m│\u001b[0m\n\u001b[34m│\u001b[0m \u001b[36m    for k, v in iterable:\u001b[0m                                                                 \u001b[34m│\u001b[0m\n\u001b[34m│\u001b[0m \u001b[36m        d\u001b[0m\u001b[1;36m[\u001b[0m\u001b[36mk\u001b[0m\u001b[1;36m]\u001b[0m\u001b[36m = v\u001b[0m                                                                          \u001b[34m│\u001b[0m\n\u001b[34m│\u001b[0m \u001b[1;35mdict\u001b[0m\u001b[1;36m(\u001b[0m\u001b[36m**kwargs\u001b[0m\u001b[1;36m)\u001b[0m\u001b[36m -> new dictionary initialized with the \u001b[0m\u001b[33mname\u001b[0m\u001b[36m=\u001b[0m\u001b[35mvalue\u001b[0m\u001b[36m pairs\u001b[0m                    \u001b[34m│\u001b[0m\n\u001b[34m│\u001b[0m \u001b[36m    in the keyword argument list.  For example:  \u001b[0m\u001b[1;35mdict\u001b[0m\u001b[1;36m(\u001b[0m\u001b[33mone\u001b[0m\u001b[36m=\u001b[0m\u001b[1;36m1\u001b[0m\u001b[36m, \u001b[0m\u001b[33mtwo\u001b[0m\u001b[36m=\u001b[0m\u001b[1;36m2\u001b[0m\u001b[1;36m)\u001b[0m                       \u001b[34m│\u001b[0m\n\u001b[34m│\u001b[0m                                                                                           \u001b[34m│\u001b[0m\n\u001b[34m│\u001b[0m \u001b[32m╭───────────────────────────────────────────────────────────────────────────────────────╮\u001b[0m \u001b[34m│\u001b[0m\n\u001b[34m│\u001b[0m \u001b[32m│\u001b[0m \u001b[1m{\u001b[0m\u001b[32m'001'\u001b[0m: \u001b[32m'maçã'\u001b[0m, \u001b[32m'002'\u001b[0m: \u001b[32m'banana'\u001b[0m, \u001b[32m'003'\u001b[0m: \u001b[32m'laranja'\u001b[0m, \u001b[32m'004'\u001b[0m: \u001b[32m'melancia'\u001b[0m\u001b[1m}\u001b[0m                 \u001b[32m│\u001b[0m \u001b[34m│\u001b[0m\n\u001b[34m│\u001b[0m \u001b[32m╰───────────────────────────────────────────────────────────────────────────────────────╯\u001b[0m \u001b[34m│\u001b[0m\n\u001b[34m│\u001b[0m                                                                                           \u001b[34m│\u001b[0m\n\u001b[34m│\u001b[0m      \u001b[3;33mclear\u001b[0m = \u001b[3;96mdef \u001b[0m\u001b[1;31mclear\u001b[0m\u001b[1m(\u001b[0m\u001b[33m...\u001b[0m\u001b[1m)\u001b[0m \u001b[1;2;35mD.clear\u001b[0m\u001b[1;2m(\u001b[0m\u001b[1;2m)\u001b[0m\u001b[2m -> \u001b[0m\u001b[2;3;35mNone\u001b[0m\u001b[2m.  Remove all items from D.\u001b[0m                  \u001b[34m│\u001b[0m\n\u001b[34m│\u001b[0m       \u001b[3;33mcopy\u001b[0m = \u001b[3;96mdef \u001b[0m\u001b[1;31mcopy\u001b[0m\u001b[1m(\u001b[0m\u001b[33m...\u001b[0m\u001b[1m)\u001b[0m \u001b[1;2;35mD.copy\u001b[0m\u001b[1;2m(\u001b[0m\u001b[1;2m)\u001b[0m\u001b[2m -> a shallow copy of D\u001b[0m                                \u001b[34m│\u001b[0m\n\u001b[34m│\u001b[0m   \u001b[3;33mfromkeys\u001b[0m = \u001b[3;96mdef \u001b[0m\u001b[1;31mfromkeys\u001b[0m\u001b[1m(\u001b[0miterable, \u001b[33mvalue\u001b[0m=\u001b[3;35mNone\u001b[0m, \u001b[35m/\u001b[0m\u001b[1m)\u001b[0m: \u001b[2mCreate a new dictionary with keys \u001b[0m    \u001b[34m│\u001b[0m\n\u001b[34m│\u001b[0m              \u001b[2mfrom iterable and values set to value.\u001b[0m                                       \u001b[34m│\u001b[0m\n\u001b[34m│\u001b[0m        \u001b[3;33mget\u001b[0m = \u001b[3;96mdef \u001b[0m\u001b[1;31mget\u001b[0m\u001b[1m(\u001b[0mkey, \u001b[33mdefault\u001b[0m=\u001b[3;35mNone\u001b[0m, \u001b[35m/\u001b[0m\u001b[1m)\u001b[0m: \u001b[2mReturn the value for key if key is in the \u001b[0m    \u001b[34m│\u001b[0m\n\u001b[34m│\u001b[0m              \u001b[2mdictionary, else default.\u001b[0m                                                    \u001b[34m│\u001b[0m\n\u001b[34m│\u001b[0m      \u001b[3;33mitems\u001b[0m = \u001b[3;96mdef \u001b[0m\u001b[1;31mitems\u001b[0m\u001b[1m(\u001b[0m\u001b[33m...\u001b[0m\u001b[1m)\u001b[0m \u001b[1;2;35mD.items\u001b[0m\u001b[1;2m(\u001b[0m\u001b[1;2m)\u001b[0m\u001b[2m -> a set-like object providing a view on D's items\u001b[0m  \u001b[34m│\u001b[0m\n\u001b[34m│\u001b[0m       \u001b[3;33mkeys\u001b[0m = \u001b[3;96mdef \u001b[0m\u001b[1;31mkeys\u001b[0m\u001b[1m(\u001b[0m\u001b[33m...\u001b[0m\u001b[1m)\u001b[0m \u001b[1;2;35mD.keys\u001b[0m\u001b[1;2m(\u001b[0m\u001b[1;2m)\u001b[0m\u001b[2m -> a set-like object providing a view on D's keys\u001b[0m     \u001b[34m│\u001b[0m\n\u001b[34m│\u001b[0m        \u001b[3;33mpop\u001b[0m = \u001b[3;96mdef \u001b[0m\u001b[1;31mpop\u001b[0m\u001b[1m(\u001b[0m\u001b[33m...\u001b[0m\u001b[1m)\u001b[0m \u001b[1;2;35mD.pop\u001b[0m\u001b[1;2m(\u001b[0m\u001b[2mk\u001b[0m\u001b[1;2m[\u001b[0m\u001b[2m,d\u001b[0m\u001b[1;2m]\u001b[0m\u001b[1;2m)\u001b[0m\u001b[2m -> v, remove specified key and return the \u001b[0m         \u001b[34m│\u001b[0m\n\u001b[34m│\u001b[0m              \u001b[2mcorresponding value.\u001b[0m                                                         \u001b[34m│\u001b[0m\n\u001b[34m│\u001b[0m    \u001b[3;33mpopitem\u001b[0m = \u001b[3;96mdef \u001b[0m\u001b[1;31mpopitem\u001b[0m\u001b[1m(\u001b[0m\u001b[1m)\u001b[0m: \u001b[2mRemove and return a \u001b[0m\u001b[1;2m(\u001b[0m\u001b[2mkey, value\u001b[0m\u001b[1;2m)\u001b[0m\u001b[2m pair as a \u001b[0m\u001b[1;2;36m2\u001b[0m\u001b[2m-tuple.\u001b[0m           \u001b[34m│\u001b[0m\n\u001b[34m│\u001b[0m \u001b[3;33msetdefault\u001b[0m = \u001b[3;96mdef \u001b[0m\u001b[1;31msetdefault\u001b[0m\u001b[1m(\u001b[0mkey, \u001b[33mdefault\u001b[0m=\u001b[3;35mNone\u001b[0m, \u001b[35m/\u001b[0m\u001b[1m)\u001b[0m: \u001b[2mInsert key with a value of default if \u001b[0m \u001b[34m│\u001b[0m\n\u001b[34m│\u001b[0m              \u001b[2mkey is not in the dictionary.\u001b[0m                                                \u001b[34m│\u001b[0m\n\u001b[34m│\u001b[0m     \u001b[3;33mupdate\u001b[0m = \u001b[3;96mdef \u001b[0m\u001b[1;31mupdate\u001b[0m\u001b[1m(\u001b[0m\u001b[33m...\u001b[0m\u001b[1m)\u001b[0m                                                              \u001b[34m│\u001b[0m\n\u001b[34m│\u001b[0m              \u001b[1;2;35mD.update\u001b[0m\u001b[1;2m(\u001b[0m\u001b[1;2m[\u001b[0m\u001b[2mE, \u001b[0m\u001b[1;2m]\u001b[0m\u001b[2m**F\u001b[0m\u001b[1;2m)\u001b[0m\u001b[2m -> \u001b[0m\u001b[2;3;35mNone\u001b[0m\u001b[2m.  Update D from dict/iterable E and F.\u001b[0m            \u001b[34m│\u001b[0m\n\u001b[34m│\u001b[0m              \u001b[2mIf E is present and has a \u001b[0m\u001b[1;2;35m.keys\u001b[0m\u001b[1;2m(\u001b[0m\u001b[1;2m)\u001b[0m\u001b[2m method, then does:  for k in E: D\u001b[0m\u001b[1;2m[\u001b[0m\u001b[2mk\u001b[0m\u001b[1;2m]\u001b[0m\u001b[2m = \u001b[0m    \u001b[34m│\u001b[0m\n\u001b[34m│\u001b[0m              \u001b[2mE\u001b[0m\u001b[1;2m[\u001b[0m\u001b[2mk\u001b[0m\u001b[1;2m]\u001b[0m                                                                         \u001b[34m│\u001b[0m\n\u001b[34m│\u001b[0m              \u001b[2mIf E is present and lacks a \u001b[0m\u001b[1;2;35m.keys\u001b[0m\u001b[1;2m(\u001b[0m\u001b[1;2m)\u001b[0m\u001b[2m method, then does:  for k, v in E: D\u001b[0m\u001b[1;2m[\u001b[0m\u001b[2mk\u001b[0m\u001b[1;2m]\u001b[0m\u001b[2m \u001b[0m \u001b[34m│\u001b[0m\n\u001b[34m│\u001b[0m              \u001b[2m= v\u001b[0m                                                                          \u001b[34m│\u001b[0m\n\u001b[34m│\u001b[0m              \u001b[2mIn either case, this is followed by: for k in F:  D\u001b[0m\u001b[1;2m[\u001b[0m\u001b[2mk\u001b[0m\u001b[1;2m]\u001b[0m\u001b[2m = F\u001b[0m\u001b[1;2m[\u001b[0m\u001b[2mk\u001b[0m\u001b[1;2m]\u001b[0m                \u001b[34m│\u001b[0m\n\u001b[34m│\u001b[0m     \u001b[3;33mvalues\u001b[0m = \u001b[3;96mdef \u001b[0m\u001b[1;31mvalues\u001b[0m\u001b[1m(\u001b[0m\u001b[33m...\u001b[0m\u001b[1m)\u001b[0m \u001b[1;2;35mD.values\u001b[0m\u001b[1;2m(\u001b[0m\u001b[1;2m)\u001b[0m\u001b[2m -> an object providing a view on D's values\u001b[0m       \u001b[34m│\u001b[0m\n\u001b[34m╰───────────────────────────────────────────────────────────────────────────────────────────╯\u001b[0m\n",
      "text/html": "<pre style=\"white-space:pre;overflow-x:auto;line-height:normal;font-family:Menlo,'DejaVu Sans Mono',consolas,'Courier New',monospace\"><span style=\"color: #000080; text-decoration-color: #000080\">╭───────────────────────────────────── </span><span style=\"color: #000080; text-decoration-color: #000080; font-weight: bold\">&lt;</span><span style=\"color: #ff00ff; text-decoration-color: #ff00ff; font-weight: bold\">class</span><span style=\"color: #000000; text-decoration-color: #000000\"> </span><span style=\"color: #008000; text-decoration-color: #008000\">'dict'</span><span style=\"color: #000080; text-decoration-color: #000080; font-weight: bold\">&gt;</span><span style=\"color: #000080; text-decoration-color: #000080\"> ──────────────────────────────────────╮</span>\n<span style=\"color: #000080; text-decoration-color: #000080\">│</span> <span style=\"color: #800080; text-decoration-color: #800080; font-weight: bold\">dict</span><span style=\"color: #008080; text-decoration-color: #008080; font-weight: bold\">()</span><span style=\"color: #008080; text-decoration-color: #008080\"> -&gt; new empty dictionary</span>                                                            <span style=\"color: #000080; text-decoration-color: #000080\">│</span>\n<span style=\"color: #000080; text-decoration-color: #000080\">│</span> <span style=\"color: #800080; text-decoration-color: #800080; font-weight: bold\">dict</span><span style=\"color: #008080; text-decoration-color: #008080; font-weight: bold\">(</span><span style=\"color: #008080; text-decoration-color: #008080\">mapping</span><span style=\"color: #008080; text-decoration-color: #008080; font-weight: bold\">)</span><span style=\"color: #008080; text-decoration-color: #008080\"> -&gt; new dictionary initialized from a mapping object's</span>                       <span style=\"color: #000080; text-decoration-color: #000080\">│</span>\n<span style=\"color: #000080; text-decoration-color: #000080\">│</span> <span style=\"color: #008080; text-decoration-color: #008080\">    </span><span style=\"color: #008080; text-decoration-color: #008080; font-weight: bold\">(</span><span style=\"color: #008080; text-decoration-color: #008080\">key, value</span><span style=\"color: #008080; text-decoration-color: #008080; font-weight: bold\">)</span><span style=\"color: #008080; text-decoration-color: #008080\"> pairs</span>                                                                    <span style=\"color: #000080; text-decoration-color: #000080\">│</span>\n<span style=\"color: #000080; text-decoration-color: #000080\">│</span> <span style=\"color: #800080; text-decoration-color: #800080; font-weight: bold\">dict</span><span style=\"color: #008080; text-decoration-color: #008080; font-weight: bold\">(</span><span style=\"color: #008080; text-decoration-color: #008080\">iterable</span><span style=\"color: #008080; text-decoration-color: #008080; font-weight: bold\">)</span><span style=\"color: #008080; text-decoration-color: #008080\"> -&gt; new dictionary initialized as if via:</span>                                   <span style=\"color: #000080; text-decoration-color: #000080\">│</span>\n<span style=\"color: #000080; text-decoration-color: #000080\">│</span> <span style=\"color: #008080; text-decoration-color: #008080\">    d = </span><span style=\"color: #008080; text-decoration-color: #008080; font-weight: bold\">{}</span>                                                                                <span style=\"color: #000080; text-decoration-color: #000080\">│</span>\n<span style=\"color: #000080; text-decoration-color: #000080\">│</span> <span style=\"color: #008080; text-decoration-color: #008080\">    for k, v in iterable:</span>                                                                 <span style=\"color: #000080; text-decoration-color: #000080\">│</span>\n<span style=\"color: #000080; text-decoration-color: #000080\">│</span> <span style=\"color: #008080; text-decoration-color: #008080\">        d</span><span style=\"color: #008080; text-decoration-color: #008080; font-weight: bold\">[</span><span style=\"color: #008080; text-decoration-color: #008080\">k</span><span style=\"color: #008080; text-decoration-color: #008080; font-weight: bold\">]</span><span style=\"color: #008080; text-decoration-color: #008080\"> = v</span>                                                                          <span style=\"color: #000080; text-decoration-color: #000080\">│</span>\n<span style=\"color: #000080; text-decoration-color: #000080\">│</span> <span style=\"color: #800080; text-decoration-color: #800080; font-weight: bold\">dict</span><span style=\"color: #008080; text-decoration-color: #008080; font-weight: bold\">(</span><span style=\"color: #008080; text-decoration-color: #008080\">**kwargs</span><span style=\"color: #008080; text-decoration-color: #008080; font-weight: bold\">)</span><span style=\"color: #008080; text-decoration-color: #008080\"> -&gt; new dictionary initialized with the </span><span style=\"color: #808000; text-decoration-color: #808000\">name</span><span style=\"color: #008080; text-decoration-color: #008080\">=</span><span style=\"color: #800080; text-decoration-color: #800080\">value</span><span style=\"color: #008080; text-decoration-color: #008080\"> pairs</span>                    <span style=\"color: #000080; text-decoration-color: #000080\">│</span>\n<span style=\"color: #000080; text-decoration-color: #000080\">│</span> <span style=\"color: #008080; text-decoration-color: #008080\">    in the keyword argument list.  For example:  </span><span style=\"color: #800080; text-decoration-color: #800080; font-weight: bold\">dict</span><span style=\"color: #008080; text-decoration-color: #008080; font-weight: bold\">(</span><span style=\"color: #808000; text-decoration-color: #808000\">one</span><span style=\"color: #008080; text-decoration-color: #008080\">=</span><span style=\"color: #008080; text-decoration-color: #008080; font-weight: bold\">1</span><span style=\"color: #008080; text-decoration-color: #008080\">, </span><span style=\"color: #808000; text-decoration-color: #808000\">two</span><span style=\"color: #008080; text-decoration-color: #008080\">=</span><span style=\"color: #008080; text-decoration-color: #008080; font-weight: bold\">2</span><span style=\"color: #008080; text-decoration-color: #008080; font-weight: bold\">)</span>                       <span style=\"color: #000080; text-decoration-color: #000080\">│</span>\n<span style=\"color: #000080; text-decoration-color: #000080\">│</span>                                                                                           <span style=\"color: #000080; text-decoration-color: #000080\">│</span>\n<span style=\"color: #000080; text-decoration-color: #000080\">│</span> <span style=\"color: #008000; text-decoration-color: #008000\">╭───────────────────────────────────────────────────────────────────────────────────────╮</span> <span style=\"color: #000080; text-decoration-color: #000080\">│</span>\n<span style=\"color: #000080; text-decoration-color: #000080\">│</span> <span style=\"color: #008000; text-decoration-color: #008000\">│</span> <span style=\"font-weight: bold\">{</span><span style=\"color: #008000; text-decoration-color: #008000\">'001'</span>: <span style=\"color: #008000; text-decoration-color: #008000\">'maçã'</span>, <span style=\"color: #008000; text-decoration-color: #008000\">'002'</span>: <span style=\"color: #008000; text-decoration-color: #008000\">'banana'</span>, <span style=\"color: #008000; text-decoration-color: #008000\">'003'</span>: <span style=\"color: #008000; text-decoration-color: #008000\">'laranja'</span>, <span style=\"color: #008000; text-decoration-color: #008000\">'004'</span>: <span style=\"color: #008000; text-decoration-color: #008000\">'melancia'</span><span style=\"font-weight: bold\">}</span>                 <span style=\"color: #008000; text-decoration-color: #008000\">│</span> <span style=\"color: #000080; text-decoration-color: #000080\">│</span>\n<span style=\"color: #000080; text-decoration-color: #000080\">│</span> <span style=\"color: #008000; text-decoration-color: #008000\">╰───────────────────────────────────────────────────────────────────────────────────────╯</span> <span style=\"color: #000080; text-decoration-color: #000080\">│</span>\n<span style=\"color: #000080; text-decoration-color: #000080\">│</span>                                                                                           <span style=\"color: #000080; text-decoration-color: #000080\">│</span>\n<span style=\"color: #000080; text-decoration-color: #000080\">│</span>      <span style=\"color: #808000; text-decoration-color: #808000; font-style: italic\">clear</span> = <span style=\"color: #00ffff; text-decoration-color: #00ffff; font-style: italic\">def </span><span style=\"color: #800000; text-decoration-color: #800000; font-weight: bold\">clear</span><span style=\"font-weight: bold\">(</span><span style=\"color: #808000; text-decoration-color: #808000\">...</span><span style=\"font-weight: bold\">)</span> <span style=\"color: #bf7fbf; text-decoration-color: #bf7fbf; font-weight: bold\">D.clear</span><span style=\"color: #7f7f7f; text-decoration-color: #7f7f7f; font-weight: bold\">()</span><span style=\"color: #7f7f7f; text-decoration-color: #7f7f7f\"> -&gt; </span><span style=\"color: #bf7fbf; text-decoration-color: #bf7fbf; font-style: italic\">None</span><span style=\"color: #7f7f7f; text-decoration-color: #7f7f7f\">.  Remove all items from D.</span>                  <span style=\"color: #000080; text-decoration-color: #000080\">│</span>\n<span style=\"color: #000080; text-decoration-color: #000080\">│</span>       <span style=\"color: #808000; text-decoration-color: #808000; font-style: italic\">copy</span> = <span style=\"color: #00ffff; text-decoration-color: #00ffff; font-style: italic\">def </span><span style=\"color: #800000; text-decoration-color: #800000; font-weight: bold\">copy</span><span style=\"font-weight: bold\">(</span><span style=\"color: #808000; text-decoration-color: #808000\">...</span><span style=\"font-weight: bold\">)</span> <span style=\"color: #bf7fbf; text-decoration-color: #bf7fbf; font-weight: bold\">D.copy</span><span style=\"color: #7f7f7f; text-decoration-color: #7f7f7f; font-weight: bold\">()</span><span style=\"color: #7f7f7f; text-decoration-color: #7f7f7f\"> -&gt; a shallow copy of D</span>                                <span style=\"color: #000080; text-decoration-color: #000080\">│</span>\n<span style=\"color: #000080; text-decoration-color: #000080\">│</span>   <span style=\"color: #808000; text-decoration-color: #808000; font-style: italic\">fromkeys</span> = <span style=\"color: #00ffff; text-decoration-color: #00ffff; font-style: italic\">def </span><span style=\"color: #800000; text-decoration-color: #800000; font-weight: bold\">fromkeys</span><span style=\"font-weight: bold\">(</span>iterable, <span style=\"color: #808000; text-decoration-color: #808000\">value</span>=<span style=\"color: #800080; text-decoration-color: #800080; font-style: italic\">None</span>, <span style=\"color: #800080; text-decoration-color: #800080\">/</span><span style=\"font-weight: bold\">)</span>: <span style=\"color: #7f7f7f; text-decoration-color: #7f7f7f\">Create a new dictionary with keys </span>    <span style=\"color: #000080; text-decoration-color: #000080\">│</span>\n<span style=\"color: #000080; text-decoration-color: #000080\">│</span>              <span style=\"color: #7f7f7f; text-decoration-color: #7f7f7f\">from iterable and values set to value.</span>                                       <span style=\"color: #000080; text-decoration-color: #000080\">│</span>\n<span style=\"color: #000080; text-decoration-color: #000080\">│</span>        <span style=\"color: #808000; text-decoration-color: #808000; font-style: italic\">get</span> = <span style=\"color: #00ffff; text-decoration-color: #00ffff; font-style: italic\">def </span><span style=\"color: #800000; text-decoration-color: #800000; font-weight: bold\">get</span><span style=\"font-weight: bold\">(</span>key, <span style=\"color: #808000; text-decoration-color: #808000\">default</span>=<span style=\"color: #800080; text-decoration-color: #800080; font-style: italic\">None</span>, <span style=\"color: #800080; text-decoration-color: #800080\">/</span><span style=\"font-weight: bold\">)</span>: <span style=\"color: #7f7f7f; text-decoration-color: #7f7f7f\">Return the value for key if key is in the </span>    <span style=\"color: #000080; text-decoration-color: #000080\">│</span>\n<span style=\"color: #000080; text-decoration-color: #000080\">│</span>              <span style=\"color: #7f7f7f; text-decoration-color: #7f7f7f\">dictionary, else default.</span>                                                    <span style=\"color: #000080; text-decoration-color: #000080\">│</span>\n<span style=\"color: #000080; text-decoration-color: #000080\">│</span>      <span style=\"color: #808000; text-decoration-color: #808000; font-style: italic\">items</span> = <span style=\"color: #00ffff; text-decoration-color: #00ffff; font-style: italic\">def </span><span style=\"color: #800000; text-decoration-color: #800000; font-weight: bold\">items</span><span style=\"font-weight: bold\">(</span><span style=\"color: #808000; text-decoration-color: #808000\">...</span><span style=\"font-weight: bold\">)</span> <span style=\"color: #bf7fbf; text-decoration-color: #bf7fbf; font-weight: bold\">D.items</span><span style=\"color: #7f7f7f; text-decoration-color: #7f7f7f; font-weight: bold\">()</span><span style=\"color: #7f7f7f; text-decoration-color: #7f7f7f\"> -&gt; a set-like object providing a view on D's items</span>  <span style=\"color: #000080; text-decoration-color: #000080\">│</span>\n<span style=\"color: #000080; text-decoration-color: #000080\">│</span>       <span style=\"color: #808000; text-decoration-color: #808000; font-style: italic\">keys</span> = <span style=\"color: #00ffff; text-decoration-color: #00ffff; font-style: italic\">def </span><span style=\"color: #800000; text-decoration-color: #800000; font-weight: bold\">keys</span><span style=\"font-weight: bold\">(</span><span style=\"color: #808000; text-decoration-color: #808000\">...</span><span style=\"font-weight: bold\">)</span> <span style=\"color: #bf7fbf; text-decoration-color: #bf7fbf; font-weight: bold\">D.keys</span><span style=\"color: #7f7f7f; text-decoration-color: #7f7f7f; font-weight: bold\">()</span><span style=\"color: #7f7f7f; text-decoration-color: #7f7f7f\"> -&gt; a set-like object providing a view on D's keys</span>     <span style=\"color: #000080; text-decoration-color: #000080\">│</span>\n<span style=\"color: #000080; text-decoration-color: #000080\">│</span>        <span style=\"color: #808000; text-decoration-color: #808000; font-style: italic\">pop</span> = <span style=\"color: #00ffff; text-decoration-color: #00ffff; font-style: italic\">def </span><span style=\"color: #800000; text-decoration-color: #800000; font-weight: bold\">pop</span><span style=\"font-weight: bold\">(</span><span style=\"color: #808000; text-decoration-color: #808000\">...</span><span style=\"font-weight: bold\">)</span> <span style=\"color: #bf7fbf; text-decoration-color: #bf7fbf; font-weight: bold\">D.pop</span><span style=\"color: #7f7f7f; text-decoration-color: #7f7f7f; font-weight: bold\">(</span><span style=\"color: #7f7f7f; text-decoration-color: #7f7f7f\">k</span><span style=\"color: #7f7f7f; text-decoration-color: #7f7f7f; font-weight: bold\">[</span><span style=\"color: #7f7f7f; text-decoration-color: #7f7f7f\">,d</span><span style=\"color: #7f7f7f; text-decoration-color: #7f7f7f; font-weight: bold\">])</span><span style=\"color: #7f7f7f; text-decoration-color: #7f7f7f\"> -&gt; v, remove specified key and return the </span>         <span style=\"color: #000080; text-decoration-color: #000080\">│</span>\n<span style=\"color: #000080; text-decoration-color: #000080\">│</span>              <span style=\"color: #7f7f7f; text-decoration-color: #7f7f7f\">corresponding value.</span>                                                         <span style=\"color: #000080; text-decoration-color: #000080\">│</span>\n<span style=\"color: #000080; text-decoration-color: #000080\">│</span>    <span style=\"color: #808000; text-decoration-color: #808000; font-style: italic\">popitem</span> = <span style=\"color: #00ffff; text-decoration-color: #00ffff; font-style: italic\">def </span><span style=\"color: #800000; text-decoration-color: #800000; font-weight: bold\">popitem</span><span style=\"font-weight: bold\">()</span>: <span style=\"color: #7f7f7f; text-decoration-color: #7f7f7f\">Remove and return a </span><span style=\"color: #7f7f7f; text-decoration-color: #7f7f7f; font-weight: bold\">(</span><span style=\"color: #7f7f7f; text-decoration-color: #7f7f7f\">key, value</span><span style=\"color: #7f7f7f; text-decoration-color: #7f7f7f; font-weight: bold\">)</span><span style=\"color: #7f7f7f; text-decoration-color: #7f7f7f\"> pair as a </span><span style=\"color: #7fbfbf; text-decoration-color: #7fbfbf; font-weight: bold\">2</span><span style=\"color: #7f7f7f; text-decoration-color: #7f7f7f\">-tuple.</span>           <span style=\"color: #000080; text-decoration-color: #000080\">│</span>\n<span style=\"color: #000080; text-decoration-color: #000080\">│</span> <span style=\"color: #808000; text-decoration-color: #808000; font-style: italic\">setdefault</span> = <span style=\"color: #00ffff; text-decoration-color: #00ffff; font-style: italic\">def </span><span style=\"color: #800000; text-decoration-color: #800000; font-weight: bold\">setdefault</span><span style=\"font-weight: bold\">(</span>key, <span style=\"color: #808000; text-decoration-color: #808000\">default</span>=<span style=\"color: #800080; text-decoration-color: #800080; font-style: italic\">None</span>, <span style=\"color: #800080; text-decoration-color: #800080\">/</span><span style=\"font-weight: bold\">)</span>: <span style=\"color: #7f7f7f; text-decoration-color: #7f7f7f\">Insert key with a value of default if </span> <span style=\"color: #000080; text-decoration-color: #000080\">│</span>\n<span style=\"color: #000080; text-decoration-color: #000080\">│</span>              <span style=\"color: #7f7f7f; text-decoration-color: #7f7f7f\">key is not in the dictionary.</span>                                                <span style=\"color: #000080; text-decoration-color: #000080\">│</span>\n<span style=\"color: #000080; text-decoration-color: #000080\">│</span>     <span style=\"color: #808000; text-decoration-color: #808000; font-style: italic\">update</span> = <span style=\"color: #00ffff; text-decoration-color: #00ffff; font-style: italic\">def </span><span style=\"color: #800000; text-decoration-color: #800000; font-weight: bold\">update</span><span style=\"font-weight: bold\">(</span><span style=\"color: #808000; text-decoration-color: #808000\">...</span><span style=\"font-weight: bold\">)</span>                                                              <span style=\"color: #000080; text-decoration-color: #000080\">│</span>\n<span style=\"color: #000080; text-decoration-color: #000080\">│</span>              <span style=\"color: #bf7fbf; text-decoration-color: #bf7fbf; font-weight: bold\">D.update</span><span style=\"color: #7f7f7f; text-decoration-color: #7f7f7f; font-weight: bold\">([</span><span style=\"color: #7f7f7f; text-decoration-color: #7f7f7f\">E, </span><span style=\"color: #7f7f7f; text-decoration-color: #7f7f7f; font-weight: bold\">]</span><span style=\"color: #7f7f7f; text-decoration-color: #7f7f7f\">**F</span><span style=\"color: #7f7f7f; text-decoration-color: #7f7f7f; font-weight: bold\">)</span><span style=\"color: #7f7f7f; text-decoration-color: #7f7f7f\"> -&gt; </span><span style=\"color: #bf7fbf; text-decoration-color: #bf7fbf; font-style: italic\">None</span><span style=\"color: #7f7f7f; text-decoration-color: #7f7f7f\">.  Update D from dict/iterable E and F.</span>            <span style=\"color: #000080; text-decoration-color: #000080\">│</span>\n<span style=\"color: #000080; text-decoration-color: #000080\">│</span>              <span style=\"color: #7f7f7f; text-decoration-color: #7f7f7f\">If E is present and has a </span><span style=\"color: #bf7fbf; text-decoration-color: #bf7fbf; font-weight: bold\">.keys</span><span style=\"color: #7f7f7f; text-decoration-color: #7f7f7f; font-weight: bold\">()</span><span style=\"color: #7f7f7f; text-decoration-color: #7f7f7f\"> method, then does:  for k in E: D</span><span style=\"color: #7f7f7f; text-decoration-color: #7f7f7f; font-weight: bold\">[</span><span style=\"color: #7f7f7f; text-decoration-color: #7f7f7f\">k</span><span style=\"color: #7f7f7f; text-decoration-color: #7f7f7f; font-weight: bold\">]</span><span style=\"color: #7f7f7f; text-decoration-color: #7f7f7f\"> = </span>    <span style=\"color: #000080; text-decoration-color: #000080\">│</span>\n<span style=\"color: #000080; text-decoration-color: #000080\">│</span>              <span style=\"color: #7f7f7f; text-decoration-color: #7f7f7f\">E</span><span style=\"color: #7f7f7f; text-decoration-color: #7f7f7f; font-weight: bold\">[</span><span style=\"color: #7f7f7f; text-decoration-color: #7f7f7f\">k</span><span style=\"color: #7f7f7f; text-decoration-color: #7f7f7f; font-weight: bold\">]</span>                                                                         <span style=\"color: #000080; text-decoration-color: #000080\">│</span>\n<span style=\"color: #000080; text-decoration-color: #000080\">│</span>              <span style=\"color: #7f7f7f; text-decoration-color: #7f7f7f\">If E is present and lacks a </span><span style=\"color: #bf7fbf; text-decoration-color: #bf7fbf; font-weight: bold\">.keys</span><span style=\"color: #7f7f7f; text-decoration-color: #7f7f7f; font-weight: bold\">()</span><span style=\"color: #7f7f7f; text-decoration-color: #7f7f7f\"> method, then does:  for k, v in E: D</span><span style=\"color: #7f7f7f; text-decoration-color: #7f7f7f; font-weight: bold\">[</span><span style=\"color: #7f7f7f; text-decoration-color: #7f7f7f\">k</span><span style=\"color: #7f7f7f; text-decoration-color: #7f7f7f; font-weight: bold\">]</span><span style=\"color: #7f7f7f; text-decoration-color: #7f7f7f\"> </span> <span style=\"color: #000080; text-decoration-color: #000080\">│</span>\n<span style=\"color: #000080; text-decoration-color: #000080\">│</span>              <span style=\"color: #7f7f7f; text-decoration-color: #7f7f7f\">= v</span>                                                                          <span style=\"color: #000080; text-decoration-color: #000080\">│</span>\n<span style=\"color: #000080; text-decoration-color: #000080\">│</span>              <span style=\"color: #7f7f7f; text-decoration-color: #7f7f7f\">In either case, this is followed by: for k in F:  D</span><span style=\"color: #7f7f7f; text-decoration-color: #7f7f7f; font-weight: bold\">[</span><span style=\"color: #7f7f7f; text-decoration-color: #7f7f7f\">k</span><span style=\"color: #7f7f7f; text-decoration-color: #7f7f7f; font-weight: bold\">]</span><span style=\"color: #7f7f7f; text-decoration-color: #7f7f7f\"> = F</span><span style=\"color: #7f7f7f; text-decoration-color: #7f7f7f; font-weight: bold\">[</span><span style=\"color: #7f7f7f; text-decoration-color: #7f7f7f\">k</span><span style=\"color: #7f7f7f; text-decoration-color: #7f7f7f; font-weight: bold\">]</span>                <span style=\"color: #000080; text-decoration-color: #000080\">│</span>\n<span style=\"color: #000080; text-decoration-color: #000080\">│</span>     <span style=\"color: #808000; text-decoration-color: #808000; font-style: italic\">values</span> = <span style=\"color: #00ffff; text-decoration-color: #00ffff; font-style: italic\">def </span><span style=\"color: #800000; text-decoration-color: #800000; font-weight: bold\">values</span><span style=\"font-weight: bold\">(</span><span style=\"color: #808000; text-decoration-color: #808000\">...</span><span style=\"font-weight: bold\">)</span> <span style=\"color: #bf7fbf; text-decoration-color: #bf7fbf; font-weight: bold\">D.values</span><span style=\"color: #7f7f7f; text-decoration-color: #7f7f7f; font-weight: bold\">()</span><span style=\"color: #7f7f7f; text-decoration-color: #7f7f7f\"> -&gt; an object providing a view on D's values</span>       <span style=\"color: #000080; text-decoration-color: #000080\">│</span>\n<span style=\"color: #000080; text-decoration-color: #000080\">╰───────────────────────────────────────────────────────────────────────────────────────────╯</span>\n</pre>\n"
     },
     "metadata": {}
    }
   ],
   "source": [
    "from rich import inspect\n",
    "frutas = {'001': 'maçã', '002': 'banana', '003': 'laranja', '004': 'melancia'}\n",
    "inspect(frutas, methods=True)"
   ]
  },
  {
   "source": [
    "<h3><font color=#DAA520>clear()</font></h3>\n",
    "O método clear () remove todos os itens do dicionário."
   ],
   "cell_type": "markdown",
   "metadata": {}
  },
  {
   "cell_type": "code",
   "execution_count": 10,
   "metadata": {},
   "outputs": [
    {
     "output_type": "stream",
     "name": "stdout",
     "text": [
      "dados = {'nome': 'Pedro', 'idade': 25}\n\ndados = {}\n\n"
     ]
    }
   ],
   "source": [
    "dados = {'nome':'Pedro', 'idade':25}\n",
    "print(f'dados = {dados}\\n')\n",
    "dados.clear()\n",
    "print(f'dados = {dados}\\n')"
   ]
  },
  {
   "source": [
    "<h3><font color=#DAA520>copy()</font></h3>\n",
    "O método copy () retorna uma cópia superficial do dicionário."
   ],
   "cell_type": "markdown",
   "metadata": {}
  },
  {
   "cell_type": "code",
   "execution_count": 23,
   "metadata": {},
   "outputs": [
    {
     "output_type": "stream",
     "name": "stdout",
     "text": [
      "dados = {'nome': 'Pedro', 'idade': 25}\n\ncopia de dados = {'nome': 'Pedro', 'idade': 25}\n\ndados = {'nome': 'Pedro', 'idade': 25}\n\ncopia de dados = {'nome': 'Joao', 'idade': 25}\n\n"
     ]
    }
   ],
   "source": [
    "dados = {'nome':'Pedro', 'idade':25}\n",
    "print(f'dados = {dados}\\n')\n",
    "\n",
    "dados_copy = dados.copy()\n",
    "print(f'copia de dados = {dados_copy}\\n')\n",
    "\n",
    "dados_copy['nome'] = 'Joao'\n",
    "\n",
    "print(f'dados = {dados}\\n')\n",
    "print(f'copia de dados = {dados_copy}\\n')"
   ]
  },
  {
   "source": [
    "<h3><font color=#DAA520>fromkeys()</font></h3>\n",
    "O método fromkeys () cria um novo dicionário a partir da sequência de elementos fornecida com um valor fornecido pelo usuário.\n",
    "\n",
    "fromkeys() método leva dois parâmetros:\n",
    "\n",
    "* sequência - sequência de elementos que devem ser usados ​​como chaves para o novo dicionário\n",
    "\n",
    "* valor (opcional) - valor que é definido para cada elemento do dicionário\n",
    "\n",
    "fromkeys() retorna um novo dicionário com a sequência de elementos fornecida como as chaves do dicionário. Se o argumento de valor for definido, cada elemento do dicionário recém-criado será definido com o valor fornecido."
   ],
   "cell_type": "markdown",
   "metadata": {}
  },
  {
   "cell_type": "code",
   "execution_count": 12,
   "metadata": {},
   "outputs": [
    {
     "output_type": "stream",
     "name": "stdout",
     "text": [
      "{'u': None, 'a': None, 'o': None, 'i': None, 'e': None}\n"
     ]
    }
   ],
   "source": [
    "# crie um dicionário a partir de uma sequência de chaves\n",
    "keys = {'a', 'e', 'i', 'o', 'u' }\n",
    "\n",
    "new_dict = dict.fromkeys(keys)\n",
    "print(new_dict)"
   ]
  },
  {
   "cell_type": "code",
   "execution_count": 13,
   "metadata": {},
   "outputs": [
    {
     "output_type": "stream",
     "name": "stdout",
     "text": [
      "{'u': 100, 'a': 100, 'o': 100, 'i': 100, 'e': 100}\n"
     ]
    }
   ],
   "source": [
    "# crie um dicionário a partir de uma sequência de chaves com valor\n",
    "keys = {'a', 'e', 'i', 'o', 'u' }\n",
    "value = 100\n",
    "\n",
    "new_dict = dict.fromkeys(keys, value)\n",
    "print(new_dict)"
   ]
  },
  {
   "cell_type": "code",
   "execution_count": 15,
   "metadata": {},
   "outputs": [
    {
     "output_type": "stream",
     "name": "stdout",
     "text": [
      "{'u': [1], 'a': [1], 'o': [1], 'i': [1], 'e': [1]}\n{'u': [1, 2], 'a': [1, 2], 'o': [1, 2], 'i': [1, 2], 'e': [1, 2]}\n"
     ]
    }
   ],
   "source": [
    "# criar um dicionário a partir da lista de objetos mutáveis\n",
    "keys = {'a', 'e', 'i', 'o', 'u' }\n",
    "value = [1]\n",
    "\n",
    "new_dict = dict.fromkeys(keys, value)\n",
    "print(new_dict)\n",
    "\n",
    "# atualizando a lista\n",
    "value.append(2)\n",
    "print(new_dict)"
   ]
  },
  {
   "cell_type": "code",
   "execution_count": 18,
   "metadata": {},
   "outputs": [
    {
     "output_type": "stream",
     "name": "stdout",
     "text": [
      "{'u': [1], 'a': [1], 'o': [1], 'i': [1], 'e': [1]}\n{'u': [1], 'a': [1], 'o': [1], 'i': [1], 'e': [1]}\n"
     ]
    }
   ],
   "source": [
    "# Se valoré um objeto mutável (cujo valor pode ser modificado) como lista , dicionário , etc., quando o objeto mutável é modificado, cada elemento da sequência também é atualizado. Isso ocorre porque a cada elemento é atribuída uma referência ao mesmo objeto (aponta para o mesmo objeto na memória). Para evitar esse problema, usamos a compreensão do dicionário.\n",
    "\n",
    "keys = {'a', 'e', 'i', 'o', 'u' }\n",
    "value = [1]\n",
    "\n",
    "new_dict = {key: value[:] for key in keys} # dict Comprehensions\n",
    "print(new_dict)\n",
    "\n",
    "# atualizando a lista\n",
    "value.append(2)\n",
    "print(new_dict)\n",
    "\n",
    "# Aqui, para cada chave em chaves, uma nova lista de valor é criado e atribuído a ele. Em essência, valor não é atribuído ao elemento, mas uma nova lista é criada a partir dele, que é então atribuída a cada elemento no dicionário."
   ]
  },
  {
   "source": [
    "<h3><font color=#DAA520>get() - dict.get(key[, value])</font></h3>\n",
    "O método get() retorna o valor da chave especificada se a chave estiver no dicionário.\n",
    "\n",
    "1. get() método leva no máximo dois parâmetros:\n",
    "* chave - chave a ser pesquisada no dicionário\n",
    "* valor (opcional) - valor a ser retornado se ochaveNão foi encontrado. O valor padrão é None.\n",
    "2. get() método retorna:\n",
    "\n",
    "* Se a key esta no dicionário retorna o value da key.\n",
    "* Se a key NÃO esta no dicionário e não foi informado o valor opcional, retorna o value None.\n",
    "* Se a key NÃO esta no dicionário e foi informado o valor opcional, retorna o value Opcional."
   ],
   "cell_type": "markdown",
   "metadata": {}
  },
  {
   "cell_type": "code",
   "execution_count": 23,
   "metadata": {},
   "outputs": [
    {
     "output_type": "stream",
     "name": "stdout",
     "text": [
      "Nome: Pedro\nNome: 25\n\nSalário: None\n\nSalário: 0.0\n\n"
     ]
    }
   ],
   "source": [
    "dados = {'nome':'Pedro', 'idade':25}\n",
    "print(f'Nome: {dados.get(\"nome\")}')\n",
    "print(f'Nome: {dados.get(\"idade\")}\\n')\n",
    "\n",
    "# Sem key e sem valor opcional\n",
    "print(f'Salário: {dados.get(\"salario\")}\\n')\n",
    "\n",
    "# Sem key e com valor opcional\n",
    "print(f'Salário: {dados.get(\"salario\", 0.0)}\\n')"
   ]
  },
  {
   "source": [
    "<h3><font color=#DAA520>items()</font></h3>\n",
    "O método items () retorna um objeto de visualização que exibe uma lista de pares de tuplas do dicionário (chave, valor)."
   ],
   "cell_type": "markdown",
   "metadata": {}
  },
  {
   "cell_type": "code",
   "execution_count": 18,
   "metadata": {},
   "outputs": [
    {
     "output_type": "stream",
     "name": "stdout",
     "text": [
      "dict_items([('nome', 'Pedro'), ('idade', 25)])\nnome - Pedro\nidade - 25\n"
     ]
    }
   ],
   "source": [
    "dados = {'nome':'Pedro', 'idade':25}\n",
    "print(dados.items()) # Values + Keys\n",
    "\n",
    "for key, value in dados.items():\n",
    "    print(f'{key} - {value}')"
   ]
  },
  {
   "source": [
    "<h3><font color=#DAA520>keys()</font></h3>\n",
    "O método keys () retorna um objeto de visualização que exibe uma lista de todas as chaves no dicionário"
   ],
   "cell_type": "markdown",
   "metadata": {}
  },
  {
   "cell_type": "code",
   "execution_count": 13,
   "metadata": {},
   "outputs": [
    {
     "output_type": "stream",
     "name": "stdout",
     "text": [
      "dict_keys(['nome', 'idade'])\nnome\nidade\n"
     ]
    }
   ],
   "source": [
    "dados = {'nome':'Pedro', 'idade':25}\n",
    "print(dados.keys()) # Values + Keys\n",
    "\n",
    "for key in dados.keys():\n",
    "    print(key)"
   ]
  },
  {
   "source": [
    "<h3><font color=#DAA520>pop / del - deletando uma chave e valor em um dict</font></h3>\n",
    "O método pop () remove e retorna um elemento de um dicionário com a chave fornecida.\n",
    "É possível apagar valores usando a palavra reservada del ou com o método pop(que simultaneamente devolve o valor e apaga a chave):"
   ],
   "cell_type": "markdown",
   "metadata": {}
  },
  {
   "cell_type": "code",
   "execution_count": 25,
   "metadata": {},
   "outputs": [
    {
     "output_type": "stream",
     "name": "stdout",
     "text": [
      "{'nome': 'Pedro', 'idade': 25}\n{'nome': 'Pedro', 'idade': 25, 'sexo': 'M'}\n{'nome': 'Pedro', 'idade': 25}\n{'nome': 'Pedro', 'idade': 25, 'sexo': 'M'}\nM\n{'nome': 'Pedro', 'idade': 25}\n"
     ]
    }
   ],
   "source": [
    "dados = {'nome':'Pedro', 'idade':25}\n",
    "print(dados)\n",
    "dados['sexo']='M'\n",
    "print(dados)\n",
    "del dados['sexo'] # deletando com del\n",
    "print(dados)\n",
    "dados['sexo']='M'\n",
    "print(dados) \n",
    "print(dados.pop('sexo'))# deletando com pop(), obs colocado print() para mostrar que retorna value deletado\n",
    "print(dados)"
   ]
  },
  {
   "source": [
    "<h3><font color=#DAA520>popitem()</font></h3>\n",
    "O método Python popitem() remove e retorna o ÚLTIMO PAR de elementos (chave, valor) inserido no dicionário."
   ],
   "cell_type": "markdown",
   "metadata": {}
  },
  {
   "cell_type": "code",
   "execution_count": 27,
   "metadata": {},
   "outputs": [
    {
     "output_type": "stream",
     "name": "stdout",
     "text": [
      "{'nome': 'Pedro', 'idade': 25}\n{'nome': 'Pedro', 'idade': 25, 'sexo': 'M'}\n{'nome': 'Pedro', 'idade': 25}\n{'nome': 'Pedro', 'idade': 25, 'sexo': 'M'}\n('sexo', 'M')\n{'nome': 'Pedro', 'idade': 25}\n"
     ]
    }
   ],
   "source": [
    "dados = {'nome':'Pedro', 'idade':25}\n",
    "print(dados)\n",
    "dados['sexo']='M'\n",
    "print(dados)\n",
    "del dados['sexo'] # deletando com del\n",
    "print(dados)\n",
    "dados['sexo']='M'\n",
    "print(dados) \n",
    "print(dados.popitem())# deletando com popitem(), obs colocado print() para mostrar que retorna key e value deletado\n",
    "print(dados) # removido o ultimo key value do dict"
   ]
  },
  {
   "source": [
    "<h3><font color=#DAA520>setdefault()</font></h3>\n",
    "O método setdefault () retorna o valor de uma chave (se a chave estiver no dicionário). Caso contrário, ele insere uma chave com um valor no dicionário.\n",
    "\n",
    "setdefault() leva no máximo dois parâmetros:\n",
    "\n",
    "* chave - a chave a ser pesquisada no dicionário\n",
    "\n",
    "* valor_padrão (opcional) - chave com um valor valor padrãoé inserido no dicionário se a chave não estiver no dicionário. Se não for fornecido, o valor padrão será None."
   ],
   "cell_type": "markdown",
   "metadata": {}
  },
  {
   "cell_type": "code",
   "execution_count": 4,
   "metadata": {},
   "outputs": [
    {
     "output_type": "stream",
     "name": "stdout",
     "text": [
      "Nome = {'nome': 'Pedro', 'idade': 25}\nIdade = 25\n"
     ]
    }
   ],
   "source": [
    "# Como setdefault () funciona quando a chave está no dicionário?\n",
    "dados = {'nome':'Pedro', 'idade':25}\n",
    "\n",
    "idade = dados.setdefault('idade')\n",
    "\n",
    "print(f'Nome = {dados}')\n",
    "print(f'Idade = {idade}')"
   ]
  },
  {
   "cell_type": "code",
   "execution_count": 8,
   "metadata": {},
   "outputs": [
    {
     "output_type": "stream",
     "name": "stdout",
     "text": [
      "Funcionário = {'nome': 'Pedro', 'salário': None}\nSalário = None\nFuncionário = {'nome': 'Pedro', 'salário': None, 'idade': 22}\nIdade = 22\n"
     ]
    }
   ],
   "source": [
    "# Como setdefault () funciona quando a chave não está no dicionário?\n",
    "funcionário = {'nome':'Pedro'}\n",
    "\n",
    "# key não esta no dicionário\n",
    "salario = funcionário.setdefault('salário')\n",
    "print(f'Funcionário = {funcionário}')\n",
    "print(f'Salário = {salario}')\n",
    "\n",
    "# key não esta no dicionário valor padrão fornecido\n",
    "idade = funcionário.setdefault('idade', 22)\n",
    "print(f'Funcionário = {funcionário}')\n",
    "print(f'Idade = {idade}')"
   ]
  },
  {
   "source": [
    "<h3><font color=#DAA520>update()</font></h3>\n",
    "\n",
    "Podemos combinar um dicionário com outro usando o método update: O método update altera os dicionários in-place, portanto qualquer chave existente nos dados passados para update terão seus valores antigos descartados."
   ],
   "cell_type": "markdown",
   "metadata": {}
  },
  {
   "cell_type": "code",
   "execution_count": 1,
   "metadata": {},
   "outputs": [
    {
     "output_type": "stream",
     "name": "stdout",
     "text": [
      "{'a': 'Livio', 'b': [1, 2, 3, 4]}\n{'a': 'Livio', 'b': [1, 2, 3, 4], 'c': 'Flavia'}\n{'a': 'Arthur', 'b': [1, 2, 3, 4], 'c': 'Flavia'}\n"
     ]
    }
   ],
   "source": [
    "d1 = {'a' : 'Livio', 'b' : [1, 2, 3, 4]}\n",
    "print(d1)\n",
    "d1.update({'c':'Flavia'})\n",
    "print(d1)\n",
    "d1.update({'a':'Arthur'})\n",
    "print(d1)"
   ]
  },
  {
   "source": [
    "<h3><font color=#DAA520>values()</font></h3>\n",
    "O método values ​​() retorna um objeto de exibição que exibe uma lista de todos os valores no dicionário."
   ],
   "cell_type": "markdown",
   "metadata": {}
  },
  {
   "cell_type": "code",
   "execution_count": 14,
   "metadata": {},
   "outputs": [
    {
     "output_type": "stream",
     "name": "stdout",
     "text": [
      "dict_values(['Pedro', 25])\nPedro\n25\n"
     ]
    }
   ],
   "source": [
    "dados = {'nome':'Pedro', 'idade':25}\n",
    "print(dados.values()) # Values + Keys\n",
    "\n",
    "for value in dados.values():\n",
    "    print(value)"
   ]
  },
  {
   "source": [
    "<h2><font color=#00BFFF>Trabalhando com dict{}</font></h2>"
   ],
   "cell_type": "markdown",
   "metadata": {}
  },
  {
   "source": [
    "<h3><font color=#DAA520>dict() Vs {} - duas formas de criar um dicionário</font></h3>"
   ],
   "cell_type": "markdown",
   "metadata": {}
  },
  {
   "cell_type": "code",
   "execution_count": 53,
   "metadata": {},
   "outputs": [
    {
     "output_type": "stream",
     "name": "stdout",
     "text": [
      "{'nome': 'Ronaldo', 'idade': 35} - usando dict\n{'nome': 'Ronaldo', 'idade': 35} - usando chaves\n"
     ]
    }
   ],
   "source": [
    "# criando um dicionário com dict\n",
    "dicionário1 = dict(nome = 'Ronaldo', idade = 35)\n",
    "print(f'{dicionário1} - usando dict')\n",
    "\n",
    "# criando um dicionário com {}\n",
    "dicionário2 = {'nome': 'Ronaldo', 'idade': 35}\n",
    "print(f'{dicionário2} - usando chaves')"
   ]
  },
  {
   "source": [
    "<h3><font color=#DAA520>Criando um dicionário com lista de tuplas</font></h3>"
   ],
   "cell_type": "markdown",
   "metadata": {}
  },
  {
   "cell_type": "code",
   "execution_count": 1,
   "metadata": {},
   "outputs": [
    {
     "output_type": "stream",
     "name": "stdout",
     "text": [
      "{'Yan': '1234-5678', 'Pedro': '9999-9999', 'Ana': '8765-4321', 'Marina': '8877-7788'}\n"
     ]
    }
   ],
   "source": [
    "contatos_lista = [('Yan', '1234-5678'), ('Pedro', '9999-9999'),\n",
    "                    ('Ana', '8765-4321'), ('Marina', '8877-7788')]\n",
    "\n",
    "contatos = dict(contatos_lista)\n",
    "print(contatos)"
   ]
  },
  {
   "source": [
    "<h3><font color=#DAA520>Acessando um value em um dict - dados['nome']</font></h3>"
   ],
   "cell_type": "markdown",
   "metadata": {}
  },
  {
   "cell_type": "code",
   "execution_count": 6,
   "metadata": {},
   "outputs": [
    {
     "output_type": "stream",
     "name": "stdout",
     "text": [
      "Pedro\n25\n"
     ]
    }
   ],
   "source": [
    "dados = {'nome':'Pedro', 'idade':25}\n",
    "print(dados['nome'])\n",
    "print(dados['idade'])"
   ]
  },
  {
   "source": [
    "<h3><font color=#DAA520>Alterando/incluindo dados em um dict</font></h3>\n",
    "Dicionario não aceita append, simplesmente coloca o indice e o dado e se não existir ele cria."
   ],
   "cell_type": "markdown",
   "metadata": {}
  },
  {
   "cell_type": "code",
   "execution_count": 31,
   "metadata": {},
   "outputs": [
    {
     "output_type": "stream",
     "name": "stdout",
     "text": [
      "{'nome': 'Pedro', 'idade': 25}\n{'nome': 'Pedro', 'idade': 25, 'sexo': 'M'}\n{'nome': 'Michele', 'idade': 25, 'sexo': 'F'}\n"
     ]
    }
   ],
   "source": [
    "dados = {'nome':'Pedro', 'idade':25}\n",
    "print(dados)\n",
    "dados['sexo']='M' # incluindo\n",
    "print(dados)\n",
    "dados['nome'] = 'Michele' # alterando\n",
    "dados['sexo'] = 'F'\n",
    "print(dados)"
   ]
  },
  {
   "source": [
    "<h3><font color=#DAA520>Usando in e not in para verificar uma chave em um dict</font></h3>\n",
    "\n",
    "Podemos verificar se um dicionário contém uma chave usando a mesma sintaxe utilizada para verificar se uma lista ou tupla contém um valor."
   ],
   "cell_type": "markdown",
   "metadata": {}
  },
  {
   "cell_type": "code",
   "execution_count": 5,
   "metadata": {},
   "outputs": [
    {
     "output_type": "stream",
     "name": "stdout",
     "text": [
      "Existe a chave nome no dict d1? True\n"
     ]
    }
   ],
   "source": [
    "d1 = {'nome':'Pedro', 'idade':25}\n",
    "print(f\"Existe a chave nome no dict d1? {'nome' in d1}\")"
   ]
  },
  {
   "source": [
    "<h3><font color=#DAA520>Dict em ordem crescente e decrescente sorted + itemgetter</font></h3>"
   ],
   "cell_type": "markdown",
   "metadata": {}
  },
  {
   "cell_type": "code",
   "execution_count": 30,
   "metadata": {},
   "outputs": [
    {
     "output_type": "stream",
     "name": "stdout",
     "text": [
      "{'João': 8, 'Mattheus': 30, 'Lucas': 20, 'Judas': 2}\n\n[('Mattheus', 30), ('Lucas', 20), ('João', 8), ('Judas', 2)]\n\n[('Judas', 2), ('João', 8), ('Lucas', 20), ('Mattheus', 30)]\n\n[('Mattheus', 30), ('Lucas', 20), ('Judas', 2), ('João', 8)]\n\n[('João', 8), ('Judas', 2), ('Lucas', 20), ('Mattheus', 30)]\n\n"
     ]
    }
   ],
   "source": [
    "from random import randint\n",
    "from operator import itemgetter\n",
    "gols = {'João': 8, 'Mattheus': 30, 'Lucas': 20, 'Judas': 2}\n",
    "lista = []\n",
    "print(f'{gols}\\n')\n",
    "\n",
    "lista = sorted(gols.items(), key=itemgetter(1), reverse=True) # Ordem decrescente de value\n",
    "print(f'{lista}\\n')\n",
    "\n",
    "lista = sorted(gols.items(), key=itemgetter(1)) # Ordem crescente de value\n",
    "print(f'{lista}\\n')\n",
    "\n",
    "lista = sorted(gols.items(), key=itemgetter(0), reverse=True) # Ordem decrescente de key\n",
    "print(f'{lista}\\n')\n",
    "\n",
    "lista = sorted(gols.items(), key=itemgetter(0)) # Ordem crescente de key\n",
    "print(f'{lista}\\n')"
   ]
  },
  {
   "source": [
    "<h3><font color=#DAA520> Três formas de Classificar uma lista de palavras de acordo com suas primeiras letras gerando um dicionário de listas</font></h3>"
   ],
   "cell_type": "markdown",
   "metadata": {}
  },
  {
   "cell_type": "code",
   "execution_count": 45,
   "metadata": {},
   "outputs": [
    {
     "output_type": "stream",
     "name": "stdout",
     "text": [
      "Sem setdefault \n:{'a': ['apple', 'atom'], 'b': ['bat', 'bar', 'book']}\n"
     ]
    }
   ],
   "source": [
    "# Um caso comum é aquele em que os valores de um dicionário são outras coleções, como listas. Por exemplo, poderíamos imaginar a classificação de uma lista de palavras de acordo com suas primeiras letras como um dicionário de listas:\n",
    "\n",
    "words = ['apple', 'bat', 'bar', 'atom', 'book']\n",
    "by_letter = {}\n",
    "for word in words:\n",
    "    letter = word[0] # verifica a primeira letra e coloca em letter\n",
    "    if letter not in by_letter:\n",
    "        by_letter[letter] = [word]\n",
    "    else:\n",
    "        by_letter[letter].append(word)\n",
    "print(f'Sem setdefault \\n:{by_letter}')"
   ]
  },
  {
   "cell_type": "code",
   "execution_count": 48,
   "metadata": {},
   "outputs": [
    {
     "output_type": "stream",
     "name": "stdout",
     "text": [
      "\n Com setdefault \n:dict_items([('a', ['apple', 'atom']), ('b', ['bat', 'bar', 'book'])])\n"
     ]
    }
   ],
   "source": [
    "# O método de dicionário setdefault serve exatamente para essa finalidade. O laço for anterior pode ser reescrito assim:\n",
    "\n",
    "words = ['apple', 'bat', 'bar', 'atom', 'book']\n",
    "by_letter = {}\n",
    "for word in words:\n",
    "    letter = word[0] # verifica a primeira letra e coloca em letter\n",
    "    by_letter.setdefault(letter, []).append(word)\n",
    "\n",
    "print(f'\\n Com setdefault \\n:{by_letter}')"
   ]
  },
  {
   "cell_type": "code",
   "execution_count": 49,
   "metadata": {},
   "outputs": [
    {
     "output_type": "stream",
     "name": "stdout",
     "text": [
      "Com defaultdict \n:defaultdict(<class 'list'>, {'a': ['apple', 'atom'], 'b': ['bat', 'bar', 'book']})\n"
     ]
    }
   ],
   "source": [
    "# O módulo embutido collections tem uma classe útil, defaultdict, que torna isso mais fácil ainda. Para criar um dicionário, passe um tipo ou uma função para gerar o valor default de cada posição no dicionário:\n",
    "\n",
    "from collections import defaultdict\n",
    "\n",
    "words = ['apple', 'bat', 'bar', 'atom', 'book']\n",
    "by_letter = defaultdict(list)\n",
    "for word in words:\n",
    "    by_letter[word[0]].append(word)\n",
    "\n",
    "print(f'Com defaultdict \\n:{by_letter}')"
   ]
  }
 ]
}