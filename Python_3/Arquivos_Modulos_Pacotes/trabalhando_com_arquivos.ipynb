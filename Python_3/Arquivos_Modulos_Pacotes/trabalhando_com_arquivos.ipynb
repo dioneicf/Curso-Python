{
 "cells": [
  {
   "cell_type": "markdown",
   "source": [
    "# Trabalhando com Arquivos\r\n",
    "Tabela Modos de arquivo\r\n",
    "\r\n",
    "![Modos de arquivo](Tabela_Modos_de_arquivo_em_Python.png)"
   ],
   "metadata": {}
  },
  {
   "cell_type": "markdown",
   "source": [
    "# Métodos de uma lista usando biblioteca rich import inspect"
   ],
   "metadata": {}
  },
  {
   "cell_type": "code",
   "execution_count": 3,
   "source": [
    "from rich import inspect\n",
    "a = open('arquivo1.txt', 'wt+')\n",
    "inspect(a, methods=True)"
   ],
   "outputs": [
    {
     "output_type": "display_data",
     "data": {
      "text/plain": [
       "\u001b[34m╭─\u001b[0m\u001b[34m────────────────────────────── \u001b[0m\u001b[1;34m<\u001b[0m\u001b[1;95mclass\u001b[0m\u001b[39m \u001b[0m\u001b[32m'_io.TextIOWrapper'\u001b[0m\u001b[1;34m>\u001b[0m\u001b[34m ──────────────────────────────\u001b[0m\u001b[34m─╮\u001b[0m\n",
       "\u001b[34m│\u001b[0m \u001b[36mCharacter and line based layer over a BufferedIOBase object, buffer.\u001b[0m                      \u001b[34m│\u001b[0m\n",
       "\u001b[34m│\u001b[0m                                                                                           \u001b[34m│\u001b[0m\n",
       "\u001b[34m│\u001b[0m \u001b[32m╭───────────────────────────────────────────────────────────────────────────────────────╮\u001b[0m \u001b[34m│\u001b[0m\n",
       "\u001b[34m│\u001b[0m \u001b[32m│\u001b[0m \u001b[1m<\u001b[0m\u001b[1;95m_io.TextIOWrapper\u001b[0m\u001b[39m \u001b[0m\u001b[33mname\u001b[0m\u001b[39m=\u001b[0m\u001b[32m'arquivo1.txt'\u001b[0m\u001b[39m \u001b[0m\u001b[33mmode\u001b[0m\u001b[39m=\u001b[0m\u001b[32m'wt+'\u001b[0m\u001b[39m \u001b[0m\u001b[33mencoding\u001b[0m\u001b[39m=\u001b[0m\u001b[32m'cp1252'\u001b[0m\u001b[1m>\u001b[0m                  \u001b[32m│\u001b[0m \u001b[34m│\u001b[0m\n",
       "\u001b[34m│\u001b[0m \u001b[32m╰───────────────────────────────────────────────────────────────────────────────────────╯\u001b[0m \u001b[34m│\u001b[0m\n",
       "\u001b[34m│\u001b[0m                                                                                           \u001b[34m│\u001b[0m\n",
       "\u001b[34m│\u001b[0m         \u001b[3;33mbuffer\u001b[0m = \u001b[1m<\u001b[0m\u001b[1;95m_io.BufferedRandom\u001b[0m\u001b[39m \u001b[0m\u001b[33mname\u001b[0m\u001b[39m=\u001b[0m\u001b[32m'arquivo1.txt'\u001b[0m\u001b[1m>\u001b[0m                                 \u001b[34m│\u001b[0m\n",
       "\u001b[34m│\u001b[0m         \u001b[3;33mclosed\u001b[0m = \u001b[3;91mFalse\u001b[0m                                                                    \u001b[34m│\u001b[0m\n",
       "\u001b[34m│\u001b[0m       \u001b[3;33mencoding\u001b[0m = \u001b[32m'cp1252'\u001b[0m                                                                 \u001b[34m│\u001b[0m\n",
       "\u001b[34m│\u001b[0m         \u001b[3;33merrors\u001b[0m = \u001b[32m'strict'\u001b[0m                                                                 \u001b[34m│\u001b[0m\n",
       "\u001b[34m│\u001b[0m \u001b[3;33mline_buffering\u001b[0m = \u001b[3;91mFalse\u001b[0m                                                                    \u001b[34m│\u001b[0m\n",
       "\u001b[34m│\u001b[0m           \u001b[3;33mmode\u001b[0m = \u001b[32m'wt+'\u001b[0m                                                                    \u001b[34m│\u001b[0m\n",
       "\u001b[34m│\u001b[0m           \u001b[3;33mname\u001b[0m = \u001b[32m'arquivo1.txt'\u001b[0m                                                           \u001b[34m│\u001b[0m\n",
       "\u001b[34m│\u001b[0m       \u001b[3;33mnewlines\u001b[0m = \u001b[3;35mNone\u001b[0m                                                                     \u001b[34m│\u001b[0m\n",
       "\u001b[34m│\u001b[0m  \u001b[3;33mwrite_through\u001b[0m = \u001b[3;91mFalse\u001b[0m                                                                    \u001b[34m│\u001b[0m\n",
       "\u001b[34m│\u001b[0m          \u001b[3;33mclose\u001b[0m = \u001b[3;96mdef \u001b[0m\u001b[1;31mclose\u001b[0m\u001b[1m(\u001b[0m\u001b[1m)\u001b[0m: \u001b[2mFlush and close the IO object.\u001b[0m                              \u001b[34m│\u001b[0m\n",
       "\u001b[34m│\u001b[0m         \u001b[3;33mdetach\u001b[0m = \u001b[3;96mdef \u001b[0m\u001b[1;31mdetach\u001b[0m\u001b[1m(\u001b[0m\u001b[1m)\u001b[0m: \u001b[2mSeparate the underlying buffer from the TextIOBase and \u001b[0m    \u001b[34m│\u001b[0m\n",
       "\u001b[34m│\u001b[0m                  \u001b[2mreturn it.\u001b[0m                                                               \u001b[34m│\u001b[0m\n",
       "\u001b[34m│\u001b[0m         \u001b[3;33mfileno\u001b[0m = \u001b[3;96mdef \u001b[0m\u001b[1;31mfileno\u001b[0m\u001b[1m(\u001b[0m\u001b[1m)\u001b[0m: \u001b[2mReturns underlying file descriptor if one exists.\u001b[0m          \u001b[34m│\u001b[0m\n",
       "\u001b[34m│\u001b[0m          \u001b[3;33mflush\u001b[0m = \u001b[3;96mdef \u001b[0m\u001b[1;31mflush\u001b[0m\u001b[1m(\u001b[0m\u001b[1m)\u001b[0m: \u001b[2mFlush write buffers, if applicable.\u001b[0m                         \u001b[34m│\u001b[0m\n",
       "\u001b[34m│\u001b[0m         \u001b[3;33misatty\u001b[0m = \u001b[3;96mdef \u001b[0m\u001b[1;31misatty\u001b[0m\u001b[1m(\u001b[0m\u001b[1m)\u001b[0m: \u001b[2mReturn whether this is an \u001b[0m\u001b[2;32m'interactive'\u001b[0m\u001b[2m stream.\u001b[0m            \u001b[34m│\u001b[0m\n",
       "\u001b[34m│\u001b[0m           \u001b[3;33mread\u001b[0m = \u001b[3;96mdef \u001b[0m\u001b[1;31mread\u001b[0m\u001b[1m(\u001b[0m\u001b[33msize\u001b[0m=\u001b[1;36m-1\u001b[0m, \u001b[35m/\u001b[0m\u001b[1m)\u001b[0m: \u001b[2mRead at most n characters from stream.\u001b[0m             \u001b[34m│\u001b[0m\n",
       "\u001b[34m│\u001b[0m       \u001b[3;33mreadable\u001b[0m = \u001b[3;96mdef \u001b[0m\u001b[1;31mreadable\u001b[0m\u001b[1m(\u001b[0m\u001b[1m)\u001b[0m: \u001b[2mReturn whether object was opened for reading.\u001b[0m            \u001b[34m│\u001b[0m\n",
       "\u001b[34m│\u001b[0m       \u001b[3;33mreadline\u001b[0m = \u001b[3;96mdef \u001b[0m\u001b[1;31mreadline\u001b[0m\u001b[1m(\u001b[0m\u001b[33msize\u001b[0m=\u001b[1;36m-1\u001b[0m, \u001b[35m/\u001b[0m\u001b[1m)\u001b[0m: \u001b[2mRead until newline or EOF.\u001b[0m                     \u001b[34m│\u001b[0m\n",
       "\u001b[34m│\u001b[0m      \u001b[3;33mreadlines\u001b[0m = \u001b[3;96mdef \u001b[0m\u001b[1;31mreadlines\u001b[0m\u001b[1m(\u001b[0m\u001b[33mhint\u001b[0m=\u001b[1;36m-1\u001b[0m, \u001b[35m/\u001b[0m\u001b[1m)\u001b[0m: \u001b[2mReturn a list of lines from the stream.\u001b[0m       \u001b[34m│\u001b[0m\n",
       "\u001b[34m│\u001b[0m    \u001b[3;33mreconfigure\u001b[0m = \u001b[3;96mdef \u001b[0m\u001b[1;31mreconfigure\u001b[0m\u001b[1m(\u001b[0m*, \u001b[33mencoding\u001b[0m=\u001b[3;35mNone\u001b[0m, \u001b[33merrors\u001b[0m=\u001b[3;35mNone\u001b[0m, \u001b[33mnewline\u001b[0m=\u001b[3;35mNone\u001b[0m,             \u001b[34m│\u001b[0m\n",
       "\u001b[34m│\u001b[0m                  \u001b[33mline_buffering\u001b[0m=\u001b[3;35mNone\u001b[0m, \u001b[33mwrite_through\u001b[0m=\u001b[3;35mNone\u001b[0m\u001b[1m)\u001b[0m: \u001b[2mReconfigure the text stream \u001b[0m   \u001b[34m│\u001b[0m\n",
       "\u001b[34m│\u001b[0m                  \u001b[2mwith new parameters.\u001b[0m                                                     \u001b[34m│\u001b[0m\n",
       "\u001b[34m│\u001b[0m           \u001b[3;33mseek\u001b[0m = \u001b[3;96mdef \u001b[0m\u001b[1;31mseek\u001b[0m\u001b[1m(\u001b[0mcookie, \u001b[33mwhence\u001b[0m=\u001b[1;36m0\u001b[0m, \u001b[35m/\u001b[0m\u001b[1m)\u001b[0m: \u001b[2mChange stream position.\u001b[0m                   \u001b[34m│\u001b[0m\n",
       "\u001b[34m│\u001b[0m       \u001b[3;33mseekable\u001b[0m = \u001b[3;96mdef \u001b[0m\u001b[1;31mseekable\u001b[0m\u001b[1m(\u001b[0m\u001b[1m)\u001b[0m: \u001b[2mReturn whether object supports random access.\u001b[0m            \u001b[34m│\u001b[0m\n",
       "\u001b[34m│\u001b[0m           \u001b[3;33mtell\u001b[0m = \u001b[3;96mdef \u001b[0m\u001b[1;31mtell\u001b[0m\u001b[1m(\u001b[0m\u001b[1m)\u001b[0m: \u001b[2mReturn current stream position.\u001b[0m                              \u001b[34m│\u001b[0m\n",
       "\u001b[34m│\u001b[0m       \u001b[3;33mtruncate\u001b[0m = \u001b[3;96mdef \u001b[0m\u001b[1;31mtruncate\u001b[0m\u001b[1m(\u001b[0m\u001b[33mpos\u001b[0m=\u001b[3;35mNone\u001b[0m, \u001b[35m/\u001b[0m\u001b[1m)\u001b[0m: \u001b[2mTruncate file to size bytes.\u001b[0m                  \u001b[34m│\u001b[0m\n",
       "\u001b[34m│\u001b[0m       \u001b[3;33mwritable\u001b[0m = \u001b[3;96mdef \u001b[0m\u001b[1;31mwritable\u001b[0m\u001b[1m(\u001b[0m\u001b[1m)\u001b[0m: \u001b[2mReturn whether object was opened for writing.\u001b[0m            \u001b[34m│\u001b[0m\n",
       "\u001b[34m│\u001b[0m          \u001b[3;33mwrite\u001b[0m = \u001b[3;96mdef \u001b[0m\u001b[1;31mwrite\u001b[0m\u001b[1m(\u001b[0mtext, \u001b[35m/\u001b[0m\u001b[1m)\u001b[0m:                                                      \u001b[34m│\u001b[0m\n",
       "\u001b[34m│\u001b[0m                  \u001b[2mWrite string to stream.\u001b[0m                                                  \u001b[34m│\u001b[0m\n",
       "\u001b[34m│\u001b[0m                  \u001b[2mReturns the number of characters written \u001b[0m\u001b[1;2m(\u001b[0m\u001b[2mwhich is always equal to\u001b[0m       \u001b[34m│\u001b[0m\n",
       "\u001b[34m│\u001b[0m                  \u001b[2mthe length of the string\u001b[0m\u001b[1;2m)\u001b[0m\u001b[2m.\u001b[0m                                               \u001b[34m│\u001b[0m\n",
       "\u001b[34m│\u001b[0m     \u001b[3;33mwritelines\u001b[0m = \u001b[3;96mdef \u001b[0m\u001b[1;31mwritelines\u001b[0m\u001b[1m(\u001b[0mlines, \u001b[35m/\u001b[0m\u001b[1m)\u001b[0m: \u001b[2mWrite a list of lines to stream.\u001b[0m               \u001b[34m│\u001b[0m\n",
       "\u001b[34m╰───────────────────────────────────────────────────────────────────────────────────────────╯\u001b[0m\n"
      ],
      "text/html": [
       "<pre style=\"white-space:pre;overflow-x:auto;line-height:normal;font-family:Menlo,'DejaVu Sans Mono',consolas,'Courier New',monospace\"><span style=\"color: #000080; text-decoration-color: #000080\">╭─────────────────────────────── </span><span style=\"color: #000080; text-decoration-color: #000080; font-weight: bold\">&lt;</span><span style=\"color: #ff00ff; text-decoration-color: #ff00ff; font-weight: bold\">class</span><span style=\"color: #000000; text-decoration-color: #000000\"> </span><span style=\"color: #008000; text-decoration-color: #008000\">'_io.TextIOWrapper'</span><span style=\"color: #000080; text-decoration-color: #000080; font-weight: bold\">&gt;</span><span style=\"color: #000080; text-decoration-color: #000080\"> ───────────────────────────────╮</span>\n",
       "<span style=\"color: #000080; text-decoration-color: #000080\">│</span> <span style=\"color: #008080; text-decoration-color: #008080\">Character and line based layer over a BufferedIOBase object, buffer.</span>                      <span style=\"color: #000080; text-decoration-color: #000080\">│</span>\n",
       "<span style=\"color: #000080; text-decoration-color: #000080\">│</span>                                                                                           <span style=\"color: #000080; text-decoration-color: #000080\">│</span>\n",
       "<span style=\"color: #000080; text-decoration-color: #000080\">│</span> <span style=\"color: #008000; text-decoration-color: #008000\">╭───────────────────────────────────────────────────────────────────────────────────────╮</span> <span style=\"color: #000080; text-decoration-color: #000080\">│</span>\n",
       "<span style=\"color: #000080; text-decoration-color: #000080\">│</span> <span style=\"color: #008000; text-decoration-color: #008000\">│</span> <span style=\"font-weight: bold\">&lt;</span><span style=\"color: #ff00ff; text-decoration-color: #ff00ff; font-weight: bold\">_io.TextIOWrapper</span><span style=\"color: #000000; text-decoration-color: #000000\"> </span><span style=\"color: #808000; text-decoration-color: #808000\">name</span><span style=\"color: #000000; text-decoration-color: #000000\">=</span><span style=\"color: #008000; text-decoration-color: #008000\">'arquivo1.txt'</span><span style=\"color: #000000; text-decoration-color: #000000\"> </span><span style=\"color: #808000; text-decoration-color: #808000\">mode</span><span style=\"color: #000000; text-decoration-color: #000000\">=</span><span style=\"color: #008000; text-decoration-color: #008000\">'wt+'</span><span style=\"color: #000000; text-decoration-color: #000000\"> </span><span style=\"color: #808000; text-decoration-color: #808000\">encoding</span><span style=\"color: #000000; text-decoration-color: #000000\">=</span><span style=\"color: #008000; text-decoration-color: #008000\">'cp1252'</span><span style=\"font-weight: bold\">&gt;</span>                  <span style=\"color: #008000; text-decoration-color: #008000\">│</span> <span style=\"color: #000080; text-decoration-color: #000080\">│</span>\n",
       "<span style=\"color: #000080; text-decoration-color: #000080\">│</span> <span style=\"color: #008000; text-decoration-color: #008000\">╰───────────────────────────────────────────────────────────────────────────────────────╯</span> <span style=\"color: #000080; text-decoration-color: #000080\">│</span>\n",
       "<span style=\"color: #000080; text-decoration-color: #000080\">│</span>                                                                                           <span style=\"color: #000080; text-decoration-color: #000080\">│</span>\n",
       "<span style=\"color: #000080; text-decoration-color: #000080\">│</span>         <span style=\"color: #808000; text-decoration-color: #808000; font-style: italic\">buffer</span> = <span style=\"font-weight: bold\">&lt;</span><span style=\"color: #ff00ff; text-decoration-color: #ff00ff; font-weight: bold\">_io.BufferedRandom</span><span style=\"color: #000000; text-decoration-color: #000000\"> </span><span style=\"color: #808000; text-decoration-color: #808000\">name</span><span style=\"color: #000000; text-decoration-color: #000000\">=</span><span style=\"color: #008000; text-decoration-color: #008000\">'arquivo1.txt'</span><span style=\"font-weight: bold\">&gt;</span>                                 <span style=\"color: #000080; text-decoration-color: #000080\">│</span>\n",
       "<span style=\"color: #000080; text-decoration-color: #000080\">│</span>         <span style=\"color: #808000; text-decoration-color: #808000; font-style: italic\">closed</span> = <span style=\"color: #ff0000; text-decoration-color: #ff0000; font-style: italic\">False</span>                                                                    <span style=\"color: #000080; text-decoration-color: #000080\">│</span>\n",
       "<span style=\"color: #000080; text-decoration-color: #000080\">│</span>       <span style=\"color: #808000; text-decoration-color: #808000; font-style: italic\">encoding</span> = <span style=\"color: #008000; text-decoration-color: #008000\">'cp1252'</span>                                                                 <span style=\"color: #000080; text-decoration-color: #000080\">│</span>\n",
       "<span style=\"color: #000080; text-decoration-color: #000080\">│</span>         <span style=\"color: #808000; text-decoration-color: #808000; font-style: italic\">errors</span> = <span style=\"color: #008000; text-decoration-color: #008000\">'strict'</span>                                                                 <span style=\"color: #000080; text-decoration-color: #000080\">│</span>\n",
       "<span style=\"color: #000080; text-decoration-color: #000080\">│</span> <span style=\"color: #808000; text-decoration-color: #808000; font-style: italic\">line_buffering</span> = <span style=\"color: #ff0000; text-decoration-color: #ff0000; font-style: italic\">False</span>                                                                    <span style=\"color: #000080; text-decoration-color: #000080\">│</span>\n",
       "<span style=\"color: #000080; text-decoration-color: #000080\">│</span>           <span style=\"color: #808000; text-decoration-color: #808000; font-style: italic\">mode</span> = <span style=\"color: #008000; text-decoration-color: #008000\">'wt+'</span>                                                                    <span style=\"color: #000080; text-decoration-color: #000080\">│</span>\n",
       "<span style=\"color: #000080; text-decoration-color: #000080\">│</span>           <span style=\"color: #808000; text-decoration-color: #808000; font-style: italic\">name</span> = <span style=\"color: #008000; text-decoration-color: #008000\">'arquivo1.txt'</span>                                                           <span style=\"color: #000080; text-decoration-color: #000080\">│</span>\n",
       "<span style=\"color: #000080; text-decoration-color: #000080\">│</span>       <span style=\"color: #808000; text-decoration-color: #808000; font-style: italic\">newlines</span> = <span style=\"color: #800080; text-decoration-color: #800080; font-style: italic\">None</span>                                                                     <span style=\"color: #000080; text-decoration-color: #000080\">│</span>\n",
       "<span style=\"color: #000080; text-decoration-color: #000080\">│</span>  <span style=\"color: #808000; text-decoration-color: #808000; font-style: italic\">write_through</span> = <span style=\"color: #ff0000; text-decoration-color: #ff0000; font-style: italic\">False</span>                                                                    <span style=\"color: #000080; text-decoration-color: #000080\">│</span>\n",
       "<span style=\"color: #000080; text-decoration-color: #000080\">│</span>          <span style=\"color: #808000; text-decoration-color: #808000; font-style: italic\">close</span> = <span style=\"color: #00ffff; text-decoration-color: #00ffff; font-style: italic\">def </span><span style=\"color: #800000; text-decoration-color: #800000; font-weight: bold\">close</span><span style=\"font-weight: bold\">()</span>: <span style=\"color: #7f7f7f; text-decoration-color: #7f7f7f\">Flush and close the IO object.</span>                              <span style=\"color: #000080; text-decoration-color: #000080\">│</span>\n",
       "<span style=\"color: #000080; text-decoration-color: #000080\">│</span>         <span style=\"color: #808000; text-decoration-color: #808000; font-style: italic\">detach</span> = <span style=\"color: #00ffff; text-decoration-color: #00ffff; font-style: italic\">def </span><span style=\"color: #800000; text-decoration-color: #800000; font-weight: bold\">detach</span><span style=\"font-weight: bold\">()</span>: <span style=\"color: #7f7f7f; text-decoration-color: #7f7f7f\">Separate the underlying buffer from the TextIOBase and </span>    <span style=\"color: #000080; text-decoration-color: #000080\">│</span>\n",
       "<span style=\"color: #000080; text-decoration-color: #000080\">│</span>                  <span style=\"color: #7f7f7f; text-decoration-color: #7f7f7f\">return it.</span>                                                               <span style=\"color: #000080; text-decoration-color: #000080\">│</span>\n",
       "<span style=\"color: #000080; text-decoration-color: #000080\">│</span>         <span style=\"color: #808000; text-decoration-color: #808000; font-style: italic\">fileno</span> = <span style=\"color: #00ffff; text-decoration-color: #00ffff; font-style: italic\">def </span><span style=\"color: #800000; text-decoration-color: #800000; font-weight: bold\">fileno</span><span style=\"font-weight: bold\">()</span>: <span style=\"color: #7f7f7f; text-decoration-color: #7f7f7f\">Returns underlying file descriptor if one exists.</span>          <span style=\"color: #000080; text-decoration-color: #000080\">│</span>\n",
       "<span style=\"color: #000080; text-decoration-color: #000080\">│</span>          <span style=\"color: #808000; text-decoration-color: #808000; font-style: italic\">flush</span> = <span style=\"color: #00ffff; text-decoration-color: #00ffff; font-style: italic\">def </span><span style=\"color: #800000; text-decoration-color: #800000; font-weight: bold\">flush</span><span style=\"font-weight: bold\">()</span>: <span style=\"color: #7f7f7f; text-decoration-color: #7f7f7f\">Flush write buffers, if applicable.</span>                         <span style=\"color: #000080; text-decoration-color: #000080\">│</span>\n",
       "<span style=\"color: #000080; text-decoration-color: #000080\">│</span>         <span style=\"color: #808000; text-decoration-color: #808000; font-style: italic\">isatty</span> = <span style=\"color: #00ffff; text-decoration-color: #00ffff; font-style: italic\">def </span><span style=\"color: #800000; text-decoration-color: #800000; font-weight: bold\">isatty</span><span style=\"font-weight: bold\">()</span>: <span style=\"color: #7f7f7f; text-decoration-color: #7f7f7f\">Return whether this is an </span><span style=\"color: #7fbf7f; text-decoration-color: #7fbf7f\">'interactive'</span><span style=\"color: #7f7f7f; text-decoration-color: #7f7f7f\"> stream.</span>            <span style=\"color: #000080; text-decoration-color: #000080\">│</span>\n",
       "<span style=\"color: #000080; text-decoration-color: #000080\">│</span>           <span style=\"color: #808000; text-decoration-color: #808000; font-style: italic\">read</span> = <span style=\"color: #00ffff; text-decoration-color: #00ffff; font-style: italic\">def </span><span style=\"color: #800000; text-decoration-color: #800000; font-weight: bold\">read</span><span style=\"font-weight: bold\">(</span><span style=\"color: #808000; text-decoration-color: #808000\">size</span>=<span style=\"color: #008080; text-decoration-color: #008080; font-weight: bold\">-1</span>, <span style=\"color: #800080; text-decoration-color: #800080\">/</span><span style=\"font-weight: bold\">)</span>: <span style=\"color: #7f7f7f; text-decoration-color: #7f7f7f\">Read at most n characters from stream.</span>             <span style=\"color: #000080; text-decoration-color: #000080\">│</span>\n",
       "<span style=\"color: #000080; text-decoration-color: #000080\">│</span>       <span style=\"color: #808000; text-decoration-color: #808000; font-style: italic\">readable</span> = <span style=\"color: #00ffff; text-decoration-color: #00ffff; font-style: italic\">def </span><span style=\"color: #800000; text-decoration-color: #800000; font-weight: bold\">readable</span><span style=\"font-weight: bold\">()</span>: <span style=\"color: #7f7f7f; text-decoration-color: #7f7f7f\">Return whether object was opened for reading.</span>            <span style=\"color: #000080; text-decoration-color: #000080\">│</span>\n",
       "<span style=\"color: #000080; text-decoration-color: #000080\">│</span>       <span style=\"color: #808000; text-decoration-color: #808000; font-style: italic\">readline</span> = <span style=\"color: #00ffff; text-decoration-color: #00ffff; font-style: italic\">def </span><span style=\"color: #800000; text-decoration-color: #800000; font-weight: bold\">readline</span><span style=\"font-weight: bold\">(</span><span style=\"color: #808000; text-decoration-color: #808000\">size</span>=<span style=\"color: #008080; text-decoration-color: #008080; font-weight: bold\">-1</span>, <span style=\"color: #800080; text-decoration-color: #800080\">/</span><span style=\"font-weight: bold\">)</span>: <span style=\"color: #7f7f7f; text-decoration-color: #7f7f7f\">Read until newline or EOF.</span>                     <span style=\"color: #000080; text-decoration-color: #000080\">│</span>\n",
       "<span style=\"color: #000080; text-decoration-color: #000080\">│</span>      <span style=\"color: #808000; text-decoration-color: #808000; font-style: italic\">readlines</span> = <span style=\"color: #00ffff; text-decoration-color: #00ffff; font-style: italic\">def </span><span style=\"color: #800000; text-decoration-color: #800000; font-weight: bold\">readlines</span><span style=\"font-weight: bold\">(</span><span style=\"color: #808000; text-decoration-color: #808000\">hint</span>=<span style=\"color: #008080; text-decoration-color: #008080; font-weight: bold\">-1</span>, <span style=\"color: #800080; text-decoration-color: #800080\">/</span><span style=\"font-weight: bold\">)</span>: <span style=\"color: #7f7f7f; text-decoration-color: #7f7f7f\">Return a list of lines from the stream.</span>       <span style=\"color: #000080; text-decoration-color: #000080\">│</span>\n",
       "<span style=\"color: #000080; text-decoration-color: #000080\">│</span>    <span style=\"color: #808000; text-decoration-color: #808000; font-style: italic\">reconfigure</span> = <span style=\"color: #00ffff; text-decoration-color: #00ffff; font-style: italic\">def </span><span style=\"color: #800000; text-decoration-color: #800000; font-weight: bold\">reconfigure</span><span style=\"font-weight: bold\">(</span>*, <span style=\"color: #808000; text-decoration-color: #808000\">encoding</span>=<span style=\"color: #800080; text-decoration-color: #800080; font-style: italic\">None</span>, <span style=\"color: #808000; text-decoration-color: #808000\">errors</span>=<span style=\"color: #800080; text-decoration-color: #800080; font-style: italic\">None</span>, <span style=\"color: #808000; text-decoration-color: #808000\">newline</span>=<span style=\"color: #800080; text-decoration-color: #800080; font-style: italic\">None</span>,             <span style=\"color: #000080; text-decoration-color: #000080\">│</span>\n",
       "<span style=\"color: #000080; text-decoration-color: #000080\">│</span>                  <span style=\"color: #808000; text-decoration-color: #808000\">line_buffering</span>=<span style=\"color: #800080; text-decoration-color: #800080; font-style: italic\">None</span>, <span style=\"color: #808000; text-decoration-color: #808000\">write_through</span>=<span style=\"color: #800080; text-decoration-color: #800080; font-style: italic\">None</span><span style=\"font-weight: bold\">)</span>: <span style=\"color: #7f7f7f; text-decoration-color: #7f7f7f\">Reconfigure the text stream </span>   <span style=\"color: #000080; text-decoration-color: #000080\">│</span>\n",
       "<span style=\"color: #000080; text-decoration-color: #000080\">│</span>                  <span style=\"color: #7f7f7f; text-decoration-color: #7f7f7f\">with new parameters.</span>                                                     <span style=\"color: #000080; text-decoration-color: #000080\">│</span>\n",
       "<span style=\"color: #000080; text-decoration-color: #000080\">│</span>           <span style=\"color: #808000; text-decoration-color: #808000; font-style: italic\">seek</span> = <span style=\"color: #00ffff; text-decoration-color: #00ffff; font-style: italic\">def </span><span style=\"color: #800000; text-decoration-color: #800000; font-weight: bold\">seek</span><span style=\"font-weight: bold\">(</span>cookie, <span style=\"color: #808000; text-decoration-color: #808000\">whence</span>=<span style=\"color: #008080; text-decoration-color: #008080; font-weight: bold\">0</span>, <span style=\"color: #800080; text-decoration-color: #800080\">/</span><span style=\"font-weight: bold\">)</span>: <span style=\"color: #7f7f7f; text-decoration-color: #7f7f7f\">Change stream position.</span>                   <span style=\"color: #000080; text-decoration-color: #000080\">│</span>\n",
       "<span style=\"color: #000080; text-decoration-color: #000080\">│</span>       <span style=\"color: #808000; text-decoration-color: #808000; font-style: italic\">seekable</span> = <span style=\"color: #00ffff; text-decoration-color: #00ffff; font-style: italic\">def </span><span style=\"color: #800000; text-decoration-color: #800000; font-weight: bold\">seekable</span><span style=\"font-weight: bold\">()</span>: <span style=\"color: #7f7f7f; text-decoration-color: #7f7f7f\">Return whether object supports random access.</span>            <span style=\"color: #000080; text-decoration-color: #000080\">│</span>\n",
       "<span style=\"color: #000080; text-decoration-color: #000080\">│</span>           <span style=\"color: #808000; text-decoration-color: #808000; font-style: italic\">tell</span> = <span style=\"color: #00ffff; text-decoration-color: #00ffff; font-style: italic\">def </span><span style=\"color: #800000; text-decoration-color: #800000; font-weight: bold\">tell</span><span style=\"font-weight: bold\">()</span>: <span style=\"color: #7f7f7f; text-decoration-color: #7f7f7f\">Return current stream position.</span>                              <span style=\"color: #000080; text-decoration-color: #000080\">│</span>\n",
       "<span style=\"color: #000080; text-decoration-color: #000080\">│</span>       <span style=\"color: #808000; text-decoration-color: #808000; font-style: italic\">truncate</span> = <span style=\"color: #00ffff; text-decoration-color: #00ffff; font-style: italic\">def </span><span style=\"color: #800000; text-decoration-color: #800000; font-weight: bold\">truncate</span><span style=\"font-weight: bold\">(</span><span style=\"color: #808000; text-decoration-color: #808000\">pos</span>=<span style=\"color: #800080; text-decoration-color: #800080; font-style: italic\">None</span>, <span style=\"color: #800080; text-decoration-color: #800080\">/</span><span style=\"font-weight: bold\">)</span>: <span style=\"color: #7f7f7f; text-decoration-color: #7f7f7f\">Truncate file to size bytes.</span>                  <span style=\"color: #000080; text-decoration-color: #000080\">│</span>\n",
       "<span style=\"color: #000080; text-decoration-color: #000080\">│</span>       <span style=\"color: #808000; text-decoration-color: #808000; font-style: italic\">writable</span> = <span style=\"color: #00ffff; text-decoration-color: #00ffff; font-style: italic\">def </span><span style=\"color: #800000; text-decoration-color: #800000; font-weight: bold\">writable</span><span style=\"font-weight: bold\">()</span>: <span style=\"color: #7f7f7f; text-decoration-color: #7f7f7f\">Return whether object was opened for writing.</span>            <span style=\"color: #000080; text-decoration-color: #000080\">│</span>\n",
       "<span style=\"color: #000080; text-decoration-color: #000080\">│</span>          <span style=\"color: #808000; text-decoration-color: #808000; font-style: italic\">write</span> = <span style=\"color: #00ffff; text-decoration-color: #00ffff; font-style: italic\">def </span><span style=\"color: #800000; text-decoration-color: #800000; font-weight: bold\">write</span><span style=\"font-weight: bold\">(</span>text, <span style=\"color: #800080; text-decoration-color: #800080\">/</span><span style=\"font-weight: bold\">)</span>:                                                      <span style=\"color: #000080; text-decoration-color: #000080\">│</span>\n",
       "<span style=\"color: #000080; text-decoration-color: #000080\">│</span>                  <span style=\"color: #7f7f7f; text-decoration-color: #7f7f7f\">Write string to stream.</span>                                                  <span style=\"color: #000080; text-decoration-color: #000080\">│</span>\n",
       "<span style=\"color: #000080; text-decoration-color: #000080\">│</span>                  <span style=\"color: #7f7f7f; text-decoration-color: #7f7f7f\">Returns the number of characters written </span><span style=\"color: #7f7f7f; text-decoration-color: #7f7f7f; font-weight: bold\">(</span><span style=\"color: #7f7f7f; text-decoration-color: #7f7f7f\">which is always equal to</span>       <span style=\"color: #000080; text-decoration-color: #000080\">│</span>\n",
       "<span style=\"color: #000080; text-decoration-color: #000080\">│</span>                  <span style=\"color: #7f7f7f; text-decoration-color: #7f7f7f\">the length of the string</span><span style=\"color: #7f7f7f; text-decoration-color: #7f7f7f; font-weight: bold\">)</span><span style=\"color: #7f7f7f; text-decoration-color: #7f7f7f\">.</span>                                               <span style=\"color: #000080; text-decoration-color: #000080\">│</span>\n",
       "<span style=\"color: #000080; text-decoration-color: #000080\">│</span>     <span style=\"color: #808000; text-decoration-color: #808000; font-style: italic\">writelines</span> = <span style=\"color: #00ffff; text-decoration-color: #00ffff; font-style: italic\">def </span><span style=\"color: #800000; text-decoration-color: #800000; font-weight: bold\">writelines</span><span style=\"font-weight: bold\">(</span>lines, <span style=\"color: #800080; text-decoration-color: #800080\">/</span><span style=\"font-weight: bold\">)</span>: <span style=\"color: #7f7f7f; text-decoration-color: #7f7f7f\">Write a list of lines to stream.</span>               <span style=\"color: #000080; text-decoration-color: #000080\">│</span>\n",
       "<span style=\"color: #000080; text-decoration-color: #000080\">╰───────────────────────────────────────────────────────────────────────────────────────────╯</span>\n",
       "</pre>\n"
      ]
     },
     "metadata": {}
    }
   ],
   "metadata": {}
  },
  {
   "cell_type": "markdown",
   "source": [
    "# Criando Arquivo w(write) e x\r\n",
    "# .close()"
   ],
   "metadata": {}
  },
  {
   "cell_type": "code",
   "execution_count": 1,
   "source": [
    "# cria arquivo ou abre apagando os dados de qualquer arquivo existente\n",
    "a = open('arquivo1.txt', 'wt+') # w(write text) + (se não existir o arquivo crie) (t decodifica os caracteres Unicode-é default não precisa colocar)\n",
    "a.close()"
   ],
   "outputs": [],
   "metadata": {}
  },
  {
   "cell_type": "code",
   "execution_count": 14,
   "source": [
    "# cria arquivo, mas falha se o mesmo ja existir\n",
    "a = open('arquivo1.txt', 'x')\n",
    "a.close()"
   ],
   "outputs": [
    {
     "output_type": "error",
     "ename": "FileExistsError",
     "evalue": "[Errno 17] File exists: 'arquivo1.txt'",
     "traceback": [
      "\u001b[1;31m---------------------------------------------------------------------------\u001b[0m",
      "\u001b[1;31mFileExistsError\u001b[0m                           Traceback (most recent call last)",
      "\u001b[1;32m<ipython-input-14-8a8de0e8b4cd>\u001b[0m in \u001b[0;36m<module>\u001b[1;34m\u001b[0m\n\u001b[0;32m      1\u001b[0m \u001b[1;31m# cria arquivo, mas falha se o mesmo ja existir\u001b[0m\u001b[1;33m\u001b[0m\u001b[1;33m\u001b[0m\u001b[1;33m\u001b[0m\u001b[0m\n\u001b[1;32m----> 2\u001b[1;33m \u001b[0ma\u001b[0m \u001b[1;33m=\u001b[0m \u001b[0mopen\u001b[0m\u001b[1;33m(\u001b[0m\u001b[1;34m'arquivo1.txt'\u001b[0m\u001b[1;33m,\u001b[0m \u001b[1;34m'x'\u001b[0m\u001b[1;33m)\u001b[0m\u001b[1;33m\u001b[0m\u001b[1;33m\u001b[0m\u001b[0m\n\u001b[0m\u001b[0;32m      3\u001b[0m \u001b[0ma\u001b[0m\u001b[1;33m.\u001b[0m\u001b[0mclose\u001b[0m\u001b[1;33m(\u001b[0m\u001b[1;33m)\u001b[0m\u001b[1;33m\u001b[0m\u001b[1;33m\u001b[0m\u001b[0m\n",
      "\u001b[1;31mFileExistsError\u001b[0m: [Errno 17] File exists: 'arquivo1.txt'"
     ]
    }
   ],
   "metadata": {}
  },
  {
   "cell_type": "markdown",
   "source": [
    "# .writefile()\r\n",
    "Criar arquivo pelo Jupyter Notebook"
   ],
   "metadata": {}
  },
  {
   "cell_type": "code",
   "execution_count": 4,
   "source": [
    "%%writefile teste.txt\n",
    "Olá este arquivo foi gerado pelo próprio Jupyter Notebook.\n",
    "Podemos gerar quantas linhas quisermos e o Jupyter gera o arquivo final.\n",
    "la...\n",
    "la...."
   ],
   "outputs": [
    {
     "output_type": "stream",
     "name": "stdout",
     "text": [
      "Writing teste.txt\n"
     ]
    }
   ],
   "metadata": {}
  },
  {
   "cell_type": "markdown",
   "source": [
    "# Abrindo/Lendo arquivos r(read)"
   ],
   "metadata": {}
  },
  {
   "cell_type": "code",
   "execution_count": 1,
   "source": [
    "#Abre arquivo como leitura\n",
    "a = open('arquivo1.txt', 'r' ,encoding=\"utf-8\") # rt(read text) (,encoding=\"utf-8\")\n",
    "a.close()"
   ],
   "outputs": [],
   "metadata": {}
  },
  {
   "cell_type": "code",
   "execution_count": 15,
   "source": [
    "#Abre arquivo como escrita e não apaga o anterior\n",
    "a = open('arquivo1.txt', 'a') # at(append text)\n",
    "a.close()"
   ],
   "outputs": [],
   "metadata": {}
  },
  {
   "cell_type": "markdown",
   "source": [
    "# .read() e encoding=\"utf-8\"\r\n",
    "O método read() somente funciona se abrir o arquivo como leitura ('r')\r\n",
    "\r\n",
    "Ao abrir o arquivo com uma codificação diferente da que ele foi escrito, alguns caracteres podem apresentar erros, ou, em alguns sistemas operacionais, como no Mac OS, pode ser lançada uma exceção\r\n",
    "\r\n",
    "Tipos de encoding:\r\n",
    "https://docs.python.org/3/library/codecs.html#standard-encodings"
   ],
   "metadata": {}
  },
  {
   "cell_type": "code",
   "execution_count": 17,
   "source": [
    "arq4 = open(\"teste.txt\", 'r',encoding=\"utf-8\")\n",
    "print(arq4.read())\n"
   ],
   "outputs": [
    {
     "output_type": "stream",
     "name": "stdout",
     "text": [
      "Olá este arquivo foi gerado pelo próprio Jupyter Notebook.\n",
      "Podemos gerar quantas linhas quisermos e o Jupyter gera o arquivo final.\n",
      "la...\n",
      "la....\n",
      "\n"
     ]
    }
   ],
   "metadata": {}
  },
  {
   "cell_type": "code",
   "execution_count": 19,
   "source": [
    "a = open('arquivo1.txt', 'rt',encoding=\"utf-8\") # (,encoding=\"utf-8\") mostra as acentuações\n",
    "print(a.read())\n",
    "a = open('arquivo1.txt', 'rt')\n",
    "print(a.read())\n",
    "a.close()"
   ],
   "outputs": [
    {
     "output_type": "stream",
     "name": "stdout",
     "text": [
      "Python é uma linguagem poderosa!Editando arquivo\n",
      "Python Ã© uma linguagem poderosa!Editando arquivo\n"
     ]
    }
   ],
   "metadata": {}
  },
  {
   "cell_type": "code",
   "execution_count": 20,
   "source": [
    "a = open('arquivo1.txt', 'rt',encoding=\"utf-8\")\n",
    "print(a.read(3)) # Lendo os três primeiros caracteres\n",
    "a.close()"
   ],
   "outputs": [
    {
     "output_type": "stream",
     "name": "stdout",
     "text": [
      "Pyt\n"
     ]
    }
   ],
   "metadata": {}
  },
  {
   "cell_type": "markdown",
   "source": [
    "# .read() e encoding=\"latin_1\"\r\n",
    "O método read() somente funciona se abrir o arquivo como leitura ('r')\r\n",
    "\r\n",
    "Ao abrir o arquivo com uma codificação diferente da que ele foi escrito, alguns caracteres podem apresentar erros, ou, em alguns sistemas operacionais, como no Mac OS, pode ser lançada uma exceção\r\n",
    "\r\n",
    "Tipos de encoding:\r\n",
    "https://docs.python.org/3/library/codecs.html#standard-encodings"
   ],
   "metadata": {}
  },
  {
   "cell_type": "code",
   "execution_count": 3,
   "source": [
    "a = open('contatos.csv', encoding='latin_1')\r\n",
    "print(a.read())\r\n",
    "a.close()"
   ],
   "outputs": [
    {
     "output_type": "stream",
     "name": "stdout",
     "text": [
      "1,Guilherme,guilherme@guilherme.com.br\n",
      "2,Elias,elias@elias.com.br\n",
      "3,Gabriel,gabriel@gabriel.com.br\n",
      "4,Anderson,anderson@anderson.com.br\n",
      "5,Alex,alex@alex.com.br\n",
      "6,Vini,vini@vini.com.br\n",
      "7,Letícia,leticia@leticia.com.br\n",
      "8,Giulia,giulia@giulia.com.br\n",
      "9,Felipe,felipe@felipe.com.br\n",
      "10,Luísa,luisa@luisa\n",
      "\n"
     ]
    }
   ],
   "metadata": {}
  },
  {
   "cell_type": "markdown",
   "source": [
    "# .readlines()\r\n",
    "readlines ler linha por linha e coloca em uma lista"
   ],
   "metadata": {}
  },
  {
   "cell_type": "code",
   "execution_count": 21,
   "source": [
    "a = open(\"teste.txt\", 'r',encoding=\"utf-8\")\n",
    "print(a.read())\n",
    "a.seek(0)\n",
    "print(a.readlines())\n",
    "a.close()"
   ],
   "outputs": [
    {
     "output_type": "stream",
     "name": "stdout",
     "text": [
      "Olá este arquivo foi gerado pelo próprio Jupyter Notebook.\n",
      "Podemos gerar quantas linhas quisermos e o Jupyter gera o arquivo final.\n",
      "la...\n",
      "la....\n",
      "\n",
      "['Olá este arquivo foi gerado pelo próprio Jupyter Notebook.\\n', 'Podemos gerar quantas linhas quisermos e o Jupyter gera o arquivo final.\\n', 'la...\\n', 'la....\\n']\n"
     ]
    }
   ],
   "metadata": {}
  },
  {
   "cell_type": "markdown",
   "source": [
    "# readline() Vs readlines()\r\n",
    "\r\n",
    "readline() - ler somente uma linha\r\n",
    "\r\n",
    "readlines() - coloca todas as linhas em um lista"
   ],
   "metadata": {}
  },
  {
   "cell_type": "code",
   "execution_count": 8,
   "source": [
    "# Testando readline()\r\n",
    "from sys import getsizeof\r\n",
    "\r\n",
    "with open('contatos.csv', 'r', encoding='latin_1') as a:\r\n",
    "    conteudo = a.readline()\r\n",
    "print(conteudo)\r\n",
    "print(f'conteudo = {getsizeof(conteudo)} bytes')"
   ],
   "outputs": [
    {
     "output_type": "stream",
     "name": "stdout",
     "text": [
      "1,Guilherme,guilherme@guilherme.com.br\n",
      "\n",
      "conteudo = 88 bytes\n"
     ]
    }
   ],
   "metadata": {}
  },
  {
   "cell_type": "code",
   "execution_count": 9,
   "source": [
    "# Testando readlines()\r\n",
    "from sys import getsizeof\r\n",
    "\r\n",
    "with open('contatos.csv', 'r', encoding='latin_1') as a:\r\n",
    "    conteudo = a.readlines()\r\n",
    "print(conteudo)\r\n",
    "print(f'conteudo = {getsizeof(conteudo)} bytes')"
   ],
   "outputs": [
    {
     "output_type": "stream",
     "name": "stdout",
     "text": [
      "['1,Guilherme,guilherme@guilherme.com.br\\n', '2,Elias,elias@elias.com.br\\n', '3,Gabriel,gabriel@gabriel.com.br\\n', '4,Anderson,anderson@anderson.com.br\\n', '5,Alex,alex@alex.com.br\\n', '6,Vini,vini@vini.com.br\\n', '7,Letícia,leticia@leticia.com.br\\n', '8,Giulia,giulia@giulia.com.br\\n', '9,Felipe,felipe@felipe.com.br\\n', '10,Luísa,luisa@luisa\\n']\n",
      "conteudo = 184 bytes\n"
     ]
    }
   ],
   "metadata": {}
  },
  {
   "cell_type": "markdown",
   "source": [
    "# .seek()"
   ],
   "metadata": {}
  },
  {
   "cell_type": "code",
   "execution_count": 18,
   "source": [
    "arq4 = open(\"teste.txt\", 'r',encoding=\"utf-8\")\n",
    "print(f'Lendo o arquivo a primeira vez:\\n\\n{arq4.read()}')\n",
    "print(f'Tentando ler novamente e não conseguimos\\n\\n{arq4.read()}') # como ja lemos o arquivo ate o final temos que retornar com seek()\n",
    "arq4.seek(0)\n",
    "print(f'Após o uso do seek conseguimos ler novamente!\\n\\n{arq4.read()}')"
   ],
   "outputs": [
    {
     "output_type": "stream",
     "name": "stdout",
     "text": [
      "Lendo o arquivo a primeira vez:\n",
      "\n",
      "Olá este arquivo foi gerado pelo próprio Jupyter Notebook.\n",
      "Podemos gerar quantas linhas quisermos e o Jupyter gera o arquivo final.\n",
      "la...\n",
      "la....\n",
      "\n",
      "Tentando ler novamente e não conseguimos\n",
      "\n",
      "\n",
      "Após o uso do seek conseguimos ler novamente!\n",
      "\n",
      "Olá este arquivo foi gerado pelo próprio Jupyter Notebook.\n",
      "Podemos gerar quantas linhas quisermos e o Jupyter gera o arquivo final.\n",
      "la...\n",
      "la....\n",
      "\n"
     ]
    }
   ],
   "metadata": {}
  },
  {
   "cell_type": "markdown",
   "source": [
    "# .split()\r\n",
    "separar os caracteres"
   ],
   "metadata": {}
  },
  {
   "cell_type": "code",
   "execution_count": 23,
   "source": [
    "# separando caracteres por linhas\n",
    "f = open('salarios.csv', 'r')\n",
    "data = f.read()\n",
    "rows = data.split('\\n') # '\\n' é um espaço separamos por espaço\n",
    "print(rows) # cada '' é uma linha\n",
    "f.close()"
   ],
   "outputs": [
    {
     "output_type": "stream",
     "name": "stdout",
     "text": [
      "['Name,Position Title,Department,Employee Annual Salary', '\"AARON,  ELVIA J\",WATER RATE TAKER,WATER MGMNT,$88967.00', '\"ABDELMAJEID,  AZIZ\",POLICE OFFICER,POLICE,$80778.00', '\"ABDOLLAHZADEH,  ALI\",FIREFIGHTER/PARAMEDIC,FIRE,$87720.00', '\"ABDUL-KARIM,  MUHAMMAD A\",ENGINEERING TECHNICIAN VI,WATER MGMNT,$106104.00', '\"ABDULLAH,  DANIEL N\",FIREFIGHTER-EMT,FIRE,$91764.00', '\"ABDULLAH,  KEVIN\",LIEUTENANT,FIRE,$110370.00', '\"ABDULLAH,  LAKENYA N\",CROSSING GUARD,POLICE,$16692.00', '\"ABDULLAH,  RASHAD J\",ELECTRICAL MECHANIC-AUTO-POLICE MTR MNT,GENERAL SERVICES,$91520.00', '\"ABDUL-SHAKUR,  TAHIR\",GENERAL LABORER - DSS,STREETS & SAN,$40560.00']\n"
     ]
    }
   ],
   "metadata": {}
  },
  {
   "cell_type": "code",
   "execution_count": 24,
   "source": [
    "# separando caracteres por colunas\n",
    "f = open('salarios.csv', 'r')\n",
    "data = f.read()\n",
    "rows = data.split('\\n') # '\\n' é um espaço separamos por espaço\n",
    "dados = []\n",
    "for row in rows:\n",
    "    split_row = row.split(',') # agora dentro de '' vamos separar por \",\" pois o arquivo é um csv\n",
    "    dados.append(split_row)\n",
    "\n",
    "print(dados)\n",
    "f.close()"
   ],
   "outputs": [
    {
     "output_type": "stream",
     "name": "stdout",
     "text": [
      "[['Name', 'Position Title', 'Department', 'Employee Annual Salary'], ['\"AARON', '  ELVIA J\"', 'WATER RATE TAKER', 'WATER MGMNT', '$88967.00'], ['\"ABDELMAJEID', '  AZIZ\"', 'POLICE OFFICER', 'POLICE', '$80778.00'], ['\"ABDOLLAHZADEH', '  ALI\"', 'FIREFIGHTER/PARAMEDIC', 'FIRE', '$87720.00'], ['\"ABDUL-KARIM', '  MUHAMMAD A\"', 'ENGINEERING TECHNICIAN VI', 'WATER MGMNT', '$106104.00'], ['\"ABDULLAH', '  DANIEL N\"', 'FIREFIGHTER-EMT', 'FIRE', '$91764.00'], ['\"ABDULLAH', '  KEVIN\"', 'LIEUTENANT', 'FIRE', '$110370.00'], ['\"ABDULLAH', '  LAKENYA N\"', 'CROSSING GUARD', 'POLICE', '$16692.00'], ['\"ABDULLAH', '  RASHAD J\"', 'ELECTRICAL MECHANIC-AUTO-POLICE MTR MNT', 'GENERAL SERVICES', '$91520.00'], ['\"ABDUL-SHAKUR', '  TAHIR\"', 'GENERAL LABORER - DSS', 'STREETS & SAN', '$40560.00']]\n"
     ]
    }
   ],
   "metadata": {}
  },
  {
   "cell_type": "markdown",
   "source": [
    "# .tell()\r\n",
    "Contar o número de caracteres"
   ],
   "metadata": {}
  },
  {
   "cell_type": "code",
   "execution_count": 25,
   "source": [
    "a = open('arquivo1.txt', 'r', encoding=\"utf-8\") \n",
    "a.read() # Se não ler o mesmo o .tell() não funciona\n",
    "print(a.tell())\n",
    "a.close()"
   ],
   "outputs": [
    {
     "output_type": "stream",
     "name": "stdout",
     "text": [
      "49\n"
     ]
    }
   ],
   "metadata": {}
  },
  {
   "cell_type": "markdown",
   "source": [
    "# .flush()\r\n",
    "Uma característica de quando a gente está trabalhando com escrita de arquivo no Python. A gente precisa fechar o arquivo para indicar que a gente não está mais trabalhando com ele. Somente após fechar é que as edições serão salvas, mas e se não podermos fechar o arquivo?\r\n",
    "\r\n",
    "Com método **flush**, os dados vão ser escritos, porém o arquivo vai continuar aberto."
   ],
   "metadata": {}
  },
  {
   "cell_type": "code",
   "execution_count": 5,
   "source": [
    "arquivos_contatos = open('contatos.csv', mode='a', encoding='latin_1')\r\n",
    "\r\n",
    "novo_contato = '11,Livio,livio@livio.com.br\\n'\r\n",
    "\r\n",
    "arquivos_contatos.write(novo_contato)\r\n",
    "\r\n",
    "arquivos_contatos.flush()\r\n",
    "\r\n",
    "arquivos_contatos.close()\r\n"
   ],
   "outputs": [],
   "metadata": {}
  },
  {
   "cell_type": "markdown",
   "source": [
    "# .with open\r\n",
    "O método close() é executado automaticamente"
   ],
   "metadata": {}
  },
  {
   "cell_type": "code",
   "execution_count": 28,
   "source": [
    "with open('arquivo1.txt', 'r', encoding=\"utf-8\") as a:\n",
    "    conteudo = a.read()\n",
    "print(conteudo)"
   ],
   "outputs": [
    {
     "output_type": "stream",
     "name": "stdout",
     "text": [
      "Python é uma linguagem poderosa!Editando arquivo\n"
     ]
    }
   ],
   "metadata": {}
  },
  {
   "cell_type": "markdown",
   "source": [
    "# Escrevendo no arquivos a(append)"
   ],
   "metadata": {}
  },
  {
   "cell_type": "code",
   "execution_count": 35,
   "source": [
    "with open('arquivo1.txt', 'a', encoding=\"utf-8\") as a:\n",
    "    a.write('\\nEditando arquivo!!!') #\\n é um enter, se iniciarmos com ele daremos um enter e apos isso escreveremos.\n",
    "# a.read() se usar este comando ira dar erro, lembre-se que .read() somente se abrir o arquivo como leitura ('r')\n",
    "with open('arquivo1.txt', 'r', encoding=\"utf-8\") as a:\n",
    "    print(a.read())"
   ],
   "outputs": [
    {
     "output_type": "stream",
     "name": "stdout",
     "text": [
      "Python é uma linguagem poderosa!Editando arquivo\n",
      "Editando arquivo!!!\n",
      "Editando arquivo!!!\n",
      "Editando arquivo!!!\n",
      "Editando arquivo!!!\n",
      "Editando arquivo!!!\n",
      "Editando arquivo!!!\n"
     ]
    }
   ],
   "metadata": {}
  },
  {
   "cell_type": "markdown",
   "source": [
    "# Trabalhando em modo b(binário) (imagens)"
   ],
   "metadata": {}
  },
  {
   "cell_type": "code",
   "execution_count": 2,
   "source": [
    "# criando uma copia da imagem python-logo.png\n",
    "with open(\"python-logo.png\", \"rb\") as imagem:\n",
    "    data = imagem.read()\n",
    "\n",
    "with open(\"python-logo2.png\", \"wb\") as imagem2:\n",
    "    imagem2.write(data)\n"
   ],
   "outputs": [],
   "metadata": {
    "tags": []
   }
  },
  {
   "cell_type": "markdown",
   "source": [
    "# Lendo arquivos linha a linha e protegendo uso de memoria"
   ],
   "metadata": {}
  },
  {
   "cell_type": "code",
   "execution_count": 28,
   "source": [
    "from sys import getsizeof\r\n",
    "\r\n",
    "with open('contatos.csv', 'r', encoding='latin_1') as a:\r\n",
    "    for numero, linha in enumerate(a):\r\n",
    "        print(f'Imprimindo linha {numero} | {getsizeof(linha)}-bytes\\n {linha}', end='')"
   ],
   "outputs": [
    {
     "output_type": "stream",
     "name": "stdout",
     "text": [
      "Imprimindo linha 0 | 88-bytes\n",
      " 1,Guilherme,guilherme@guilherme.com.br\n",
      "Imprimindo linha 1 | 76-bytes\n",
      " 2,Elias,elias@elias.com.br\n",
      "Imprimindo linha 2 | 82-bytes\n",
      " 3,Gabriel,gabriel@gabriel.com.br\n",
      "Imprimindo linha 3 | 85-bytes\n",
      " 4,Anderson,anderson@anderson.com.br\n",
      "Imprimindo linha 4 | 73-bytes\n",
      " 5,Alex,alex@alex.com.br\n",
      "Imprimindo linha 5 | 73-bytes\n",
      " 6,Vini,vini@vini.com.br\n",
      "Imprimindo linha 6 | 108-bytes\n",
      " 7,Letï¿½cia,leticia@leticia.com.br\n",
      "Imprimindo linha 7 | 79-bytes\n",
      " 8,Giulia,giulia@giulia.com.br\n",
      "Imprimindo linha 8 | 79-bytes\n",
      " 9,Felipe,felipe@felipe.com.br\n",
      "Imprimindo linha 9 | 96-bytes\n",
      " 10,Luï¿½sa,luisa@luisa\n",
      "Imprimindo linha 10 | 77-bytes\n",
      " 11,Livio,livio@livio.com.br\n"
     ]
    }
   ],
   "metadata": {}
  },
  {
   "cell_type": "markdown",
   "source": [
    "# Erros comuns ao tentar abrir um arquivo.\r\n",
    "\r\n",
    "1. **FileNotFoundError** - Não encontrar o arquivo no local especificado.\r\n",
    "\r\n",
    "1. **PermissionError** - Não tem permissão de escrita/criação no diretorio."
   ],
   "metadata": {}
  },
  {
   "cell_type": "markdown",
   "source": [
    "## try + finally"
   ],
   "metadata": {}
  },
  {
   "cell_type": "code",
   "execution_count": 15,
   "source": [
    "# Tratando erros com try:\r\n",
    "try:\r\n",
    "    arquivo = open('contatos.csv', mode='a+', encoding='latin_1')\r\n",
    "    # Em mode='a' o arquivo abre na ultima linha, colocamos seek(0) para retornar a 1ª linha\r\n",
    "    #  assim o readlines funcionar.\r\n",
    "    arquivo.seek(0)\r\n",
    "    conteudo = arquivo.readlines()\r\n",
    "    print(conteudo)\r\n",
    "\r\n",
    "# finally será executando sempre, é comum colocarmos este tratamento para fechar o arquivo, \r\n",
    "#  apos o uso. Assim liberando o mesmo para outras pessoas.\r\n",
    "finally:\r\n",
    "    arquivo.close()\r\n"
   ],
   "outputs": [
    {
     "output_type": "stream",
     "name": "stdout",
     "text": [
      "['1,Guilherme,guilherme@guilherme.com.br\\n', '2,Elias,elias@elias.com.br\\n', '3,Gabriel,gabriel@gabriel.com.br\\n', '4,Anderson,anderson@anderson.com.br\\n', '5,Alex,alex@alex.com.br\\n', '6,Vini,vini@vini.com.br\\n', '7,Letï¿½cia,leticia@leticia.com.br\\n', '8,Giulia,giulia@giulia.com.br\\n', '9,Felipe,felipe@felipe.com.br\\n', '10,Luï¿½sa,luisa@luisa\\n', '11,Livio,livio@livio.com.br\\n']\n"
     ]
    }
   ],
   "metadata": {}
  },
  {
   "cell_type": "markdown",
   "source": [
    "## simulando FileNotFoundError\r\n",
    "\r\n",
    "* Modificando o nome do arquivo para um arquivo que não existe.\r\n",
    "* Abrindo em mode='r', pois em w e a se não existir o arquivo o Python cria"
   ],
   "metadata": {}
  },
  {
   "cell_type": "code",
   "execution_count": 17,
   "source": [
    "try:\r\n",
    "    arquivo = open('arquivo_nao_existe.csv', mode='r', encoding='latin_1')\r\n",
    "    arquivo.seek(0)\r\n",
    "    conteudo = arquivo.readlines()\r\n",
    "    print(conteudo)\r\n",
    "\r\n",
    "finally:\r\n",
    "    arquivo.close()"
   ],
   "outputs": [
    {
     "output_type": "error",
     "ename": "FileNotFoundError",
     "evalue": "[Errno 2] No such file or directory: 'arquivo_nao_existe.csv'",
     "traceback": [
      "\u001b[1;31m---------------------------------------------------------------------------\u001b[0m",
      "\u001b[1;31mFileNotFoundError\u001b[0m                         Traceback (most recent call last)",
      "\u001b[1;32m<ipython-input-17-13c66ac0315f>\u001b[0m in \u001b[0;36m<module>\u001b[1;34m\u001b[0m\n\u001b[0;32m      1\u001b[0m \u001b[1;32mtry\u001b[0m\u001b[1;33m:\u001b[0m\u001b[1;33m\u001b[0m\u001b[1;33m\u001b[0m\u001b[0m\n\u001b[1;32m----> 2\u001b[1;33m     \u001b[0marquivo\u001b[0m \u001b[1;33m=\u001b[0m \u001b[0mopen\u001b[0m\u001b[1;33m(\u001b[0m\u001b[1;34m'arquivo_nao_existe.csv'\u001b[0m\u001b[1;33m,\u001b[0m \u001b[0mmode\u001b[0m\u001b[1;33m=\u001b[0m\u001b[1;34m'r'\u001b[0m\u001b[1;33m,\u001b[0m \u001b[0mencoding\u001b[0m\u001b[1;33m=\u001b[0m\u001b[1;34m'latin_1'\u001b[0m\u001b[1;33m)\u001b[0m\u001b[1;33m\u001b[0m\u001b[1;33m\u001b[0m\u001b[0m\n\u001b[0m\u001b[0;32m      3\u001b[0m     \u001b[0marquivo\u001b[0m\u001b[1;33m.\u001b[0m\u001b[0mseek\u001b[0m\u001b[1;33m(\u001b[0m\u001b[1;36m0\u001b[0m\u001b[1;33m)\u001b[0m\u001b[1;33m\u001b[0m\u001b[1;33m\u001b[0m\u001b[0m\n\u001b[0;32m      4\u001b[0m     \u001b[0mconteudo\u001b[0m \u001b[1;33m=\u001b[0m \u001b[0marquivo\u001b[0m\u001b[1;33m.\u001b[0m\u001b[0mreadlines\u001b[0m\u001b[1;33m(\u001b[0m\u001b[1;33m)\u001b[0m\u001b[1;33m\u001b[0m\u001b[1;33m\u001b[0m\u001b[0m\n\u001b[0;32m      5\u001b[0m     \u001b[0mprint\u001b[0m\u001b[1;33m(\u001b[0m\u001b[0mconteudo\u001b[0m\u001b[1;33m)\u001b[0m\u001b[1;33m\u001b[0m\u001b[1;33m\u001b[0m\u001b[0m\n",
      "\u001b[1;31mFileNotFoundError\u001b[0m: [Errno 2] No such file or directory: 'arquivo_nao_existe.csv'"
     ]
    }
   ],
   "metadata": {}
  },
  {
   "cell_type": "markdown",
   "source": [
    "### Solução com except FileNotFoundError:\r\n",
    "\r\n",
    "**Agora nosso script não quebra caso não encontre o arquivo**"
   ],
   "metadata": {}
  },
  {
   "cell_type": "code",
   "execution_count": 22,
   "source": [
    "try:\r\n",
    "    arquivo = open('arquivo_nao_existe.csv', mode='r', encoding='latin_1')\r\n",
    "    arquivo.seek(0)\r\n",
    "    conteudo = arquivo.readlines()\r\n",
    "    print(conteudo)\r\n",
    "\r\n",
    "except FileNotFoundError:\r\n",
    "    print('Arquivo não encontrado')\r\n",
    "    \r\n",
    "except PermissionError:\r\n",
    "    print('Sem permissão de escrita')\r\n",
    "\r\n",
    "finally:\r\n",
    "    arquivo.close()"
   ],
   "outputs": [
    {
     "output_type": "stream",
     "name": "stdout",
     "text": [
      "Arquivo não encontrado\n"
     ]
    }
   ],
   "metadata": {}
  },
  {
   "cell_type": "markdown",
   "source": [
    "### Substituindo finally por with\r\n",
    "\r\n",
    "* with fecha automaticamente um arquivo\r\n",
    "* usando Lists Comprehensions simples para imprimir linha a linha\r\n",
    "\r\n",
    "> Utilizamos o comando with para gerenciar o contexto de utilização do arquivo. Além de arquivos, podemos utilizar o with para gerenciar processos que precisam de uma pré e pós condição de execução; por exemplo: abrir e fechar o arquivo, realizar conexão com o banco de dados, sockets, entre outros.\r\n",
    "\r\n",
    "> O objeto que está sendo manipulado pelo with precisa implementar dois métodos mágicos: \\_\\_enter__() e \\_\\_exit__().\r\n",
    "\r\n",
    "> O método \\_\\_enter__() é executado logo no início da chamada da função e retorna uma representação do objeto que está sendo executada no contexto (ou context guard). Ao final, o método \\_\\_exit__() é invocado, e o contexto da execução, finalizado."
   ],
   "metadata": {}
  },
  {
   "cell_type": "code",
   "execution_count": 43,
   "source": [
    "try:\r\n",
    "    with open('contatos.csv', mode='r', encoding='latin_1') as arquivo:\r\n",
    "        [print(linha, end='') for linha in arquivo]\r\n",
    "\r\n",
    "except FileNotFoundError:\r\n",
    "    print('Arquivo não encontrado')\r\n",
    "    \r\n",
    "except PermissionError:\r\n",
    "    print('Sem permissão de escrita')\r\n"
   ],
   "outputs": [
    {
     "output_type": "stream",
     "name": "stdout",
     "text": [
      "1,Guilherme,guilherme@guilherme.com.br\n",
      "2,Elias,elias@elias.com.br\n",
      "3,Gabriel,gabriel@gabriel.com.br\n",
      "4,Anderson,anderson@anderson.com.br\n",
      "5,Alex,alex@alex.com.br\n",
      "6,Vini,vini@vini.com.br\n",
      "7,Letï¿½cia,leticia@leticia.com.br\n",
      "8,Giulia,giulia@giulia.com.br\n",
      "9,Felipe,felipe@felipe.com.br\n",
      "10,Luï¿½sa,luisa@luisa\n",
      "11,Livio,livio@livio.com.br\n"
     ]
    }
   ],
   "metadata": {}
  },
  {
   "cell_type": "markdown",
   "source": [
    "# De csv p/ Python\r\n",
    "\r\n",
    "* converter um arquivo csv para um objeto list no python\r\n",
    "* usando modulo csv\r\n",
    "* criando uma função"
   ],
   "metadata": {}
  },
  {
   "cell_type": "markdown",
   "source": [
    "## Criando uma class contatos"
   ],
   "metadata": {}
  },
  {
   "cell_type": "code",
   "execution_count": 55,
   "source": [
    "class Contato():\r\n",
    "    def __init__(self, id: int, nome: str, email: str):\r\n",
    "        self.id = id\r\n",
    "        self.nome = nome\r\n",
    "        self.email = email\r\n"
   ],
   "outputs": [],
   "metadata": {}
  },
  {
   "cell_type": "markdown",
   "source": [
    "## Criando uma função csv para list python"
   ],
   "metadata": {}
  },
  {
   "cell_type": "code",
   "execution_count": 56,
   "source": [
    "import csv\r\n",
    "\r\n",
    "def csv_para_contatos(caminho: str, encoding: str = 'Latin_1'):\r\n",
    "    contatos: list = []\r\n",
    "    try:\r\n",
    "        with open(caminho, encoding=encoding) as a:\r\n",
    "            leitor = csv.reader(a)\r\n",
    "            for linha in leitor:\r\n",
    "                id, nome, email = linha # desencapsulando\r\n",
    "                \r\n",
    "                contato = Contato(int(id), nome, email)\r\n",
    "                contatos.append(contato)\r\n",
    "\r\n",
    "        return contatos\r\n",
    "    \r\n",
    "    except FileNotFoundError:\r\n",
    "        print('Arquivo não encontrado')\r\n",
    "    \r\n",
    "    except PermissionError:\r\n",
    "        print('Sem permissão de escrita')"
   ],
   "outputs": [],
   "metadata": {}
  },
  {
   "cell_type": "markdown",
   "source": [
    "## Testando com arquivo contatos.csv"
   ],
   "metadata": {}
  },
  {
   "cell_type": "code",
   "execution_count": 67,
   "source": [
    "contatos = csv_para_contatos('contatos.csv')\r\n",
    "\r\n",
    "lista = [print(f'{contato.id} - {contato.nome} - {contato.email}') for contato in contatos]"
   ],
   "outputs": [
    {
     "output_type": "stream",
     "name": "stdout",
     "text": [
      "1 - Guilherme - guilherme@guilherme.com.br\n",
      "2 - Elias - elias@elias.com.br\n",
      "3 - Gabriel - gabriel@gabriel.com.br\n",
      "4 - Anderson - anderson@anderson.com.br\n",
      "5 - Alex - alex@alex.com.br\n",
      "6 - Vini - vini@vini.com.br\n",
      "7 - Letï¿½cia - leticia@leticia.com.br\n",
      "8 - Giulia - giulia@giulia.com.br\n",
      "9 - Felipe - felipe@felipe.com.br\n",
      "10 - Luï¿½sa - luisa@luisa\n",
      "11 - Livio - livio@livio.com.br\n"
     ]
    }
   ],
   "metadata": {}
  },
  {
   "cell_type": "markdown",
   "source": [
    "# De objeto Python para json\r\n",
    "\r\n",
    "* converter um objeto python para um arquivo json\r\n",
    "* usando modulo json\r\n",
    "* criando uma função"
   ],
   "metadata": {}
  },
  {
   "cell_type": "markdown",
   "source": [
    "## Criando uma função objeto python para json"
   ],
   "metadata": {}
  },
  {
   "cell_type": "code",
   "execution_count": 71,
   "source": [
    "import json\r\n",
    "\r\n",
    "# escrita\r\n",
    "def contatos_para_json(contatos, caminho: str):\r\n",
    "    try:\r\n",
    "        with open(caminho, mode='w') as a:\r\n",
    "            json.dump(contatos, a, default=__contato_para_json)\r\n",
    "    \r\n",
    "    except FileNotFoundError:\r\n",
    "        print('Arquivo não encontrado')\r\n",
    "    \r\n",
    "    except PermissionError:\r\n",
    "        print('Sem permissão de escrita')\r\n",
    "        \r\n",
    "def __contato_para_json(contato):\r\n",
    "    return contato.__dict__\r\n",
    "\r\n",
    "# leitura\r\n",
    "def json_para_contatos(caminho: str):\r\n",
    "    contatos = []\r\n",
    "    \r\n",
    "    try:\r\n",
    "        with open(caminho, mode='r') as a:\r\n",
    "            contatos_json = json.load(a)\r\n",
    "            # Contato(contato['id'], contato['nome'], contato['email']) = Contato(**contato)\r\n",
    "            #  assim estariamos desempacotando\r\n",
    "            [contatos.append(Contato(contato['id'], contato['nome'], contato['email']))\r\n",
    "             for contato in contatos_json]\r\n",
    "        \r\n",
    "        return contatos\r\n",
    "    \r\n",
    "    except FileNotFoundError:\r\n",
    "        print('Arquivo não encontrado')\r\n",
    "    \r\n",
    "    except PermissionError:\r\n",
    "        print('Sem permissão de escrita')\r\n",
    "    "
   ],
   "outputs": [],
   "metadata": {}
  },
  {
   "cell_type": "markdown",
   "source": [
    "## Testando de objeto python para json"
   ],
   "metadata": {}
  },
  {
   "cell_type": "code",
   "execution_count": 75,
   "source": [
    "# transformando csv em objeto python\r\n",
    "contatos = csv_para_contatos('contatos.csv')\r\n",
    "\r\n",
    "# transformando objeto python em json\r\n",
    "contatos_para_json(contatos, 'contatos.json')\r\n",
    "\r\n",
    "# transformando json em objeto python\r\n",
    "contatos = json_para_contatos('contatos.json')\r\n",
    "\r\n",
    "lista = [print(f'{contato.id} - {contato.nome} - {contato.email}') for contato in contatos]"
   ],
   "outputs": [
    {
     "output_type": "stream",
     "name": "stdout",
     "text": [
      "1 - Guilherme - guilherme@guilherme.com.br\n",
      "2 - Elias - elias@elias.com.br\n",
      "3 - Gabriel - gabriel@gabriel.com.br\n",
      "4 - Anderson - anderson@anderson.com.br\n",
      "5 - Alex - alex@alex.com.br\n",
      "6 - Vini - vini@vini.com.br\n",
      "7 - Letï¿½cia - leticia@leticia.com.br\n",
      "8 - Giulia - giulia@giulia.com.br\n",
      "9 - Felipe - felipe@felipe.com.br\n",
      "10 - Luï¿½sa - luisa@luisa\n",
      "11 - Livio - livio@livio.com.br\n"
     ]
    }
   ],
   "metadata": {}
  },
  {
   "cell_type": "markdown",
   "source": [
    "# Json\r\n",
    "Geralmente, anexar dados a um arquivo JSON não é uma ideia muito boa porque, para cada pequena atualização, você deve ler e analisar todo o objeto de arquivo. Se o seu arquivo JSON tiver n entradas, a complexidade do tempo de execução de apenas atualizá-lo é O (n) .\r\n",
    "\r\n",
    "Uma abordagem melhor seria armazenar os dados como um arquivo CSV que pode ser lido linha por linha que simplifica a análise e atualização significativamente, apenas acrescentando uma única linha ao arquivo que tem complexidade de tempo de execução constante."
   ],
   "metadata": {}
  },
  {
   "cell_type": "markdown",
   "source": [
    "## dict{ } to objeto json{ }"
   ],
   "metadata": {}
  },
  {
   "cell_type": "code",
   "execution_count": 8,
   "source": [
    "from json import dumps\r\n",
    "\r\n",
    "carros_dict = {'marca': 'Toyota', 'modelo': 'Corolla', 'cor': 'chumbo'}\r\n",
    "print(carros_py)\r\n",
    "print(type(carros_py))\r\n",
    "\r\n",
    "# transformando em objeto json\r\n",
    "carros_json = dumps(carros_dict)\r\n",
    "print(f'\\n{carros_json}')\r\n",
    "print(type(carros_json))\r\n"
   ],
   "outputs": [
    {
     "output_type": "stream",
     "name": "stdout",
     "text": [
      "{'marca': 'Toyota', 'modelo': 'Corolla', 'cor': 'chumbo'}\n",
      "<class 'dict'>\n",
      "\n",
      "{\"marca\": \"Toyota\", \"modelo\": \"Corolla\", \"cor\": \"chumbo\"}\n",
      "<class 'str'>\n"
     ]
    }
   ],
   "metadata": {}
  },
  {
   "cell_type": "markdown",
   "source": [
    "## list[ ] to array json[ ]"
   ],
   "metadata": {}
  },
  {
   "cell_type": "code",
   "execution_count": 9,
   "source": [
    "from json import dumps\r\n",
    "\r\n",
    "carros_list = ['Toyota', 'VW', 'Honda', 'BMW']\r\n",
    "print(carros_list)\r\n",
    "print(type(carros_list))\r\n",
    "\r\n",
    "# transformando em objeto json\r\n",
    "carros_json = dumps(carros_list)\r\n",
    "print(f'\\n{carros_json}')\r\n",
    "print(type(carros_json))\r\n"
   ],
   "outputs": [
    {
     "output_type": "stream",
     "name": "stdout",
     "text": [
      "['Toyota', 'VW', 'Honda', 'BMW']\n",
      "<class 'list'>\n",
      "\n",
      "[\"Toyota\", \"VW\", \"Honda\", \"BMW\"]\n",
      "<class 'str'>\n"
     ]
    }
   ],
   "metadata": {}
  },
  {
   "cell_type": "markdown",
   "source": [
    "## tuple( ) to array json [ ]"
   ],
   "metadata": {}
  },
  {
   "cell_type": "code",
   "execution_count": 10,
   "source": [
    "from json import dumps\r\n",
    "\r\n",
    "carros_tuple = ('Toyota', 'VW', 'Honda', 'BMW')\r\n",
    "print(carros_tuple)\r\n",
    "print(type(carros_tuple))\r\n",
    "\r\n",
    "# transformando em objeto json\r\n",
    "carros_json = dumps(carros_tuple)\r\n",
    "print(f'\\n{carros_json}')\r\n",
    "print(type(carros_json))\r\n"
   ],
   "outputs": [
    {
     "output_type": "stream",
     "name": "stdout",
     "text": [
      "('Toyota', 'VW', 'Honda', 'BMW')\n",
      "<class 'tuple'>\n",
      "\n",
      "[\"Toyota\", \"VW\", \"Honda\", \"BMW\"]\n",
      "<class 'str'>\n"
     ]
    }
   ],
   "metadata": {}
  },
  {
   "cell_type": "markdown",
   "source": [
    "## dumps + indent, separators + sort_keys"
   ],
   "metadata": {}
  },
  {
   "cell_type": "code",
   "execution_count": 14,
   "source": [
    "from json import dumps\r\n",
    "\r\n",
    "carros_dict = {'marca': 'Toyota', 'modelo': 'Corolla', 'cor': 'chumbo'}\r\n",
    "\r\n",
    "# indentando a saida com 4 espaços, trocando os separadores : para =\r\n",
    "# ordenando com \r\n",
    "carros_json = dumps(carros_dict, indent=4, separators=(': ', '='), sort_keys=True)\r\n",
    "print(f'\\n{carros_json}')\r\n"
   ],
   "outputs": [
    {
     "output_type": "stream",
     "name": "stdout",
     "text": [
      "\n",
      "{\n",
      "    \"cor\"=\"chumbo\": \n",
      "    \"marca\"=\"Toyota\": \n",
      "    \"modelo\"=\"Corolla\"\n",
      "}\n"
     ]
    }
   ],
   "metadata": {}
  }
 ],
 "metadata": {
  "interpreter": {
   "hash": "325cb660cce599eef17833f9bb0afcb0e3dbe3e8605c570c8e00eb36d04c5df3"
  },
  "kernelspec": {
   "display_name": "Python 3.9.5 64-bit ('venv': venv)",
   "name": "python3"
  },
  "language_info": {
   "codemirror_mode": {
    "name": "ipython",
    "version": 3
   },
   "file_extension": ".py",
   "mimetype": "text/x-python",
   "name": "python",
   "nbconvert_exporter": "python",
   "pygments_lexer": "ipython3",
   "version": "3.9.5"
  },
  "orig_nbformat": 4
 },
 "nbformat": 4,
 "nbformat_minor": 2
}