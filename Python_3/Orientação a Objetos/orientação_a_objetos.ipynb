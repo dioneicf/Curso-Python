{
 "cells": [
  {
   "cell_type": "markdown",
   "metadata": {},
   "source": [
    "# **Orientação a objeto**"
   ]
  },
  {
   "cell_type": "markdown",
   "metadata": {},
   "source": [
    "# Self de uma class\r\n",
    "\r\n",
    "Self é a referência que sabe encontrar o objeto construído em memória."
   ]
  },
  {
   "cell_type": "code",
   "execution_count": 13,
   "metadata": {},
   "outputs": [
    {
     "name": "stdout",
     "output_type": "stream",
     "text": [
      "O tipo do objeto conta1 é: <class '__main__.Conta'>\n",
      "Endereço de memória do objeto conta1 é: <__main__.Conta object at 0x0000020928876280>\n",
      "\n",
      "O tipo do objeto conta2 é: <class '__main__.Conta'>\n",
      "Endereço de memória do objeto conta2 é: <__main__.Conta object at 0x0000020928CED250>\n",
      "\n",
      "conta1 é igual a conta2? False\n"
     ]
    }
   ],
   "source": [
    "class Conta(object):\n",
    "    pass\n",
    "\n",
    "conta1 = Conta()\n",
    "print(f'O tipo do objeto conta1 é: {type(conta1)}\\nEndereço de memória do objeto conta1 é: {conta1}')\n",
    "\n",
    "conta2 = Conta()\n",
    "print(f'\\nO tipo do objeto conta2 é: {type(conta2)}\\nEndereço de memória do objeto conta2 é: {conta2}')\n",
    "\n",
    "print(f'\\nconta1 é igual a conta2? {conta1 == conta2}')\n"
   ]
  },
  {
   "cell_type": "markdown",
   "metadata": {},
   "source": [
    "# Atributos de uma class\r\n",
    "Os atributos são as características que especificam uma classe. Estão na função especial \\_\\_init__ e fora dela.\r\n",
    "\r\n",
    "A função construtora \\_\\_init__ é uma implícita, que é chamada automaticamente.\r\n",
    "\r\n",
    "## Atributos da instancia(objeto) Vs atributos da classe\r\n",
    "\r\n",
    "Atributos da instancia estão na função construtora \\_\\_init__ ja os atributos da classe estão na classe."
   ]
  },
  {
   "cell_type": "code",
   "execution_count": 3,
   "metadata": {},
   "outputs": [
    {
     "name": "stdout",
     "output_type": "stream",
     "text": [
      "12\n",
      "Ana\n",
      "3\n"
     ]
    }
   ],
   "source": [
    "class Conta(object):\n",
    "    # tamanho_numero_conta é um atributo da classe\n",
    "    tamanho_numero_conta = 3\n",
    "\n",
    "    # numero e titular são atributos da instância(objeto)\n",
    "    def __init__(self, numero: int, titular: str):\n",
    "        self.numero: int = numero\n",
    "        self.titular: str = titular\n",
    "\n",
    "conta1 = Conta(12, 'Ana')\n",
    "\n",
    "print(conta1.numero)\n",
    "print(conta1.titular)\n",
    "print(conta1.tamanho_numero_conta)"
   ]
  },
  {
   "cell_type": "markdown",
   "metadata": {},
   "source": [
    "## Atributos __privados (encapsulamento) - self.__numero: int = numero\r\n",
    "\r\n",
    "Não podemos acessar o atributo privado diretamente. Teremos que usar os métodos responsáveis por encapsular o acesso ao objeto. \r\n",
    "\r\n",
    "Para tornar um atributo privado adicionanmos dois caracteres underscore (__) a esquerda. A ação de tornar privado o acesso aos atributos, no mundo Orientado a Objetos, chamamos de encapsulamento."
   ]
  },
  {
   "cell_type": "code",
   "execution_count": 22,
   "metadata": {},
   "outputs": [
    {
     "ename": "AttributeError",
     "evalue": "'Conta' object has no attribute 'numero'",
     "output_type": "error",
     "traceback": [
      "\u001b[1;31m---------------------------------------------------------------------------\u001b[0m",
      "\u001b[1;31mAttributeError\u001b[0m                            Traceback (most recent call last)",
      "\u001b[1;32m<ipython-input-22-1124ea7bb6a7>\u001b[0m in \u001b[0;36m<module>\u001b[1;34m\u001b[0m\n\u001b[0;32m      8\u001b[0m \u001b[0mconta1\u001b[0m \u001b[1;33m=\u001b[0m \u001b[0mConta\u001b[0m\u001b[1;33m(\u001b[0m\u001b[1;36m12\u001b[0m\u001b[1;33m,\u001b[0m \u001b[1;34m'Ana'\u001b[0m\u001b[1;33m)\u001b[0m\u001b[1;33m\u001b[0m\u001b[1;33m\u001b[0m\u001b[0m\n\u001b[0;32m      9\u001b[0m \u001b[1;33m\u001b[0m\u001b[0m\n\u001b[1;32m---> 10\u001b[1;33m \u001b[0mprint\u001b[0m\u001b[1;33m(\u001b[0m\u001b[0mconta1\u001b[0m\u001b[1;33m.\u001b[0m\u001b[0mnumero\u001b[0m\u001b[1;33m)\u001b[0m\u001b[1;33m\u001b[0m\u001b[1;33m\u001b[0m\u001b[0m\n\u001b[0m\u001b[0;32m     11\u001b[0m \u001b[0mprint\u001b[0m\u001b[1;33m(\u001b[0m\u001b[0mconta1\u001b[0m\u001b[1;33m.\u001b[0m\u001b[0mtitular\u001b[0m\u001b[1;33m)\u001b[0m\u001b[1;33m\u001b[0m\u001b[1;33m\u001b[0m\u001b[0m\n",
      "\u001b[1;31mAttributeError\u001b[0m: 'Conta' object has no attribute 'numero'"
     ]
    }
   ],
   "source": [
    "class Conta(object):\n",
    "\n",
    "    def __init__(self, numero: int, titular: str):\n",
    "        # Dois undercores __ tornam as variáveis privadas.\n",
    "        self.__numero: int = numero\n",
    "        self.__titular: str = titular\n",
    "\n",
    "conta1 = Conta(12, 'Ana')\n",
    "\n",
    "print(conta1.numero)\n",
    "print(conta1.titular)"
   ]
  },
  {
   "cell_type": "markdown",
   "metadata": {},
   "source": [
    "## Acessando atributos __privados com métodos getters - @property\r\n",
    "O uso do getters são métodos usados apenas para retornar dados de atributos __privados.\r\n",
    "\r\n",
    "Uma solução ao invés de usar get e set no nome das variaveis é usar uma property, A declaração de uma property é feita com o uso do caractere @. @property para getters e @nome da função.setter para setters.\r\n",
    "\r\n",
    "Obs: Usar property é uma ótima prática. Quando criamos getters e setters todos os lugares que já acessam a classe precisam mudar."
   ]
  },
  {
   "cell_type": "code",
   "execution_count": 27,
   "metadata": {},
   "outputs": [
    {
     "name": "stdout",
     "output_type": "stream",
     "text": [
      "12\n",
      "Ana\n"
     ]
    }
   ],
   "source": [
    "class Conta(object):\n",
    "\n",
    "    def __init__(self, numero: int, titular: str):\n",
    "        self.__numero: int = numero\n",
    "        self.__titular: str = titular\n",
    "\n",
    "    @property\n",
    "    def numero(self) -> int:\n",
    "        \"\"\"Getter de __numero, retorna número da conta.\"\"\"\n",
    "        return self.__numero\n",
    "\n",
    "    @property\n",
    "    def titular(self) -> str:\n",
    "        \"\"\"Getter de __titular, retorna nome titular.\"\"\"\n",
    "        return self.__titular.title()\n",
    "\n",
    "conta1 = Conta(12, 'Ana')\n",
    "\n",
    "print(conta1.numero)\n",
    "print(conta1.titular)"
   ]
  },
  {
   "cell_type": "markdown",
   "metadata": {},
   "source": [
    "## Modificando atributos __privados com métodos setters - @numero.setter\r\n",
    "\r\n",
    "O uso do setters são métodos usados para modificar os dados de atributos __privados.\r\n",
    "\r\n",
    "Uma solução ao invés de usar get e set no nome das variaveis é usar uma property, A declaração de uma property é feita com o uso do caractere @. @property para getters e @nome da função.setter para setters.\r\n",
    "\r\n",
    "Obs: Usar property é uma ótima prática. Quando criamos getters e setters todos os lugares que já acessam a classe precisam mudar."
   ]
  },
  {
   "cell_type": "code",
   "execution_count": 29,
   "metadata": {},
   "outputs": [
    {
     "name": "stdout",
     "output_type": "stream",
     "text": [
      "12\n",
      "100\n"
     ]
    }
   ],
   "source": [
    "class Conta(object):\n",
    "\n",
    "    def __init__(self, numero: int):\n",
    "        self.__numero: int = numero\n",
    "\n",
    "    @property\n",
    "    def numero(self) -> int:\n",
    "        \"\"\"Getter de __numero, retorna número da conta.\"\"\"\n",
    "        return self.__numero\n",
    "\n",
    "    @numero.setter\n",
    "    def numero(self, numero: int) -> int:\n",
    "        \"\"\"Setter de __numero, editar numero de conta.\n",
    "        Ex.: conta.numero = 100\"\"\"\n",
    "        self.__numero = numero\n",
    "\n",
    "conta1 = Conta(12)\n",
    "\n",
    "print(conta1.numero)\n",
    "conta1.numero = 100\n",
    "print(conta1.numero)"
   ]
  },
  {
   "cell_type": "markdown",
   "metadata": {},
   "source": [
    "# Métodos estáticos de uma class - @staticmethod\r\n",
    "\r\n",
    "Todas as linguagens orientadas a objeto trabalham com métodos estáticos, fica inapropriado usar property, porque ele sempre precisa do self. A configuração correta será @staticmethod.\r\n",
    "\r\n",
    "Métodos estáticos tem um cheiro de linguagem procedural já que independe de um objeto para ser chamado e não manipula informações/atributos de objetos. Deve ser usado com bastante cautela!\r\n",
    "\r\n",
    "Cuidados a tomar...\r\n",
    "\r\n",
    "Sempre que você usar métodos estáticos em classes que contém herança, observe se não está tentando acessar alguma informação da classe a partir do método estático, pois isso pode dar algumas dores de cabeça pra entender o motivo dos problemas.\r\n",
    "\r\n",
    "Alguns pythonistas não aconselham o uso do @staticmethod, já que poderia ser substituído por uma simples função no corpo do módulo. Outros mais puristas entendem que os métodos estáticos fazem sentido, sim, e que devem ser vistos como responsabilidade das classes."
   ]
  },
  {
   "cell_type": "code",
   "execution_count": 4,
   "metadata": {},
   "outputs": [
    {
     "name": "stdout",
     "output_type": "stream",
     "text": [
      "12\n",
      "001\n",
      "001\n"
     ]
    }
   ],
   "source": [
    "class Conta(object):\n",
    "\n",
    "    def __init__(self, numero: int):\n",
    "        self.__numero: int = numero\n",
    "\n",
    "    @property\n",
    "    def numero(self) -> int:\n",
    "        \"\"\"Getter de __numero, retorna número da conta.\"\"\"\n",
    "        return self.__numero\n",
    "    \n",
    "    @staticmethod\n",
    "    def código_banco() -> str:\n",
    "        \"\"\"Retorna código do banco é uma @staticmethod.\"\"\"\n",
    "        return '001'\n",
    "\n",
    "conta1 = Conta(12)\n",
    "\n",
    "print(conta1.numero)\n",
    "print(conta1.código_banco())\n",
    "\n",
    "# Pode ser chamado sem ser instanciado\n",
    "print(Conta.código_banco())"
   ]
  },
  {
   "cell_type": "markdown",
   "metadata": {},
   "source": [
    "# Métodos de classe de uma class - @classmethod\r\n",
    "\r\n",
    "São métodos declarados com @classmethod. Quando criamos um método de classe, temos acesso aos atributos da classe. Da mesma forma com os atributos de classe, podemos acessar estes métodos de dentro dos métodos de instância, a partir de ____class____, se desejarmos.\r\n",
    "\r\n",
    "O @classmethod permite que você chame o metodo de uma classe sem precisar instânciar a classe."
   ]
  },
  {
   "cell_type": "code",
   "execution_count": 6,
   "metadata": {},
   "outputs": [
    {
     "name": "stdout",
     "output_type": "stream",
     "text": [
      "Olá!\n"
     ]
    },
    {
     "ename": "TypeError",
     "evalue": "escreve() missing 1 required positional argument: 'text'",
     "output_type": "error",
     "traceback": [
      "\u001b[1;31m---------------------------------------------------------------------------\u001b[0m",
      "\u001b[1;31mTypeError\u001b[0m                                 Traceback (most recent call last)",
      "\u001b[1;32m<ipython-input-6-8065a532cad1>\u001b[0m in \u001b[0;36m<module>\u001b[1;34m\u001b[0m\n\u001b[0;32m     11\u001b[0m \u001b[1;33m\u001b[0m\u001b[0m\n\u001b[0;32m     12\u001b[0m \u001b[0mEscritor\u001b[0m\u001b[1;33m.\u001b[0m\u001b[0mescreve_novo\u001b[0m\u001b[1;33m(\u001b[0m\u001b[1;34m\"Olá!\"\u001b[0m\u001b[1;33m)\u001b[0m \u001b[1;31m# Vai executar\u001b[0m\u001b[1;33m\u001b[0m\u001b[1;33m\u001b[0m\u001b[0m\n\u001b[1;32m---> 13\u001b[1;33m \u001b[0mEscritor\u001b[0m\u001b[1;33m.\u001b[0m\u001b[0mescreve\u001b[0m\u001b[1;33m(\u001b[0m\u001b[1;34m\"Olá!\"\u001b[0m\u001b[1;33m)\u001b[0m \u001b[1;31m# Não vai executar\u001b[0m\u001b[1;33m\u001b[0m\u001b[1;33m\u001b[0m\u001b[0m\n\u001b[0m",
      "\u001b[1;31mTypeError\u001b[0m: escreve() missing 1 required positional argument: 'text'"
     ]
    }
   ],
   "source": [
    "class Escritor():\n",
    "    def __init__(self):\n",
    "        pass\n",
    "\n",
    "    def escreve(self, text):\n",
    "        print(text)\n",
    "\n",
    "    @classmethod\n",
    "    def escreve_novo(cls, text):\n",
    "        print(text)\n",
    "\n",
    "Escritor.escreve_novo(\"Olá!\") # Vai executar\n",
    "Escritor.escreve(\"Olá!\") # Não vai executar"
   ]
  },
  {
   "cell_type": "markdown",
   "metadata": {},
   "source": [
    "## staticmethod vs classmethod vs self\r\n",
    "\r\n",
    "O staticmethod não recebe a classe como referência enquanto o classmethod recebe.\r\n",
    "\r\n",
    "Podemos usar o classmethod como construtor da nossa classe, recebendo um objeto de outra classe ou até da mesma no staticmethod não.\r\n",
    "\r\n",
    "Outra coisa é que o uso do @classmethod é mais útil quando usado em herança, já que a classe é levada em consideração. Alguns programadores questionam o uso do @staticmethod (por parecer não ter muita utilidade) e por este motivo é mais comum o uso do @classmethod."
   ]
  },
  {
   "cell_type": "code",
   "execution_count": 31,
   "metadata": {},
   "outputs": [
    {
     "name": "stdout",
     "output_type": "stream",
     "text": [
      "Self - so funciono apos ser instanciado!\n",
      "\n",
      "static_method - funciono sem ser instanciado, mas não acesso nada na classe!\n",
      "\n",
      "class_method - funciono sem ser instanciado, é acesso objetos na classe, veja --> <__main__.Teste object at 0x0000025B1402B550>!\n"
     ]
    }
   ],
   "source": [
    "class Teste:\n",
    "    def __init__(self, nome):\n",
    "        self.nome = nome\n",
    "    \n",
    "    def test_self(self):\n",
    "        print('Self - so funciono apos ser instanciado!')\n",
    "\n",
    "    @staticmethod\n",
    "    def static_method():  # não recebe cls\n",
    "        print('\\nstatic_method - funciono sem ser instanciado, mas não acesso nada na classe!')\n",
    "\n",
    "    @classmethod\n",
    "    def class_method(cls, teste):  # recebe cls\n",
    "        print(f'\\nclass_method - funciono sem ser instanciado, é acesso objetos na classe, veja --> {cls(teste.nome)}!')\n",
    "\n",
    "# self precisamos instanciar uma classe\n",
    "instancia = Teste('Ana')\n",
    "instancia.test_self()\n",
    "\n",
    "# staticmethod, não precisamos estanciar, mas não conseguimos acessar nenhum objeto da classe.\n",
    "Teste.static_method()\n",
    "\n",
    "# classmethod, não precisamos estanciar, e conseguimos acessar objetos da classe.\n",
    "Teste.class_method(instancia)"
   ]
  },
  {
   "cell_type": "markdown",
   "metadata": {},
   "source": [
    "## Ex: artributos e métodos da class Vs atributos e métodos da instancia\r\n",
    "\r\n",
    "Em resumo, atributo e método da classe são unicos e podem ser acessados sem instanciar objetos. Qualquer objeto instanciado tem acesso a atributos e métodos da classe mas do contrário não é verdade. Um atributo e método da classe não tem acesso a atributos e métodos da instancia. "
   ]
  },
  {
   "cell_type": "code",
   "execution_count": 15,
   "metadata": {},
   "outputs": [],
   "source": [
    "class Fila():\n",
    "    \"\"\"Abstração de qualquer tipo de fila: Supermercado, banco etc\"\"\"\n",
    "    \n",
    "    c_fila = [] # c de class (atributo da classe)\n",
    "\n",
    "    @classmethod\n",
    "    def c_entrar(cls, obj): # c de class (método da classe)\n",
    "        cls.c_fila.append(obj)\n",
    "        print(f'c_fila = {cls.c_fila}')\n",
    "\n",
    "    def __init__(self):\n",
    "        self.s_fila = [] # s de self (atributo da instancia)\n",
    "\n",
    "    def s_entrar(self, obj): # s de self (método da instancia)\n",
    "        self.s_fila.append(obj)\n",
    "        print(f's_fila = {self.s_fila}')"
   ]
  },
  {
   "cell_type": "code",
   "execution_count": 16,
   "metadata": {},
   "outputs": [
    {
     "name": "stdout",
     "output_type": "stream",
     "text": [
      "c_fila = []\n",
      "c_fila = ['Livio']\n"
     ]
    }
   ],
   "source": [
    "# podemos chamar atributos e métodos da classe sem instanciar:\n",
    "print(f'c_fila = {Fila.c_fila}')\n",
    "Fila.c_entrar('Livio')"
   ]
  },
  {
   "cell_type": "code",
   "execution_count": 17,
   "metadata": {},
   "outputs": [
    {
     "name": "stdout",
     "output_type": "stream",
     "text": [
      "s_fila = []\n",
      "s_fila = ['João']\n"
     ]
    }
   ],
   "source": [
    "# para chamar stributos e métodos da instancia tenho que instanciar:\n",
    "banco = Fila() #instanciando fila de banco\n",
    "print(f's_fila = {banco.s_fila}')\n",
    "banco.s_entrar('João')"
   ]
  },
  {
   "cell_type": "code",
   "execution_count": 18,
   "metadata": {},
   "outputs": [
    {
     "name": "stdout",
     "output_type": "stream",
     "text": [
      "c_fila = ['Livio']\n",
      "s_fila = ['João']\n"
     ]
    }
   ],
   "source": [
    "# posso acessar c_fila(atributo da class) com instancia banco, porem são duas filas diferentes, uma fila é da class e outra é da instancia. Qualquer fila de instancia tem acesso a fila da class.\n",
    "print(f'c_fila = {banco.c_fila}')\n",
    "print(f's_fila = {banco.s_fila}')"
   ]
  },
  {
   "cell_type": "code",
   "execution_count": 19,
   "metadata": {},
   "outputs": [
    {
     "name": "stdout",
     "output_type": "stream",
     "text": [
      "c_fila = ['Livio', 'Maria']\n",
      "c_fila = ['Livio', 'Maria']\n",
      "s_fila = ['João']\n"
     ]
    }
   ],
   "source": [
    "# posso acionar um médodo da class pela instancia:\n",
    "banco.c_entrar('Maria')\n",
    "print(f'c_fila = {banco.c_fila}')\n",
    "print(f's_fila = {banco.s_fila}')\n",
    "# acionamos o método c_fila pela instancia e adicionamos 'Maria', mas são duas filas diferentes"
   ]
  },
  {
   "cell_type": "code",
   "execution_count": 20,
   "metadata": {},
   "outputs": [
    {
     "ename": "TypeError",
     "evalue": "s_entrar() missing 1 required positional argument: 'obj'",
     "output_type": "error",
     "traceback": [
      "\u001b[1;31m---------------------------------------------------------------------------\u001b[0m",
      "\u001b[1;31mTypeError\u001b[0m                                 Traceback (most recent call last)",
      "\u001b[1;32m<ipython-input-20-dc205c9b969b>\u001b[0m in \u001b[0;36m<module>\u001b[1;34m\u001b[0m\n\u001b[0;32m      1\u001b[0m \u001b[1;31m# não cosigo acessar a fila da instancia sem instanciar um objeto:\u001b[0m\u001b[1;33m\u001b[0m\u001b[1;33m\u001b[0m\u001b[1;33m\u001b[0m\u001b[0m\n\u001b[1;32m----> 2\u001b[1;33m \u001b[0mFila\u001b[0m\u001b[1;33m.\u001b[0m\u001b[0ms_entrar\u001b[0m\u001b[1;33m(\u001b[0m\u001b[1;34m'Michael'\u001b[0m\u001b[1;33m)\u001b[0m\u001b[1;33m\u001b[0m\u001b[1;33m\u001b[0m\u001b[0m\n\u001b[0m",
      "\u001b[1;31mTypeError\u001b[0m: s_entrar() missing 1 required positional argument: 'obj'"
     ]
    }
   ],
   "source": [
    "# não cosigo acessar a fila da instancia sem instanciar um objeto:\n",
    "Fila.s_entrar('Michael')"
   ]
  },
  {
   "cell_type": "code",
   "execution_count": 22,
   "metadata": {},
   "outputs": [
    {
     "name": "stdout",
     "output_type": "stream",
     "text": [
      "s_fila = []\n",
      "s_fila = ['Jony']\n",
      "c_fila = ['Livio', 'Maria']\n"
     ]
    }
   ],
   "source": [
    "# se instanciarmos outro objeto, ex: fila de supermercado. A mesma tera uma fila individual, mas terá acesso a atributo da classe igual a fila de banco.abs\n",
    "supermercado = Fila() #instanciando fila de supermercado\n",
    "print(f's_fila = {supermercado.s_fila}')\n",
    "supermercado.s_entrar('Jony')\n",
    "print(f'c_fila = {supermercado.c_fila}') # supermercado também tem acesso ao atributo da classe c_fila"
   ]
  },
  {
   "cell_type": "code",
   "execution_count": 26,
   "metadata": {},
   "outputs": [
    {
     "name": "stdout",
     "output_type": "stream",
     "text": [
      "c_fila = ['Livio', 'Maria']\n",
      "s_fila banco = ['João']\n",
      "s_fila supermercado = ['Jony']\n",
      "c_fila acessada por banco = ['Livio', 'Maria']\n",
      "c_fila acessada por supermercado = ['Livio', 'Maria']\n"
     ]
    }
   ],
   "source": [
    "# temos agora três filas cada uma diferente da outra, mas a instancia tem acesso a atributos e métodos da classe.abs\n",
    "print(f'c_fila = {Fila.c_fila}') # Atributo fila da classe \n",
    "\n",
    "print(f's_fila banco = {banco.s_fila}') # Atributo fila da instancia banco\n",
    "\n",
    "print(f's_fila supermercado = {supermercado.s_fila}') # Atributo fila da instancia supermercado\n",
    "\n",
    "print(f'c_fila acessada por banco = {banco.c_fila}') # Atributo fila da classe sendo acessado por instancia banco\n",
    "\n",
    "print(f'c_fila acessada por supermercado = {supermercado.c_fila}') # Atributo fila da classe sendo acessado por instancia supermercado"
   ]
  },
  {
   "cell_type": "markdown",
   "metadata": {},
   "source": [
    "## Ex: atributos e métodos da class Vs atributos e métodos da instancia Vs staticmethod"
   ]
  },
  {
   "cell_type": "code",
   "execution_count": 32,
   "metadata": {},
   "outputs": [],
   "source": [
    "class Pizza:\n",
    "# atributo da class, uma pizza tem 8 pedaços, não importa o sabor, tem 8 pedaços e pronto. Qualquer sabor que instanciar terá 8 pedaços, por isso usamos este atributo de class.\n",
    "    pedaços = 8 \n",
    "\n",
    "# agora sabor ja se trata de instancia, temos que colocar com self, pois cada sabor é um sabor.\n",
    "    def __init__(self, sabor):\n",
    "        self.sabor = sabor\n",
    "\n",
    "# mesma coisa no método de instancia pegar pedaço, uma pizza sempre irá iniar com um tamanho padrão, se você comprou uma pizza de 8 pedaços ela tera 8 pedaços, ao comer um pedaço, você esta mudando a caracteristica da pizza de um sabor especifico que você comeu e não todas as pizzas do mundo, por isso este método é um método de instancia.\n",
    "    def pegar_pedaço(self):\n",
    "        self.pedaços -= 1\n",
    "\n",
    "# mas e se quisermos mudar o tamanho da pizza, ex: pizza brotinho de 4 pedaços, podemos colocar um método de classe, porque isso em si não interfere no sabor da pizza, não importa qual sabor a pizza ser, mas uma pizza de 4 pedaços sempre terá 4 pedaços!!! \n",
    "    @classmethod\n",
    "    def mudar_tamanho(cls, pedaços: int = 1) -> None: \n",
    "        cls.pedaços = pedaços\n",
    "\n",
    "# sabemos que toda pizza independente do tamanho ou do sabor tem igredientes, não estamos especificando aqui quais ingredientes. Simplesmente sabemos que uma pizza possui igredientes e pronto! Ou seja, igredientes não precisa conversar com a class (pizza) nem com instancia (sabor), simplesmente qualquer que seja o tamanho da pizza ou o sabor temos que ter ingredientes. Este é o conceito do staticmethod.\n",
    "    @staticmethod\n",
    "    def ingredientes(ingredientes: list = ['ingredientes']) -> list:\n",
    "        return print(ingredientes)"
   ]
  },
  {
   "cell_type": "code",
   "execution_count": 41,
   "metadata": {},
   "outputs": [
    {
     "name": "stdout",
     "output_type": "stream",
     "text": [
      "Estamos aguardando um pedido de pizza ate o momento nao sabemos o tamanho da pizza, por padrão nossa pizza possui 4 pedaços.\n",
      "\n",
      "Sabemos que nossa pizza possui ['ingredientes'], mas não sabemos quais, pois ainda não recebemos o pedido.\n",
      "\n",
      "Mudamos o tamanho da nossa pizza para 4 pedaços, pois o pedido é de brotinho\n",
      "\n",
      "Como já temos o pedido sabemos que os igredientes da pizza de calabreza são ['mussarela', 'molho de tomate', 'calabreza']\n",
      "\n",
      "Nosso pedido é:\n",
      "Pizza: calabreza\n",
      "Pedaços: 4\n",
      "Ingredientes: ['mussarela', 'molho de tomate', 'calabreza']\n",
      "\n",
      "Compramos uma pizza de calabreza com 4 pedaços e agora ela tem somente 3 pedaços\n"
     ]
    }
   ],
   "source": [
    "# criando uma pizza:\n",
    "print(f'Estamos aguardando um pedido de pizza ate o momento nao sabemos o tamanho da pizza, por padrão nossa pizza possui {Pizza.pedaços} pedaços.')\n",
    "print(f'\\nSabemos que nossa pizza possui {Pizza.ingredientes()}, mas não sabemos quais, pois ainda não recebemos o pedido.')\n",
    "\n",
    "# recebemos uma ligação de um pedido de pizza brotinho de 4 pedaços de calabreza.\n",
    "Pizza.mudar_tamanho(4)\n",
    "print(f'\\nMudamos o tamanho da nossa pizza para {Pizza.pedaços} pedaços, pois o pedido é de brotinho')\n",
    "\n",
    "# verificando os ingredientes\n",
    "print(f'\\nComo já temos o pedido sabemos que os igredientes da pizza de calabreza são {Pizza.ingredientes([\"mussarela\", \"molho de tomate\", \"calabreza\"])}')\n",
    "\n",
    "# Criando uma pizza\n",
    "calabreza = Pizza('calabreza')\n",
    "\n",
    "print(f'\\nNosso pedido é:\\nPizza: {calabreza.sabor}\\nPedaços: {calabreza.pedaços}\\nIngredientes: {calabreza.ingredientes([\"mussarela\", \"molho de tomate\", \"calabreza\"])}')\n",
    "\n",
    "# Ao receber a pizza comemos um pedaço dela\n",
    "calabreza.pegar_pedaço()\n",
    "print(f'\\nCompramos uma pizza de {calabreza.sabor} com {Pizza.pedaços} pedaços e agora ela tem somente {calabreza.pedaços} pedaços')"
   ]
  },
  {
   "cell_type": "markdown",
   "metadata": {},
   "source": [
    "## Ordenando um objeto com sorted, attrgetter ou \\_\\_lt__"
   ]
  },
  {
   "cell_type": "code",
   "execution_count": 9,
   "metadata": {},
   "outputs": [
    {
     "name": "stdout",
     "output_type": "stream",
     "text": [
      "Lista desordenada\n",
      "gol tem 10 litros.\n",
      "opala tem 100 litros.\n",
      "uno tem 5 litros.\n",
      "corolla tem 10 litros.\n"
     ]
    }
   ],
   "source": [
    "class Veiculo:\n",
    "    \n",
    "    def __init__(self, nome, litros=0):\n",
    "        self.nome = nome\n",
    "        self.litros = litros\n",
    "    \n",
    "    def __str__(self):\n",
    "        return f'{self.nome} tem {self.litros} litros.'\n",
    "\n",
    "# Vamos instancia 4 veiculos cada um com uma quantidade de gasolina\n",
    "veiculo1 = Veiculo('gol', 10)\n",
    "veiculo2 = Veiculo('opala', 100)\n",
    "veiculo3 = Veiculo('uno', 5)\n",
    "veiculo4 = Veiculo('corolla', 10)\n",
    "lista_veiculos = [veiculo1, veiculo2, veiculo3, veiculo4]\n",
    "\n",
    "print('Lista desordenada')\n",
    "for veiculo in lista_veiculos:\n",
    "    print(veiculo)"
   ]
  },
  {
   "cell_type": "code",
   "execution_count": 10,
   "metadata": {},
   "outputs": [
    {
     "name": "stdout",
     "output_type": "stream",
     "text": [
      "uno tem 5 litros.\n",
      "gol tem 10 litros.\n",
      "corolla tem 10 litros.\n",
      "opala tem 100 litros.\n"
     ]
    }
   ],
   "source": [
    "# ordenando com sorted + função\n",
    "def extrai_litros(veiculo):\n",
    "    return veiculo.litros\n",
    "\n",
    "for veiculo in sorted(lista_veiculos, key=extrai_litros):\n",
    "    print(veiculo)"
   ]
  },
  {
   "cell_type": "code",
   "execution_count": 11,
   "metadata": {},
   "outputs": [
    {
     "name": "stdout",
     "output_type": "stream",
     "text": [
      "uno tem 5 litros.\n",
      "gol tem 10 litros.\n",
      "corolla tem 10 litros.\n",
      "opala tem 100 litros.\n"
     ]
    }
   ],
   "source": [
    "# ordenando com attrgetter\n",
    "from operator import attrgetter\n",
    "\n",
    "for veiculo in sorted(lista_veiculos, key=attrgetter('litros')):\n",
    "    print(veiculo)"
   ]
  },
  {
   "cell_type": "code",
   "execution_count": 12,
   "metadata": {},
   "outputs": [
    {
     "name": "stdout",
     "output_type": "stream",
     "text": [
      "uno tem 5 litros.\n",
      "corolla tem 10 litros.\n",
      "gol tem 10 litros.\n",
      "opala tem 100 litros.\n"
     ]
    }
   ],
   "source": [
    "# ordenando com attrgetter com mais de um atributo\n",
    "from operator import attrgetter\n",
    "\n",
    "for veiculo in sorted(lista_veiculos, key=attrgetter('litros', 'nome')):\n",
    "    print(veiculo)\n",
    "\n",
    "# agora ele ordenou por litros e caso empate ele ordena por nome."
   ]
  },
  {
   "cell_type": "code",
   "execution_count": 8,
   "metadata": {},
   "outputs": [
    {
     "name": "stdout",
     "output_type": "stream",
     "text": [
      "True\n",
      "\n",
      "Lista ordenada crescente\n",
      "uno tem 5 litros.\n",
      "gol tem 10 litros.\n",
      "corolla tem 25 litros.\n",
      "opala tem 100 litros.\n",
      "\n",
      "Lista ordenada decrescente\n",
      "opala tem 100 litros.\n",
      "corolla tem 25 litros.\n",
      "gol tem 10 litros.\n",
      "uno tem 5 litros.\n"
     ]
    }
   ],
   "source": [
    "# adicionando o método especial __lt__\n",
    "class Veiculo:\n",
    "    \n",
    "    def __init__(self, nome, litros=0):\n",
    "        self.nome = nome\n",
    "        self.litros = litros\n",
    "    \n",
    "    def __str__(self):\n",
    "        return f'{self.nome} tem {self.litros} litros.'\n",
    "\n",
    "    def __lt__(self, outro):\n",
    "        return self.litros < outro.litros\n",
    "\n",
    "# Vamos instancia 4 veiculos cada um com uma quantidade de gasolina\n",
    "veiculo1 = Veiculo('gol', 10)\n",
    "veiculo2 = Veiculo('opala', 100)\n",
    "veiculo3 = Veiculo('uno', 5)\n",
    "veiculo4 = Veiculo('corolla', 25)\n",
    "lista_veiculos = [veiculo1, veiculo2, veiculo3, veiculo4]\n",
    "\n",
    "print(veiculo1 < veiculo2)\n",
    "\n",
    "print('\\nLista ordenada crescente')\n",
    "for veiculo in sorted(lista_veiculos):\n",
    "    print(veiculo)\n",
    "\n",
    "print('\\nLista ordenada decrescente')\n",
    "for veiculo in sorted(lista_veiculos, reverse=True):\n",
    "    print(veiculo)\n"
   ]
  },
  {
   "cell_type": "markdown",
   "metadata": {},
   "source": [
    "## Herança\r\n",
    "\r\n",
    "Herança compartilha codigo com as classes filhas reduzindo a repetição de codigo. Todas as subclasses tem acesso aos métodos criados na superclasse e a herança faz com que o seu código não fique duplicado, reduzindo os pontos de falha."
   ]
  },
  {
   "cell_type": "code",
   "execution_count": 1,
   "metadata": {},
   "outputs": [
    {
     "name": "stdout",
     "output_type": "stream",
     "text": [
      "O veiculo titan abasteceu com 5 litros\n"
     ]
    }
   ],
   "source": [
    "\n",
    "class Veiculo:\n",
    "    def __init__(self, nome, litros=0):\n",
    "        self.nome = nome\n",
    "        self.litros = litros\n",
    "    \n",
    "    # o método abastecer é herdado pelas classes Moto e Carro\n",
    "    def abastecer(self, litros):\n",
    "        return print(f'O veiculo {self.nome} abasteceu com {litros} litros')\n",
    "\n",
    "class Moto(Veiculo):\n",
    "    pass\n",
    "\n",
    "class Carro(Veiculo):\n",
    "    pass\n",
    "\n",
    "# classe Moto herdou atributo nome e método abaster() da classe Veiculo.\n",
    "carro = Moto('titan')\n",
    "carro.abastecer(5)"
   ]
  },
  {
   "cell_type": "markdown",
   "metadata": {},
   "source": [
    "## Verificar se uma instancia pertence a outra com isinstance()"
   ]
  },
  {
   "cell_type": "code",
   "execution_count": 8,
   "metadata": {},
   "outputs": [
    {
     "name": "stdout",
     "output_type": "stream",
     "text": [
      "moto é instancia de Veiculo? True\n",
      "carro é instancia de Veiculo? True\n",
      "carro é instancia de Moto? False\n",
      "carro é instancia de Carro? True\n"
     ]
    }
   ],
   "source": [
    "moto = Moto('titan')\n",
    "veiculo = Veiculo('veiculo')\n",
    "carro = Carro('corolla')\n",
    "\n",
    "print(f'moto é instancia de Veiculo? {isinstance(moto, Veiculo)}')\n",
    "print(f'carro é instancia de Veiculo? {isinstance(carro, Veiculo)}')\n",
    "print(f'carro é instancia de Moto? {isinstance(carro, Moto)}')\n",
    "print(f'carro é instancia de Carro? {isinstance(carro, Carro)}')"
   ]
  },
  {
   "cell_type": "markdown",
   "metadata": {},
   "source": [
    "## Utilizando a superclasse - super()"
   ]
  },
  {
   "cell_type": "code",
   "execution_count": 19,
   "metadata": {},
   "outputs": [
    {
     "name": "stdout",
     "output_type": "stream",
     "text": [
      "\n",
      "Nome: Os 300\n",
      "Ano: 2005\n",
      "Duração: 130 min\n",
      "Diretor: João\n"
     ]
    }
   ],
   "source": [
    "class Programa():  # Super Class\n",
    "    def __init__(self, nome: str, ano: int, duração: int):\n",
    "        self._nome = nome.title()\n",
    "        self.ano = ano\n",
    "        self.duração = duração\n",
    "\n",
    "    def imprimir(self):\n",
    "        nome: str = f'\\nNome: {self._nome}\\n'\n",
    "        ano: str = f'Ano: {self.ano}\\n'\n",
    "        duração: str = f'Duração: {self.duração} min\\n'\n",
    "        return nome + ano + duração\n",
    "\n",
    "class Filme(Programa):\n",
    "    def __init__(self, nome: str, ano: int, duração: int, diretor: str):\n",
    "        # com esta ação estamos usando nome, ano e duração da classe mãe Programa\n",
    "        super().__init__(nome, ano, duração)\n",
    "        self.diretor = diretor\n",
    "    \n",
    "    def dados(self):\n",
    "        # aqui estamos chamando o metodo imprimir da classe Programa e incluindo a informação diretor. Fazemos isso sem repetir codigo.\n",
    "        return super().imprimir() + f'Diretor: {self.diretor}'\n",
    "\n",
    "filme = Filme('os 300', 2005, 130, 'João')\n",
    "print(filme.dados())\n",
    "    "
   ]
  },
  {
   "cell_type": "markdown",
   "metadata": {},
   "source": [
    "# Polimorfismo\r\n",
    "\r\n",
    "Polimorfismo é quando não importa a classe sendo usada, contanto que esta classe herde de uma superclasse específica. Não precisamos mais verificar o tipo da classe para acessar métodos."
   ]
  },
  {
   "cell_type": "code",
   "execution_count": 25,
   "metadata": {},
   "outputs": [
    {
     "name": "stdout",
     "output_type": "stream",
     "text": [
      "class Poli_1\n",
      "class Poli_2\n",
      "class Poli_3\n",
      "class Poli_2\n",
      "class Poli_1\n"
     ]
    }
   ],
   "source": [
    "class Poli_1():\n",
    "    def imprimir(self):\n",
    "        return print('class Poli_1')\n",
    "\n",
    "class Poli_2():\n",
    "    def imprimir(self):\n",
    "        return print('class Poli_2')\n",
    "\n",
    "class Poli_3():\n",
    "    def imprimir(self):\n",
    "        return print('class Poli_3')\n",
    "\n",
    "ob1, ob2, ob3, ob4, ob5 = Poli_1(), Poli_2(), Poli_3(), Poli_2(), Poli_1()\n",
    "\n",
    "objetos = [ob1, ob2, ob3, ob4, ob5]\n",
    "\n",
    "# exemplo de polimorfismo, o for objeto chama o metodo imprimir de três classes diferentes.\n",
    "for objeto in objetos:\n",
    "    objeto.imprimir() # duck typing!\n"
   ]
  },
  {
   "cell_type": "markdown",
   "metadata": {},
   "source": [
    "# **\\*args / \\*\\*kwargs**"
   ]
  },
  {
   "cell_type": "markdown",
   "metadata": {},
   "source": [
    "## **\\*args** para número variável de argumentos"
   ]
  },
  {
   "cell_type": "code",
   "execution_count": 2,
   "metadata": {},
   "outputs": [
    {
     "name": "stdout",
     "output_type": "stream",
     "text": [
      "Hello\n",
      "Welcome\n",
      "to\n",
      "GeeksforGeeks\n"
     ]
    }
   ],
   "source": [
    "def myFun(*args):\r\n",
    "\tfor arg in args:\r\n",
    "\t\tprint(arg)\r\n",
    "\r\n",
    "myFun('Hello', 'Welcome', 'to', 'GeeksforGeeks')"
   ]
  },
  {
   "cell_type": "markdown",
   "metadata": {},
   "source": [
    "## **\\*args** com o primeiro argumento extra"
   ]
  },
  {
   "cell_type": "code",
   "execution_count": 3,
   "metadata": {},
   "outputs": [
    {
     "name": "stdout",
     "output_type": "stream",
     "text": [
      "Meu primeiro argumento: Hello\n",
      "Proximo argumento *args: Welcome\n",
      "Proximo argumento *args: to\n",
      "Proximo argumento *args: GeeksforGeeks\n"
     ]
    }
   ],
   "source": [
    "def myFun(arg1, *args):\r\n",
    "\tprint(\"Meu primeiro argumento:\", arg1)\r\n",
    "\tfor arg in args:\r\n",
    "\t\tprint(\"Proximo argumento *args:\", arg)\r\n",
    "\r\n",
    "myFun('Hello', 'Welcome', 'to', 'GeeksforGeeks')"
   ]
  },
  {
   "cell_type": "markdown",
   "metadata": {},
   "source": [
    "## **\\*kargs** para número variável de argumentos com Key e Value (dict)"
   ]
  },
  {
   "cell_type": "code",
   "execution_count": 4,
   "metadata": {},
   "outputs": [
    {
     "name": "stdout",
     "output_type": "stream",
     "text": [
      "key='first' : value='Geeks'\n",
      "key='mid' : value='for'\n",
      "key='last' : value='Geeks'\n"
     ]
    }
   ],
   "source": [
    "def myFun(**kwargs):\r\n",
    "\tfor key, value in kwargs.items():\r\n",
    "\t\tprint(f'{key=} : {value=}')\r\n",
    "\r\n",
    "myFun(first ='Geeks', mid ='for', last='Geeks')"
   ]
  },
  {
   "cell_type": "markdown",
   "metadata": {},
   "source": [
    "## **\\*kargs** com primeiro argumento extra _e argumentos com Key e Value (dict)_"
   ]
  },
  {
   "cell_type": "code",
   "execution_count": 7,
   "metadata": {},
   "outputs": [
    {
     "name": "stdout",
     "output_type": "stream",
     "text": [
      "Meu primeiro argumento: Hi\n",
      "key='first' : value='Geeks'\n",
      "key='mid' : value='for'\n",
      "key='last' : value='Geeks'\n"
     ]
    }
   ],
   "source": [
    "def myFun(arg1, **kwargs):\r\n",
    "    print(\"Meu primeiro argumento:\", arg1)\r\n",
    "    for key, value in kwargs.items():\r\n",
    "        print(f'{key=} : {value=}')\r\n",
    "\r\n",
    "myFun(\"Hi\", first ='Geeks', mid ='for', last='Geeks')"
   ]
  },
  {
   "cell_type": "markdown",
   "metadata": {},
   "source": [
    "## Usando **\\*args** e **\\*\\*kwargs** para chamar uma função"
   ]
  },
  {
   "cell_type": "code",
   "execution_count": 10,
   "metadata": {},
   "outputs": [
    {
     "name": "stdout",
     "output_type": "stream",
     "text": [
      "arg1: Geeks\n",
      "arg2: for\n",
      "arg3: Geeks\n",
      "arg1: Geeks K\n",
      "arg2: for K\n",
      "arg3: Geeks K\n"
     ]
    }
   ],
   "source": [
    "def myFun(arg1, arg2, arg3):\r\n",
    "\tprint(\"arg1:\", arg1)\r\n",
    "\tprint(\"arg2:\", arg2)\r\n",
    "\tprint(\"arg3:\", arg3)\r\n",
    "\t\r\n",
    "# Chamando a função com *args\r\n",
    "args = (\"Geeks\", \"for\", \"Geeks\")\r\n",
    "myFun(*args)\r\n",
    "\r\n",
    "# Chamando a função com *kwargs - irá printar somente value\r\n",
    "kwargs = {\"arg1\" : \"Geeks K\", \"arg2\" : \"for K\", \"arg3\" : \"Geeks K\"}\r\n",
    "myFun(**kwargs)"
   ]
  },
  {
   "cell_type": "markdown",
   "metadata": {},
   "source": [
    "## Usando **\\*args** e **\\*\\*kwargs** na mesma linha para chamar uma função"
   ]
  },
  {
   "cell_type": "code",
   "execution_count": 12,
   "metadata": {},
   "outputs": [
    {
     "name": "stdout",
     "output_type": "stream",
     "text": [
      "args:  ('geeks', 'for', 'geeks')\n",
      "kwargs:  {'first': 'Geeks K', 'mid': 'for K', 'last': 'Geeks K'}\n"
     ]
    }
   ],
   "source": [
    "def myFun(*args,**kwargs):\r\n",
    "\tprint(\"args: \", args)\r\n",
    "\tprint(\"kwargs: \", kwargs)\r\n",
    "\r\n",
    "myFun('geeks','for','geeks', first=\"Geeks K\", mid=\"for K\", last=\"Geeks K\")"
   ]
  }
 ],
 "metadata": {
  "interpreter": {
   "hash": "325cb660cce599eef17833f9bb0afcb0e3dbe3e8605c570c8e00eb36d04c5df3"
  },
  "kernelspec": {
   "display_name": "Python 3.9.5 64-bit ('venv': venv)",
   "name": "python3"
  },
  "language_info": {
   "codemirror_mode": {
    "name": "ipython",
    "version": 3
   },
   "file_extension": ".py",
   "mimetype": "text/x-python",
   "name": "python",
   "nbconvert_exporter": "python",
   "pygments_lexer": "ipython3",
   "version": "3.9.5"
  },
  "orig_nbformat": 4
 },
 "nbformat": 4,
 "nbformat_minor": 2
}