{
 "cells": [
  {
   "cell_type": "markdown",
   "source": [
    "# **Built in Functions**"
   ],
   "metadata": {}
  },
  {
   "cell_type": "markdown",
   "source": [
    "# **bool()**\r\n",
    "Valores vazios ou zeros são considerado False, do contrário são considerados True (Truth Value Testing).\r\n",
    "\r\n",
    "\"Truth Value Testing\". Isto é, decidir quando um valor é considerado True ou False"
   ],
   "metadata": {}
  },
  {
   "cell_type": "code",
   "execution_count": 2,
   "source": [
    "print(bool(0))\r\n",
    "print(bool(\"\"))\r\n",
    "print(bool(None))\r\n",
    "print(bool(1))\r\n",
    "print(bool(-100))\r\n",
    "print(bool(13.5))\r\n",
    "print(bool(\"teste\"))\r\n",
    "print(bool(True))"
   ],
   "outputs": [
    {
     "output_type": "stream",
     "name": "stdout",
     "text": [
      "False\n",
      "False\n",
      "False\n",
      "True\n",
      "True\n",
      "True\n",
      "True\n",
      "True\n"
     ]
    }
   ],
   "metadata": {}
  },
  {
   "cell_type": "markdown",
   "source": [
    "# **f'' / .format()**"
   ],
   "metadata": {}
  },
  {
   "cell_type": "code",
   "execution_count": 2,
   "source": [
    "# antes da versão 3.6 \r\n",
    "a = ('Hello World!')\r\n",
    "print('----> {} <----'.format(a))\r\n",
    "\r\n",
    "# ou f''\r\n",
    "print(f'----> {a} <----')"
   ],
   "outputs": [
    {
     "output_type": "stream",
     "name": "stdout",
     "text": [
      "----> Hello World! <----\n",
      "----> Hello World! <----\n"
     ]
    }
   ],
   "metadata": {}
  },
  {
   "cell_type": "code",
   "execution_count": 3,
   "source": [
    "nome = 'José'\r\n",
    "idade = 23\r\n",
    "salario = 987.30\r\n",
    "print(f'O {nome} tem {idade} anos e ganha R${salario:.2f}.') #Python 3.6+\r\n",
    "print(f'O {nome:-^20} tem {idade} anos e ganha R${salario:.2f}.') #Python 3.6+\r\n",
    "print(f'O {nome:-<20} tem {idade} anos e ganha R${salario:.2f}.') #Python 3.6+\r\n",
    "print(f'O {nome:->20} tem {idade} anos e ganha R${salario:.2f}.') #Python 3.6+\r\n",
    "print('O {} tem {} anos e ganha R${:.2f}.'.format(nome, idade, salario)) #Python 3\r\n",
    "print('O %s tem %d anos.' % (nome, idade)) #Python 2"
   ],
   "outputs": [
    {
     "output_type": "stream",
     "name": "stdout",
     "text": [
      "O José tem 23 anos e ganha R$987.30.\n",
      "O --------José-------- tem 23 anos e ganha R$987.30.\n",
      "O José---------------- tem 23 anos e ganha R$987.30.\n",
      "O ----------------José tem 23 anos e ganha R$987.30.\n",
      "O José tem 23 anos e ganha R$987.30.\n",
      "O José tem 23 anos.\n"
     ]
    }
   ],
   "metadata": {}
  },
  {
   "cell_type": "code",
   "execution_count": 13,
   "source": [
    "# formatação de traços + casas decimais\r\n",
    "vlr = 120\r\n",
    "vlr2 = 10.1\r\n",
    "print(f'{vlr:->20.2f}')\r\n",
    "print(f'{vlr2:-^20.2f}')\r\n",
    "print(f'R${vlr:5.2f}')\r\n",
    "print(f'R${vlr:6.2f}')\r\n",
    "print(f'R${vlr:7.2f}')\r\n",
    "print(f'R${vlr:8.2f}')\r\n",
    "print(f'R${vlr:08.2f}')\r\n",
    "print(f'R${vlr:010.4f}') # f para float\r\n",
    "print(f'R${vlr:010d}')# d para inteiros\r\n",
    "print(f'R${vlr:04d}')\r\n",
    "print(f'R${vlr:4d}')"
   ],
   "outputs": [
    {
     "output_type": "stream",
     "name": "stdout",
     "text": [
      "--------------120.00\n",
      "-------10.10--------\n",
      "R$120.00\n",
      "R$120.00\n",
      "R$ 120.00\n",
      "R$  120.00\n",
      "R$00120.00\n",
      "R$00120.0000\n",
      "R$0000000120\n",
      "R$0120\n",
      "R$ 120\n"
     ]
    }
   ],
   "metadata": {}
  },
  {
   "cell_type": "code",
   "execution_count": 1,
   "source": [
    "n1, n2, n3, n4 = 100, 1, 00.758, 15.77\r\n",
    "\r\n",
    "print(f'n1 = {n1:6}\\nn1 = {n1:06}') # total de casas = 6 com opção de colocar ou não zero\r\n",
    "print(f'n2 = {n2:06}')\r\n",
    "print(f'n2 = {n2: 6}')\r\n",
    "print(f'n3 = {n3:06.3f}') # variavel + ':' + total de casas decimais + '.' + casas decimais a direita da ','\r\n",
    "print(f'n4 = {n4:06.3f} ou {n4:.2f}')"
   ],
   "outputs": [
    {
     "output_type": "stream",
     "name": "stdout",
     "text": [
      "n1 =    100\n",
      "n1 = 000100\n",
      "n2 = 000001\n",
      "n2 =      1\n",
      "n3 = 00.758\n",
      "n4 = 15.770 ou 15.77\n"
     ]
    }
   ],
   "metadata": {}
  },
  {
   "cell_type": "code",
   "execution_count": 6,
   "source": [
    "# formatação com tab \\t\r\n",
    "for c in range(0,5):\r\n",
    "    print(f'O {c}º valor recebido é \\t R$1000,00')\r\n",
    "    print('Agora sem o tab')\r\n",
    "    print(f'O {c}º valor recebido é R$1000,00')\r\n",
    "    print('-' * 35)"
   ],
   "outputs": [
    {
     "output_type": "stream",
     "name": "stdout",
     "text": [
      "O 0º valor recebido é \t R$1000,00\n",
      "Agora sem o tab\n",
      "O 0º valor recebido é R$1000,00\n",
      "-----------------------------------\n",
      "O 1º valor recebido é \t R$1000,00\n",
      "Agora sem o tab\n",
      "O 1º valor recebido é R$1000,00\n",
      "-----------------------------------\n",
      "O 2º valor recebido é \t R$1000,00\n",
      "Agora sem o tab\n",
      "O 2º valor recebido é R$1000,00\n",
      "-----------------------------------\n",
      "O 3º valor recebido é \t R$1000,00\n",
      "Agora sem o tab\n",
      "O 3º valor recebido é R$1000,00\n",
      "-----------------------------------\n",
      "O 4º valor recebido é \t R$1000,00\n",
      "Agora sem o tab\n",
      "O 4º valor recebido é R$1000,00\n",
      "-----------------------------------\n"
     ]
    }
   ],
   "metadata": {}
  },
  {
   "cell_type": "markdown",
   "source": [
    "# **.find() .rfind**"
   ],
   "metadata": {}
  },
  {
   "cell_type": "code",
   "execution_count": 1,
   "source": [
    "frase = '  Curso em Vídeo Python  '\r\n",
    "print(frase.find('Curso'))\r\n",
    "print('A letra \"o\" aparece a ultima vez na posição {}.'.format(frase.lower().rfind('o')+1))"
   ],
   "outputs": [
    {
     "output_type": "stream",
     "name": "stdout",
     "text": [
      "2\n",
      "A letra \"o\" aparece a ultima vez na posição 22.\n"
     ]
    }
   ],
   "metadata": {}
  },
  {
   "cell_type": "markdown",
   "source": [
    "# **print()**\r\n",
    "value é o valor que queremos imprimir, as reticências indicam que a função pode receber mais de um valor, basta separá-los por vírgula.\r\n",
    "\r\n",
    "sep é o separador entre os valores, por padrão o separador é um espaço em branco.\r\n",
    "\r\n",
    "end é o que acontecerá ao final da função, por padrão há uma quebra de linha, uma nova linha (\\n). "
   ],
   "metadata": {}
  },
  {
   "cell_type": "markdown",
   "source": [
    "## fomatando o print"
   ],
   "metadata": {}
  },
  {
   "cell_type": "code",
   "execution_count": 1,
   "source": [
    "nome = 'Livio Alvarenga'\r\n",
    "print(f'Prazer em te conhecer\\n{nome}!') #\\n executa um enter\r\n",
    "print(f'Prazer em te conhecer {nome:20}!')\r\n",
    "print(f'Prazer em te conhecer {nome:>20}!')\r\n",
    "print(f'Prazer em te conhecer {nome:<20}!')\r\n",
    "print(f'Prazer em te conhecer {nome:^20}!')\r\n",
    "print(f'Prazer em te conhecer {nome:=^21}!')"
   ],
   "outputs": [
    {
     "output_type": "stream",
     "name": "stdout",
     "text": [
      "Prazer em te conhecer\n",
      "Livio Alvarenga!\n",
      "Prazer em te conhecer Livio Alvarenga     !\n",
      "Prazer em te conhecer      Livio Alvarenga!\n",
      "Prazer em te conhecer Livio Alvarenga     !\n",
      "Prazer em te conhecer   Livio Alvarenga   !\n",
      "Prazer em te conhecer ===Livio Alvarenga===!\n"
     ]
    }
   ],
   "metadata": {}
  },
  {
   "cell_type": "code",
   "execution_count": 6,
   "source": [
    "print(f'{\"FIM DO PROGRAMA\":-^30}')\r\n",
    "print(f'{\"FIM DO PROGRAMA\":^30}')"
   ],
   "outputs": [
    {
     "output_type": "stream",
     "name": "stdout",
     "text": [
      "-------FIM DO PROGRAMA--------\n",
      "       FIM DO PROGRAMA        \n"
     ]
    }
   ],
   "metadata": {}
  },
  {
   "cell_type": "code",
   "execution_count": 5,
   "source": [
    "frase = '  Curso em Vídeo Python  '\r\n",
    "print(frase[3])\r\n",
    "print(frase[:3])\r\n",
    "print(frase[3:])\r\n",
    "print(frase[0:10:2])\r\n",
    "print(\"\"\"imprimindo um texto longo!!! imprimindo um texto longo!!!\r\n",
    "imprimindo um texto longo!!! imprimindo um texto longo!!!\r\n",
    "imprimindo um texto longo!!! imprimindo um texto longo!!!\"\"\")"
   ],
   "outputs": [
    {
     "output_type": "stream",
     "name": "stdout",
     "text": [
      "u\n",
      "  C\n",
      "urso em Vídeo Python  \n",
      " Croe\n",
      "imprimindo um texto longo!!! imprimindo um texto longo!!!\n",
      "imprimindo um texto longo!!! imprimindo um texto longo!!!\n",
      "imprimindo um texto longo!!! imprimindo um texto longo!!!\n"
     ]
    }
   ],
   "metadata": {}
  },
  {
   "cell_type": "markdown",
   "source": [
    "## print sep e end"
   ],
   "metadata": {}
  },
  {
   "cell_type": "code",
   "execution_count": 8,
   "source": [
    "# print com end\r\n",
    "t1 = 't1'\r\n",
    "t2 = 't2'\r\n",
    "t3 = 't3'\r\n",
    "print('{} --> {}'.format(t1, t2), end='')\r\n",
    "print(f' --> {t3}', end='')\r\n",
    "print(' --> FIM')"
   ],
   "outputs": [
    {
     "output_type": "stream",
     "name": "stdout",
     "text": [
      "t1 --> t2 --> t3 --> FIM\n"
     ]
    }
   ],
   "metadata": {}
  },
  {
   "cell_type": "code",
   "execution_count": 9,
   "source": [
    "print(\"Brasil\", \"ganhou\", 5, \"titulos mundiais\", sep=\"-\")"
   ],
   "outputs": [
    {
     "output_type": "stream",
     "name": "stdout",
     "text": [
      "Brasil-ganhou-5-titulos mundiais\n"
     ]
    }
   ],
   "metadata": {}
  },
  {
   "cell_type": "markdown",
   "source": [
    "## Imprimindo com pprint( )"
   ],
   "metadata": {}
  },
  {
   "cell_type": "code",
   "execution_count": 5,
   "source": [
    "from pprint import pprint\r\n",
    "\r\n",
    "# ! Imprimindo com pprint + width\r\n",
    "\r\n",
    "cliente = {'nome': 'Livio', 'Idade': 40, 'Cidade': 'Belo Horizonte'}\r\n",
    "\r\n",
    "pprint(cliente, width=40)"
   ],
   "outputs": [
    {
     "output_type": "stream",
     "name": "stdout",
     "text": [
      "{'Cidade': 'Belo Horizonte',\n",
      " 'Idade': 40,\n",
      " 'nome': 'Livio'}\n"
     ]
    }
   ],
   "metadata": {}
  },
  {
   "cell_type": "markdown",
   "source": [
    "# **round()**"
   ],
   "metadata": {}
  },
  {
   "cell_type": "code",
   "execution_count": 14,
   "source": [
    "# Retorna o valor com arredondamento\r\n",
    "round(3.14151922,2)"
   ],
   "outputs": [
    {
     "output_type": "execute_result",
     "data": {
      "text/plain": [
       "3.14"
      ]
     },
     "metadata": {},
     "execution_count": 14
    }
   ],
   "metadata": {}
  },
  {
   "cell_type": "markdown",
   "source": [
    "# os.path.isdir\r\n",
    "\r\n",
    "Este método vai nos retornar um booleano, True ou False, que vai dizer se o diretório existe ou não"
   ],
   "metadata": {}
  },
  {
   "cell_type": "code",
   "execution_count": 2,
   "source": [
    "from os.path import isdir\r\n",
    "\r\n",
    "diretorio = \"c:\\\\\"\r\n",
    "\r\n",
    "if isdir(diretorio):\r\n",
    "    print(f\"O diretório {diretorio} existe!\")\r\n",
    "else:\r\n",
    "    print(\"O diretório não existe!\")"
   ],
   "outputs": [
    {
     "output_type": "stream",
     "name": "stdout",
     "text": [
      "O diretório c:\\ existe!\n"
     ]
    }
   ],
   "metadata": {}
  },
  {
   "cell_type": "code",
   "execution_count": 3,
   "source": [
    "diretorio = \"xx:\\\\\"\r\n",
    "\r\n",
    "if isdir(diretorio):\r\n",
    "    print(f\"O diretório {diretorio} existe!\")\r\n",
    "else:\r\n",
    "    print(\"O diretório não existe!\")"
   ],
   "outputs": [
    {
     "output_type": "stream",
     "name": "stdout",
     "text": [
      "O diretório não existe!\n"
     ]
    }
   ],
   "metadata": {}
  }
 ],
 "metadata": {
  "interpreter": {
   "hash": "325cb660cce599eef17833f9bb0afcb0e3dbe3e8605c570c8e00eb36d04c5df3"
  },
  "kernelspec": {
   "name": "python3",
   "display_name": "Python 3.9.5 64-bit ('venv': venv)"
  },
  "language_info": {
   "codemirror_mode": {
    "name": "ipython",
    "version": 3
   },
   "file_extension": ".py",
   "mimetype": "text/x-python",
   "name": "python",
   "nbconvert_exporter": "python",
   "pygments_lexer": "ipython3",
   "version": "3.9.5"
  },
  "orig_nbformat": 4
 },
 "nbformat": 4,
 "nbformat_minor": 2
}