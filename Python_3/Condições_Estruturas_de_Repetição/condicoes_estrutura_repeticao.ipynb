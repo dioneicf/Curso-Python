{
 "metadata": {
  "language_info": {
   "codemirror_mode": {
    "name": "ipython",
    "version": 3
   },
   "file_extension": ".py",
   "mimetype": "text/x-python",
   "name": "python",
   "nbconvert_exporter": "python",
   "pygments_lexer": "ipython3",
   "version": "3.9.5"
  },
  "orig_nbformat": 4,
  "kernelspec": {
   "name": "python3",
   "display_name": "Python 3.9.5  ('venv': venv)"
  },
  "interpreter": {
   "hash": "325cb660cce599eef17833f9bb0afcb0e3dbe3e8605c570c8e00eb36d04c5df3"
  }
 },
 "nbformat": 4,
 "nbformat_minor": 2,
 "cells": [
  {
   "source": [
    "<h1><font color=#32CD32>Condições e Estruturas de Repetição</font></h1>"
   ],
   "cell_type": "markdown",
   "metadata": {}
  },
  {
   "source": [
    "<h2><font color=#00BFFF>Tabela operações de conjunto</font></h2>\n",
    "<img src=\"Tabela operações de conjunto de Python.png\">"
   ],
   "cell_type": "markdown",
   "metadata": {}
  },
  {
   "source": [
    "<h2><font color=#00BFFF>for</font></h2>"
   ],
   "cell_type": "markdown",
   "metadata": {}
  },
  {
   "cell_type": "code",
   "execution_count": 14,
   "metadata": {},
   "outputs": [
    {
     "output_type": "stream",
     "name": "stdout",
     "text": [
      "P\ny\nt\no\nn\n"
     ]
    }
   ],
   "source": [
    "for verificador in \"Python\":\n",
    "    if verificador == \"h\":\n",
    "        continue # ira pular o comando abaixo\n",
    "    print(verificador)"
   ]
  },
  {
   "source": [
    "<h3><font color=#DAA520>for com continue / break</font></h3>"
   ],
   "cell_type": "markdown",
   "metadata": {}
  },
  {
   "cell_type": "code",
   "execution_count": 4,
   "metadata": {},
   "outputs": [
    {
     "output_type": "stream",
     "name": "stdout",
     "text": [
      "1\n3\n7\n12\n"
     ]
    }
   ],
   "source": [
    "# exemplo de for\n",
    "sequence = [1, 2, None, 4, None, 5] \n",
    "total = 0 \n",
    "for value in sequence: \n",
    "    if value is None: \n",
    "        continue \n",
    "    total += value\n",
    "\n",
    "    print(total)"
   ]
  },
  {
   "cell_type": "code",
   "execution_count": 5,
   "metadata": {},
   "outputs": [
    {
     "output_type": "stream",
     "name": "stdout",
     "text": [
      "1\n3\n3\n7\n13\n"
     ]
    }
   ],
   "source": [
    "#For com break\n",
    "sequence = [1, 2, 0, 4, 6, 5, 2, 1] \n",
    "total_until_5 = 0 \n",
    "for value in sequence: \n",
    "    if value == 5: \n",
    "        break \n",
    "    total_until_5 += value\n",
    "    print(total_until_5)"
   ]
  },
  {
   "cell_type": "code",
   "execution_count": 9,
   "metadata": {},
   "outputs": [
    {
     "output_type": "stream",
     "name": "stdout",
     "text": [
      "Total da soma de números pares é 8\n"
     ]
    }
   ],
   "source": [
    "r = 0\n",
    "for c in range(1,5):\n",
    "    n = int(input('Digite o número {}: '.format(c)))\n",
    "    if n % 2 == 0:\n",
    "        r += n\n",
    "print(f'Total da soma de números pares é {r}')"
   ]
  },
  {
   "cell_type": "code",
   "execution_count": 10,
   "metadata": {},
   "outputs": [
    {
     "output_type": "stream",
     "name": "stdout",
     "text": [
      "Eu vou comer Hambúrguer na posição 0\nEu vou comer suco na posição 1\nEu vou comer Pizza na posição 2\nEu vou comer Pudim na posição 3\n"
     ]
    }
   ],
   "source": [
    "#for com enumerate\n",
    "lanche = ('Hambúrguer', 'suco', 'Pizza', 'Pudim') #Tupla não precisa colocar parenteses *Python>3.5\n",
    "for c, comida in enumerate(lanche):\n",
    "    print(f'Eu vou comer {comida} na posição {c}')"
   ]
  },
  {
   "source": [
    "<h2><font color=#00BFFF>if - elif - else</font></h2>"
   ],
   "cell_type": "markdown",
   "metadata": {}
  },
  {
   "cell_type": "code",
   "execution_count": 1,
   "metadata": {},
   "outputs": [
    {
     "output_type": "stream",
     "name": "stdout",
     "text": [
      "O carro tem 1 ano de uso, seu carro é novo!\n---Fim---\n"
     ]
    }
   ],
   "source": [
    "from random import randint\n",
    "tempo = int(randint(1, 10))\n",
    "# Quando tem somente o if é uma estrutura simples e quando tem else é uma composta\n",
    "if tempo == 1:\n",
    "    print('O carro tem 1 ano de uso, seu carro é novo!')\n",
    "elif tempo <= 5:\n",
    "    print('O carro tem {} anos de uso, seu carro é novo!'.format(tempo))\n",
    "else:\n",
    "    print('O carro tem {} anos de uso, seu carro é velho!'.format(tempo))\n",
    "print('---Fim---')"
   ]
  },
  {
   "source": [
    "<h3><font color=#DAA520>Condição simplificada somente uma linha</font></h3>"
   ],
   "cell_type": "markdown",
   "metadata": {}
  },
  {
   "cell_type": "code",
   "execution_count": 2,
   "metadata": {},
   "outputs": [
    {
     "output_type": "stream",
     "name": "stdout",
     "text": [
      "Carro Velho!\n"
     ]
    }
   ],
   "source": [
    "from random import randint\n",
    "tempo = int(randint(1, 10))\n",
    "#Forma de condição simplificada\n",
    "print('Carro Novo!' if tempo <= 5 else 'Carro Velho!')"
   ]
  },
  {
   "cell_type": "code",
   "execution_count": 3,
   "metadata": {},
   "outputs": [
    {
     "output_type": "stream",
     "name": "stdout",
     "text": [
      "cnpj\n"
     ]
    }
   ],
   "source": [
    "#doc = '04643893648'\n",
    "doc = '35379838000112'\n",
    "\n",
    "tpdoc = 'cpf' if len(doc) == 11 else 'cnpj' if len(doc) == 14 else 'Numero de digitos invalidos'\n",
    "\n",
    "print(tpdoc)"
   ]
  },
  {
   "source": [
    "<h2><font color=#00BFFF>while</font></h2>"
   ],
   "cell_type": "markdown",
   "metadata": {}
  },
  {
   "cell_type": "code",
   "execution_count": 11,
   "metadata": {},
   "outputs": [
    {
     "output_type": "stream",
     "name": "stdout",
     "text": [
      "total cont 1=  256\nx cont 1=  128\ntotal cont 2=  384\nx cont 2=  64\ntotal cont 3=  448\nx cont 3=  32\ntotal cont 4=  480\nx cont 4=  16\ntotal cont 5=  496\nx cont 5=  8\ntotal cont 6=  504\nx cont 6=  4\n"
     ]
    }
   ],
   "source": [
    "x = 256\n",
    "total = 0\n",
    "contador = 0\n",
    "while x > 0:\n",
    "    if total > 500:\n",
    "        break\n",
    "    contador = contador + 1\n",
    "    total += x\n",
    "    x = x // 2\n",
    "    print(f'total cont {contador}= ', total)\n",
    "    print(f'x cont {contador}= ', x)"
   ]
  },
  {
   "cell_type": "code",
   "execution_count": 12,
   "metadata": {},
   "outputs": [
    {
     "output_type": "stream",
     "name": "stdout",
     "text": [
      "A soma vale 20\n"
     ]
    }
   ],
   "source": [
    "# while True\n",
    "n = s = 0\n",
    "while True:\n",
    "    n = int(input('Digite um número ou 999 para parar:'))\n",
    "    if n == 999:\n",
    "        break\n",
    "    s += n\n",
    "print('A soma vale {}'.format(s))"
   ]
  },
  {
   "source": [
    "<h3><font color=#DAA520>while com break e pass</font></h3>"
   ],
   "cell_type": "markdown",
   "metadata": {}
  },
  {
   "cell_type": "code",
   "execution_count": 15,
   "metadata": {},
   "outputs": [
    {
     "output_type": "stream",
     "name": "stdout",
     "text": [
      "0\n1\n2\n3\n"
     ]
    }
   ],
   "source": [
    "counter = 0\n",
    "while counter < 100:\n",
    "    if counter == 4:\n",
    "        break\n",
    "    else:\n",
    "        pass # irá seguir com codigo\n",
    "    print(counter)\n",
    "    counter = counter + 1"
   ]
  }
 ]
}