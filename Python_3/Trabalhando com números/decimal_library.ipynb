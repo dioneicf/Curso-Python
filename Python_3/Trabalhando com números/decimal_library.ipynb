{
 "metadata": {
  "language_info": {
   "codemirror_mode": {
    "name": "ipython",
    "version": 3
   },
   "file_extension": ".py",
   "mimetype": "text/x-python",
   "name": "python",
   "nbconvert_exporter": "python",
   "pygments_lexer": "ipython3",
   "version": "3.9.5"
  },
  "orig_nbformat": 4,
  "kernelspec": {
   "name": "python3",
   "display_name": "Python 3.9.5  ('venv': venv)"
  },
  "interpreter": {
   "hash": "325cb660cce599eef17833f9bb0afcb0e3dbe3e8605c570c8e00eb36d04c5df3"
  }
 },
 "nbformat": 4,
 "nbformat_minor": 2,
 "cells": [
  {
   "source": [
    "<h1><font color=#32CD32>Trabalhando com precisão em números decimais</font></h1>\n",
    "\n",
    "https://www.alura.com.br/artigos/precisao-numeros-decimais-python\n"
   ],
   "cell_type": "markdown",
   "metadata": {}
  },
  {
   "cell_type": "code",
   "execution_count": 4,
   "metadata": {},
   "outputs": [
    {
     "output_type": "stream",
     "name": "stdout",
     "text": [
      "O tipo da variável ganhos_julho é <class 'float'>\nO valor é = 499.54999999999995\n\nO tipo da variável gastos_julho é <class 'float'>\nO valor é = 330.29999999999995\n"
     ]
    }
   ],
   "source": [
    "ganhos_julho = 99.91 * 5\n",
    "gastos_julho = 110.1 * 3\n",
    "\n",
    "print(f'O tipo da variável ganhos_julho é {type(ganhos_julho)}\\nO valor é = {ganhos_julho}')\n",
    "print(f'\\nO tipo da variável gastos_julho é {type(gastos_julho)}\\nO valor é = {gastos_julho}')"
   ]
  },
  {
   "source": [
    "<h3><font color=#DAA520>Solucionando con int()</font></h3>\n",
    "Muito cuidado ao armazenar esta informação no banco de dados, é boa pratica conversamos com responsáveis e verificar qual regra para arredondamento, quando se trata de valores financeiros devemos usar a biblioteca Decimal. Lembramos que o uso da mesma será um desperdicio de processamente o uso deve ser somente quando necessário.\n",
    "\n",
    "O problema da solução do inteiro é que deve criar uma logica de armazenar sempre o número na menor moeda, neste exemplo o centavos e ao mostrar transformar o mesmo em reais.\n",
    "\n",
    "A biblioteca Decimal ja faz todo este serviço com os padrões de arredondamento, mas lembre-se de sempre conversar com resposável para sempre estar alinhado com o arredondamento, uma vez que estamos falando de valores financeiros."
   ],
   "cell_type": "markdown",
   "metadata": {}
  },
  {
   "cell_type": "code",
   "execution_count": 6,
   "metadata": {},
   "outputs": [
    {
     "output_type": "stream",
     "name": "stdout",
     "text": [
      "O tipo da variável ganhos_julho é <class 'int'>\nO valor é = 499.55\n\nO tipo da variável gastos_julho é <class 'int'>\nO valor é = 330.3\n"
     ]
    }
   ],
   "source": [
    "ganhos_julho = int(99.91 * 100) * 5\n",
    "gastos_julho = int(110.1 * 100) * 3\n",
    "\n",
    "print(f'O tipo da variável ganhos_julho é {type(ganhos_julho)}\\nO valor é = {ganhos_julho/100}')\n",
    "print(f'\\nO tipo da variável gastos_julho é {type(gastos_julho)}\\nO valor é = {gastos_julho/100}')"
   ]
  },
  {
   "source": [
    "<h2><font color=#00BFFF>Trabalhando com precisão com o tipo decimal</font></h2>\n",
    "<h3><font color=#DAA520>biblioteca decimal</font></h3>"
   ],
   "cell_type": "markdown",
   "metadata": {}
  },
  {
   "cell_type": "code",
   "execution_count": 9,
   "metadata": {},
   "outputs": [
    {
     "output_type": "stream",
     "name": "stdout",
     "text": [
      "O tipo da variável ganhos_julho é <class 'decimal.Decimal'>\nO valor é = 499.55\n\nO tipo da variável gastos_julho é <class 'decimal.Decimal'>\nO valor é = 330.3\n999.10\n"
     ]
    }
   ],
   "source": [
    "from decimal import Decimal\n",
    "\n",
    "ganhos_julho = Decimal('99.91') * 5\n",
    "gastos_julho = Decimal('110.1') * 3\n",
    "\n",
    "print(f'O tipo da variável ganhos_julho é {type(ganhos_julho)}\\nO valor é = {ganhos_julho}')\n",
    "print(f'\\nO tipo da variável gastos_julho é {type(gastos_julho)}\\nO valor é = {gastos_julho}')"
   ]
  },
  {
   "source": [
    "<h2><font color=#00BFFF>Observações importantes!</font></h2>"
   ],
   "cell_type": "markdown",
   "metadata": {}
  },
  {
   "source": [
    "Usando a precisão exata quando precisamos\n",
    "Começamos com um problema o tipo float, do Python, não conseguia nos devolver um resultado exato de um cálculo. Logo entendemos que o problema não estava no Python, em si, mas no float e em como o computador lida com ele.\n",
    "\n",
    "Como estávamos lidando com dinheiro, a precisão nos cálculos era fundamental. Assim, precisávamos de alguma solução. Demos uma olhada em como podemos transformar tudo em números inteiros (por exemplo, transformando o valor monetário de Real para centavos), o que, algumas vezes, pode ser uma boa saída.\n",
    "\n",
    "Tratar todos os números como inteiros, entretanto, tem suas consequências negativas, como um possível overflow e problemas de manutenção de código. Queríamos uma solução melhor e… conseguimos!\n",
    "\n",
    "Aprendemos que a maioria das linguagens de programação tem algum tipo numérico exato para evitar esse problema. No caso do Python, esse tipo é o Decimal, com precisão arbitrária. Com ele, nossos cálculos ganharam a precisão necessária e acabamos com todo o problema inicial.\n",
    "\n",
    "Uma intuição natural depois de se conhecer os tipos numéricos exatos nas linguagens de programação, como o Decimal, é querer usá-los para tudo. Apesar disso, é importante sempre analisarmos se vale a pena - tipos exatos demandam mais tempo de processamento.\n",
    "\n",
    "Normalmente, um pequeno erro na 10ª casa decimal de um número é irrelevante, e a precisão exata desnecessária. Por isso, temos sempre que analisar o contexto de nosso próprio programa antes de aplicar uma decisão."
   ],
   "cell_type": "markdown",
   "metadata": {}
  }
 ]
}