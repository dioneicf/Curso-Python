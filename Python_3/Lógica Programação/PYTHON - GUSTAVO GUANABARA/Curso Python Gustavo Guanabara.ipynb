{
 "cells": [
  {
   "cell_type": "markdown",
   "metadata": {},
   "source": [
    "<h1><font color=\"red\">CURSO PYTHON GUSTAVO GUANABARA</font></h1>"
   ]
  },
  {
   "cell_type": "markdown",
   "metadata": {},
   "source": [
    "<h2>Aula 06</h2>"
   ]
  },
  {
   "cell_type": "code",
   "execution_count": 1,
   "metadata": {},
   "outputs": [
    {
     "name": "stdout",
     "output_type": "stream",
     "text": [
      "====== Desafio 03 ======\n",
      "Digite um valor: 5\n",
      "<class 'str'>\n",
      "<class 'int'>\n",
      "Digite um valor: 5\n",
      "A soma entre 5 e 5 vale 10\n",
      "====== Desafio 04 ======\n",
      "Digite algo:5\n",
      "True\n",
      "False\n",
      "True\n",
      "True\n",
      "False\n",
      "True\n",
      "False\n"
     ]
    }
   ],
   "source": [
    "print('====== Desafio 03 ======')\n",
    "n1 = input('Digite um valor: ')\n",
    "print(type(n1))\n",
    "n1 = int(n1)\n",
    "print(type(n1))\n",
    "n2 = int(input('Digite um valor: '))\n",
    "\n",
    "s= n1 + n2\n",
    "print('A soma entre {} e {} vale {}'.format(n1, n2, s))"
   ]
  },
  {
   "cell_type": "code",
   "execution_count": 2,
   "metadata": {},
   "outputs": [
    {
     "name": "stdout",
     "output_type": "stream",
     "text": [
      "====== Desafio 04 ======\n",
      "Digite algo:20\n",
      "True\n",
      "False\n",
      "True\n",
      "True\n",
      "False\n",
      "True\n",
      "False\n"
     ]
    }
   ],
   "source": [
    "print('====== Desafio 04 ======')\n",
    "x1 = input('Digite algo:')\n",
    "print(x1.isalnum())\n",
    "print(x1.isalpha())\n",
    "print(x1.isprintable())\n",
    "print(x1.isnumeric())\n",
    "print(x1.islower())\n",
    "print(x1.isdecimal())\n",
    "print(x1.isupper())"
   ]
  },
  {
   "cell_type": "markdown",
   "metadata": {},
   "source": [
    "<h3><font color=#00BFFF>Exercicío 001</font></h3>"
   ]
  },
  {
   "cell_type": "code",
   "execution_count": 4,
   "metadata": {},
   "outputs": [
    {
     "name": "stdout",
     "output_type": "stream",
     "text": [
      "Olá, Mundo!\n"
     ]
    }
   ],
   "source": [
    "msg = 'Olá, Mundo!'\n",
    "print(msg)"
   ]
  },
  {
   "cell_type": "markdown",
   "metadata": {},
   "source": [
    "<h3><font color=#00BFFF>Exercicío 002</font></h3>"
   ]
  },
  {
   "cell_type": "code",
   "execution_count": 5,
   "metadata": {},
   "outputs": [
    {
     "name": "stdout",
     "output_type": "stream",
     "text": [
      "Digite seu nome:Livio Alvarenga\n",
      "É uma prazer te conhecer Livio Alvarenga!\n"
     ]
    }
   ],
   "source": [
    "nome = input('Digite seu nome:')\n",
    "print('É uma prazer te conhecer {}!'.format(nome))"
   ]
  },
  {
   "cell_type": "markdown",
   "metadata": {},
   "source": [
    "<h3><font color=#00BFFF>Exercicío 003 - Somando doi números</font></h3>\n",
    "#Crie um programa que leia dois números e mostre a soma entre eles."
   ]
  },
  {
   "cell_type": "code",
   "execution_count": 6,
   "metadata": {},
   "outputs": [
    {
     "name": "stdout",
     "output_type": "stream",
     "text": [
      "Digite um número:2\n",
      "Digite mais um número:3\n",
      "A soma de 2 + 3 = 5!\n"
     ]
    }
   ],
   "source": [
    "n1 = int(input('Digite um número:'))\n",
    "n2 = int(input('Digite mais um número:'))\n",
    "s = n1+n2\n",
    "print('A soma de {} + {} = {}!'.format(n1, n2,s))"
   ]
  },
  {
   "cell_type": "markdown",
   "metadata": {},
   "source": [
    "<h3><font color=#00BFFF>Exercicío 004 - Dissecando uma Variável</font></h3>\n",
    "#Faça um programa que leia algo pelo teclado e mostre na tela o seu tipo primitivo e todas as informações possíveis sobre ele."
   ]
  },
  {
   "cell_type": "code",
   "execution_count": 9,
   "metadata": {},
   "outputs": [
    {
     "name": "stdout",
     "output_type": "stream",
     "text": [
      "Digite algo:4a\n",
      "O tipo primitivo desse valor (4a) é  <class 'str'>\n",
      "(4a) só tem espaços?  False\n",
      "(4a) é um número?  False\n",
      "(4a) é alfabético?  False\n",
      "(4a) é alfanumérico?  True\n",
      "(4a) está em maiúscula?  False\n",
      "(4a) está em minúscula?  True\n",
      "(4a) esta capitalizada?  False\n"
     ]
    }
   ],
   "source": [
    "a = input('Digite algo:')\n",
    "print('O tipo primitivo desse valor ({}) é '.format(a), type(a))\n",
    "print('({}) só tem espaços? '.format(a), a.isspace())\n",
    "print('({}) é um número? '.format(a), a.isnumeric())\n",
    "print('({}) é alfabético? '.format(a), a.isalpha())\n",
    "print('({}) é alfanumérico? '.format(a), a.isalnum())\n",
    "print('({}) está em maiúscula? '.format(a), a.isupper())\n",
    "print('({}) está em minúscula? '.format(a), a.islower())\n",
    "print('({}) esta capitalizada? '.format(a), a.istitle())\n",
    "# a é um objeto.\n",
    "# istitle() é um metodo."
   ]
  },
  {
   "cell_type": "markdown",
   "metadata": {},
   "source": [
    "<h2>Aula 07 - Operadores Aritméticos</h2>"
   ]
  },
  {
   "cell_type": "code",
   "execution_count": 10,
   "metadata": {},
   "outputs": [
    {
     "name": "stdout",
     "output_type": "stream",
     "text": [
      "Qual é seu nome?Livio\n",
      "Prazer em te conhecer Livio!\n",
      "Prazer em te conhecer Livio               !\n",
      "Prazer em te conhecer                Livio!\n",
      "Prazer em te conhecer Livio               !\n",
      "Prazer em te conhecer        Livio        !\n",
      "Prazer em te conhecer =======Livio========!\n"
     ]
    }
   ],
   "source": [
    "# Tecnicas de print\n",
    "nome = input('Qual é seu nome?')\n",
    "print('Prazer em te conhecer {}!'.format(nome))\n",
    "print('Prazer em te conhecer {:20}!'.format(nome))\n",
    "print('Prazer em te conhecer {:>20}!'.format(nome))\n",
    "print('Prazer em te conhecer {:<20}!'.format(nome))\n",
    "print('Prazer em te conhecer {:^20}!'.format(nome))\n",
    "print('Prazer em te conhecer {:=^20}!'.format(nome))"
   ]
  },
  {
   "cell_type": "code",
   "execution_count": 11,
   "metadata": {},
   "outputs": [
    {
     "name": "stdout",
     "output_type": "stream",
     "text": [
      "Digite um número:10\n",
      "Digite outro número:20\n",
      "A soma é 30, \n",
      "o produto é 200 \n",
      "e a divisão é 0.500. Divisão inteira 0 e a potência 100000000000000000000\n"
     ]
    }
   ],
   "source": [
    "n1 = int(input('Digite um número:'))\n",
    "n2 = int(input('Digite outro número:'))\n",
    "s = n1 + n2\n",
    "m = n1 * n2\n",
    "d = n1 / n2\n",
    "di = n1 // n2\n",
    "e = n1 ** n2\n",
    "print('A soma é {}, \\no produto é {} \\ne a divisão é {:.3f}'.format(s, m, d), end='. ')\n",
    "print('Divisão inteira {} e a potência {}'.format(di, e))"
   ]
  },
  {
   "cell_type": "markdown",
   "metadata": {},
   "source": [
    "<h3><font color=#00BFFF>Exercicío 005 - Antecessor e Sucessor</font></h3>\n",
    "#Faça um programa que leia um número Inteiro e mostre na tela o seu sucessor e seu antecessor."
   ]
  },
  {
   "cell_type": "code",
   "execution_count": 12,
   "metadata": {},
   "outputs": [
    {
     "name": "stdout",
     "output_type": "stream",
     "text": [
      "Digite um numero inteiro:10\n",
      "O antecessor de 10 é:\n",
      " 9.00 \n",
      "O sucessor de 10 é: \n",
      " 11.00\n"
     ]
    }
   ],
   "source": [
    "n1 = int(input('Digite um numero inteiro:'))\n",
    "s = n1 + 1\n",
    "a = n1 - 1\n",
    "print('O antecessor de {} é:\\n {:.2f}'.format(n1, a), end=' \\n')\n",
    "print('O sucessor de {} é: \\n {:.2f}'.format(n1, s))"
   ]
  },
  {
   "cell_type": "markdown",
   "metadata": {},
   "source": [
    "<h3><font color=#00BFFF>Exercicío 006 - Dobro, Triplo, Raiz Quadrada</font></h3>\n",
    "#Crie um algoritmo que leia um número e mostre o seu dobro, triplo e raiz quadrada."
   ]
  },
  {
   "cell_type": "code",
   "execution_count": 13,
   "metadata": {},
   "outputs": [
    {
     "name": "stdout",
     "output_type": "stream",
     "text": [
      "Digite um número:9\n",
      "O dobro do número 9 é igual: \n",
      " 18.00 \n",
      " O triplo do número 9 é igual: \n",
      " 27.00 \n",
      "A rais quadrada do número 9 é igual: \n",
      " 3.00\n"
     ]
    }
   ],
   "source": [
    "n1 = int(input('Digite um número:'))\n",
    "d = n1 * 2\n",
    "t = n1 * 3\n",
    "r = n1 ** (1/2)\n",
    "print('O dobro do número {} é igual: \\n {:.2f} \\n O triplo do número {} é igual: \\n {:.2f}'.format(n1, d, n1, t), end= ' \\n')\n",
    "print('A rais quadrada do número {} é igual: \\n {:.2f}'.format(n1, r))"
   ]
  },
  {
   "cell_type": "markdown",
   "metadata": {},
   "source": [
    "<h3><font color=#00BFFF>Exercicío 007 - Média Aritmética</font></h3>\n",
    "#Desenvolva um programa que leia as duas notas de um aluno, calcule e mostre a sua média."
   ]
  },
  {
   "cell_type": "code",
   "execution_count": 14,
   "metadata": {},
   "outputs": [
    {
     "name": "stdout",
     "output_type": "stream",
     "text": [
      "Digite sua primeira nota:60\n",
      "Digite sua segunda nota:81\n",
      "Nota 1 é igual: 60 \n",
      "Nota 2 é igual: 81 \n",
      "A média das notas é igual: 70.50\n"
     ]
    }
   ],
   "source": [
    "n1 = int(input('Digite sua primeira nota:'))\n",
    "n2 = int(input('Digite sua segunda nota:'))\n",
    "m = (n1+n2)/2\n",
    "print('Nota 1 é igual: {} \\nNota 2 é igual: {} \\nA média das notas é igual: {:.2f}'.format(n1, n2, m))"
   ]
  },
  {
   "cell_type": "markdown",
   "metadata": {},
   "source": [
    "<h3><font color=#00BFFF>Exercicío 008 - Conversor de Medidas</font></h3>\n",
    "#Escreva um programa que leia um valor em metros e o exiba convertido em centímetros e milímetros."
   ]
  },
  {
   "cell_type": "code",
   "execution_count": 15,
   "metadata": {},
   "outputs": [
    {
     "name": "stdout",
     "output_type": "stream",
     "text": [
      "Digite um número em metros:100\n",
      "100.0 metros é igual a 10000.0 centimetros e 100000.0 milimetros.\n"
     ]
    }
   ],
   "source": [
    "m = float(input('Digite um número em metros:'))\n",
    "c = m * 100\n",
    "mm = m * 1000\n",
    "if m == 1:\n",
    "    print('{} metro é igual a {} centimetros e {} milimetros.'.format(m, c, mm))\n",
    "elif m > 1:\n",
    "    print('{} metros é igual a {} centimetros e {} milimetros.'.format(m, c, mm))"
   ]
  },
  {
   "cell_type": "markdown",
   "metadata": {},
   "source": [
    "<h3><font color=#00BFFF>Exercicío 009 - Tabuada</font></h3>\n",
    "#Faça um programa que leia um número Inteiro qualquer e mostre na tela a sua tabuada."
   ]
  },
  {
   "cell_type": "code",
   "execution_count": 19,
   "metadata": {},
   "outputs": [
    {
     "name": "stdout",
     "output_type": "stream",
     "text": [
      "Digite um numero inteiro:2\n",
      "A tabuada do numero 2 é:\n",
      "============\n",
      "|2 x 1 = 2|\n",
      "|2 x 2 = 4|\n",
      "|2 x 3 = 6|\n",
      "|2 x 4 = 8|\n",
      "|2 x 5 = 10|\n",
      "|2 x 6 = 12|\n",
      "|2 x 7 = 14|\n",
      "|2 x 8 = 16|\n",
      "|2 x 9 = 18|\n",
      "|2 x 10 = 20|\n",
      "============\n"
     ]
    }
   ],
   "source": [
    "n = int(input('Digite um numero inteiro:'))\n",
    "n1 = n * 1\n",
    "n2 = n * 2\n",
    "n3 = n * 3\n",
    "n4 = n * 4\n",
    "n5 = n * 5\n",
    "n6 = n * 6\n",
    "n7 = n * 7\n",
    "n8 = n * 8\n",
    "n9 = n * 9\n",
    "n10 = n * 10\n",
    "print('A tabuada do numero {} é:'.format(n))\n",
    "print(12*'=' + '\\n|{} x 1 = {}|\\n|{} x 2 = {}|\\n|{} x 3 = {}|\\n|{} x 4 = {}|'.format(n, n1, n, n2, n, n3, n, n4))\n",
    "print('|{} x 5 = {}|\\n|{} x 6 = {}|\\n|{} x 7 = {}|\\n|{} x 8 = {}|\\n|{} x 9 = {}|\\n|{} x 10 = {}|\\n'.format(n, n5, n, n6, n, n7, n, n8, n, n9, n, n10) + 12*'=')"
   ]
  },
  {
   "cell_type": "markdown",
   "metadata": {},
   "source": [
    "<h3><font color=#00BFFF>Exercicío 010 - Conversor de Moedas</font></h3>\n",
    "#Crie um programa que leia quanto dinheiro uma pessoa tem na carteira e mostre quantos dólares ela pode comprar."
   ]
  },
  {
   "cell_type": "code",
   "execution_count": 20,
   "metadata": {},
   "outputs": [
    {
     "name": "stdout",
     "output_type": "stream",
     "text": [
      "Digite o valor em reais R$:1000\n",
      "Você pode comprar U$$305.81 com R$1000.00\n"
     ]
    }
   ],
   "source": [
    "vlr = float(input('Digite o valor em reais R$:'))\n",
    "#considerar U$$1,00=R$3,27\n",
    "d = vlr / 3.27\n",
    "print('Você pode comprar U$${:.2f} com R${:.2f}'.format(d, vlr))"
   ]
  },
  {
   "cell_type": "markdown",
   "metadata": {},
   "source": [
    "<h3><font color=#00BFFF>Exercicío 011 - Pintando Parede</font></h3>\n",
    "#Faça um programa que leia a largura e a altura de uma parede em metros, calcule a sua área e a quantidade de tinta necessária para pintá-la, sabendo que cada litro de tinta pinta uma área de 2 metros quadrados."
   ]
  },
  {
   "cell_type": "code",
   "execution_count": 22,
   "metadata": {},
   "outputs": [
    {
     "name": "stdout",
     "output_type": "stream",
     "text": [
      "Qual a largura da parede?2\n",
      "Qual a altura da parede?3\n",
      "Você precisa de 3.00 litros de tinta para pintar uma parede de 6.0m².\n"
     ]
    }
   ],
   "source": [
    "l = float(input('Qual a largura da parede?'))\n",
    "a = float(input('Qual a altura da parede?'))\n",
    "t = (l * a) / 2\n",
    "print('Você precisa de {:.2f} litros de tinta para pintar uma parede de {}m².'.format(t, (l * a)))"
   ]
  },
  {
   "cell_type": "markdown",
   "metadata": {},
   "source": [
    "<h3><font color=#00BFFF>Exercicío 012 - Calculando Descontos</font></h3>\n",
    "#Faça um algoritmo que leia o preço de um produto e mostre seu novo preço, com 5% de desconto."
   ]
  },
  {
   "cell_type": "code",
   "execution_count": 23,
   "metadata": {},
   "outputs": [
    {
     "name": "stdout",
     "output_type": "stream",
     "text": [
      "Digite o preço do produto:100\n",
      "O valor do produto é R$100.00 menos 5% de desconto (R$5.00): \n",
      "O valor a ser pago é R$95.00\n"
     ]
    }
   ],
   "source": [
    "p = float(input('Digite o preço do produto:'))\n",
    "d = p - p*0.05\n",
    "print('O valor do produto é R${:.2f} menos 5% de desconto (R${:.2f}): \\nO valor a ser pago é R${:.2f}'.format(p, p*0.05, d))"
   ]
  },
  {
   "cell_type": "markdown",
   "metadata": {},
   "source": [
    "<h3><font color=#00BFFF>Exercicío 013 - Reajuste Salarial</font></h3>\n",
    "#Faça um algoritmo que leia o salário de um funcionário e mostre seu novo salário, com 15% de aumento."
   ]
  },
  {
   "cell_type": "code",
   "execution_count": 24,
   "metadata": {},
   "outputs": [
    {
     "name": "stdout",
     "output_type": "stream",
     "text": [
      "Digite o valor do salário:10000\n",
      "O salário antigo R$10000.00 com acrescimo de 15% (R$1500.00): \n",
      "Aumento é igual a R$11500.00\n"
     ]
    }
   ],
   "source": [
    "s = float(input('Digite o valor do salário:'))\n",
    "x = s * 1.15\n",
    "print('O salário antigo R${:.2f} com acrescimo de 15% (R${:.2f}): \\nAumento é igual a R${:.2f}'.format(s, s*0.15, x))"
   ]
  },
  {
   "cell_type": "markdown",
   "metadata": {},
   "source": [
    "<h3><font color=#00BFFF>Exercicío 014 - Conversor de Temperaturas</font></h3>\n",
    "#Escreva um programa que converta uma temperatura digitando em graus Celsius e converta para graus Fahrenheit."
   ]
  },
  {
   "cell_type": "code",
   "execution_count": 25,
   "metadata": {},
   "outputs": [
    {
     "name": "stdout",
     "output_type": "stream",
     "text": [
      "Digite a temperatura em cº:40\n",
      "40.0 °C é igual à 104.0 ºF\n"
     ]
    }
   ],
   "source": [
    "c = float(input('Digite a temperatura em cº:'))\n",
    "f = (c * 9/5) + 32\n",
    "print('{} °C é igual à {} ºF'.format(c, f))"
   ]
  },
  {
   "cell_type": "markdown",
   "metadata": {},
   "source": [
    "<h3><font color=#00BFFF>Exercicío 015 - Aluguel de Carros</font></h3>\n",
    "#Escreva um programa que pergunte a quantidade de Km percorridos por um carro alugado e a quantidade de dias pelos quais ele foi alugado. Calcule o preço a pagar, sabendo que o carro custa R$ 60 por dia e R$0,15 por Km rodado."
   ]
  },
  {
   "cell_type": "code",
   "execution_count": 26,
   "metadata": {},
   "outputs": [
    {
     "name": "stdout",
     "output_type": "stream",
     "text": [
      "Informe a quantidade de km rodados:500\n",
      "Informe a quantidade de dias alugado:5\n",
      "O valor a pagar é: \n",
      "R$300.00 por 5 dias\n",
      "R$75.00 por 500 Km\n",
      "Total a pagar R$375.00\n"
     ]
    }
   ],
   "source": [
    "k = float(input('Informe a quantidade de km rodados:'))\n",
    "d = int(input('Informe a quantidade de dias alugado:'))\n",
    "print('O valor a pagar é: \\nR${:.2f} por {} dias\\nR${:.2f} por {:.0f} Km\\nTotal a pagar R${:.2f}'\\\n",
    "      .format(60 * d, d, 0.15 * k, k, 60 * d + 0.15 * k))"
   ]
  },
  {
   "cell_type": "markdown",
   "metadata": {},
   "source": [
    "<h2>Aula 08 - Utilizando Módulos</h2>\n",
    "#Utilizando Módulos"
   ]
  },
  {
   "cell_type": "code",
   "execution_count": null,
   "metadata": {},
   "outputs": [],
   "source": [
    "# Para importar a biblioteca inteira use import e biblioteca\n",
    "# Para importar apenas um comando use from biblioteca import funcionalidade\n",
    "# emoji é um pacote externo\n",
    "import emoji\n",
    "from math import sqrt\n",
    "from random import randint\n",
    "\n",
    "# se importar por from, pode usar somente sqrt\n",
    "n = randint(1, 100)\n",
    "print('n = {}'.format(n))\n",
    "print(sqrt(n))\n",
    "\n",
    "# se importar a biblioteca toda tem que colocar a biblioteca\n",
    "import math\n",
    "print(math.sqrt(n))\n",
    "\n",
    "print(emoji.emojize(\"Testando a biblioteca de emoji :ogro:\", language='pt'))"
   ]
  },
  {
   "cell_type": "markdown",
   "metadata": {},
   "source": [
    "<h3><font color=#00BFFF>Exercicío 016 - Quebrando um número</font></h3>\n",
    "Crie um programa que leia um número Real qualquer pelo teclado e mostre na tela a sua porção Inteira."
   ]
  },
  {
   "cell_type": "code",
   "execution_count": 31,
   "metadata": {},
   "outputs": [
    {
     "name": "stdout",
     "output_type": "stream",
     "text": [
      "O numero real é -23.11 e sua porção inteira é: -24\n",
      "O numero real é -23.11 e sua porção inteira é: -23\n",
      "O número real é -23.11 e sua porção inteira é: -23\n"
     ]
    }
   ],
   "source": [
    "from math import floor, trunc\n",
    "\n",
    "n = float(-23.11)\n",
    "print('O numero real é {} e sua porção inteira é: {}'.format(n, floor(n)))\n",
    "#ou\n",
    "print('O numero real é {} e sua porção inteira é: {}'.format(n, trunc(n)))\n",
    "#ou sem importar modulos\n",
    "print('O número real é {} e sua porção inteira é: {}'.format(n, int(n)))"
   ]
  },
  {
   "cell_type": "markdown",
   "metadata": {},
   "source": [
    "<h3><font color=#00BFFF>Exercicío 017 - Catetos e Hipotenusa</font></h3>\n",
    "Faça um programa que leia o comprimento do cateto oposto e do cateto adjacente de um triângulo retângulo. Calcule e mostre o comprimento da hipotenusa."
   ]
  },
  {
   "cell_type": "code",
   "execution_count": 34,
   "metadata": {},
   "outputs": [
    {
     "name": "stdout",
     "output_type": "stream",
     "text": [
      "Digite o cateto oposto:10\n",
      "Digite o cateto adjacente:2\n",
      "A hipotenusa é igual: 10.20\n",
      "A hipotenusa é igual: 10.20\n"
     ]
    }
   ],
   "source": [
    "o = float(input('Digite o cateto oposto:'))\n",
    "a = float(input('Digite o cateto adjacente:'))\n",
    "from math import sqrt, hypot\n",
    "i=sqrt(o**2+a**2)\n",
    "print('A hipotenusa é igual: {:.2f}'.format(i))\n",
    "#or\n",
    "print('A hipotenusa é igual: {:.2f}'.format(hypot(o, a)))"
   ]
  },
  {
   "cell_type": "markdown",
   "metadata": {},
   "source": [
    "<h3><font color=#00BFFF>Exercicío 018 - Seno, Cosseno e Tangente</font></h3>\n",
    "Faça um programa que leia um ângulo qualquer e mostre na tela o valor do seno, cosseno e tangente desse ângulo."
   ]
  },
  {
   "cell_type": "code",
   "execution_count": 35,
   "metadata": {},
   "outputs": [
    {
     "name": "stdout",
     "output_type": "stream",
     "text": [
      "Digite o valor do ângulo:45\n",
      "O valor o seno é 0.71\n",
      "O valor do cosseno é: 0.71\n",
      "O valor da tangente é: 1.00\n"
     ]
    }
   ],
   "source": [
    "a = float(input('Digite o valor do ângulo:'))\n",
    "import math\n",
    "\n",
    "print('O valor o seno é {:.2f}'.format(math.sin(math.radians(a))))\n",
    "print('O valor do cosseno é: {:.2f}'.format(math.cos(math.radians(a))))\n",
    "print('O valor da tangente é: {:.2f}'.format(math.tan(math.radians(a))))"
   ]
  },
  {
   "cell_type": "markdown",
   "metadata": {},
   "source": [
    "<h3><font color=#00BFFF>Exercicío 019 - Sorteando um item a lista</font></h3>\n",
    "Um professor quer sortear um dos seus quatro alunos para apagar o quadro. Faça um programa que ajude ele, lendo o nome dos alunos e escrevendo na tela o nome do escolhido."
   ]
  },
  {
   "cell_type": "code",
   "execution_count": 36,
   "metadata": {},
   "outputs": [
    {
     "name": "stdout",
     "output_type": "stream",
     "text": [
      "Digite o nome do primeiro aluno:2\n",
      "Digite o nome do segundo aluno:5\n",
      "Digite o nome do terceiro aluno:6\n",
      "Digite o nome do quarto aluno:7\n",
      "O aluno escolhido foi 7, parabéns.\n"
     ]
    }
   ],
   "source": [
    "from random import choice\n",
    "a1 = input('Digite o nome do primeiro aluno:')\n",
    "a2 = input('Digite o nome do segundo aluno:')\n",
    "a3 = input('Digite o nome do terceiro aluno:')\n",
    "a4 = input('Digite o nome do quarto aluno:')\n",
    "lista = [a1, a2, a3, a4]\n",
    "x = choice(lista)\n",
    "\n",
    "print('O aluno escolhido foi {}, parabéns.'.format(x))"
   ]
  },
  {
   "cell_type": "markdown",
   "metadata": {},
   "source": [
    "<h3><font color=#00BFFF>Exercicío 020 - Sorteando uma ordem na lista</font></h3>\n",
    "O mesmo professor do desafio 19 quer sortear a ordem de apresentação de trabalhos dos alunos. Faça um programa que leia o nome dos quatro alunos e mostre a ordem sorteada."
   ]
  },
  {
   "cell_type": "code",
   "execution_count": 37,
   "metadata": {},
   "outputs": [
    {
     "name": "stdout",
     "output_type": "stream",
     "text": [
      "Digite o nome do primeiro aluno:livio\n",
      "Digite o nome do segundo aluno:rodrigo\n",
      "Digite o nome do terceiro aluno:flavia\n",
      "Digite o nome do quarto aluno:arthur\n",
      "A ordem de apresentação será: ['livio', 'rodrigo', 'arthur', 'flavia']\n"
     ]
    }
   ],
   "source": [
    "from random import shuffle\n",
    "a1 = input('Digite o nome do primeiro aluno:')\n",
    "a2 = input('Digite o nome do segundo aluno:')\n",
    "a3 = input('Digite o nome do terceiro aluno:')\n",
    "a4 = input('Digite o nome do quarto aluno:')\n",
    "lista = [a1, a2, a3, a4]\n",
    "shuffle(lista)\n",
    "\n",
    "print('A ordem de apresentação será: {}'.format(lista))"
   ]
  },
  {
   "cell_type": "markdown",
   "metadata": {},
   "source": [
    "<h3><font color=#00BFFF>Exercicío 021 - Tocando mp3</font></h3>\n",
    "Faça um programa em Python que abra e reproduza o áudio de um arquivo MP3."
   ]
  },
  {
   "cell_type": "code",
   "execution_count": 41,
   "metadata": {},
   "outputs": [
    {
     "name": "stdout",
     "output_type": "stream",
     "text": [
      "digite algo para encerrar ...t\n"
     ]
    },
    {
     "data": {
      "text/plain": [
       "<Event(4352-AudioDeviceAdded {'which': 1, 'iscapture': 0})>"
      ]
     },
     "execution_count": 41,
     "metadata": {},
     "output_type": "execute_result"
    }
   ],
   "source": [
    "import pygame\n",
    "\n",
    "pygame.init()\n",
    "pygame.mixer.music.load('ex021.mp3')\n",
    "pygame.mixer.music.play()\n",
    "\n",
    "x = input('digite algo para encerrar ...')\n",
    "pygame.event.wait()"
   ]
  },
  {
   "cell_type": "markdown",
   "metadata": {},
   "source": [
    "<h2>Aula 09 - Manipulando Texto</h2>\n",
    "Nessa aula, vamos aprender operações com String no Python. As principais operações que vamos aprender são o Fatiamento de String, Análise com len(), count(), find(), transformações com replace(), upper(), lower(), capitalize(), title(), strip(), junção com join()."
   ]
  },
  {
   "cell_type": "code",
   "execution_count": 42,
   "metadata": {},
   "outputs": [
    {
     "name": "stdout",
     "output_type": "stream",
     "text": [
      "u\n",
      "  C\n",
      "urso em Vídeo Python  \n",
      " Croe\n",
      "imprimindo um texto longo!!! imprimindo um texto longo!!!\n",
      "imprimindo um texto longo!!! imprimindo um texto longo!!!\n",
      "imprimindo um texto longo!!! imprimindo um texto longo!!!\n"
     ]
    }
   ],
   "source": [
    "frase = '  Curso em Vídeo Python  '\n",
    "print(frase[3])\n",
    "print(frase[:3])\n",
    "print(frase[3:])\n",
    "print(frase[0:10:2])\n",
    "print(\"\"\"imprimindo um texto longo!!! imprimindo um texto longo!!!\n",
    "imprimindo um texto longo!!! imprimindo um texto longo!!!\n",
    "imprimindo um texto longo!!! imprimindo um texto longo!!!\"\"\")"
   ]
  },
  {
   "cell_type": "code",
   "execution_count": 44,
   "metadata": {},
   "outputs": [
    {
     "name": "stdout",
     "output_type": "stream",
     "text": [
      "3\n",
      "25\n",
      "21\n",
      "  Curso em Vídeo Apple  \n",
      "True\n",
      "2\n",
      "  curso em vídeo python  \n",
      "['Curso', 'em', 'Vídeo', 'Python']\n",
      "Curso\n",
      "C\n",
      "25\n"
     ]
    }
   ],
   "source": [
    "frase = '  Curso em Vídeo Python  '\n",
    "print(frase.count('o'))\n",
    "print(len(frase))\n",
    "print(len(frase.strip())) #strip corta os espaços do inicio e do final\n",
    "print(frase.replace('Python', 'Apple'))\n",
    "print('Curso' in frase)\n",
    "print(frase.find('Curso'))\n",
    "print(frase.lower())\n",
    "print(frase.split())\n",
    "dividido = frase.split()\n",
    "print(dividido[0])\n",
    "print(dividido[0][0])\n",
    "print(len(frase))"
   ]
  },
  {
   "cell_type": "markdown",
   "metadata": {},
   "source": [
    "<h3><font color=#00BFFF>Exercicío 022 - Analisador de Textos</font></h3>\n",
    "Crie um programa que leia o nome completo de uma pessoa e mostre:\n",
    "– O nome com todas as letras maiúsculas e minúsculas.\n",
    "– Quantas letras ao todo (sem considerar espaços).\n",
    "– Quantas letras tem o primeiro nome."
   ]
  },
  {
   "cell_type": "code",
   "execution_count": 45,
   "metadata": {},
   "outputs": [
    {
     "name": "stdout",
     "output_type": "stream",
     "text": [
      "Digite seu nome completo:Livio Lopes de Alvarenga\n",
      "Seu nome todo em letras maiúsculas:\n",
      "LIVIO LOPES DE ALVARENGA\n",
      "Seu nome todo em letras minusculas:\n",
      "livio lopes de alvarenga\n",
      "Qty de espaços: 3\n",
      "Qty de caracteres sem espaços: 21\n",
      "O primeiro nome (Livio) tem 5 letras!\n",
      "O primeiro nome tem 5 letras!\n"
     ]
    }
   ],
   "source": [
    "# é boa pratica sempre colocar strip em campos com digitação do usuário,\n",
    "# assim você elimina espaços antes e depois caso o usuário coloque.\n",
    "n = str(input('Digite seu nome completo:')).strip()\n",
    "print('Seu nome todo em letras maiúsculas:\\n{}'.format(n.upper()))\n",
    "print('Seu nome todo em letras minusculas:\\n{}'.format(n.lower()))\n",
    "print('Qty de espaços: {}\\nQty de caracteres sem espaços: {}'.format(n.count(' '), len(n)-n.count(' ')))\n",
    "div = n.split()\n",
    "print('O primeiro nome ({}) tem {} letras!'.format(div[0], len(div[0])))\n",
    "# outra forma de contar o primeiro nome seria dar um find no primeiro espaço.\n",
    "print('O primeiro nome tem {} letras!'.format(n.find(' ')))"
   ]
  },
  {
   "cell_type": "markdown",
   "metadata": {},
   "source": [
    "<h3><font color=#00BFFF>Exercicío 023 - Separando dígitos de um número</font></h3>\n",
    "Faça um programa que leia um número de 0 a 9999 e mostre na tela cada um dos dígitos separados."
   ]
  },
  {
   "cell_type": "code",
   "execution_count": 47,
   "metadata": {},
   "outputs": [
    {
     "name": "stdout",
     "output_type": "stream",
     "text": [
      "Digie um número de 0 a 9999:1025\n",
      "Unidade: 5\n",
      "Dezena: 2\n",
      "Centena: 0\n",
      "Milhar: 1\n",
      "Unidade: 5\n",
      "Dezena: 2\n",
      "Centena: 0\n",
      "Milhar: 1\n"
     ]
    }
   ],
   "source": [
    "x = (int(input('Digie um número de 0 a 9999:')))\n",
    "# resolvendo por calculo matematico\n",
    "u = x // 1 % 10\n",
    "d = x // 10 % 10\n",
    "c = x // 100 % 10\n",
    "m = x // 1000 % 10\n",
    "print('Unidade: {}\\nDezena: {}\\nCentena: {}\\nMilhar: {}'.format(u, d, c, m))\n",
    "\n",
    "n = str(x)\n",
    "print('Unidade: {}\\nDezena: {}\\nCentena: {}\\nMilhar: {}'.format(n[3], n[2], n[1], n[0]))\n",
    "# na forma acima se o usuário digitar um numero < que 4 algarismo da erro"
   ]
  },
  {
   "cell_type": "markdown",
   "metadata": {},
   "source": [
    "<h3><font color=#00BFFF>Exercicío 024 - Verificando as primeiras letras de um texto</font></h3>\n",
    "Crie um programa que leia o nome de uma cidade diga se ela começa ou não com o nome “SANTO”."
   ]
  },
  {
   "cell_type": "code",
   "execution_count": 48,
   "metadata": {},
   "outputs": [
    {
     "name": "stdout",
     "output_type": "stream",
     "text": [
      "Digite um nome de uma cidade:Santo antonio\n",
      "O primeiro nome da cidade é: Santo\n",
      "Santo é seu primeiro nome?\n",
      "True\n",
      "Santo é o primeiro nome da Cidade?\n",
      "True\n"
     ]
    }
   ],
   "source": [
    "c = str(input('Digite um nome de uma cidade:')).strip()\n",
    "div = c.split()\n",
    "print('O primeiro nome da cidade é: {}'.format(div[0]))\n",
    "print('Santo é seu primeiro nome?')\n",
    "print('Santo' in div[0])\n",
    "\n",
    "# outra forma de fazer\n",
    "print('Santo é o primeiro nome da Cidade?\\n{}'.format(c[:5].upper() == 'SANTO'))"
   ]
  },
  {
   "cell_type": "markdown",
   "metadata": {},
   "source": [
    "<h3><font color=#00BFFF>Exercicío 025 - Procurando uma string dentro de outra</font></h3>\n",
    "Crie um programa que leia o nome de uma pessoa e diga se ela tem “SILVA” no nome."
   ]
  },
  {
   "cell_type": "code",
   "execution_count": 49,
   "metadata": {},
   "outputs": [
    {
     "name": "stdout",
     "output_type": "stream",
     "text": [
      "Digite um nome:Livio Silva\n",
      "Existe SILVA neste nome?\n",
      "True\n"
     ]
    }
   ],
   "source": [
    "n = str(input('Digite um nome:')).strip()\n",
    "print('Existe SILVA neste nome?\\n{}'.format('silva' in n.lower()))"
   ]
  },
  {
   "cell_type": "markdown",
   "metadata": {},
   "source": [
    "<h3><font color=#00BFFF>Exercicío 026 - Primeira e última ocorrência de uma string</font></h3>\n",
    " Faça um programa que leia uma frase pelo teclado e mostre quantas vezes aparece a letra “A”, em que posição ela aparece a primeira vez e em que posição ela aparece a última vez."
   ]
  },
  {
   "cell_type": "code",
   "execution_count": 50,
   "metadata": {},
   "outputs": [
    {
     "name": "stdout",
     "output_type": "stream",
     "text": [
      "Digite uma frase:Eu amo minha família!\n",
      "A letra \"a\" aparece 4 na frase.\n",
      "A letra \"a\" aparece a primeira vez na posição 4.\n",
      "A letra \"a\" aparece a ultima vez na posição 20.\n"
     ]
    }
   ],
   "source": [
    "f = str(input('Digite uma frase:')).strip()\n",
    "print('A letra \"a\" aparece {} na frase.'.format(f.lower().count('a')))\n",
    "print('A letra \"a\" aparece a primeira vez na posição {}.'.format(f.lower().find('a')+1))\n",
    "print('A letra \"a\" aparece a ultima vez na posição {}.'.format(f.lower().rfind('a')+1))"
   ]
  },
  {
   "cell_type": "markdown",
   "metadata": {},
   "source": [
    "<h3><font color=#00BFFF>Exercicío 027 - Primeiro e último nome de uma pessoa</font></h3>\n",
    "Faça um programa que leia o nome completo de uma pessoa, mostrando em seguida o primeiro e o último nome separadamente."
   ]
  },
  {
   "cell_type": "code",
   "execution_count": 51,
   "metadata": {},
   "outputs": [
    {
     "name": "stdout",
     "output_type": "stream",
     "text": [
      "Digite seu nome completo:Livio Lopes de Alvarenga\n",
      "Seu primeiro nome é: Livio\n",
      "Seu Ultimo nome é: Alvarenga\n"
     ]
    }
   ],
   "source": [
    "n = str(input('Digite seu nome completo:')).strip()\n",
    "d = n.split()\n",
    "print('Seu primeiro nome é: {}\\nSeu Ultimo nome é: {}'.format(d[0], d[len(d) - 1]))"
   ]
  },
  {
   "cell_type": "markdown",
   "metadata": {},
   "source": [
    "<h2>Aula 10 - Condições parte 1</h2>\n",
    "Nessa aula, vamos aprender como utilizar estruturas condicionais simples e compostas nos seus programas em Python."
   ]
  },
  {
   "cell_type": "code",
   "execution_count": null,
   "metadata": {},
   "outputs": [],
   "source": [
    "from random import randint\n",
    "\n",
    "tempo = int(randint(1, 10))\n",
    "\n",
    "# Quando tem somente o if é uma estrutura simple e quando tem else é uma composta\n",
    "if tempo == 1:\n",
    "    print('O carro tem 1 ano de uso, seu carro é novo!')\n",
    "elif tempo <= 5:\n",
    "    print('O carro tem {} anos de uso, seu carro é novo!'.format(tempo))\n",
    "else:\n",
    "    print('O carro tem {} anos de uso, seu carro é velho!'.format(tempo))\n",
    "print('---Fim---')\n",
    "\n",
    "#Forma de condição simplificada\n",
    "print('Carro Novo!' if tempo <= 5 else 'Carro Velho!')"
   ]
  },
  {
   "cell_type": "markdown",
   "metadata": {},
   "source": [
    "<h3><font color=#00BFFF>Exercicío 028 - Jogo da Adivinhação v1.0</font></h3>\n",
    "Escreva um programa que faça o computador “pensar” em um número inteiro entre 0 e 5 e peça para o usuário tentar descobrir qual foi o número escolhido pelo computador. O programa deverá escrever na tela se o usuário venceu ou perdeu."
   ]
  },
  {
   "cell_type": "code",
   "execution_count": 52,
   "metadata": {},
   "outputs": [
    {
     "name": "stdout",
     "output_type": "stream",
     "text": [
      "Digite um numero de 0 a 5:5\n",
      "Processando...\n",
      "Você errou! O número sorteado foi 2! Você escolheu 5.\n",
      "Tente novamente.\n"
     ]
    }
   ],
   "source": [
    "from random import randint\n",
    "from time import sleep\n",
    "s = int(randint(0, 5))\n",
    "n = int(input('Digite um numero de 0 a 5:'))\n",
    "print('Processando...')\n",
    "sleep(2)\n",
    "if s == n:\n",
    "    print('Parabens você acertou o número!')\n",
    "else:\n",
    "    print('Você errou! O número sorteado foi {}! Você escolheu {}.\\nTente novamente.'.format(s, n))"
   ]
  },
  {
   "cell_type": "markdown",
   "metadata": {},
   "source": [
    "<h3><font color=#00BFFF>Exercicío 029 - Radar eletrônico</font></h3>\n",
    "Escreva um programa que leia a velocidade de um carro. Se ele ultrapassar 80Km/h, mostre uma mensagem dizendo que ele foi multado. A multa vai custar R$7,00 por cada Km acima do limite."
   ]
  },
  {
   "cell_type": "code",
   "execution_count": 53,
   "metadata": {},
   "outputs": [
    {
     "name": "stdout",
     "output_type": "stream",
     "text": [
      "Sua velocidade foi de 142km/h, você foi multado em R$434.00\n"
     ]
    }
   ],
   "source": [
    "from random import randint\n",
    "v = int(randint(1, 200))\n",
    "print('Sua velocidade foi de {}km/h, você foi multado em R${:.2f}'.format(v, (v-80)*7) if v > 80 else '{}Km/h'.format(v))"
   ]
  },
  {
   "cell_type": "markdown",
   "metadata": {},
   "source": [
    "<h3><font color=#00BFFF>Exercicío 030 - Par ou Ímpar</font></h3>\n",
    "Crie um programa que leia um número inteiro e mostre na tela se ele é PAR ou ÍMPAR."
   ]
  },
  {
   "cell_type": "code",
   "execution_count": 54,
   "metadata": {},
   "outputs": [
    {
     "name": "stdout",
     "output_type": "stream",
     "text": [
      "O número 78 é par!\n"
     ]
    }
   ],
   "source": [
    "from random import randint\n",
    "n = int(randint(1, 100))\n",
    "print('O número {} é par!'.format(n) if (n % 2) == 0 else 'O número {} é ímpar!'.format(n))"
   ]
  },
  {
   "cell_type": "markdown",
   "metadata": {},
   "source": [
    "<h3><font color=#00BFFF>Exercicío 031 - Custo da Viagem</font></h3>\n",
    "Desenvolva um programa que pergunte a distância de uma viagem em Km. Calcule o preço da passagem, cobrando R$ 0,50 por Km para viagens de até 200Km e R$ 0,45 parta viagens mais longas."
   ]
  },
  {
   "cell_type": "code",
   "execution_count": 55,
   "metadata": {},
   "outputs": [
    {
     "name": "stdout",
     "output_type": "stream",
     "text": [
      "Sua viagem foi de 259Km, o valor a pagar é R$116.55.\n",
      "Obs.: Valor cobrado por Km R$0,45\n"
     ]
    }
   ],
   "source": [
    "from random import randint\n",
    "\n",
    "n = int(randint(1, 400))\n",
    "if n <= 200:\n",
    "    print('Sua viagem foi de {}Km, o valor a pagar é R${:.2f}.\\nObs.: Valor cobrado por Km R$0,50.'.format(n, n*0.5))\n",
    "else:\n",
    "    print('Sua viagem foi de {}Km, o valor a pagar é R${:.2f}.\\nObs.: Valor cobrado por Km R$0,45'.format(n, n*0.45))"
   ]
  },
  {
   "cell_type": "markdown",
   "metadata": {},
   "source": [
    "<h3><font color=#00BFFF>Exercicío 032 - Ano Bissexto</font></h3>\n",
    " Faça um programa que leia um ano qualquer e mostre se ele é bissexto."
   ]
  },
  {
   "cell_type": "code",
   "execution_count": 56,
   "metadata": {},
   "outputs": [
    {
     "name": "stdout",
     "output_type": "stream",
     "text": [
      "Digite um ano:2021\n",
      "O ano 2021 não é bissexto!\n"
     ]
    }
   ],
   "source": [
    "a = int(input('Digite um ano:'))\n",
    "from datetime import date\n",
    "if a == 0:\n",
    "    a = date.today().year\n",
    "\n",
    "if (a % 4) == 0 and (a % 100) != 0:\n",
    "    print('O ano {} é bissexto!'.format(a))\n",
    "elif (a % 4) != 0 and (a % 400) == 0:\n",
    "    print('O ano {} é bissexto!'.format(a))\n",
    "else:\n",
    "    print('O ano {} não é bissexto!'.format(a))"
   ]
  },
  {
   "cell_type": "markdown",
   "metadata": {},
   "source": [
    "<h3><font color=#00BFFF>Exercicío 033 - Maior e menor valores</font></h3>\n",
    "Faça um programa que leia três números e mostre qual é o maior e qual é o menor."
   ]
  },
  {
   "cell_type": "code",
   "execution_count": 57,
   "metadata": {},
   "outputs": [
    {
     "name": "stdout",
     "output_type": "stream",
     "text": [
      "Digite o primeiro número:5\n",
      "Digite o segundo número:8\n",
      "Digite o terceiro número:1\n",
      "O menor número é 1.0\n",
      "O maior número é 8.0\n"
     ]
    }
   ],
   "source": [
    "n1 = float(input('Digite o primeiro número:'))\n",
    "n2 = float(input('Digite o segundo número:'))\n",
    "n3 = float(input('Digite o terceiro número:'))\n",
    "\n",
    "menor = n1\n",
    "if n2 < n1 and n2 < n3:\n",
    "    menor = n2\n",
    "if n3 < n1 and n3 < n2:\n",
    "    menor = n3\n",
    "\n",
    "maior = n1\n",
    "if n2 > n1 and n2 > n3:\n",
    "    maior = n2\n",
    "if n3 > n1 and n3 > n2:\n",
    "    maior = n3\n",
    "\n",
    "print('O menor número é {}'.format(menor))\n",
    "print('O maior número é {}'.format(maior))"
   ]
  },
  {
   "cell_type": "markdown",
   "metadata": {},
   "source": [
    "<h3><font color=#00BFFF>Exercicío 034 - Aumentos múltiplos</font></h3>\n",
    "Escreva um programa que pergunte o salário de um funcionário e calcule o valor do seu aumento. Para salários superiores a R$1250,00, calcule um aumento de 10%. Para os inferiores ou iguais, o aumento é de 15%."
   ]
  },
  {
   "cell_type": "code",
   "execution_count": 58,
   "metadata": {},
   "outputs": [
    {
     "name": "stdout",
     "output_type": "stream",
     "text": [
      "Digite o valor do salário:3000\n",
      "O aumento foi de 10%, total R$3300.00\n"
     ]
    }
   ],
   "source": [
    "s = float(input('Digite o valor do salário:'))\n",
    "\n",
    "if s > 1250:\n",
    "    print('O aumento foi de 10%, total R${:.2f}'.format(s*1.1))\n",
    "else:\n",
    "    print('O aumento foi de 15%, total R${:.2f}'.format(s*1.15))"
   ]
  },
  {
   "cell_type": "markdown",
   "metadata": {},
   "source": [
    "<h3><font color=#00BFFF>Exercicío 035 - Analisando Triângulo V1.0</font></h3>\n",
    "Desenvolva um programa que leia o comprimento de três retas e diga ao usuário se elas podem ou não formar um triângulo."
   ]
  },
  {
   "cell_type": "code",
   "execution_count": 59,
   "metadata": {},
   "outputs": [
    {
     "name": "stdout",
     "output_type": "stream",
     "text": [
      "Primeiro seguimento:10\n",
      "Segundo segmento:8\n",
      "Terceiro seguimento:5\n",
      "Os seguimentos acima PODEM FORMAR triângulo!\n"
     ]
    }
   ],
   "source": [
    "r1 = float(input('Primeiro seguimento:'))\n",
    "r2 = float(input('Segundo segmento:'))\n",
    "r3 = float(input('Terceiro seguimento:'))\n",
    "if r1 < r2 + r3 and r2 < r1 + r3 and r3 < r1 + r2:\n",
    "    print('Os seguimentos acima PODEM FORMAR triângulo!')\n",
    "else:\n",
    "    print('Os seguimentos acima NÃO PODEM FORMAR triângulo!')"
   ]
  },
  {
   "cell_type": "markdown",
   "metadata": {},
   "source": [
    "<h2>Aula 11 - Cores no terminal</h2>\n",
    "Nessa aula, vamos aprender como utilizar os códigos de escape sequence ANSI para configurar cores para os seus programas em Python. Veja como utilizar o código \\033[m com todas as suas principais possibilidades."
   ]
  },
  {
   "cell_type": "code",
   "execution_count": 60,
   "metadata": {
    "scrolled": true
   },
   "outputs": [
    {
     "name": "stdout",
     "output_type": "stream",
     "text": [
      "\u001b[1:30:44mOlá MUNDO!\n",
      "\u001b[1:30:44mOlá MUNDO!\u001b[m\n",
      "\u001b[0:30:44mOlá MUNDO!\u001b[m\n",
      "\u001b[4:30:44mOlá MUNDO!\u001b[m\n",
      "\u001b[7:30:44mOlá MUNDO!\u001b[m\n",
      "\u001b[1:31:40mOlá MUNDO!\u001b[m\n",
      "\u001b[1:32:40mOlá MUNDO!\u001b[m\n",
      "\u001b[0:33:40mOlá MUNDO!\u001b[m\n",
      "\u001b[1:31mOlá MUNDO!\u001b[m\n"
     ]
    }
   ],
   "source": [
    "print('\\033[1:30:44mOlá MUNDO!')\n",
    "print('\\033[1:30:44mOlá MUNDO!\\033[m')\n",
    "print('\\033[0:30:44mOlá MUNDO!\\033[m')\n",
    "print('\\033[4:30:44mOlá MUNDO!\\033[m')\n",
    "print('\\033[7:30:44mOlá MUNDO!\\033[m')\n",
    "print('\\033[1:31:40mOlá MUNDO!\\033[m')\n",
    "print('\\033[1:32:40mOlá MUNDO!\\033[m')\n",
    "print('\\033[0:33:40mOlá MUNDO!\\033[m')\n",
    "print('\\033[1:31mOlá MUNDO!\\033[m')"
   ]
  },
  {
   "cell_type": "markdown",
   "metadata": {},
   "source": [
    "<h2>Aula 12 - Condições Aninhadas</h2>\n",
    "Condições Aninhadas - Nessa aula, vamos aprender como criar estruturas condicionais aninhadas, usando os comandos if.. elif.. else em programas Python."
   ]
  },
  {
   "cell_type": "markdown",
   "metadata": {},
   "source": [
    "<h3><font color=#00BFFF>Exercicío 036 - Aprovando Empréstimo</font></h3>\n",
    "Aprovando Empréstimo - Escreva um programa para aprovar o empréstimo bancário para a compra de uma casa. Pergunte o valor da casa, o salário do comprador e em quantos anos ele vai pagar. A prestação mensal não pode exceder 30% do salário ou então o empréstimo será negado."
   ]
  },
  {
   "cell_type": "code",
   "execution_count": 61,
   "metadata": {},
   "outputs": [
    {
     "name": "stdout",
     "output_type": "stream",
     "text": [
      "Qual o valor da casa:200000\n",
      "Qual seu salário:15000\n",
      "Quantos anos para pagar:5\n",
      "Prazo para pagar 60.0 meses\n",
      "Valor da prestação R$3333.33\n",
      "Valor de 30% do salário é R$4500.00\n",
      "O financiamento foi aprovado.\n"
     ]
    }
   ],
   "source": [
    "v = float(input('Qual o valor da casa:'))\n",
    "s = float(input('Qual seu salário:'))\n",
    "t = float(input('Quantos anos para pagar:'))\n",
    "\n",
    "m = t * 12\n",
    "s30 = s * 0.3\n",
    "p = v / m\n",
    "print('Prazo para pagar {} meses'.format(m))\n",
    "print('Valor da prestação R${:.2f}'.format(p))\n",
    "print('Valor de 30% do salário é R${:.2f}'.format(s30))\n",
    "\n",
    "if p > s30:\n",
    "    print('O financiamento foi reprovado, pois a prestação é maior que 30% da sua renda.')\n",
    "else:\n",
    "    print('O financiamento foi aprovado.')"
   ]
  },
  {
   "cell_type": "markdown",
   "metadata": {},
   "source": [
    "<h3><font color=#00BFFF>Exercicío 037 - Conversor de Bases Numéricas</font></h3>\n",
    "Escreva um programa em Python que leia um número inteiro qualquer e peça para o usuário escolher qual será a base de conversão: 1 para binário, 2 para octal e 3 para hexadecimal."
   ]
  },
  {
   "cell_type": "code",
   "execution_count": 62,
   "metadata": {},
   "outputs": [
    {
     "name": "stdout",
     "output_type": "stream",
     "text": [
      "Digite um número inteiro:100\n",
      "Qual será a base de conversão:\n",
      "1 = binário\n",
      "2 = octal\n",
      "3 = hexadecimal\n",
      "--->1\n",
      "____________________________________________________________\n",
      "O número 100 convertido para binário é igual: 1100100\n"
     ]
    }
   ],
   "source": [
    "n = int(input('Digite um número inteiro:'))\n",
    "\n",
    "r = int(input('Qual será a base de conversão:\\n1 = binário\\n2 = octal\\n3 = hexadecimal\\n--->'))\n",
    "\n",
    "print('____' * 15)\n",
    "if r == 1:\n",
    "    print('O número {} convertido para binário é igual: {}'.format(n, bin(n)[2:]))\n",
    "elif r == 2:\n",
    "    print('O número {} convertido para octal é igual: {}'.format(n, oct(n)[2:]))\n",
    "elif r == 3:\n",
    "    print('O número {} convertido para hexadecimal é igual: {}'.format(n, hex(n)[2:]))\n",
    "else:\n",
    "    print('Digite uma opção válida de 1 à 3!')\n",
    "\n",
    "# Obs. coloca-se [2:] para eliminar os dois primeiro digitos que são comuns"
   ]
  },
  {
   "cell_type": "markdown",
   "metadata": {},
   "source": [
    "<h3><font color=#00BFFF>Exercicío 038 - Comparando números</font></h3>\n",
    "Escreva um programa que leia dois números inteiros e compare-os. mostrando na tela uma mensagem:\n",
    "– O primeiro valor é maior\n",
    "– O segundo valor é maior\n",
    "– Não existe valor maior, os dois são iguais"
   ]
  },
  {
   "cell_type": "code",
   "execution_count": 63,
   "metadata": {},
   "outputs": [
    {
     "name": "stdout",
     "output_type": "stream",
     "text": [
      "Digite o primeiro valor:100\n",
      "Digite o segundo valor:500\n",
      "O segundo número 500 é maior que o primeio 100.\n"
     ]
    }
   ],
   "source": [
    "n1 = int(input('Digite o primeiro valor:'))\n",
    "n2 = int(input('Digite o segundo valor:'))\n",
    "\n",
    "if n1 > n2:\n",
    "    print('O primeiro número {} é maior que o segundo {}.'.format(n1, n2))\n",
    "elif n1 < n2:\n",
    "    print('O segundo número {} é maior que o primeio {}.'.format(n2, n1))\n",
    "else:\n",
    "    print('O primeiro número {} é igual ao segundo {}.'.format(n1, n2))"
   ]
  },
  {
   "cell_type": "markdown",
   "metadata": {},
   "source": [
    "<h3><font color=#00BFFF>Exercicío 039 - Alistamento Militar</font></h3>\n",
    "Faça um programa que leia o ano de nascimento de um jovem e informe, de acordo com a sua idade, se ele ainda vai se alistar ao serviço militar, se é a hora exata de se alistar ou se já passou do tempo do alistamento. Seu programa também deverá mostrar o tempo que falta ou que passou do prazo."
   ]
  },
  {
   "cell_type": "code",
   "execution_count": 64,
   "metadata": {},
   "outputs": [
    {
     "name": "stdout",
     "output_type": "stream",
     "text": [
      "Informe seu ano de nascimento:1981\n",
      "Passou o tempo de se alistar a 22 anos.\n"
     ]
    }
   ],
   "source": [
    "from datetime import date\n",
    "\n",
    "an = int(input('Informe seu ano de nascimento:'))\n",
    "a = date.today().year\n",
    "i = a - an\n",
    "\n",
    "if i < 18:\n",
    "    print('Você vai se alistar no serviço militar daqui a {} '.format(18 - i) + ('ano.' if (18 - i) == 1 else 'anos.'))\n",
    "elif i == 18:\n",
    "    print('Você esta com 18 anos é hora de se alistar no serviço militar.')\n",
    "else:\n",
    "    print('Passou o tempo de se alistar a {} '.format(i - 18) + ('ano.' if (i - 18) == 1 else 'anos.'))"
   ]
  },
  {
   "cell_type": "markdown",
   "metadata": {},
   "source": [
    "<h3><font color=#00BFFF>Exercicío 040 - Aquele clássico da Média</font></h3>\n",
    "Crie um programa que leia duas notas de um aluno e calcule sua média, mostrando uma mensagem no final, de acordo com a média atingida:\n",
    "– Média abaixo de 5.0: REPROVADO\n",
    "– Média entre 5.0 e 6.9: RECUPERAÇÃO\n",
    "– Média 7.0 ou superior: APROVADO"
   ]
  },
  {
   "cell_type": "code",
   "execution_count": 65,
   "metadata": {},
   "outputs": [
    {
     "name": "stdout",
     "output_type": "stream",
     "text": [
      "Digite sua primeira nota:9.5\n",
      "Digite sua segunda nota:3.2\n",
      "Média \u001b[1:33m6.3\u001b[m entre 5 e 6,9, você esta de recuperação.\n"
     ]
    }
   ],
   "source": [
    "n1 = float(input('Digite sua primeira nota:'))\n",
    "n2 = float(input('Digite sua segunda nota:'))\n",
    "\n",
    "m = (n1 + n2) / 2\n",
    "if m < 5:\n",
    "    print('Média \\033[1:31m{:.1f}\\033[m abaixo de 5, você esta reprovado.'.format(m))\n",
    "elif m >= 7:\n",
    "    print('Média \\033[1:32m{:.1f}\\033[m superior a 7, Parabéns você esta aprovado.'.format(m))\n",
    "else:\n",
    "    print('Média \\033[1:33m{:.1f}\\033[m entre 5 e 6,9, você esta de recuperação.'.format(m))"
   ]
  },
  {
   "cell_type": "markdown",
   "metadata": {},
   "source": [
    "<h3><font color=#00BFFF>Exercicío 041 - Classificando Atletas</font></h3>\n",
    "A Confederação Nacional de Natação precisa de um programa que leia o ano de nascimento de um atleta e mostre sua categoria, de acordo com a idade:\n",
    "– Até 9 anos: MIRIM\n",
    "– Até 14 anos: INFANTIL\n",
    "– Até 19 anos: JÚNIOR\n",
    "– Até 25 anos: SÊNIOR\n",
    "– Acima de 25 anos: MASTER"
   ]
  },
  {
   "cell_type": "code",
   "execution_count": 66,
   "metadata": {},
   "outputs": [
    {
     "name": "stdout",
     "output_type": "stream",
     "text": [
      "Digite o anos de nascimento do atleta:1981\n",
      "Idade igual 40 anos, sua categoria é \u001b[0:34mMASTER\n"
     ]
    }
   ],
   "source": [
    "an = int(input('Digite o anos de nascimento do atleta:'))\n",
    "from datetime import date\n",
    "a = date.today().year\n",
    "i = a - an\n",
    "\n",
    "if i <= 9:\n",
    "    print('Idade igual {} anos, sua categoria é \\033[0:34mMIRIM'.format(i))\n",
    "elif i <= 14:\n",
    "    print('Idade igual {} anos, sua categoria é \\033[0:34mINFANTIL'.format(i))\n",
    "elif i <= 19:\n",
    "    print('Idade igual {} anos, sua categoria é \\033[0:34mJUNIOR'.format(i))\n",
    "elif i <= 25:\n",
    "    print('Idade igual {} anos, sua categoria é \\033[0:34mSÊNIOR'.format(i))\n",
    "else:\n",
    "    print('Idade igual {} anos, sua categoria é \\033[0:34mMASTER'.format(i))"
   ]
  },
  {
   "cell_type": "markdown",
   "metadata": {},
   "source": [
    "<h3><font color=#00BFFF>Exercicío 042 - Analisando Triângulos v2.0</font></h3>\n",
    "Refaça o DESAFIO 35 dos triângulos, acrescentando o recurso de mostrar que tipo de triângulo será formado:\n",
    "– EQUILÁTERO: todos os lados iguais\n",
    "– ISÓSCELES: dois lados iguais, um diferente\n",
    "– ESCALENO: todos os lados diferentes"
   ]
  },
  {
   "cell_type": "code",
   "execution_count": 68,
   "metadata": {},
   "outputs": [
    {
     "name": "stdout",
     "output_type": "stream",
     "text": [
      "Primeiro seguimento:454\n",
      "Segundo segmento:420\n",
      "Terceiro seguimento:450\n",
      "Os seguimentos acima PODEM FORMAR triângulo \u001b[0::44mEscaleno!\u001b[m\n"
     ]
    }
   ],
   "source": [
    "r1 = float(input('Primeiro seguimento:'))\n",
    "r2 = float(input('Segundo segmento:'))\n",
    "r3 = float(input('Terceiro seguimento:'))\n",
    "if r1 < r2 + r3 and r2 < r1 + r3 and r3 < r1 + r2:\n",
    "    if r1 == r2 == r3:\n",
    "        t = 'Equilátero'\n",
    "    elif r1 != r2 != r3 != r1:\n",
    "        t = 'Escaleno'\n",
    "    else:\n",
    "        t = 'Isósceles'\n",
    "\n",
    "    print('Os seguimentos acima PODEM FORMAR triângulo \\033[0::44m{}!\\033[m'.format(t))\n",
    "\n",
    "else:\n",
    "    print('Os seguimentos acima \\033[0::41mNÃO PODEM FORMAR\\033[m triângulo!')"
   ]
  },
  {
   "cell_type": "markdown",
   "metadata": {},
   "source": [
    "<h3><font color=#00BFFF>Exercicío 043 - Índice de Massa Corporal</font></h3>\n",
    "Desenvolva uma lógica que leia o peso e a altura de uma pessoa, calcule seu Índice de Massa Corporal (IMC) e mostre seu status, de acordo com a tabela abaixo:\n",
    "– IMC abaixo de 18,5: Abaixo do Peso\n",
    "– Entre 18,5 e 25: Peso Ideal\n",
    "– 25 até 30: Sobrepeso\n",
    "– 30 até 40: Obesidade\n",
    "– Acima de 40: Obesidade Mórbida"
   ]
  },
  {
   "cell_type": "code",
   "execution_count": 69,
   "metadata": {},
   "outputs": [
    {
     "name": "stdout",
     "output_type": "stream",
     "text": [
      "Digite o peso em Kg:83\n",
      "Digite a altura em Metros:1.8\n",
      "IMC 25.6 entre 25 e 30. Você esta na classe \u001b[0:33mSobrepeso.\n"
     ]
    }
   ],
   "source": [
    "p = float(input('Digite o peso em Kg:'))\n",
    "h = float(input('Digite a altura em Metros:'))\n",
    "\n",
    "imc = p / (h * h)\n",
    "\n",
    "if imc < 18.5:\n",
    "    print('IMC {:.1f} abaixo de 18.5. Você está na classe \\033[0:33mAbaixo do peso.'.format(imc))\n",
    "elif 18.5 <= imc < 25:\n",
    "    print('IMC {:.1f} entre 18.5 e 25. Você esta na classe \\033[0:32mPeso ideal.'.format(imc))\n",
    "elif 25 <= imc < 30:\n",
    "    print('IMC {:.1f} entre 25 e 30. Você esta na classe \\033[0:33mSobrepeso.'.format(imc))\n",
    "elif 30 <= imc < 40:\n",
    "    print('IMC {:.1f} entre 30 e 40. Você esta na classe \\033[0:35mObesidade.'.format(imc))\n",
    "else:\n",
    "    print('IMC {:.1f} acima de 40. Você esta na classe \\033[0:30:41mObesidade mórbida.'.format(imc))"
   ]
  },
  {
   "cell_type": "markdown",
   "metadata": {},
   "source": [
    "<h3><font color=#00BFFF>Exercicío 044 - Gerenciador de Pagamentos</font></h3>\n",
    "Elabore um programa que calcule o valor a ser pago por um produto, considerando o seu preço normal e condição de pagamento:\n",
    "– à vista dinheiro/cheque: 10% de desconto\n",
    "– à vista no cartão: 5% de desconto\n",
    "– em até 2x no cartão: preço formal \n",
    "– 3x ou mais no cartão: 20% de juros"
   ]
  },
  {
   "cell_type": "code",
   "execution_count": 70,
   "metadata": {},
   "outputs": [
    {
     "name": "stdout",
     "output_type": "stream",
     "text": [
      "Digite o preço do produto/serviço:100\n",
      "Digite a condição de pagamento:\n",
      "1 - à vista no dinheiro/cheque, 10% desconto.\n",
      "2 - à vista no cartão, 5% de desconto.\n",
      "3 - 2x no cartão, preço sem desconto.\n",
      "4 - 3x ou mais no cartão, 20% de juros.\n",
      "Digite aqui -->4\n",
      "Quantas parcelas deseja pagar?10\n",
      "R$120.00 à prazo 10x de R$12.00 no cartão.\n"
     ]
    }
   ],
   "source": [
    "p = float(input('Digite o preço do produto/serviço:'))\n",
    "c = int(input('''Digite a condição de pagamento:\\n1 - à vista no dinheiro/cheque, 10% desconto.\n",
    "2 - à vista no cartão, 5% de desconto.\\n3 - 2x no cartão, preço sem desconto.\\n4 - 3x ou mais no cartão, 20% de juros.\n",
    "Digite aqui -->'''))\n",
    "\n",
    "if c == 1:\n",
    "    print('R${:.2f} à vista no dinheiro ou cheque.'.format(p * 0.9))\n",
    "elif c == 2:\n",
    "    print('R${:.2f} à vista no cartão.'.format(p * 0.95))\n",
    "elif c == 3:\n",
    "    print('R${:.2f} à prazo 2x de R${:.2f} no cartão.'.format(p, p / 2))\n",
    "elif c == 4:\n",
    "    pa = int(input('Quantas parcelas deseja pagar?'))\n",
    "    print('R${:.2f} à prazo {}x de R${:.2f} no cartão.'.format(p * 1.2, pa, (p * 1.2)/pa))\n",
    "else:\n",
    "    print('Opção inválida de pagamento digite um número de 1 à 4.')"
   ]
  },
  {
   "cell_type": "markdown",
   "metadata": {},
   "source": [
    "<h3><font color=#00BFFF>Exercicío 045 - GAME: Pedra Papel e Tesoura</font></h3>\n",
    "Crie um programa que faça o computador jogar Jokenpô com você."
   ]
  },
  {
   "cell_type": "code",
   "execution_count": 71,
   "metadata": {},
   "outputs": [
    {
     "name": "stdout",
     "output_type": "stream",
     "text": [
      "*---*---*---*---\u001b[0:30:41m*PEDRA\u001b[m*---*---*---*---\u001b[0:30:41m*PAPEL\u001b[m*---*---*---*---\u001b[0:30:41m*TESOURA\u001b[m*---*---*---*---*\n",
      "Vamos jogar?\n",
      "0 - Pedra\n",
      "1 - Papel\n",
      "2 - Tesoura\n",
      "-->0\n",
      "PC = \u001b[0:30:42mPapel\u001b[m <------> \u001b[0:30:41mPedra\u001b[m = Jogador\n",
      "Eu ganhei!!!\n"
     ]
    }
   ],
   "source": [
    "from random import randint\n",
    "itens = ('Pedra', 'Papel', 'Tesoura')\n",
    "pc = randint(0, 2)\n",
    "\n",
    "print('*---' * 4 + '\\033[0:30:41m*PEDRA\\033[m' + '*---' * 4 + '\\033[0:30:41m*PAPEL\\033[m' + '*---' * 4 + '\\033[0:30:41m*TESOURA\\033[m*' + '---*' * 4)\n",
    "\n",
    "x = int(input('Vamos jogar?\\n0 - Pedra\\n1 - Papel\\n2 - Tesoura\\n-->'))\n",
    "\n",
    "if (pc == 0 and x == 1) or (pc == 1 and x == 2) or (pc == 2 and x == 0):\n",
    "    print('PC = \\033[0:30:41m{}\\033[m <------> \\033[0:30:42m{}\\033[m = Jogador\\nParabéns você ganhou!!!'.format(itens[pc], itens[x]))\n",
    "elif (pc == 0 and x == 2) or (pc == 1 and x == 0) or (pc == 2 and x == 1):\n",
    "    print('PC = \\033[0:30:42m{}\\033[m <------> \\033[0:30:41m{}\\033[m = Jogador\\nEu ganhei!!!'.format(itens[pc], itens[x]))\n",
    "else:\n",
    "    print('PC = \\033[0:30:43m{}\\033[m <------> \\033[0:30:43m{}\\033[m = Jogador\\nEmpatamos!!!'.format(itens[pc], itens[x]))"
   ]
  },
  {
   "cell_type": "markdown",
   "metadata": {},
   "source": [
    "<h2>Aula 13 - Estrutura de Repetição</h2>\n",
    "Nessa aula, vamos começar nossos estudos com os laços e vamos fazer primeiro o “for”, que é uma estrutura versátil e simples de entender."
   ]
  },
  {
   "cell_type": "code",
   "execution_count": 73,
   "metadata": {},
   "outputs": [
    {
     "name": "stdout",
     "output_type": "stream",
     "text": [
      "=============== Aula 013 ===============\n",
      "0 - Olá, Mundo!\n",
      "1 - Olá, Mundo!\n",
      "2 - Olá, Mundo!\n",
      "Fim!\n",
      "3 - Olá, Mundo!\n",
      "2 - Olá, Mundo!\n",
      "1 - Olá, Mundo!\n",
      "Fim!\n",
      "0 - Olá, Mundo!\n",
      "2 - Olá, Mundo!\n",
      "Fim!\n",
      "Digite um valor 1:1\n",
      "Digite um valor 2:2\n",
      "Digite um valor 3:3\n",
      "Digite um valor 4:4\n",
      "S = 10.\n",
      "Fim!\n"
     ]
    }
   ],
   "source": [
    "print('{:=^40}'.format(' Aula 013 '))\n",
    "for c in range(0, 3):\n",
    "    print('{} - Olá, Mundo!'.format(c))\n",
    "print('Fim!')\n",
    "\n",
    "for c in range(3, 0, -1):\n",
    "    print('{} - Olá, Mundo!'.format(c))\n",
    "print('Fim!')\n",
    "\n",
    "for c in range(0, 3, 2):\n",
    "    print('{} - Olá, Mundo!'.format(c))\n",
    "print('Fim!')\n",
    "\n",
    "s = 0\n",
    "for c in range(0, 4):\n",
    "    n = int(input('Digite um valor {}:'.format(c + 1)))\n",
    "    s += n  # s = s + n é o mesmo que s += n\n",
    "print('S = {}.\\nFim!'.format(s))"
   ]
  },
  {
   "cell_type": "markdown",
   "metadata": {},
   "source": [
    "<h3><font color=#00BFFF>Exercicío 046 - Contagem regressiva</font></h3>\n",
    "Faça um programa que mostre na tela uma contagem regressiva para o estouro de fogos de artifício, indo de 10 até 0, com uma pausa de 1 segundo entre eles."
   ]
  },
  {
   "cell_type": "code",
   "execution_count": 124,
   "metadata": {
    "scrolled": false
   },
   "outputs": [
    {
     "name": "stdout",
     "output_type": "stream",
     "text": [
      "\u001b[0:30:44m                   10                   \u001b[m\n",
      "\u001b[0:30:44m                   9                    \u001b[m\n",
      "\u001b[0:30:44m                   8                    \u001b[m\n",
      "\u001b[0:30:44m                   7                    \u001b[m\n",
      "\u001b[0:30:44m                   6                    \u001b[m\n",
      "\u001b[1:30:41m                   5                    \u001b[m\n",
      "\u001b[1:30:41m                   4                    \u001b[m\n",
      "\u001b[1:30:41m                   3                    \u001b[m\n",
      "\u001b[1:30:41m                   2                    \u001b[m\n",
      "\u001b[1:30:41m                   1                    \u001b[m\n",
      "\u001b[1:30:41m                   0                    \u001b[m\n",
      "\u001b[1:30:42m            Feliz ano novo!             \u001b[m\n"
     ]
    }
   ],
   "source": [
    "from time import sleep\n",
    "for c in range(10, -1, -1):\n",
    "    if c > 5:\n",
    "        print('\\033[0:30:44m{: ^40}\\033[m'.format(c))\n",
    "    else:\n",
    "        print('\\033[1:30:41m{: ^40}\\033[m'.format(c))\n",
    "    sleep(1)\n",
    "print('\\033[1:30:42m{: ^40}\\033[m'.format('Feliz ano novo!'))"
   ]
  },
  {
   "cell_type": "markdown",
   "metadata": {},
   "source": [
    "<h3><font color=#00BFFF>Exercicío 047 - Contagem de pares</font></h3>\n",
    "Crie um programa que mostre na tela todos os números pares que estão no intervalo entre 1 e 50."
   ]
  },
  {
   "cell_type": "code",
   "execution_count": 128,
   "metadata": {},
   "outputs": [
    {
     "name": "stdout",
     "output_type": "stream",
     "text": [
      "[2, 4, 6, 8, 10, 12, 14, 16, 18, 20, 22, 24, 26, 28, 30, 32, 34, 36, 38, 40, 42, 44, 46, 48, 50]\n"
     ]
    }
   ],
   "source": [
    "lista = []\n",
    "for c in range(2, 51, 2):\n",
    "    lista.append(c)\n",
    "print(lista)\n"
   ]
  },
  {
   "cell_type": "markdown",
   "metadata": {},
   "source": [
    "<h3><font color=#00BFFF>Exercicío 048 - Soma ímpares múltiplos de três</font></h3>\n",
    "Faça um programa que calcule a soma entre todos os números ímpares que são múltiplos de três e que se encontram no intervalo de 1 até 500."
   ]
  },
  {
   "cell_type": "code",
   "execution_count": 134,
   "metadata": {},
   "outputs": [
    {
     "name": "stdout",
     "output_type": "stream",
     "text": [
      "A soma de 83 números ímpares divisiveis por 3 é igual à 20667\n"
     ]
    }
   ],
   "source": [
    "x = 0\n",
    "cont = 0\n",
    "for c in range(1, 501, 2):\n",
    "    if (c % 3) == 0:\n",
    "        x += c\n",
    "        cont += 1\n",
    "print('A soma de {} números ímpares divisiveis por 3 é igual à {}'.format(cont, x))\n"
   ]
  },
  {
   "cell_type": "markdown",
   "metadata": {},
   "source": [
    "<h3><font color=#00BFFF>Exercicío 049 - Tabuada v.2.0</font></h3>\n",
    "Refaça o DESAFIO 9, mostrando a tabuada de um número que o usuário escolher, só que agora utilizando um laço for."
   ]
  },
  {
   "cell_type": "code",
   "execution_count": 79,
   "metadata": {},
   "outputs": [
    {
     "name": "stdout",
     "output_type": "stream",
     "text": [
      "Digite um número para tabuada:2\n",
      "-------------\n",
      "|01 * 2 = 02|\n",
      "-------------\n",
      "|02 * 2 = 04|\n",
      "-------------\n",
      "|03 * 2 = 06|\n",
      "-------------\n",
      "|04 * 2 = 08|\n",
      "-------------\n",
      "|05 * 2 = 10|\n",
      "-------------\n",
      "|06 * 2 = 12|\n",
      "-------------\n",
      "|07 * 2 = 14|\n",
      "-------------\n",
      "|08 * 2 = 16|\n",
      "-------------\n",
      "|09 * 2 = 18|\n",
      "-------------\n",
      "|10 * 2 = 20|\n",
      "-------------\n"
     ]
    }
   ],
   "source": [
    "n = int(input('Digite um número para tabuada:'))\n",
    "for c in range(1,11):\n",
    "    print('-' * 13)\n",
    "    print('|{:0>2} * {} = {:0>2}|'.format(c, n, c * n))\n",
    "print('-' * 13)\n"
   ]
  },
  {
   "cell_type": "markdown",
   "metadata": {},
   "source": [
    "<h3><font color=#00BFFF>Exercicío 050 - Soma dos Pares</font></h3>\n",
    "Desenvolva um programa que leia seis números inteiros e mostre a soma apenas daqueles que forem pares. Se o valor digitado for ímpar, desconsidere-o."
   ]
  },
  {
   "cell_type": "code",
   "execution_count": 80,
   "metadata": {},
   "outputs": [
    {
     "name": "stdout",
     "output_type": "stream",
     "text": [
      "Digite o número 1: 100\n",
      "Digite o número 2: 50\n",
      "Digite o número 3: 80\n",
      "Digite o número 4: 41\n",
      "Digite o número 5: 45\n",
      "Digite o número 6: 50\n",
      "total da soma de números pares é \u001b[1:30:42m280\u001b[m\n"
     ]
    }
   ],
   "source": [
    "r = 0\n",
    "for c in range(1,7):\n",
    "    n = int(input('Digite o número {}: '.format(c)))\n",
    "    if n % 2 == 0:\n",
    "        r += n\n",
    "print('Total da soma de números pares é \\033[1:30:42m{}\\033[m'.format(r))"
   ]
  },
  {
   "cell_type": "markdown",
   "metadata": {},
   "source": [
    "<h3><font color=#00BFFF>Exercicío 051 - Progressão Aritmética</font></h3>\n",
    "Desenvolva um programa que leia o primeiro termo e a razão de uma PA. No final, mostre os 10 primeiros termos dessa progressão."
   ]
  },
  {
   "cell_type": "code",
   "execution_count": 135,
   "metadata": {},
   "outputs": [
    {
     "name": "stdout",
     "output_type": "stream",
     "text": [
      "Digite o termo para PA:0\n",
      "Digite a razão para PA:2\n",
      "Os 10 primeiros termos desta regressão são:\n",
      "[0.0, 2.0, 4.0, 6.0, 8.0, 10.0, 12.0, 14.0, 16.0, 18.0]\n"
     ]
    }
   ],
   "source": [
    "lista = []\n",
    "t = float(input('Digite o termo para PA:'))\n",
    "r = float(input('Digite a razão para PA:'))\n",
    "\n",
    "for c in range(0, 10):\n",
    "    if c == 0:\n",
    "        lista.append(t)\n",
    "    else:\n",
    "        lista.append(t + (c * r))\n",
    "print('Os 10 primeiros termos desta regressão são:\\n{}'.format(lista))"
   ]
  },
  {
   "cell_type": "markdown",
   "metadata": {},
   "source": [
    "<h3><font color=#00BFFF>Exercicío 052 - Números primos</font></h3>\n",
    "Faça um programa que leia um número inteiro e diga se ele é ou não um número primo."
   ]
  },
  {
   "cell_type": "code",
   "execution_count": 123,
   "metadata": {},
   "outputs": [
    {
     "name": "stdout",
     "output_type": "stream",
     "text": [
      "Digite um número:53\n",
      "O número 53 foi divisível 2 vezes\n",
      "E por isso ele É PRIMO!\n"
     ]
    }
   ],
   "source": [
    "'''Número primo é aquele que somente é divisivel por 1 e por ele mesmo, ou seja somente duas divisões.'''\n",
    "n = int(input('Digite um número:'))\n",
    "cont = 0\n",
    "for c in range(1, n + 1):\n",
    "    if n % c == 0:\n",
    "        cont += 1\n",
    "print('O número {} foi divisível {} vezes'.format(n, cont))\n",
    "if cont == 2:\n",
    "    print('E por isso ele É PRIMO!')\n",
    "else:\n",
    "    print('E por isso ele NÃO É PRIMO!')\n"
   ]
  },
  {
   "cell_type": "markdown",
   "metadata": {},
   "source": [
    "<h3><font color=#00BFFF>Exercicío 053 - Detector de Palíndromo</font></h3>\n",
    "Crie um programa que leia uma frase qualquer e diga se ela é um palíndromo, desconsiderando os espaços. Exemplos de palíndromos:\n",
    "\n",
    "APOS A SOPA, A SACADA DA CASA, A TORRE DA DERROTA, O LOBO AMA O BOLO, ANOTARAM A DATA DA MARATONA."
   ]
  },
  {
   "cell_type": "code",
   "execution_count": 112,
   "metadata": {},
   "outputs": [
    {
     "name": "stdout",
     "output_type": "stream",
     "text": [
      "Digite uma frase:a torre da casa\n",
      "A frase:\n",
      "A torre da casa\n",
      "É um Palíndromo.\n"
     ]
    }
   ],
   "source": [
    "f = str(input('Digite uma frase:')).strip().upper()\n",
    "f2 = ''\n",
    "f1 = ''\n",
    "print('A frase:\\n{}'.format(f.capitalize()))\n",
    "for c in range(len(f), 0, -1):\n",
    "    if f[c - 1] != ' ':\n",
    "        f1 += f[c - 1]\n",
    "        f2 += f[c - 1]\n",
    "if f1 == f2:\n",
    "    print('É um Palíndromo.')\n",
    "else:\n",
    "    print('Não é um Palíndromo.')"
   ]
  },
  {
   "cell_type": "code",
   "execution_count": 114,
   "metadata": {},
   "outputs": [
    {
     "name": "stdout",
     "output_type": "stream",
     "text": [
      "Digite uma frase:A sacada da casa\n",
      "É um Palíndromo.\n"
     ]
    }
   ],
   "source": [
    "# uma solução usando somente fatiamento\n",
    "f = str(input('Digite uma frase:')).strip().upper()\n",
    "palavras = f.split()\n",
    "junto = ''.join(palavras)\n",
    "inverso = junto[::-1]\n",
    "if inverso == junto:\n",
    "    print('É um Palíndromo.')\n",
    "else:\n",
    "    print('Não é um Palíndromo.')"
   ]
  },
  {
   "cell_type": "markdown",
   "metadata": {},
   "source": [
    "<h3><font color=#00BFFF>Exercicío 054 - Grupo da Maioridade</font></h3>\n",
    "Crie um programa que leia o ano de nascimento de sete pessoas. No final, mostre quantas pessoas ainda não atingiram a maioridade e quantas já são maiores. Considere 21 anos como maior idade"
   ]
  },
  {
   "cell_type": "code",
   "execution_count": 115,
   "metadata": {},
   "outputs": [
    {
     "name": "stdout",
     "output_type": "stream",
     "text": [
      "Informe o ano de nascimento da 1ª pessoa:2000\n",
      "Informe o ano de nascimento da 2ª pessoa:1970\n",
      "Informe o ano de nascimento da 3ª pessoa:2005\n",
      "Informe o ano de nascimento da 4ª pessoa:1990\n",
      "Informe o ano de nascimento da 5ª pessoa:2010\n",
      "Informe o ano de nascimento da 6ª pessoa:1960\n",
      "Informe o ano de nascimento da 7ª pessoa:1940\n",
      "São 5 com maior idade:\n",
      " ['1ª idade = 21', '2ª idade = 51', '4ª idade = 31', '6ª idade = 61', '7ª idade = 81']\n",
      "São 2 com menor idade:\n",
      " ['3ª idade = 16', '5ª idade = 11']\n"
     ]
    }
   ],
   "source": [
    "from datetime import date\n",
    "a1 = int(date.today().year)\n",
    "maior_i = []\n",
    "menor_i = []\n",
    "c1 = 0\n",
    "c2 = 0\n",
    "for c in range(0, 7):\n",
    "    a2 = int(input('Informe o ano de nascimento da {}ª pessoa:'.format(c + 1)))\n",
    "    if (a1 - a2) >= 21:\n",
    "        maior_i.append('{}ª idade = {}'.format(c + 1, a1 - a2))\n",
    "        c1 += 1\n",
    "    else:\n",
    "        menor_i.append('{}ª idade = {}'.format(c + 1, a1 - a2))\n",
    "        c2 += 1\n",
    "print('São {} com maior idade:\\n {}'.format(c1, maior_i))\n",
    "print('São {} com menor idade:\\n {}'.format(c2, menor_i))\n"
   ]
  },
  {
   "cell_type": "markdown",
   "metadata": {},
   "source": [
    "<h3><font color=#00BFFF>Exercicío 055 - Maior e menor da sequência</font></h3>\n",
    "Faça um programa que leia o peso de cinco pessoas. No final, mostre qual foi o maior e o menor peso lidos."
   ]
  },
  {
   "cell_type": "code",
   "execution_count": 116,
   "metadata": {},
   "outputs": [
    {
     "name": "stdout",
     "output_type": "stream",
     "text": [
      "{'Digite o 1º peso:'}90\n",
      "{'Digite o 2º peso:'}81\n",
      "{'Digite o 3º peso:'}35\n",
      "{'Digite o 4º peso:'}120\n",
      "{'Digite o 5º peso:'}75\n",
      "O menor peso = 35.0 e o maior peso = 120.0.\n"
     ]
    }
   ],
   "source": [
    "menor = 0\n",
    "maior = 0\n",
    "for c in range(1, 6):\n",
    "    p = float(input({'Digite o {}º peso:'.format(c)}))\n",
    "    if c == 1:\n",
    "        menor = p\n",
    "        maior = p\n",
    "    elif p < menor:\n",
    "        menor = p\n",
    "    elif p > maior:\n",
    "        maior = p\n",
    "print('O menor peso = {}Kg e o maior peso = {}Kg.'.format(menor, maior))"
   ]
  },
  {
   "cell_type": "markdown",
   "metadata": {},
   "source": [
    "<h3><font color=#00BFFF>Exercicío 056 - Analisador completo</font></h3>\n",
    "Desenvolva um programa que leia o nome, idade e sexo de 4 pessoas. No final do programa, mostre: a média de idade do grupo, qual é o nome do homem mais velho e quantas mulheres têm menos de 20 anos."
   ]
  },
  {
   "cell_type": "code",
   "execution_count": 117,
   "metadata": {},
   "outputs": [
    {
     "name": "stdout",
     "output_type": "stream",
     "text": [
      "Nome da 1ª pessoa:João\n",
      "Idade da 1ª pessoa:22\n",
      "Sexo da 1ª pessoa, sendo M ou F:m\n",
      "Nome da 2ª pessoa:Marcia\n",
      "Idade da 2ª pessoa:12\n",
      "Sexo da 2ª pessoa, sendo M ou F:f\n",
      "Nome da 3ª pessoa:Claúdio\n",
      "Idade da 3ª pessoa:75\n",
      "Sexo da 3ª pessoa, sendo M ou F:m\n",
      "Nome da 4ª pessoa:Ana\n",
      "Idade da 4ª pessoa:9\n",
      "Sexo da 4ª pessoa, sendo M ou F:f\n",
      "A media de idade do grupo é: 29.5\n",
      "Claúdio é o homem mais velho, sua idade é 75 anos.\n",
      "A quantidade de mulheres com idade menor que 20 anos é igual à 2. São elas:\n",
      "['Marcia com 12', 'Ana com 9']\n"
     ]
    }
   ],
   "source": [
    "Nome_Old_Man = ''\n",
    "Old_Man = 0\n",
    "Qty_Woman = 0\n",
    "media = 0\n",
    "Nome_Woman = []\n",
    "n = ''\n",
    "i = 0\n",
    "s = ''\n",
    "for c in range(0,4):\n",
    "    n = (str(input('Nome da {}ª pessoa:'.format(c + 1))))\n",
    "    i = (int(input('Idade da {}ª pessoa:'.format(c + 1))))\n",
    "    s = (str(input('Sexo da {}ª pessoa, sendo M ou F:'.format(c + 1))))\n",
    "    if s.upper() == 'M' and i > Old_Man:\n",
    "        Old_Man = i\n",
    "        Nome_Old_Man = n\n",
    "    elif s.upper() == 'F' and i < 20:\n",
    "        Qty_Woman += 1\n",
    "        Nome_Woman.append('{} com {}'.format(n, i))\n",
    "    media += i\n",
    "    \n",
    "print('A media de idade do grupo é: {} anos.'.format(media/4))\n",
    "print('{} é o homem mais velho, sua idade é {} anos.'.format(Nome_Old_Man, Old_Man))\n",
    "print('A quantidade de mulheres com idade menor que 20 anos é igual à {}. São elas:\\n{}'.format(Qty_Woman, Nome_Woman))\n",
    "    "
   ]
  },
  {
   "cell_type": "markdown",
   "metadata": {},
   "source": [
    "<h2>Aula 14 - Estrutura de repetição while</h2>\n",
    "Nessa aula, vamos continuar a estudar os laços e vamos aprender a usar a estrutura de repetição while no Python."
   ]
  },
  {
   "cell_type": "code",
   "execution_count": 118,
   "metadata": {},
   "outputs": [
    {
     "name": "stdout",
     "output_type": "stream",
     "text": [
      "10\n",
      "9\n",
      "4\n",
      "5\n",
      "9\n",
      "10\n",
      "5\n",
      "7\n",
      "8\n",
      "2\n",
      "9\n",
      "4\n",
      "0\n",
      "Fim!\n"
     ]
    }
   ],
   "source": [
    "from random import randint\n",
    "n = 1\n",
    "while n !=0:\n",
    "    n = randint(0, 10)\n",
    "    print(n)\n",
    "print('Fim!')"
   ]
  },
  {
   "cell_type": "markdown",
   "metadata": {},
   "source": [
    "<h3><font color=#00BFFF>Exercicío 057 - Validação de Dados</font></h3>\n",
    "Faça um programa que leia o sexo de uma pessoa, mas só aceite os valores ‘M’ ou ‘F’. Caso esteja errado, peça a digitação novamente até ter um valor correto."
   ]
  },
  {
   "cell_type": "code",
   "execution_count": 249,
   "metadata": {},
   "outputs": [
    {
     "name": "stdout",
     "output_type": "stream",
     "text": [
      "Digite o sexo da pessoa F/M:g\n",
      "Dados inválidos, digite o sexo da pessoa F/M:h\n",
      "Dados inválidos, digite o sexo da pessoa F/M:y\n",
      "Dados inválidos, digite o sexo da pessoa F/M:f\n",
      "Sexo F registrado com sucesso\n"
     ]
    }
   ],
   "source": [
    "s = str(input('Digite o sexo da pessoa F/M:')).strip().upper()[0]\n",
    "while s not in 'MmFf':\n",
    "    s = str(input('Dados inválidos, digite o sexo da pessoa F/M:')).strip().upper()[0]\n",
    "print('Sexo {} registrado com sucesso'.format(s))"
   ]
  },
  {
   "cell_type": "markdown",
   "metadata": {},
   "source": [
    "<h3><font color=#00BFFF>Exercicío 058 - Jogo da Adivinhação v2.0</font></h3>\n",
    "Melhore o jogo do DESAFIO 28 onde o computador vai “pensar” em um número entre 0 e 10. Só que agora o jogador vai tentar adivinhar até acertar, mostrando no final quantos palpites foram necessários para vencer."
   ]
  },
  {
   "cell_type": "code",
   "execution_count": 250,
   "metadata": {},
   "outputs": [
    {
     "name": "stdout",
     "output_type": "stream",
     "text": [
      "Digite um numero de 0 a 10:1\n",
      "Mais... Tentemais uma vez.\n",
      " Digite novamente um numero de 0 a 10:5\n",
      "Menos... Tentemais uma vez.\n",
      " Digite novamente um numero de 0 a 10:4\n",
      "Menos... Tentemais uma vez.\n",
      " Digite novamente um numero de 0 a 10:2\n",
      "O número foi 2 você acertou o número na 3ª tentativa.\n"
     ]
    }
   ],
   "source": [
    "from random import randint\n",
    "s = int(randint(0, 10))\n",
    "n = int(input('Digite um numero de 0 a 10:'))\n",
    "cont = 0\n",
    "while s != n:\n",
    "    if n < s:\n",
    "        n = int(input('Mais... Tente mais uma vez.\\nDigite novamente um numero de 0 a 10:'))\n",
    "    else:\n",
    "        n = int(input('Menos... Tente mais uma vez.\\nDigite novamente um numero de 0 a 10:'))\n",
    "    cont += 1   \n",
    "print('O número foi {} você acertou o número na {}ª tentativas.'.format(s, cont))\n",
    "    "
   ]
  },
  {
   "cell_type": "markdown",
   "metadata": {},
   "source": [
    "<h3><font color=#00BFFF>Exercicío 059 - Criando um Menu de Opções</font></h3>\n",
    "Crie um programa que leia dois valores e mostre um menu na tela:\n",
    "\n",
    "[ 1 ] somar\n",
    "\n",
    "[ 2 ] multiplicar\n",
    "\n",
    "[ 3 ] maior\n",
    "\n",
    "[ 4 ] novos números\n",
    "\n",
    "[ 5 ] sair do programa\n",
    "\n",
    "Seu programa deverá realizar a operação solicitada em cada caso."
   ]
  },
  {
   "cell_type": "code",
   "execution_count": 251,
   "metadata": {},
   "outputs": [
    {
     "name": "stdout",
     "output_type": "stream",
     "text": [
      "Digite uma opção:\n",
      "[1] Somar\n",
      "[2] Multiplicar\n",
      "[3] Maior\n",
      "[4] Novos números\n",
      "[5] Sair do programa6\n",
      "Digite o primeiro número:6\n",
      "Digite o segundo número:6\n",
      "Digite uma opção:\n",
      "[1] Somar\n",
      "[2] Multiplicar\n",
      "[3] Maior\n",
      "[4] Novos números\n",
      "[5] Sair do programa6\n",
      "Digite uma opção:\n",
      "[1] Somar\n",
      "[2] Multiplicar\n",
      "[3] Maior\n",
      "[4] Novos números\n",
      "[5] Sair do programa6\n",
      "Digite uma opção:\n",
      "[1] Somar\n",
      "[2] Multiplicar\n",
      "[3] Maior\n",
      "[4] Novos números\n",
      "[5] Sair do programa6\n",
      "Digite uma opção:\n",
      "[1] Somar\n",
      "[2] Multiplicar\n",
      "[3] Maior\n",
      "[4] Novos números\n",
      "[5] Sair do programa1\n",
      "6.0 + 6.0 = 12.0\n",
      "Digite uma opção:\n",
      "[1] Somar\n",
      "[2] Multiplicar\n",
      "[3] Maior\n",
      "[4] Novos números\n",
      "[5] Sair do programa2\n",
      "6.0 * 6.0 = 36.0\n",
      "Digite uma opção:\n",
      "[1] Somar\n",
      "[2] Multiplicar\n",
      "[3] Maior\n",
      "[4] Novos números\n",
      "[5] Sair do programa3\n",
      "6.0 = 6.0\n",
      "Digite uma opção:\n",
      "[1] Somar\n",
      "[2] Multiplicar\n",
      "[3] Maior\n",
      "[4] Novos números\n",
      "[5] Sair do programa4\n",
      "Digite o primeiro número:10\n",
      "Digite o segundo número:11\n",
      "Digite uma opção:\n",
      "[1] Somar\n",
      "[2] Multiplicar\n",
      "[3] Maior\n",
      "[4] Novos números\n",
      "[5] Sair do programa5\n",
      "Fim\n"
     ]
    }
   ],
   "source": [
    "cont = 1  \n",
    "e = int(input('Digite uma opção:\\n[1] Somar\\n[2] Multiplicar\\n[3] Maior\\n[4] Novos números\\n[5] Sair do programa'))\n",
    "while e != 5:\n",
    "    if e == 4 or cont == 1:\n",
    "        n1 = str(input('Digite o primeiro número:'))\n",
    "        while n1.isnumeric() == False:\n",
    "            n1 = str(input('Erro! Digite um número:'))\n",
    "        n2 = str(input('Digite o segundo número:'))\n",
    "        while n2.isnumeric() == False:\n",
    "            n2 = str(input('Erro! Digite um número:'))\n",
    "        n1 = float(n1)\n",
    "        n2 = float(n2)\n",
    "    if e == 1:\n",
    "        print('{} + {} = {}'.format(n1, n2, n1 + n2))\n",
    "    elif e == 2:\n",
    "        print('{} * {} = {}'.format(n1, n2, n1 * n2))\n",
    "    elif e == 3 and n1 > n2:\n",
    "        print('{} > que {}'.format(n1, n2))\n",
    "    elif e == 3 and n1 < n2:\n",
    "        print('{} < que {}'.format(n1, n2))\n",
    "    elif e == 3 and n1 == n2:\n",
    "        print('{} = {}'.format(n1, n2))\n",
    "    \n",
    "    e = int(input('Digite uma opção:\\n[1] Somar\\n[2] Multiplicar\\n[3] Maior\\n[4] Novos números\\n[5] Sair do programa'))\n",
    "    cont += 1\n",
    "print('Fim')"
   ]
  },
  {
   "cell_type": "markdown",
   "metadata": {},
   "source": [
    "<h3><font color=#00BFFF>Exercicío 060 - Cálculo do Fatorial</font></h3>\n",
    "Faça um programa que leia um número qualquer e mostre o seu fatorial. Exemplo:\n",
    "\n",
    "5! = 5 x 4 x 3 x 2 x 1 = 120"
   ]
  },
  {
   "cell_type": "code",
   "execution_count": 163,
   "metadata": {},
   "outputs": [
    {
     "name": "stdout",
     "output_type": "stream",
     "text": [
      "Digite um número:5\n",
      "5! = 120\n"
     ]
    }
   ],
   "source": [
    "n = int(input('Digite um número:'))\n",
    "cont = n - 1\n",
    "fat = n\n",
    "while cont != 0:\n",
    "    fat *= cont\n",
    "    cont -= 1\n",
    "print('{}! = {}'.format(n, fat))"
   ]
  },
  {
   "cell_type": "code",
   "execution_count": null,
   "metadata": {},
   "outputs": [],
   "source": [
    "#resolvendo por factorial\n",
    "from math import factorial\n",
    "n = int(input('Digite um número:'))\n",
    "fat = factorial(n)\n",
    "print('{}! = {}'.format(n, fat))"
   ]
  },
  {
   "cell_type": "markdown",
   "metadata": {},
   "source": [
    "<h3><font color=#00BFFF>Exercicío 061 - Progressão Aritmética v2.0</font></h3>\n",
    "Refaça o DESAFIO 51, lendo o primeiro termo e a razão de uma PA, mostrando os 10 primeiros termos da progressão usando a estrutura while."
   ]
  },
  {
   "cell_type": "code",
   "execution_count": 253,
   "metadata": {},
   "outputs": [
    {
     "name": "stdout",
     "output_type": "stream",
     "text": [
      "Digite o termo para PA:0\n",
      "Digite a razão para PA:5\n",
      "Os 10 primeiros termos desta regressão são:\n",
      "[0.0, 5.0, 10.0, 15.0, 20.0, 25.0, 30.0, 35.0, 40.0, 45.0]\n"
     ]
    }
   ],
   "source": [
    "lista = []\n",
    "t = float(input('Digite o termo para PA:'))\n",
    "r = float(input('Digite a razão para PA:'))\n",
    "lista.append(t)\n",
    "cont = 1\n",
    "while cont < 10:\n",
    "    lista.append(t + (cont * r))\n",
    "    cont += 1\n",
    "    \n",
    "print('Os 10 primeiros termos desta regressão são:\\n{}'.format(lista))\n"
   ]
  },
  {
   "cell_type": "markdown",
   "metadata": {},
   "source": [
    "<h3><font color=#00BFFF>Exercicío 062 - Super Progressão Aritmética v3.0</font></h3>\n",
    "Melhore o DESAFIO 61, perguntando para o usuário se ele quer mostrar mais alguns termos. O programa encerrará quando ele disser que quer mostrar 0 termos."
   ]
  },
  {
   "cell_type": "code",
   "execution_count": 254,
   "metadata": {},
   "outputs": [
    {
     "name": "stdout",
     "output_type": "stream",
     "text": [
      "Digite o termo para PA:0\n",
      "Digite a razão para PA:5\n",
      "Os 10 primeiros termos desta regressão são:\n",
      "[0.0, 5.0, 10.0, 15.0, 20.0, 25.0, 30.0, 35.0, 40.0, 45.0]\n",
      "Digite a quantidade de termos a mais, ou zero para finalizar:5\n",
      "Os 15 primeiros termos desta regressão são:\n",
      "[0.0, 5.0, 10.0, 15.0, 20.0, 25.0, 30.0, 35.0, 40.0, 45.0, 50.0, 55.0, 60.0, 65.0, 70.0]\n",
      "Digite a quantidade de termos a mais, ou zero para finalizar:0\n"
     ]
    }
   ],
   "source": [
    "lista = []\n",
    "t = float(input('Digite o termo para PA:'))\n",
    "r = float(input('Digite a razão para PA:'))\n",
    "lista.append(t)\n",
    "cont = 1\n",
    "meta = 10\n",
    "while cont < meta:\n",
    "    lista.append(t + (cont * r))\n",
    "    cont += 1\n",
    "    if cont == meta:\n",
    "        print('Os {} primeiros termos desta regressão são:\\n{}'.format(cont, lista))\n",
    "        d = int(input('Digite a quantidade de termos a mais, ou zero para finalizar:'))\n",
    "        if d > 0:\n",
    "            meta += d\n"
   ]
  },
  {
   "cell_type": "markdown",
   "metadata": {},
   "source": [
    "<h3><font color=#00BFFF>Exercicío 063 - Sequência de Fibonacci v1.0</font></h3>\n",
    "Escreva um programa que leia um número N inteiro qualquer e mostre na tela os N primeiros elementos de uma Sequência de Fibonacci. Exemplo:\n",
    "\n",
    "0 – 1 – 1 – 2 – 3 – 5 – 8"
   ]
  },
  {
   "cell_type": "code",
   "execution_count": 232,
   "metadata": {},
   "outputs": [
    {
     "name": "stdout",
     "output_type": "stream",
     "text": [
      "Digite a sequencia N inteiro:7\n",
      "A sequencia Fibonacci ate 7ª é:\n",
      "['0.0 -', '1.0 -', '1.0 -', '2.0 -', '3.0 -', '5.0 -', '8.0 -']\n"
     ]
    }
   ],
   "source": [
    "lista = []\n",
    "p = int(input('Digite a sequencia N inteiro:'))\n",
    "cont = 0\n",
    "while cont < p:\n",
    "    fibonacci = ((((1+sqrt(5))/2)**cont) - (((1-sqrt(5))/2)**cont))/sqrt(5)\n",
    "    lista.append('{} -'.format(fibonacci//1))\n",
    "    cont += 1\n",
    "print('A sequencia Fibonacci ate {}ª é:\\n{}'.format(p, lista))"
   ]
  },
  {
   "cell_type": "code",
   "execution_count": 255,
   "metadata": {},
   "outputs": [
    {
     "name": "stdout",
     "output_type": "stream",
     "text": [
      "------------------------------\n",
      "Sequencia de Fibonacci\n",
      "------------------------------\n",
      "Quantos termos você quer mostrar?10\n",
      "~~~~~~~~~~~~~~~~~~~~~~~~~~~~~~\n",
      "0 --> 1 --> 1 --> 2 --> 3 --> 5 --> 8 --> 13 --> 21 --> 34 --> FIM\n"
     ]
    }
   ],
   "source": [
    "# outra forma de resolver\n",
    "print('-' * 30)\n",
    "print('Sequencia de Fibonacci')\n",
    "print('-' * 30)\n",
    "n = int(input('Quantos termos você quer mostrar?'))\n",
    "t1 = 0\n",
    "t2 = 1\n",
    "print('~' * 30)\n",
    "print('{} --> {}'.format(t1, t2), end='')\n",
    "cont = 3\n",
    "while cont <= n:\n",
    "    t3 = t1 + t2\n",
    "    print(' --> {}'.format(t3), end='')\n",
    "    t1 = t2\n",
    "    t2 = t3\n",
    "    cont += 1\n",
    "print(' --> FIM')"
   ]
  },
  {
   "cell_type": "markdown",
   "metadata": {},
   "source": [
    "<h3><font color=#00BFFF>Exercicío 064 - Tratando vários valores v1.0</font></h3>\n",
    "Crie um programa que leia vários números inteiros pelo teclado. O programa só vai parar quando o usuário digitar o valor 999, que é a condição de parada. No final, mostre quantos números foram digitados e qual foi a soma entre eles (desconsiderando o flag)."
   ]
  },
  {
   "cell_type": "code",
   "execution_count": 260,
   "metadata": {},
   "outputs": [
    {
     "name": "stdout",
     "output_type": "stream",
     "text": [
      "Digite um número ineiro ou 999 para fechar o programa:1\n",
      "Digite um número ineiro ou 999 para fechar o programa:2\n",
      "Digite um número ineiro ou 999 para fechar o programa:3\n",
      "Digite um número ineiro ou 999 para fechar o programa:999\n",
      "Foram digitados 3 números dando um total de 6\n"
     ]
    }
   ],
   "source": [
    "n = cont = soma = 0\n",
    "n = int(input('Digite um número ineiro ou 999 para fechar o programa:'))\n",
    "while n != 999:\n",
    "    cont += 1\n",
    "    soma += n\n",
    "    n = int(input('Digite um número ineiro ou 999 para fechar o programa:'))\n",
    "print('Foram digitados {} números dando um total de {}'.format(cont, soma))"
   ]
  },
  {
   "cell_type": "markdown",
   "metadata": {},
   "source": [
    "<h3><font color=#00BFFF>Exercicío 065 - Maior e Menor valores</font></h3>\n",
    "Crie um programa que leia vários números inteiros pelo teclado. No final da execução, mostre a média entre todos os valores e qual foi o maior e o menor valores lidos. O programa deve perguntar ao usuário se ele quer ou não continuar a digitar valores."
   ]
  },
  {
   "cell_type": "code",
   "execution_count": 267,
   "metadata": {},
   "outputs": [
    {
     "name": "stdout",
     "output_type": "stream",
     "text": [
      "Digite um número inteiro ou P para parar o programa:4\n",
      "Digite um número inteiro para continuar ou P para parar o programa:2\n",
      "Digite um número inteiro para continuar ou P para parar o programa:1\n",
      "Digite um número inteiro para continuar ou P para parar o programa:4\n",
      "Digite um número inteiro para continuar ou P para parar o programa:p\n",
      "A média dos numeros é 2.75\n",
      "O maior número é 4\n",
      "O menor número é 1\n",
      "4\n"
     ]
    }
   ],
   "source": [
    "n = str(input('Digite um número inteiro ou P para parar o programa:')).upper()\n",
    "cont = soma = 0\n",
    "maior = menor = int(n)\n",
    "while n not in 'P':\n",
    "    cont += 1\n",
    "    soma += int(n)\n",
    "    \n",
    "    if int(n) > maior:\n",
    "        maior = int(n)\n",
    "    if int(n) < menor:\n",
    "        menor = int(n)\n",
    "        \n",
    "    n = str(input('Digite um número inteiro para continuar ou P para parar o programa:')).upper()\n",
    "print('A média dos numeros é {:.2f}\\nO maior número é {}\\nO menor número é {}'.format(soma/cont, maior, menor))\n",
    "print(cont)\n"
   ]
  },
  {
   "cell_type": "markdown",
   "metadata": {},
   "source": [
    "<h2>Aula 15 - Interrompendo repetições while</h2>\n",
    "Nessa aula, vamos aprender como utilizar a instrução break e os loopings infinitos a favor das nossas estratégias de código. É muito importante saber usar o break no Python, já que em alguns casos precisamos interromper um laço no meio do caminho.\n",
    "\n",
    "Além disso, vamos aprender como trabalhar com as novas fstrings do Python."
   ]
  },
  {
   "cell_type": "code",
   "execution_count": 3,
   "metadata": {},
   "outputs": [
    {
     "name": "stdout",
     "output_type": "stream",
     "text": [
      "Digite um número ou 999 para parar:4\n",
      "Digite um número ou 999 para parar:5\n",
      "Digite um número ou 999 para parar:6\n",
      "Digite um número ou 999 para parar:8\n",
      "Digite um número ou 999 para parar:999\n",
      "A soma vale 23\n"
     ]
    }
   ],
   "source": [
    "n = s = 0\n",
    "while True:\n",
    "    n = int(input('Digite um número ou 999 para parar:'))\n",
    "    if n == 999:\n",
    "        break\n",
    "    s += n\n",
    "print('A soma vale {}'.format(s))"
   ]
  },
  {
   "cell_type": "code",
   "execution_count": 4,
   "metadata": {},
   "outputs": [
    {
     "name": "stdout",
     "output_type": "stream",
     "text": [
      "O José tem 23 anos e ganha R$987.30.\n",
      "O --------José-------- tem 23 anos e ganha R$987.30.\n",
      "O José---------------- tem 23 anos e ganha R$987.30.\n",
      "O ----------------José tem 23 anos e ganha R$987.30.\n",
      "O José tem 23 anos e ganha R$987.30.\n",
      "O José tem 23 anos.\n"
     ]
    }
   ],
   "source": [
    "nome = 'José'\n",
    "idade = 23\n",
    "salario = 987.30\n",
    "print(f'O {nome} tem {idade} anos e ganha R${salario:.2f}.') #Python 3.6+\n",
    "print(f'O {nome:-^20} tem {idade} anos e ganha R${salario:.2f}.') #Python 3.6+\n",
    "print(f'O {nome:-<20} tem {idade} anos e ganha R${salario:.2f}.') #Python 3.6+\n",
    "print(f'O {nome:->20} tem {idade} anos e ganha R${salario:.2f}.') #Python 3.6+\n",
    "print('O {} tem {} anos e ganha R${:.2f}.'.format(nome, idade, salario)) #Python 3\n",
    "print('O %s tem %d anos.' % (nome, idade)) #Python 2"
   ]
  },
  {
   "cell_type": "markdown",
   "metadata": {},
   "source": [
    "<h3><font color=#00BFFF>Exercicío 066 - Vários números com flag</font></h3>\n",
    "Crie um programa que leia números inteiros pelo teclado. O programa só vai parar quando o usuário digitar o valor 999, que é a condição de parada. No final, mostre quantos números foram digitados e qual foi a soma entre elas (desconsiderando o flag)."
   ]
  },
  {
   "cell_type": "code",
   "execution_count": 7,
   "metadata": {},
   "outputs": [
    {
     "name": "stdout",
     "output_type": "stream",
     "text": [
      "Digite um número (999 = Stop):4\n",
      "Digite um número (999 = Stop):3\n",
      "Digite um número (999 = Stop):5\n",
      "Digite um número (999 = Stop):999\n",
      "A soma dos 3 valores foi 12!\n"
     ]
    }
   ],
   "source": [
    "cont = s = 0\n",
    "while True:\n",
    "    n = int(input('Digite um número (999 = Stop):'))\n",
    "    if n == 999:\n",
    "        break\n",
    "    cont += 1\n",
    "    s += n\n",
    "print(f'A soma dos {cont} valores foi {s}!')\n",
    "    "
   ]
  },
  {
   "cell_type": "markdown",
   "metadata": {},
   "source": [
    "<h3><font color=#00BFFF>Exercicío 067 - Tabuada v3.0</font></h3>\n",
    "Faça um programa que mostre a tabuada de vários números, um de cada vez, para cada valor digitado pelo usuário. O programa será interrompido quando o número solicitado for negativo."
   ]
  },
  {
   "cell_type": "code",
   "execution_count": 137,
   "metadata": {},
   "outputs": [
    {
     "name": "stdout",
     "output_type": "stream",
     "text": [
      "Digite um número para ver sua tabuada (N<0 = Stop):2\n",
      "------------------------------------------------------------\n",
      "2 x 1 = 2\n",
      "2 x 2 = 4\n",
      "2 x 3 = 6\n",
      "2 x 4 = 8\n",
      "2 x 5 = 10\n",
      "2 x 6 = 12\n",
      "2 x 7 = 14\n",
      "2 x 8 = 16\n",
      "2 x 9 = 18\n",
      "2 x 10 = 20\n",
      "------------------------------------------------------------\n",
      "Digite um número para ver sua tabuada (N<0 = Stop):-2\n",
      "Programa tabuada encerrado. Volte sempre!\n"
     ]
    }
   ],
   "source": [
    "while True:\n",
    "    n = int(input('Digite um número para ver sua tabuada (N<0 = Stop):'))\n",
    "    if n < 0:\n",
    "        break\n",
    "    print('-' * 60)\n",
    "    for c in range(1, 11):\n",
    "        print(f'{n} x {c} = {n * c}')\n",
    "    print('-' * 60)\n",
    "print('Programa tabuada encerrado. Volte sempre!')\n",
    "    "
   ]
  },
  {
   "cell_type": "markdown",
   "metadata": {},
   "source": [
    "<h3><font color=#00BFFF>Exercicío 068 - Jogo do Par ou Ímpar</font></h3>\n",
    "Faça um programa que jogue par ou ímpar com o computador. O jogo só será interrompido quando o jogador perder, mostrando o total de vitórias consecutivas que ele conquistou no final do jogo."
   ]
  },
  {
   "cell_type": "code",
   "execution_count": 141,
   "metadata": {},
   "outputs": [
    {
     "name": "stdout",
     "output_type": "stream",
     "text": [
      "=-=-=-=-=-=-=-=-=-=-=-=-=-=-=-\n",
      "VAMOS JOGAR PAR OU ÍMPAR\n",
      "=-=-=-=-=-=-=-=-=-=-=-=-=-=-=-\n",
      "Digite um valor:2\n",
      "Par ou Ímpar? [P/I]p\n",
      "------------------------------\n",
      "Você jogou 2 e o PC 2. Total 4 é PAR\n",
      "------------------------------\n",
      "Você VENCEU!\n",
      "Vamos jogar novamente..\n",
      "=-=-=-=-=-=-=-=-=-=-=-=-=-=-=-\n",
      "Digite um valor:2\n",
      "Par ou Ímpar? [P/I]p\n",
      "------------------------------\n",
      "Você jogou 2 e o PC 0. Total 2 é PAR\n",
      "------------------------------\n",
      "Você VENCEU!\n",
      "Vamos jogar novamente..\n",
      "=-=-=-=-=-=-=-=-=-=-=-=-=-=-=-\n",
      "Digite um valor:2\n",
      "Par ou Ímpar? [P/I]p\n",
      "------------------------------\n",
      "Você jogou 2 e o PC 8. Total 10 é PAR\n",
      "------------------------------\n",
      "Você VENCEU!\n",
      "Vamos jogar novamente..\n",
      "=-=-=-=-=-=-=-=-=-=-=-=-=-=-=-\n",
      "Digite um valor:2\n",
      "Par ou Ímpar? [P/I]p\n",
      "------------------------------\n",
      "Você jogou 2 e o PC 7. Total 9 é ÍMPAR\n",
      "------------------------------\n",
      "         Você PERDEU!         \n",
      "=-=-=-=-=-=-=-=-=-=-=-=-=-=-=-\n",
      "GAME OVER! Você venceu 3 vezes.\n"
     ]
    }
   ],
   "source": [
    "from random import randint\n",
    "print('=-' * 15)\n",
    "print('VAMOS JOGAR PAR OU ÍMPAR')\n",
    "print('=-' * 15)\n",
    "v = 0\n",
    "while True:\n",
    "    pc = randint(0, 11)\n",
    "    n = int(input('Digite um valor:'))\n",
    "    e = str(input('Par ou Ímpar? [P/I]')).strip().upper()[0]\n",
    "    \n",
    "    if (pc + n) % 2 == 0:\n",
    "        pi = 'PAR'\n",
    "    else:\n",
    "        pi = 'ÍMPAR'\n",
    "    \n",
    "    print('-' * 30)\n",
    "    print(f'Você jogou {n} e o PC {pc}. Total {n + pc} é {pi}')\n",
    "    if (pi == 'PAR' and e == 'I') or (pi == 'ÍMPAR' and e == 'P'):\n",
    "        break\n",
    "    \n",
    "    v += 1\n",
    "    \n",
    "    print('-' * 30)\n",
    "    print('Você VENCEU!\\nVamos jogar novamente..')\n",
    "    print('=-' * 15)\n",
    "\n",
    "print('-' * 30)\n",
    "print(f'{\"Você PERDEU!\":^30}')\n",
    "print('=-' * 15)\n",
    "print(f'GAME OVER! Você venceu {v} vezes.')"
   ]
  },
  {
   "cell_type": "markdown",
   "metadata": {},
   "source": [
    "<h3><font color=#00BFFF>Exercicío 069 - Análise de dados do grupo</font></h3>\n",
    "Crie um programa que leia a idade e o sexo de várias pessoas. A cada pessoa cadastrada, o programa deverá perguntar se o usuário quer ou não continuar. No final, mostre:\n",
    "\n",
    "A) quantas pessoas tem mais de 18 anos.\n",
    "\n",
    "B) quantos homens foram cadastrados.\n",
    "\n",
    "C) quantas mulheres tem menos de 20 anos."
   ]
  },
  {
   "cell_type": "code",
   "execution_count": 142,
   "metadata": {},
   "outputs": [
    {
     "name": "stdout",
     "output_type": "stream",
     "text": [
      "------------------------------\n",
      "CADASTRE UMA PESSOA\n",
      "------------------------------\n",
      "Idade:30\n",
      "Sexo: [M/F]m\n",
      "Quer continuar? [S/N]t\n",
      "Quer continuar? [S/N]s\n",
      "------------------------------\n",
      "CADASTRE UMA PESSOA\n",
      "------------------------------\n",
      "Idade:a\n",
      "Idade:a\n",
      "Idade:50\n",
      "Sexo: [M/F]g\n",
      "Sexo: [M/F]f\n",
      "Quer continuar? [S/N]n\n",
      "=====FIM DO PROGRAMA=====\n",
      "Total de pessoas com mais de 18 anos: 2\n",
      "Ao todo temos 1 homens cadastrados.\n",
      "E temos 0 mulheres com menos de 20 anos.\n"
     ]
    }
   ],
   "source": [
    "p18 = qtym = qtyw = 0\n",
    "while True:    \n",
    "    print('-' * 30)\n",
    "    print('CADASTRE UMA PESSOA')\n",
    "    print('-' * 30)\n",
    "    i = 'x'\n",
    "    while i.isnumeric() == False:\n",
    "        i = str(input('Idade:')).strip()    \n",
    "    i = int(i)\n",
    "    s = 'x'\n",
    "    while s not in 'FM':\n",
    "        s = str(input('Sexo: [M/F]')).strip().upper()[0]\n",
    "    if i > 18:\n",
    "        p18 += 1\n",
    "    if s == 'M':\n",
    "        qtym += 1\n",
    "    if i < 20 and s == 'F':\n",
    "        qtyw += 1    \n",
    "    continuar = 'x'\n",
    "    while continuar not in 'SN':\n",
    "        continuar = str(input('Quer continuar? [S/N]')).strip().upper()[0]\n",
    "    if continuar == 'N':\n",
    "        break      \n",
    "print('=' * 5 + 'FIM DO PROGRAMA' + '=' * 5)\n",
    "print(f'Total de pessoas com mais de 18 anos: {p18}')\n",
    "print(f'Ao todo temos {qtym} homens cadastrados.')\n",
    "print(f'E temos {qtyw} mulheres com menos de 20 anos.')\n"
   ]
  },
  {
   "cell_type": "markdown",
   "metadata": {},
   "source": [
    "<h3><font color=#00BFFF>Exercicío 070 - Estatísticas em produtos</font></h3>\n",
    "Crie um programa que leia o nome e o preço de vários produtos. O programa deverá perguntar se o usuário vai continuar ou não. No final, mostre:\n",
    "\n",
    "A) qual é o total gasto na compra.\n",
    "\n",
    "B) quantos produtos custam mais de R$1000.\n",
    "\n",
    "C) qual é o nome do produto mais barato."
   ]
  },
  {
   "cell_type": "code",
   "execution_count": 145,
   "metadata": {},
   "outputs": [
    {
     "name": "stdout",
     "output_type": "stream",
     "text": [
      "------------------------------\n",
      "LOJA SUPER BARATÃO\n",
      "------------------------------\n",
      "Nome do produto:laranja 1.2\n",
      "Preço: R$2\n",
      "Quer continuar? [S/N]s\n",
      "Nome do produto:carro \n",
      "Preço: R$50000\n",
      "Quer continuar? [S/N]relogio\n",
      "Quer continuar? [S/N]1200\n",
      "Quer continuar? [S/N]bala\n",
      "Quer continuar? [S/N]0.12\n",
      "Quer continuar? [S/N]s\n",
      "Nome do produto:relogio\n",
      "Preço: R$1200\n",
      "Quer continuar? [S/N]s\n",
      "Nome do produto:bala\n",
      "Preço: R$0.12\n",
      "Quer continuar? [S/N]n\n",
      "-------FIM DO PROGRAMA--------\n",
      "O total da compra foi R$51202.12.\n",
      "Temos 2 produtos custando mais de R$1000.00.\n",
      "O produto mais barato foi Bala que custa R$0.12.\n"
     ]
    }
   ],
   "source": [
    "t = qty_mil = mais_ba = 0\n",
    "print('-' * 30)\n",
    "print('LOJA SUPER BARATÃO')\n",
    "print('-' * 30)\n",
    "while True:\n",
    "    pr = str(input('Nome do produto:')).strip().capitalize()\n",
    "    p = float(input('Preço: R$')) \n",
    "    if p > 1000:\n",
    "        qty_mil += 1\n",
    "    if t == 0 or p < mais_ba:\n",
    "        mais_ba = p\n",
    "        pr_mais_ba = pr\n",
    "    t += p \n",
    "    c = ' '\n",
    "    while c not in 'SN':\n",
    "        c = str(input('Quer continuar? [S/N]')).strip().upper()\n",
    "    if c == 'N':\n",
    "        break          \n",
    "print(f'{\"FIM DO PROGRAMA\":-^30}')\n",
    "print(f'O total da compra foi R${t:.2f}.')\n",
    "print(f'Temos {qty_mil} produtos custando mais de R$1000.00.')\n",
    "print(f'O produto mais barato foi {pr_mais_ba} que custa R${mais_ba:.2f}.')\n"
   ]
  },
  {
   "cell_type": "markdown",
   "metadata": {},
   "source": [
    "<h3><font color=#00BFFF>Exercicío 071 - Simulador de Caixa Eletrônico</font></h3>\n",
    "Crie um programa que simule o funcionamento de um caixa eletrônico. No início, pergunte ao usuário qual será o valor a ser sacado (número inteiro) e o programa vai informar quantas cédulas de cada valor serão entregues. OBS:\n",
    "\n",
    "considere que o caixa possui cédulas de R$50, R$20, R$10 e R$1."
   ]
  },
  {
   "cell_type": "code",
   "execution_count": 177,
   "metadata": {
    "scrolled": true
   },
   "outputs": [
    {
     "name": "stdout",
     "output_type": "stream",
     "text": [
      "==============================\n",
      "        BANCO TABAJARA        \n",
      "==============================\n",
      "Que valor você quer sacar? R$78\n",
      "Total de 1.0 células de R$50\n",
      "Total de 1.0 células de R$20\n",
      "Total de 1.0 células de R$5\n",
      "Total de 3.0 células de R$1\n",
      "==============================\n",
      "Volte sempre ao BANCO TABAJARA! Tenha um bom dia!\n"
     ]
    }
   ],
   "source": [
    "cedula = 200\n",
    "qty = 0\n",
    "print(f'{\"\":=^30}\\n{\"BANCO TABAJARA\":^30}\\n{\"\":=^30}')\n",
    "s = float(input('Que valor você quer sacar? R$'))\n",
    "while cedula != 0:\n",
    "    if cedula == 200 or cedula == 100 or cedula == 50 or cedula == 20 or cedula == 10 or cedula == 5 or cedula == 1:\n",
    "        if s >= cedula:\n",
    "            qty = s // cedula\n",
    "            s -= (qty * cedula)\n",
    "            print(f'Total de {qty} células de R${cedula}')\n",
    "    cedula -= 1\n",
    "print(f'{\"\":=^30}\\nVolte sempre ao BANCO TABAJARA! Tenha um bom dia!')"
   ]
  },
  {
   "cell_type": "markdown",
   "metadata": {},
   "source": [
    "<h2>Aula 16 - Tuplas </h2>\n",
    "Nessa aula, vamos aprender o que são TUPLAS e como utilizar tuplas em Python. As tuplas são variáveis compostas e imutáveis que permitem armazenar vários valores em uma mesma estrutura, acessíveis por chaves individuais."
   ]
  },
  {
   "cell_type": "code",
   "execution_count": 191,
   "metadata": {},
   "outputs": [
    {
     "name": "stdout",
     "output_type": "stream",
     "text": [
      "('Hambúrguer', 'Suco', 'Pizza', 'Pudim')\n",
      "4\n",
      "Hambúrguer\n",
      "Pudim\n",
      "('Hambúrguer', 'Suco', 'Pizza', 'Pudim')\n",
      "('Suco', 'Pizza')\n",
      "('Suco', 'Pudim')\n",
      "Eu vou comer Hambúrguer na posição 0\n",
      "Eu vou comer Suco na posição 1\n",
      "Eu vou comer Pizza na posição 2\n",
      "Eu vou comer Pudim na posição 3\n",
      "['Hambúrguer', 'Pizza', 'Pudim', 'Suco']\n"
     ]
    }
   ],
   "source": [
    "#Tuplas são imutáveis!!! Ou seja, alocou algo em um endereço não pode trocar o mesmo individualmente durante o funcionamento do programa\n",
    "lanche = 'Hambúrguer', 'Suco', 'Pizza', 'Pudim' #Tupla não precisa colocar parenteses *Python>3.5\n",
    "#lanche = ('Hambúrguer', 'suco', 'Pizza', 'Pudim')\n",
    "#boa pratica é sempre deixar em parenteses para saber imediatamente que é uma tupla.\n",
    "print(lanche)\n",
    "print(len(lanche))\n",
    "print(lanche[0])\n",
    "print(lanche[-1])\n",
    "print(lanche[:5])# sempre ignora o ultimo\n",
    "print(lanche[1:3])\n",
    "print(lanche[1:5:2])\n",
    "for c, comida in enumerate(lanche):\n",
    "    print(f'Eu vou comer {comida} na posição {c}')\n",
    "print(sorted(lanche))"
   ]
  },
  {
   "cell_type": "code",
   "execution_count": 197,
   "metadata": {},
   "outputs": [
    {
     "name": "stdout",
     "output_type": "stream",
     "text": [
      "(5, 2, 6, 7, 1, 8, 2, 10)\n",
      "1\n",
      "6\n",
      "8\n",
      "2\n"
     ]
    }
   ],
   "source": [
    "a = (5, 2, 6)\n",
    "b = (7, 1, 8, 2, 10)\n",
    "c = a + b\n",
    "print(c)\n",
    "print(c.index(2))\n",
    "print(c.index(2, 2)) # o segundo argumento é onde ele vai começar procurar\n",
    "print(len(c))\n",
    "print(c.count(2))"
   ]
  },
  {
   "cell_type": "code",
   "execution_count": 201,
   "metadata": {},
   "outputs": [
    {
     "name": "stdout",
     "output_type": "stream",
     "text": [
      "('Livio', 12, 'a2', 2.1, (1, 2, 'a'))\n"
     ]
    }
   ],
   "source": [
    "outra_tupla = (1, 2, 'a')\n",
    "a = ('Livio', 12, 'a2', 2.1, outra_tupla) #pode ter dados diferentes dentro de uma tupla\n",
    "print(a)"
   ]
  },
  {
   "cell_type": "markdown",
   "metadata": {},
   "source": [
    "<h3><font color=#00BFFF>Exercicío 072 - Número por Extenso</font></h3>\n",
    "Crie um programa que tenha uma dupla totalmente preenchida com uma contagem por extenso, de zero até vinte. Seu programa deverá ler um número pelo teclado (entre 0 e 20) e mostrá-lo por extenso."
   ]
  },
  {
   "cell_type": "code",
   "execution_count": 140,
   "metadata": {},
   "outputs": [
    {
     "name": "stdout",
     "output_type": "stream",
     "text": [
      "('zero', 'um', 'dois', 'três', 'quatro', 'cinco', 'seis', 'sete', 'oito', 'nove', 'dez', 'onze', 'doze', 'trese', 'quatorze', 'quinze', 'dezesseis', 'dezessete', 'dezoito', 'dezenove', 'vinte')\n",
      "Digite um número entre 0 e 20:30\n",
      "Digite um número entre 0 e 20:5\n",
      "Você digitou o número cinco.\n"
     ]
    }
   ],
   "source": [
    "a = ('zero', 'um', 'dois', 'três', 'quatro', 'cinco', 'seis', 'sete', 'oito', 'nove', 'dez')\n",
    "b = ('onze', 'doze', 'trese', 'catorze', 'quinze', 'dezesseis', 'dezessete', 'dezoito', 'dezenove', 'vinte')\n",
    "c = a + b\n",
    "print(c)\n",
    "n = -1\n",
    "while True:    \n",
    "    n = int(input('Digite um número entre 0 e 20:'))\n",
    "    if 0 <= n <= 20:\n",
    "        break\n",
    "print(f'Você digitou o número {c[n]}.')\n"
   ]
  },
  {
   "cell_type": "markdown",
   "metadata": {},
   "source": [
    "<h3><font color=#00BFFF>Exercicío 073 - Tuplas com Times de Futebol</font></h3>\n",
    "Crie uma tupla preenchida com os 20 primeiros colocados da Tabela do Campeonato Brasileiro de Futebol, na ordem de colocação. Depois mostre:\n",
    "\n",
    "a) Os 5 primeiros times.\n",
    "\n",
    "b) Os últimos 4 colocados.\n",
    "\n",
    "c) Times em ordem alfabética.\n",
    "\n",
    "d) Em que posição está o time da Chapecoense."
   ]
  },
  {
   "cell_type": "code",
   "execution_count": 147,
   "metadata": {
    "scrolled": true
   },
   "outputs": [
    {
     "name": "stdout",
     "output_type": "stream",
     "text": [
      "================================================================================\n",
      "Lista de times do Brasileirão: ('Flamengo', 'Internacional', 'Atlétivo', 'São Paulo', 'Fluminense', 'Grêmio', 'Santos', 'Athletico-PR', 'Bragantino', 'Chapecoense', 'Corinthians', 'Atlético-GO', 'Bahia', 'Sport Recife', 'Fortaleza', 'Vasco Gama', 'Goiás', 'Botafogo')\n",
      "================================================================================\n",
      "Os 5 primeiros são: ('Flamengo', 'Internacional', 'Atlétivo', 'São Paulo', 'Fluminense')\n",
      "================================================================================\n",
      "Os 4 últimos são:('Fortaleza', 'Vasco Gama', 'Goiás', 'Botafogo')\n",
      "================================================================================\n",
      "Times em ordem alfabetica são:['Athletico-PR', 'Atlético-GO', 'Atlétivo', 'Bahia', 'Botafogo', 'Bragantino', 'Chapecoense', 'Corinthians', 'Flamengo', 'Fluminense', 'Fortaleza', 'Goiás', 'Grêmio', 'Internacional', 'Santos', 'Sport Recife', 'São Paulo', 'Vasco Gama']\n",
      "================================================================================\n",
      "O Chapecoense está na 10ª posição\n"
     ]
    }
   ],
   "source": [
    "c = ('Flamengo', 'Internacional', 'Atlétivo', 'São Paulo', 'Fluminense', 'Grêmio', 'Santos', 'Athletico-PR', 'Bragantino', 'Chapecoense', 'Corinthians', 'Atlético-GO', 'Bahia', 'Sport Recife', 'Fortaleza', 'Vasco Gama', 'Goiás', 'Botafogo')\n",
    "print(f'{\"\":=^80}\\nLista de times do Brasileirão: {c}')\n",
    "print(f'{\"\":=^80}\\nOs 5 primeiros são: {c[0:5]}')\n",
    "print(f'{\"\":=^80}\\nOs 4 últimos são:{c[-4:]}')\n",
    "print(f'{\"\":=^80}\\nTimes em ordem alfabetica são:{sorted(c)}')\n",
    "print(f'{\"\":=^80}\\nO Chapecoense está na {c.index(\"Chapecoense\")+1}ª posição')"
   ]
  },
  {
   "cell_type": "markdown",
   "metadata": {},
   "source": [
    "<h3><font color=#00BFFF>Exercicío 074 - Maior e menor valores em Tupla</font></h3>\n",
    "Crie um programa que vai gerar cinco números aleatórios e colocar em uma tupla. Depois disso, mostre a listagem de números gerados e também indique o menor e o maior valor que estão na tupla."
   ]
  },
  {
   "cell_type": "code",
   "execution_count": 165,
   "metadata": {},
   "outputs": [
    {
     "name": "stdout",
     "output_type": "stream",
     "text": [
      "Os valores sorteados foram: 1 5 10 10 9 \n",
      "O maior valor sorteado foi 10\n",
      "O menor valor sorteado foi 1\n"
     ]
    }
   ],
   "source": [
    "from random import randint\n",
    "x = (randint(1, 10), randint(1, 10), randint(1, 10), randint(1, 10), randint(1, 10))\n",
    "print(f'Os valores sorteados foram: ', end='')\n",
    "for c in x:\n",
    "    print(f'{c} ', end='')\n",
    "print(f'\\nO maior valor sorteado foi {max(x)}')\n",
    "print(f'O menor valor sorteado foi {min(x)}')\n"
   ]
  },
  {
   "cell_type": "markdown",
   "metadata": {},
   "source": [
    "<h3><font color=#00BFFF>Exercicío 075 - Análise de dados em uma Tupla</font></h3>\n",
    "Desenvolva um programa que leia quatro valores pelo teclado e guarde-os em uma tupla. No final, mostre:\n",
    "\n",
    "A) Quantas vezes apareceu o valor 9.\n",
    "\n",
    "B) Em que posição foi digitado o primeiro valor 3.\n",
    "\n",
    "C) Quais foram os números pares."
   ]
  },
  {
   "cell_type": "code",
   "execution_count": 174,
   "metadata": {},
   "outputs": [
    {
     "name": "stdout",
     "output_type": "stream",
     "text": [
      "Digite um número: 2\n",
      "Digite outro número: 3\n",
      "Digite mais um número: 9\n",
      "Digite o último número: 6\n",
      "Você digitou os valores: (2, 3, 9, 6)\n",
      "O valor 9 apareceu 1 vezes.\n",
      "O valor 3 apareceu 2ª posição\n",
      "Os valores pares digitados foram 2 6 "
     ]
    }
   ],
   "source": [
    "n = (int(input('Digite um número: ')),\n",
    "     int(input('Digite outro número: ')),\n",
    "     int(input('Digite mais um número: ')),\n",
    "     int(input('Digite o último número: ')))\n",
    "print(f'Você digitou os valores: {n}')\n",
    "print(f'O valor 9 apareceu {n.count(9)} vezes.')\n",
    "if 3 in n:\n",
    "    print(f'O valor 3 apareceu {n.index(3) + 1}ª posição')\n",
    "else:\n",
    "    print('O valor 3 não foi digitado em nenhuma posição')\n",
    "print(f'Os valores pares digitados foram ', end='')\n",
    "for c in n:\n",
    "    if c % 2 == 0:\n",
    "        print(c, end=' ')\n"
   ]
  },
  {
   "cell_type": "markdown",
   "metadata": {},
   "source": [
    "<h3><font color=#00BFFF>Exercicío 076 - Lista de Preços com Tupla</font></h3>\n",
    "Crie um programa que tenha uma tupla única com nomes de produtos e seus respectivos preços, na sequência. No final, mostre uma listagem de preços, organizando os dados em forma tabular."
   ]
  },
  {
   "cell_type": "code",
   "execution_count": 175,
   "metadata": {},
   "outputs": [
    {
     "name": "stdout",
     "output_type": "stream",
     "text": [
      "----------------------------------------------------------------------\n",
      "                          LISTAGEM DE PREÇOS                          \n",
      "----------------------------------------------------------------------\n",
      "Lápis........................................................R$   1.75\n",
      "Borracha.....................................................R$   2.00\n",
      "Caderno......................................................R$  15.90\n",
      "Estojo.......................................................R$  25.00\n",
      "Transferidor.................................................R$   4.20\n",
      "Compasso.....................................................R$   9.99\n",
      "Mochila......................................................R$ 120.32\n",
      "Canetas......................................................R$  22.30\n",
      "Livro........................................................R$  34.90\n",
      "----------------------------------------------------------------------\n"
     ]
    }
   ],
   "source": [
    "t = ('Lápis', 1.75, 'Borracha', 2.00, 'Caderno', 15.90, 'Estojo', 25.00, 'Transferidor', 4.20, 'Compasso', 9.99, 'Mochila', 120.32, 'Canetas', 22.30,'Livro', 34.90)\n",
    "for n, c in enumerate(t):\n",
    "    if n == 0:\n",
    "        print(f'{\"\":-^70}\\n{\"LISTAGEM DE PREÇOS\":^70}\\n{\"\":-^70}')\n",
    "    if n == 0 or (n % 2) == 0: \n",
    "        vlr = float(t[n + 1])\n",
    "        print(f'{t[n]:.<61}R${vlr:>7.2f}')\n",
    "print(f'{\"\":-^70}')"
   ]
  },
  {
   "cell_type": "markdown",
   "metadata": {},
   "source": [
    "<h3><font color=#00BFFF>Exercicío 077 - Contando vogais em Tupla</font></h3>\n",
    "Crie um programa que tenha uma tupla com várias palavras (não usar acentos). Depois disso, você deve mostrar, para cada palavra, quais são as suas vogais."
   ]
  },
  {
   "cell_type": "code",
   "execution_count": 186,
   "metadata": {},
   "outputs": [
    {
     "name": "stdout",
     "output_type": "stream",
     "text": [
      "\n",
      "Na palavra APRENDER temos a e e \n",
      "Na palavra PROGRAMAR temos o a a \n",
      "Na palavra LINGUAGEM temos i u a e \n",
      "Na palavra PYTHON temos o \n",
      "Na palavra CURSO temos u o \n",
      "Na palavra GRATIS temos a i \n",
      "Na palavra ESTUDAR temos e u a \n",
      "Na palavra PRATICAR temos a i a \n",
      "Na palavra TRABALHAR temos a a a \n",
      "Na palavra MERCADO temos e a o \n",
      "Na palavra PROGRAMADOR temos o a a o \n",
      "Na palavra FUTURO temos u u o "
     ]
    }
   ],
   "source": [
    "t1 = ('aprender', 'programar', 'linguagem', 'python', 'curso', 'gratis', 'estudar', 'praticar', 'trabalhar', 'mercado', 'programador', 'futuro')\n",
    "for c in t1:\n",
    "    print(f'\\nNa palavra {c.upper()} temos ', end='')\n",
    "    for y in c:\n",
    "        if y.lower() in 'aeiou':\n",
    "            print(y, end=' ')\n",
    "    "
   ]
  },
  {
   "cell_type": "markdown",
   "metadata": {},
   "source": [
    "<h2>Aula 17 - Listas (Parte 1) </h2>\n",
    "Nessa aula, vamos aprender o que são LISTAS e como utilizar listas em Python. As listas são variáveis compostas que permitem armazenar vários valores em uma mesma estrutura, acessíveis por chaves individuais."
   ]
  },
  {
   "cell_type": "code",
   "execution_count": 55,
   "metadata": {},
   "outputs": [
    {
     "name": "stdout",
     "output_type": "stream",
     "text": [
      "['Hamburguer', 'Suco', 'Pizza', 102]\n",
      "102\n",
      "['Hamburguer', 'Suco', 'Pizza', 'Picolé']\n",
      "['Hamburguer', 'Suco', 'Pizza', 'Picolé', 'Pudim']\n",
      "['Maça', 'Hamburguer', 'Suco', 'Pizza', 'Picolé', 'Pudim']\n",
      "['Hamburguer', 'Suco', 'Pizza', 'Picolé', 'Pudim']\n",
      "['Hamburguer', 'Suco', 'Pizza', 'Pudim']\n",
      "['Hamburguer', 'Suco', 'Pizza']\n",
      "['Hamburguer', 'Suco']\n"
     ]
    }
   ],
   "source": [
    "#Listas são mutaveis, diferente de Tuplas\n",
    "lista1 = ['Hamburguer', 'Suco', 'Pizza', 102]\n",
    "print(lista1)\n",
    "print(lista1[3])\n",
    "lista1[3] = 'Picolé' #São mutaveis pode trocar\n",
    "print(lista1)\n",
    "lista1.append('Pudim') #conseguimos adicionar elementos no final da listacom append\n",
    "print(lista1)\n",
    "lista1.insert(0,'Maça') #coseguimos adicionar elementes em qualquer posição com insert\n",
    "print(lista1)\n",
    "# existe 3 formar para remover um elemento de uma lista\n",
    "del lista1[0] #com del temos que informar a posição do elemento\n",
    "print(lista1)\n",
    "lista1.pop(3) #com pop informamos a posição\n",
    "print(lista1)\n",
    "lista1.pop() #com pop sem informar posição eliminamos o ultimo item da lista\n",
    "print(lista1)\n",
    "if 'Pizza' in lista1: #Uma boa pratica é usar o if para verificar se o elemento existe na lista antes de usar o remove, assim evitando erros.\n",
    "    lista1.remove('Pizza') #com remove informamos o nome do elemento, elimina o primeiro elemento\n",
    "print(lista1)\n"
   ]
  },
  {
   "cell_type": "code",
   "execution_count": 3,
   "metadata": {},
   "outputs": [
    {
     "name": "stdout",
     "output_type": "stream",
     "text": [
      "3\n",
      "7\n",
      "6\n",
      "4\n"
     ]
    }
   ],
   "source": [
    "num = [3, 6, 4, 1]\n",
    "for n1, n2 in enumerate(num):\n",
    "    print(n1 + n2) "
   ]
  },
  {
   "cell_type": "code",
   "execution_count": 208,
   "metadata": {},
   "outputs": [
    {
     "name": "stdout",
     "output_type": "stream",
     "text": [
      "[4, 5, 6, 7, 8, 9, 10]\n",
      "[8, 10, 2, 5, 1, 2, 11]\n",
      "[1, 2, 2, 5, 8, 10, 11]\n",
      "[11, 10, 8, 5, 2, 2, 1]\n",
      "7\n"
     ]
    }
   ],
   "source": [
    "valores = list(range(4,11)) # podemos criar uma lista com range\n",
    "print(valores)\n",
    "valores = [8, 10, 2, 5, 1, 2, 11]\n",
    "print(valores)\n",
    "valores.sort() #podemos ordenar usando sort()\n",
    "print(valores)\n",
    "valores.sort(reverse=True) #podemos ordenar reversamente com parametro reverse=True\n",
    "print(valores)\n",
    "print(len(valores)) #com len() sabemos a qty total de itens\n"
   ]
  },
  {
   "cell_type": "code",
   "execution_count": 214,
   "metadata": {},
   "outputs": [
    {
     "name": "stdout",
     "output_type": "stream",
     "text": [
      "4...\n",
      "5...\n",
      "6...\n",
      "7...\n",
      "8...\n",
      "9...\n",
      "10...\n",
      "4...5...6...7...8...9...10...\n",
      "\n",
      "Na posição: 0 temos o valor 4.\n",
      "Na posição: 1 temos o valor 5.\n",
      "Na posição: 2 temos o valor 6.\n",
      "Na posição: 3 temos o valor 7.\n",
      "Na posição: 4 temos o valor 8.\n",
      "Na posição: 5 temos o valor 9.\n",
      "Na posição: 6 temos o valor 10.\n"
     ]
    }
   ],
   "source": [
    "valores = list(range(4,11)) # podemos criar uma lista com range\n",
    "# printando sem as [] com for\n",
    "for v in valores:\n",
    "    print(f'{v}...') #com for printamos verticalmente\n",
    "\n",
    "for v in valores:    \n",
    "    print(f'{v}...', end='') #com end='' printamos horizontalmente\n",
    "\n",
    "print('\\n')#usamos o \\n somente para ir para outra linha, pois o ultimo print esta com end=''\n",
    "for x, v in enumerate(valores): # printando com valores de posições usando enumerate\n",
    "    print(f'Na posição: {x} temos o valor {v}.')\n",
    "    "
   ]
  },
  {
   "cell_type": "code",
   "execution_count": 2,
   "metadata": {},
   "outputs": [
    {
     "name": "stdout",
     "output_type": "stream",
     "text": [
      "Digite um valor: 5\n",
      "Digite um valor: 6\n",
      "Digite um valor: 8\n",
      "Digite um valor: 4\n",
      "Digite um valor: 8\n",
      "Na posição: 0 temos o valor 5.\n",
      "Na posição: 1 temos o valor 6.\n",
      "Na posição: 2 temos o valor 8.\n",
      "Na posição: 3 temos o valor 4.\n",
      "Na posição: 4 temos o valor 8.\n"
     ]
    }
   ],
   "source": [
    "#Podemos tambem colocar valores em uma lista por digitação no teclado\n",
    "valores = [] # para transformar a variavel em uma lista vazia usamos list() ou list[]\n",
    "for c in range(0,5):\n",
    "    valores.append(int(input('Digite um valor: ')))\n",
    "\n",
    "for x, v in enumerate(valores): # printando com valores de posições usando enumerate\n",
    "    print(f'Na posição: {x} temos o valor {v}.')"
   ]
  },
  {
   "cell_type": "code",
   "execution_count": 2,
   "metadata": {},
   "outputs": [
    {
     "name": "stdout",
     "output_type": "stream",
     "text": [
      "Lista A: [2, 3, 8, 7]\n",
      "Lista B: [2, 3, 8, 7]\n",
      "\n",
      "\n",
      "Lista A: [2, 3, 4, 7]\n",
      "Lista B: [2, 3, 8, 7]\n"
     ]
    }
   ],
   "source": [
    "a = [2, 3, 4, 7]\n",
    "b = a # ATENÇÃO ao igualar uma lista com outra e mudar uma posição em uma automaticamente você muda as duas!\n",
    "b[2] = 8\n",
    "print(f'Lista A: {a}')\n",
    "print(f'Lista B: {b}')\n",
    "\n",
    "print('\\n')\n",
    "\n",
    "c = [2, 3, 4, 7]\n",
    "d = c[:] #com [:] estou criando uma copia, agora sim se modificar uma lista modifico somente ela.\n",
    "d[2] = 8\n",
    "print(f'Lista A: {c}')\n",
    "print(f'Lista B: {d}')"
   ]
  },
  {
   "cell_type": "markdown",
   "metadata": {},
   "source": [
    "<h3><font color=#00BFFF>Exercicío 078 - Maior e Menor valores na Lista</font></h3>\n",
    "Faça um programa que leia 5 valores numéricos e guarde-os em uma lista. No final, mostre qual foi o maior e o menor valor digitado e as suas respectivas posições na lista."
   ]
  },
  {
   "cell_type": "code",
   "execution_count": 60,
   "metadata": {},
   "outputs": [
    {
     "name": "stdout",
     "output_type": "stream",
     "text": [
      "Digite uma valor para a Posição 0: 1\n",
      "Digite uma valor para a Posição 1: 8\n",
      "Digite uma valor para a Posição 2: 8\n",
      "Digite uma valor para a Posição 3: 2\n",
      "Digite uma valor para a Posição 4: 1\n",
      "=-=-=-=-=-=-=-=-=-=-=-=-=-=-=-=-=-=-=-=-=-=-=-=-=-=-=-=-=-=-\n",
      "Você digitou os valores [1, 8, 8, 2, 1]\n",
      "O maior valor digitado foi 8 nas posições 1... 2... \n",
      "O menor valor digitado foi 1 nas posições 0...4..."
     ]
    }
   ],
   "source": [
    "v = []\n",
    "for c in range(0, 5):\n",
    "    v.append(int(input(f'Digite uma valor para a Posição {c}: ')))\n",
    "print('=-' * 30)\n",
    "print(f'Você digitou os valores {v}')\n",
    "print(f'O maior valor digitado foi {max(v)} nas posições ', end='')\n",
    "for y, c in enumerate(v):\n",
    "    if c == max(v):\n",
    "        print(f'{y}... ', end='')\n",
    "\n",
    "print(f'\\nO menor valor digitado foi {min(v)} nas posições ', end='')\n",
    "for y, c in enumerate(v):\n",
    "    if c == min(v):\n",
    "        print(f'{y}...', end='')"
   ]
  },
  {
   "cell_type": "markdown",
   "metadata": {},
   "source": [
    "<h3><font color=#00BFFF>Exercicío 079 - Valores únicos em uma Lista</font></h3>\n",
    "Crie um programa onde o usuário possa digitar vários valores numéricos e cadastre-os em uma lista. Caso o número já exista lá dentro, ele não será adicionado. No final, serão exibidos todos os valores únicos digitados, em ordem crescente."
   ]
  },
  {
   "cell_type": "code",
   "execution_count": 61,
   "metadata": {},
   "outputs": [
    {
     "name": "stdout",
     "output_type": "stream",
     "text": [
      "Digite um valor: 5\n",
      "Valor adicionado com sucesso...\n",
      "Quer continuar? [S/N]s\n",
      "Digite um valor: 5\n",
      "Valor duplicado! Não vou adicionar...\n",
      "Quer continuar? [S/N]s\n",
      "Digite um valor: 8\n",
      "Valor adicionado com sucesso...\n",
      "Quer continuar? [S/N]s\n",
      "Digite um valor: 100\n",
      "Valor adicionado com sucesso...\n",
      "Quer continuar? [S/N]s\n",
      "Digite um valor: 15\n",
      "Valor adicionado com sucesso...\n",
      "Quer continuar? [S/N]s\n",
      "Digite um valor: 1\n",
      "Valor adicionado com sucesso...\n",
      "Quer continuar? [S/N]n\n",
      "=-=-=-=-=-=-=-=-=-=-=-=-=-=-=-=-=-=-=-=-=-=-=-=-=-=-=-=-=-=-\n",
      "Você digitou os vaores [1, 5, 8, 15, 100]\n"
     ]
    }
   ],
   "source": [
    "lista = []\n",
    "while True:\n",
    "    x = (int(input(f'Digite um valor: ')))\n",
    "    if x not in lista:\n",
    "        lista.append(x)\n",
    "        print('Valor adicionado com sucesso...')\n",
    "    else:\n",
    "        print('Valor duplicado! Não vou adicionar...')\n",
    "    d =str(input('Quer continuar? [S/N]')).strip().upper()[0]\n",
    "    if d in 'N':\n",
    "        break\n",
    "lista.sort()       \n",
    "print(f'{\"=-\" * 30}\\nVocê digitou os vaores {lista}')"
   ]
  },
  {
   "cell_type": "markdown",
   "metadata": {},
   "source": [
    "<h3><font color=#00BFFF>Exercicío 080 - Lista ordenada sem repetições</font></h3>\n",
    "Crie um programa onde o usuário possa digitar cinco valores numéricos e cadastre-os em uma lista, já na posição correta de inserção (sem usar o sort()). No final, mostre a lista ordenada na tela."
   ]
  },
  {
   "cell_type": "code",
   "execution_count": 65,
   "metadata": {},
   "outputs": [
    {
     "name": "stdout",
     "output_type": "stream",
     "text": [
      "Digite um valor: 8\n",
      "Adicionado no final da lista...\n",
      "Digite um valor: 1\n",
      "Adicionado na posição 0 da lista...\n",
      "Digite um valor: 7\n",
      "Adicionado na posição 1 da lista...\n",
      "Digite um valor: 10\n",
      "Adicionado no final da lista...\n",
      "Digite um valor: 0\n",
      "Adicionado na posição 0 da lista...\n",
      "-=-=-=-=-=-=-=-=-=-=-=-=-=-=-=-=-=-=-=-=-=-=-=-=-=-=-=-=-=-=\n",
      "Os valores digitados em ordem foram [0, 1, 7, 8, 10]\n"
     ]
    }
   ],
   "source": [
    "lista = []\n",
    "for c in range(0,5):\n",
    "    n = int(input('Digite um valor: '))\n",
    "    if c == 0 or n > lista[-1]:\n",
    "        lista.append(n)\n",
    "        print('Adicionado no final da lista...')\n",
    "    else:\n",
    "        posição = 0\n",
    "        while posição < len(lista):\n",
    "            if n <= lista[posição]:\n",
    "                lista.insert(posição, n)\n",
    "                print(f'Adicionado na posição {posição} da lista...')\n",
    "                break\n",
    "            posição += 1\n",
    "print('-=' * 30)\n",
    "print(f'Os valores digitados em ordem foram {lista}')\n"
   ]
  },
  {
   "cell_type": "markdown",
   "metadata": {},
   "source": [
    "<h3><font color=#00BFFF>Exercicío 081 - Extraindo dados de uma Lista</font></h3>\n",
    "Crie um programa que vai ler vários números e colocar em uma lista.Depois disso, mostre:                                                                      A) Quantos números foram digitados.\n",
    "B) A lista de valores, ordenada de forma decrescente.\n",
    "C) Se o valor 5 foi digitado e está ou não na lista."
   ]
  },
  {
   "cell_type": "code",
   "execution_count": 23,
   "metadata": {},
   "outputs": [
    {
     "name": "stdout",
     "output_type": "stream",
     "text": [
      "Digite um valor: 9\n",
      "Quer continuar? [S/N]s5\n",
      "Digite um valor: 8\n",
      "Quer continuar? [S/N]s\n",
      "Digite um valor: 10\n",
      "Quer continuar? [S/N]s\n",
      "Digite um valor: 0\n",
      "Quer continuar? [S/N]n\n",
      "-=-=-=-=-=-=-=-=-=-=-=-=-=-=-=-=-=-=-=-=-=-=-=-=-=-=-=-=-=-=\n",
      "Você digitou 4 elementos.\n",
      "Os valores em ordem decrescente são [10, 9, 8, 0]\n",
      "O valor 5 não foi encontrado na lista!\n"
     ]
    }
   ],
   "source": [
    "lista = []\n",
    "while True:\n",
    "    lista.append(int(input('Digite um valor: ')))\n",
    "    r = str(input('Quer continuar? [S/N]')).strip().upper()[0]\n",
    "    if r in ('N'):\n",
    "        break\n",
    "print('-=' * 30)\n",
    "lista.sort(reverse=True)\n",
    "print(f'Você digitou {len(lista)} elementos.')\n",
    "print(f'Os valores em ordem decrescente são {lista}')\n",
    "if 5 in lista:\n",
    "    print('O valor 5 faz parte da lista!')\n",
    "else:\n",
    "    print('O valor 5 não foi encontrado na lista!')\n"
   ]
  },
  {
   "cell_type": "markdown",
   "metadata": {},
   "source": [
    "<h3><font color=#00BFFF>Exercicío 082 - Dividindo valores em várias listas</font></h3>\n",
    "Crie um programa que vai ler vários números e colocar em uma lista. Depois disso, crie duas listas extras que vão conter apenas os valores pares e os valores ímpares digitados, respectivamente. Ao final, mostre o conteúdo das três listas geradas."
   ]
  },
  {
   "cell_type": "code",
   "execution_count": 18,
   "metadata": {},
   "outputs": [
    {
     "name": "stdout",
     "output_type": "stream",
     "text": [
      "Digite um número: 1\n",
      "Pos 0 = 1\n",
      "Quer continuar? [S/N]s\n",
      "Digite um número: 8\n",
      "Pos 1 = 8\n",
      "Quer continuar? [S/N]s\n",
      "Digite um número: 4\n",
      "Pos 2 = 4\n",
      "Quer continuar? [S/N]s\n",
      "Digite um número: 6\n",
      "Pos 3 = 6\n",
      "Quer continuar? [S/N]s\n",
      "Digite um número: 9\n",
      "Pos 4 = 9\n",
      "Quer continuar? [S/N]n\n",
      "A lista completa é [1, 8, 4, 6, 9]\n",
      "A lista de pares é [8, 4, 6]\n",
      "A lista de ímpares é [1, 9]\n"
     ]
    }
   ],
   "source": [
    "lista = [] \n",
    "par = []\n",
    "impar = []\n",
    "cont = 0\n",
    "while True:\n",
    "    lista.append(int(input('Digite um número: ')))\n",
    "    if lista[cont] % 2 == 0:\n",
    "        par.append(lista[cont])\n",
    "    else:\n",
    "        impar.append(lista[cont])    \n",
    "    cont += 1\n",
    "    r = str(input('Quer continuar? [S/N]')).strip().upper()[0]\n",
    "    if r in ('N'):\n",
    "        break\n",
    "print(f'A lista completa é {lista}')\n",
    "print(f'A lista de pares é {par}')\n",
    "print(f'A lista de ímpares é {impar}')"
   ]
  },
  {
   "cell_type": "markdown",
   "metadata": {},
   "source": [
    "<h3><font color=#00BFFF>Exercicío 083 - Validando expressões matemáticas</font></h3>\n",
    "Crie um programa onde o usuário digite uma expressão qualquer que use parênteses. Seu aplicativo deverá analisar se a expressão passada está com os parênteses abertos e fechados na ordem correta."
   ]
  },
  {
   "cell_type": "code",
   "execution_count": 25,
   "metadata": {},
   "outputs": [
    {
     "name": "stdout",
     "output_type": "stream",
     "text": [
      "Digite a expressão: (1+1(\n",
      "Sua expressão está errada!\n"
     ]
    }
   ],
   "source": [
    "e = str(input('Digite a expressão: ')).strip()\n",
    "pilha = []\n",
    "for c in e:\n",
    "    if c == '(':\n",
    "        pilha.append('(')\n",
    "    elif c == '(':\n",
    "        if len(pilha) > 0:\n",
    "            pilha.pop()\n",
    "        else:\n",
    "            pilha.append(')')\n",
    "            break\n",
    "if len(pilha) == 0:\n",
    "    print('Sua expressão está válida!')\n",
    "else:\n",
    "    print('Sua expressão está errada!')\n"
   ]
  },
  {
   "cell_type": "markdown",
   "metadata": {},
   "source": [
    "<h2>Aula 18 - Listas (Parte 2) </h2>\n",
    "Nessa aula, vamos aprender o que são LISTAS e como utilizar listas em Python. As listas são variáveis compostas que permitem armazenar vários valores em uma mesma estrutura, acessíveis por chaves individuais."
   ]
  },
  {
   "cell_type": "code",
   "execution_count": 15,
   "metadata": {},
   "outputs": [
    {
     "name": "stdout",
     "output_type": "stream",
     "text": [
      "['Pedro', 25]\n",
      "[['Pedro', 25]]\n",
      "[['Pedro', 25], ['Maria', 19], ['João', 32]]\n",
      "Pedro\n",
      "19\n",
      "João\n",
      "['Maria', 19]\n"
     ]
    }
   ],
   "source": [
    "dados = []\n",
    "dados.append('Pedro')\n",
    "dados.append(25)\n",
    "print(dados)\n",
    "pessoas = []\n",
    "pessoas.append(dados[:]) # quando for dar um append em uma lista tem que usar [:]\"copia\", se não irá duplicar a lista\n",
    "print(pessoas)\n",
    "pessoas.append(['Maria', 19])\n",
    "pessoas.append(['João', 32])\n",
    "print(pessoas)\n",
    "print(pessoas[0][0])\n",
    "print(pessoas[1][1])\n",
    "print(pessoas[2][0])\n",
    "print(pessoas[1])"
   ]
  },
  {
   "cell_type": "code",
   "execution_count": 18,
   "metadata": {},
   "outputs": [
    {
     "name": "stdout",
     "output_type": "stream",
     "text": [
      "['Livio', 40]\n",
      "[['Livio', 40]]\n",
      "['Maria', 22]\n",
      "[['Maria', 22]]\n",
      "-=-=-=-=-=-=-=-=-=-=-=-=-=-=-=-=-=-=-=-=-=-=-=-=-=-=-=-=-=-=\n",
      "['Livio', 40]\n",
      "[['Livio', 40]]\n",
      "['Maria', 22]\n",
      "[['Livio', 40]]\n"
     ]
    }
   ],
   "source": [
    "# diferença entre duplicar uma lista:\n",
    "teste = []\n",
    "teste.append('Livio')\n",
    "teste.append(40)\n",
    "galera = []\n",
    "galera.append(teste) #quando for dar um append em uma lista tem que usar [:]\"copia\", se não irá duplicar a lista\n",
    "print(teste)\n",
    "print(galera)\n",
    "teste[0] = 'Maria'\n",
    "teste[1] = 22\n",
    "print(teste)\n",
    "print(galera) #Mudamos teste e automaticamente mudou galera, pois não usamos acima o [:] quando demos o append\n",
    "print('-=' * 30)\n",
    "#repetindo e agora usando o append com [:]\n",
    "teste = []\n",
    "teste.append('Livio')\n",
    "teste.append(40)\n",
    "galera = []\n",
    "galera.append(teste[:]) #quando for dar um append em uma lista tem que usar [:]\"copia\", se não irá duplicar a lista\n",
    "print(teste)\n",
    "print(galera)\n",
    "teste[0] = 'Maria'\n",
    "teste[1] = 22\n",
    "print(teste)\n",
    "print(galera) #Mudamos teste e automaticamente mudou galera, pois não usamos acima o [:] quando demos o append"
   ]
  },
  {
   "cell_type": "code",
   "execution_count": 22,
   "metadata": {},
   "outputs": [
    {
     "name": "stdout",
     "output_type": "stream",
     "text": [
      "[['João', 19], ['Maria', 33], ['Arthur', 4]]\n",
      "João tem 19 anos de idade.\n",
      "Maria tem 33 anos de idade.\n",
      "Arthur tem 4 anos de idade.\n"
     ]
    }
   ],
   "source": [
    "galera = [['João', 19], ['Maria', 33], ['Arthur', 4]] #podemos criar uma lista com varias listas\n",
    "print(galera)\n",
    "for p in galera:\n",
    "    print(f'{p[0]} tem {p[1]} anos de idade.')\n"
   ]
  },
  {
   "cell_type": "code",
   "execution_count": 37,
   "metadata": {},
   "outputs": [
    {
     "name": "stdout",
     "output_type": "stream",
     "text": [
      "Nome: l\n",
      "Idade: 83\n",
      "Nome: f\n",
      "Idade: 57\n",
      "Nome: a\n",
      "Idade: 20\n",
      "[]\n",
      "[['l', 83], ['f', 57], ['a', 20]]\n"
     ]
    }
   ],
   "source": [
    "pessoas = []\n",
    "dados = []\n",
    "for c in range(0,3):\n",
    "    dados.append(str(input('Nome: ')))\n",
    "    dados.append(int(input('Idade: ')))\n",
    "    pessoas.append(dados[:])\n",
    "    dados.clear()\n",
    "print(dados)\n",
    "print(pessoas)\n"
   ]
  },
  {
   "cell_type": "markdown",
   "metadata": {},
   "source": [
    "<h3><font color=#00BFFF>Exercicío 084 - Lista composta e análise de dados</font></h3>\n",
    "Faça um programa que leia nome e peso de várias pessoas, guardando tudo em uma lista. No final, mostre:\n",
    "A) Quantas pessoas foram cadastradas.\n",
    "B) Uma listagem com as pessoas mais pesadas.\n",
    "C) Uma listagem com as pessoas mais leves."
   ]
  },
  {
   "cell_type": "code",
   "execution_count": 1,
   "metadata": {},
   "outputs": [
    {
     "name": "stdout",
     "output_type": "stream",
     "text": [
      "Nome: ana\n",
      "Peso: 75.5\n",
      "Deseja continuar? [S/N] s\n",
      "Nome: pedro\n",
      "Peso: 89\n",
      "Deseja continuar? [S/N] s\n",
      "Nome: joana\n",
      "Peso: 89\n",
      "Deseja continuar? [S/N] s\n",
      "Nome: carolina\n",
      "Peso: 55\n",
      "Deseja continuar? [S/N] s\n",
      "Nome: bianca\n",
      "Peso: 55\n",
      "Deseja continuar? [S/N] n\n",
      "-=-=-=\n",
      "Ao todo, você cadastrou 5 pessoas.\n",
      "O maior peso foi de 89.0Kg. Peso de ['Pedro', 'Joana']\n",
      "O menor peso foi de 55.0kg. Peso de ['Carolina', 'Bianca']\n"
     ]
    }
   ],
   "source": [
    "pessoas = []\n",
    "dados = []\n",
    "peso = []\n",
    "maiorp = []\n",
    "menorp = []\n",
    "while True:\n",
    "    dados.append(str(input('Nome: ')).capitalize())\n",
    "    dados.append(float(input('Peso: ')))\n",
    "    pessoas.append(dados[:])\n",
    "    dados.clear()   \n",
    "    r = str(input('Deseja continuar? [S/N] ')).strip().upper()[0]\n",
    "    if r in 'N':\n",
    "        break\n",
    "for c in pessoas:\n",
    "    peso.append(c[1])\n",
    "for c in pessoas:\n",
    "    if c[1] == max(peso):\n",
    "        maiorp.append(c[0])\n",
    "    elif c[1] == min(peso):\n",
    "        menorp.append(c[0])  \n",
    "print('-=' * 3)\n",
    "print(f'Ao todo, você cadastrou {len(pessoas)} pessoas.')\n",
    "print(f'O maior peso foi de {max(peso)}Kg. Peso de {maiorp}')\n",
    "print(f'O menor peso foi de {min(peso)}kg. Peso de {menorp}')\n",
    " "
   ]
  },
  {
   "cell_type": "markdown",
   "metadata": {},
   "source": [
    "<h3><font color=#00BFFF>Exercicío 085 - Listas com pares e ímpares</font></h3>\n",
    "Crie um programa onde o usuário possa digitar sete valores numéricos e cadastre-os em uma lista única que mantenha separados os valores pares e ímpares. No final, mostre os valores pares e ímpares em ordem crescente."
   ]
  },
  {
   "cell_type": "code",
   "execution_count": 2,
   "metadata": {},
   "outputs": [
    {
     "name": "stdout",
     "output_type": "stream",
     "text": [
      "Digite o 1º valor: 2\n",
      "Digite o 2º valor: 9\n",
      "Digite o 3º valor: 7\n",
      "Digite o 4º valor: 6\n",
      "Digite o 5º valor: 4\n",
      "Digite o 6º valor: 3\n",
      "Digite o 7º valor: 1\n",
      "-=-=-=-=-=-=-=-=-=-=-=-=-=-=-=-=-=-=-=-=-=-=-=-=-=-=-=-=-=-=\n",
      "Os valores pares digitados foram: [2, 4, 6]\n",
      "Os valores ímpares digitados foram: [1, 3, 7, 9]\n"
     ]
    }
   ],
   "source": [
    "numeros = [[], []]\n",
    "for x in range(1,8):\n",
    "    n = (int(input(f'Digite o {x}º valor: ')))\n",
    "    if n % 2 == 0:\n",
    "        numeros[0].append(n)\n",
    "    else:\n",
    "        numeros[1].append(n)\n",
    "print('-=' * 30)\n",
    "print(f'Os valores pares digitados foram: {sorted(numeros[0])}')\n",
    "print(f'Os valores ímpares digitados foram: {sorted(numeros[1])}')\n"
   ]
  },
  {
   "cell_type": "markdown",
   "metadata": {},
   "source": [
    "<h3><font color=#00BFFF>Exercicío 086 - Matriz em Python</font></h3>\n",
    "Crie um programa que declare uma matriz de dimensão 3×3 e preencha com valores lidos pelo teclado. No final, mostre a matriz na tela, com a formatação correta."
   ]
  },
  {
   "cell_type": "code",
   "execution_count": 3,
   "metadata": {},
   "outputs": [
    {
     "name": "stdout",
     "output_type": "stream",
     "text": [
      "Digite um valor para [0, 0]1\n",
      "Digite um valor para [0, 1]2\n",
      "Digite um valor para [0, 2]3\n",
      "Digite um valor para [1, 0]4\n",
      "Digite um valor para [1, 1]5\n",
      "Digite um valor para [1, 2]6\n",
      "Digite um valor para [2, 0]7\n",
      "Digite um valor para [2, 1]8\n",
      "Digite um valor para [2, 2]9\n",
      "-=-=-=-=-=-=-=-=-=-=-=-=-=-=-=-=-=-=-=-=-=-=-=-=-=-=-=-=-=-=\n",
      "[  1  ][  2  ][  3  ]\n",
      "[  4  ][  5  ][  6  ]\n",
      "[  7  ][  8  ][  9  ]\n"
     ]
    }
   ],
   "source": [
    "matriz = [[0, 0, 0], [0, 0, 0], [0, 0, 0]]\n",
    "for lin in range(0, 3):\n",
    "    for col in range(0, 3):\n",
    "        matriz[lin][col] = (int(input(f'Digite um valor para [{lin}, {col}]')))\n",
    "print('-=' * 30)\n",
    "for lin in range(0, 3):\n",
    "    for col in range(0, 3):\n",
    "        print(f'[{matriz[lin][col]:^5}]', end='')\n",
    "    print()\n",
    "        "
   ]
  },
  {
   "cell_type": "markdown",
   "metadata": {},
   "source": [
    "<h3><font color=#00BFFF>Exercicío 087 - Mais sobre Matriz em Python</font></h3>\n",
    "Aprimore o desafio anterior, mostrando no final:\n",
    "A) A soma de todos os valores pares digitados.\n",
    "B) A soma dos valores da terceira coluna.\n",
    "C) O maior valor da segunda linha."
   ]
  },
  {
   "cell_type": "code",
   "execution_count": 5,
   "metadata": {},
   "outputs": [
    {
     "name": "stdout",
     "output_type": "stream",
     "text": [
      "Digite um valor para [0, 0]1\n",
      "Digite um valor para [0, 1]2\n",
      "Digite um valor para [0, 2]3\n",
      "Digite um valor para [1, 0]4\n",
      "Digite um valor para [1, 1]5\n",
      "Digite um valor para [1, 2]6\n",
      "Digite um valor para [2, 0]7\n",
      "Digite um valor para [2, 1]8\n",
      "Digite um valor para [2, 2]9\n",
      "-=-=-=-=-=-=-=-=-=-=-=-=-=-=-=-=-=-=-=-=\n",
      "[  1  ][  2  ][  3  ]\n",
      "[  4  ][  5  ][  6  ]\n",
      "[  7  ][  8  ][  9  ]\n",
      "-=-=-=-=-=-=-=-=-=-=-=-=-=-=-=-=-=-=-=-=\n",
      "A soma dos valores pares é 20\n",
      "A soma dos valores da terceira coluna é 18\n",
      "O maior valor da segunda linha é 6\n"
     ]
    }
   ],
   "source": [
    "matriz = [[0, 0, 0], [0, 0, 0], [0, 0, 0]]\n",
    "par = col3 = lin2 = 0\n",
    "for lin in range(0, 3):\n",
    "    for col in range(0, 3):\n",
    "        matriz[lin][col] = (int(input(f'Digite um valor para [{lin}, {col}]')))\n",
    "print('-=' * 24)\n",
    "for lin in range(0, 3):\n",
    "    for col in range(0, 3):\n",
    "        print(f'[{matriz[lin][col]:^5}]', end='')\n",
    "        if matriz[lin][col] % 2 == 0:\n",
    "            par += matriz[lin][col]\n",
    "        if col == 2:\n",
    "            col3 += matriz[lin][col]\n",
    "        if lin == 1 and matriz[lin][col] > lin2:\n",
    "            lin2 = matriz[lin][col]\n",
    "    print()\n",
    "print(\"-=\" * 24)\n",
    "print(f'A soma dos valores pares é {par}')\n",
    "print(f'A soma dos valores da terceira coluna é {col3}')\n",
    "print(f'O maior valor da segunda linha é {lin2}')"
   ]
  },
  {
   "cell_type": "markdown",
   "metadata": {},
   "source": [
    "<h3><font color=#00BFFF>Exercicío 088 - Palpites para a Mega Sena</font></h3>\n",
    "Faça um programa que ajude um jogador da MEGA SENA a criar palpites.O programa vai perguntar quantos jogos serão gerados e vai sortear 6 números entre 1 e 60 para cada jogo, cadastrando tudo em uma lista composta."
   ]
  },
  {
   "cell_type": "code",
   "execution_count": 6,
   "metadata": {},
   "outputs": [
    {
     "name": "stdout",
     "output_type": "stream",
     "text": [
      "------------------------------\n",
      "      JOGO NA MEGA SENA       \n",
      "------------------------------\n",
      "Quantos jogos você quer que eu sorteie? 5\n",
      "-=-=-=-= SORTEANDO 5 JOGOS -=-=-=-=\n",
      "Jogo 1: [6, 14, 17, 40, 47, 52]\n",
      "Jogo 2: [6, 11, 41, 49, 57, 58]\n",
      "Jogo 3: [15, 33, 41, 44, 50, 56]\n",
      "Jogo 4: [4, 16, 27, 35, 46, 51]\n",
      "Jogo 5: [8, 12, 26, 29, 44, 49]\n",
      "-=-=-=-=-= < BOA SORTE > -=-=-=-=-=\n"
     ]
    }
   ],
   "source": [
    "from random import randint\n",
    "from time import sleep\n",
    "dados = []\n",
    "n = 0\n",
    "print(f'{\"\":-^30}\\n{\"JOGO NA MEGA SENA\":^30}\\n{\"\":-^30}')\n",
    "j = int(input('Quantos jogos você quer que eu sorteie? '))\n",
    "print(f'{\"-=\" * 4} SORTEANDO {j} JOGOS {\"-=\" * 4}')\n",
    "for c in range(0, j):\n",
    "    while len(dados) < 6:\n",
    "        n = randint(1, 60)\n",
    "        if n not in dados:\n",
    "            dados.append(n)\n",
    "    print(f'Jogo {c + 1}: {sorted(dados)}')\n",
    "    sleep(1)\n",
    "    dados.clear()\n",
    "print(f'{\"-=\" * 5} < BOA SORTE > {\"-=\" * 5}')\n"
   ]
  },
  {
   "cell_type": "markdown",
   "metadata": {},
   "source": [
    "<h3><font color=#00BFFF>Exercicío 089 - Boletim com listas compostas</font></h3>\n",
    "Crie um programa que leia nome e duas notas de vários alunos e guarde tudo em uma lista composta. No final, mostre um boletim contendo a média de cada um e permita que o usuário possa mostrar as notas de cada aluno individualmente."
   ]
  },
  {
   "cell_type": "code",
   "execution_count": 8,
   "metadata": {},
   "outputs": [
    {
     "name": "stdout",
     "output_type": "stream",
     "text": [
      "Nome: livio\n",
      "Nota 1: 88.9\n",
      "Nota 2: 91.2\n",
      "Deseja continuar? [S/N] s\n",
      "Nome: flavia\n",
      "Nota 1: 91.3\n",
      "Nota 2: 99\n",
      "Deseja continuar? [S/N] s\n",
      "Nome: matheus\n",
      "Nota 1: 75.2\n",
      "Nota 2: 91\n",
      "Deseja continuar? [S/N] s\n",
      "Nome: arthur\n",
      "Nota 1: 45\n",
      "Nota 2: 99.9\n",
      "Deseja continuar? [S/N] n\n",
      "-=-=-=-=-=-=-=-=-=-=-=-=-=-=-=\n",
      "No. NOME             MÉDIA      \n",
      "------------------------------\n",
      "0   Livio            90.1       \n",
      "1   Flavia           95.2       \n",
      "2   Matheus          83.1       \n",
      "3   Arthur           72.5       \n",
      "------------------------------\n",
      "Mostar notas de qual aluno? (999 interrompe)0\n",
      "Notas de Livio são [88.9, 91.2]\n",
      "------------------------------\n",
      "Mostar notas de qual aluno? (999 interrompe)1\n",
      "Notas de Flavia são [91.3, 99.0]\n",
      "------------------------------\n",
      "Mostar notas de qual aluno? (999 interrompe)2\n",
      "Notas de Matheus são [75.2, 91.0]\n",
      "------------------------------\n",
      "Mostar notas de qual aluno? (999 interrompe)3\n",
      "Notas de Arthur são [45.0, 99.9]\n",
      "------------------------------\n",
      "Mostar notas de qual aluno? (999 interrompe)999\n",
      "        FINALIZANDO...        \n",
      "-------- VOLTE SEMPRE --------\n"
     ]
    }
   ],
   "source": [
    "#lista = [['Livio',[80, 60.5],[Média]],['Flavia', [90, 55.5], [Média]]]\n",
    "lista = []\n",
    "while True: # giro de coleta de dados\n",
    "    nome = (str(input('Nome: ')).capitalize())\n",
    "    nota1 = (float(input('Nota 1: ')))\n",
    "    nota2 = (float(input('Nota 2: ')))\n",
    "    media = (nota1 + nota2) / 2\n",
    "    lista.append([nome, [nota1, nota2], media])\n",
    "    r1 = str(input('Deseja continuar? [S/N] ')).strip().upper()[0]\n",
    "    if r1 in 'N':\n",
    "        break\n",
    "print('-=' * 15)\n",
    "print(f'{\"No.\":<4}{\"NOME\":<17}{\"MÉDIA\":<11}')\n",
    "print('-' * 30)\n",
    "for x in lista:\n",
    "    print(f'{lista.index(x):<4}{x[0]:<17}{x[2]:<11.1f}')\n",
    "print('-' * 30)        \n",
    "while True: # giro interromper o programa    \n",
    "    r2 = int(input('Mostar notas de qual aluno? (999 interrompe)'))\n",
    "    if r2 == 999:\n",
    "        break\n",
    "    else:\n",
    "        print(f'Notas de {lista[r2][0]} são {lista[r2][1]}')\n",
    "        print('-' * 30)\n",
    "print(F'{\"FINALIZANDO...\":^30}\\n{\" VOLTE SEMPRE \":-^30}')\n"
   ]
  },
  {
   "cell_type": "markdown",
   "metadata": {},
   "source": [
    "<h2>Aula 19 - Dicionários </h2>\n",
    "Nessa aula, vamos aprender o que são DICIONÁRIOS e como utilizar dicionários em Python. Os dicionários são variáveis compostas que permitem armazenar vários valores em uma mesma estrutura, acessíveis por chaves literais."
   ]
  },
  {
   "cell_type": "code",
   "execution_count": 24,
   "metadata": {},
   "outputs": [
    {
     "name": "stdout",
     "output_type": "stream",
     "text": [
      "Pedro\n",
      "25\n",
      "{'nome': 'Pedro', 'idade': 25, 'sexo': 'M'}\n",
      "{'nome': 'Pedro', 'sexo': 'M'}\n",
      "dict_values(['Pedro', 'M'])\n",
      "dict_keys(['nome', 'sexo'])\n",
      "dict_items([('nome', 'Pedro'), ('sexo', 'M')])\n",
      "{'nome': ['Livio'], 'sexo': 'M'}\n"
     ]
    }
   ],
   "source": [
    "# VARIÁVEIS COMPOSTAS (DICIONÁRIOS)\n",
    "dados = {} # ou dados = dict()\n",
    "dados = {'nome':'Pedro', 'idade':25}\n",
    "print(dados['nome'])\n",
    "print(dados['idade'])\n",
    "dados['sexo']='M' # Dicionario não aceita append, simplesmente coloca o indice e o dado e se não existir ele cria\n",
    "print(dados)\n",
    "del dados['idade'] # Utilizamos del para apagar\n",
    "print(dados)\n",
    "print(dados.values()) # São os valores/dados\n",
    "print(dados.keys()) # São as chaves\n",
    "print(dados.items()) # Values + Keys\n",
    "dados['nome'] = ['Livio'] # Substituindo valor\n",
    "print(dados)"
   ]
  },
  {
   "cell_type": "code",
   "execution_count": 22,
   "metadata": {},
   "outputs": [
    {
     "name": "stdout",
     "output_type": "stream",
     "text": [
      "O titulo é Star Wars.\n",
      "O ano é 1977.\n",
      "O diretor é Jorge Lucas.\n",
      "-=-=-=-=-=-=-=-=-=-=-=-=-=-=-=-=-=-=-=-=-=-=-=-=-=-=-=-=-=-=\n",
      "titulo\n",
      "ano\n",
      "diretor\n",
      "-=-=-=-=-=-=-=-=-=-=-=-=-=-=-=-=-=-=-=-=-=-=-=-=-=-=-=-=-=-=\n",
      "Star Wars\n",
      "1977\n",
      "Jorge Lucas\n"
     ]
    }
   ],
   "source": [
    "# exemplo de for:\n",
    "filmes = {'titulo':'Star Wars', 'ano':1977, 'diretor':'Jorge Lucas'}\n",
    "for x, y in filmes.items(): # Não precisamos usar o enumerate...\n",
    "    print(f'O {x} é {y}.')\n",
    "print('-=' * 30)\n",
    "for x in filmes.keys():\n",
    "    print(x)\n",
    "print('-=' * 30)\n",
    "for x in filmes.values():\n",
    "    print(x)"
   ]
  },
  {
   "cell_type": "code",
   "execution_count": 28,
   "metadata": {},
   "outputs": [
    {
     "name": "stdout",
     "output_type": "stream",
     "text": [
      "[{'titulo': 'Star Wars', 'ano': 1977, 'diretor': 'Jorge Lucas'}]\n",
      "[{'titulo': 'Star Wars', 'ano': 1977, 'diretor': 'Jorge Lucas'}, {'titulo': 'Avengers', 'ano': 2012, 'diretor': 'Joss Whedon'}, {'titulo': 'Matrix', 'ano': 1999, 'diretor': 'Wachowski'}]\n",
      "1977\n",
      "Matrix\n"
     ]
    }
   ],
   "source": [
    "# exemplo de dicionário dentro de lista\n",
    "locadora = []\n",
    "filme1 = {'titulo':'Star Wars', 'ano':1977, 'diretor':'Jorge Lucas'}\n",
    "filme2 = {'titulo':'Avengers', 'ano':2012, 'diretor':'Joss Whedon'}\n",
    "filme3 = {'titulo':'Matrix', 'ano':1999, 'diretor':'Wachowski'}\n",
    "locadora.append(filme1)\n",
    "print(locadora)\n",
    "locadora.append(filme2)\n",
    "locadora.append(filme3)\n",
    "print(locadora)\n",
    "print(locadora[0]['ano'])\n",
    "print(locadora[2]['titulo'])"
   ]
  },
  {
   "cell_type": "code",
   "execution_count": 31,
   "metadata": {},
   "outputs": [
    {
     "name": "stdout",
     "output_type": "stream",
     "text": [
      "Unidade Federativa: Minas Gerais\n",
      "Sigla do estado: MG\n",
      "Unidade Federativa: São Paulo\n",
      "Sigla do estado: SP\n",
      "Unidade Federativa: Acre\n",
      "Sigla do estado: AC\n",
      "[{'uf': 'Minas Gerais', 'sigla': 'MG'}, {'uf': 'São Paulo', 'sigla': 'SP'}, {'uf': 'Acre', 'sigla': 'AC'}]\n",
      "O campo uf tem valor Minas Gerais.\n",
      "O campo sigla tem valor MG.\n",
      "O campo uf tem valor São Paulo.\n",
      "O campo sigla tem valor SP.\n",
      "O campo uf tem valor Acre.\n",
      "O campo sigla tem valor AC.\n"
     ]
    }
   ],
   "source": [
    "# Fazendo uma copia com dicionario\n",
    "estado = {}\n",
    "brasil = []\n",
    "for c in range(0,3):\n",
    "    estado['uf'] = str(input('Unidade Federativa: '))\n",
    "    estado['sigla'] = str(input('Sigla do estado: '))\n",
    "    brasil.append(estado.copy()) # Obs. aqui para dicionários não podemos usar o [:], pois gera erro. Para dicionarios usamos o copy()\n",
    "print(brasil)\n",
    "\n",
    "from random import randint\n",
    "from operator import itemgetter\n",
    "jogo = {'jogador1':randint(1,6),\n",
    "        'jogador2':randint(1,6),\n",
    "        'jogador3':randint(1,6),\n",
    "        'jogador4':randint(1,6)}\n",
    "print(jogo)\n",
    "jogo = sorted(jogo.items(), key=itemgetter(1), reverse=True) # Ordem decrescente\n",
    "print('-=' * 40)\n",
    "print(jogo)"
   ]
  },
  {
   "cell_type": "code",
   "execution_count": 57,
   "metadata": {},
   "outputs": [
    {
     "name": "stdout",
     "output_type": "stream",
     "text": [
      "{'jogador1': 2, 'jogador2': 1, 'jogador3': 5, 'jogador4': 4}\n",
      "-=-=-=-=-=-=-=-=-=-=-=-=-=-=-=-=-=-=-=-=-=-=-=-=-=-=-=-=-=-=-=-=-=-=-=-=-=-=-=-=\n",
      "[('jogador3', 5), ('jogador4', 4), ('jogador1', 2), ('jogador2', 1)]\n",
      "-=-=-=-=-=-=-=-=-=-=-=-=-=-=-=-=-=-=-=-=-=-=-=-=-=-=-=-=-=-=-=-=-=-=-=-=-=-=-=-=\n",
      "[('jogador2', 1), ('jogador1', 2), ('jogador4', 4), ('jogador3', 5)]\n"
     ]
    }
   ],
   "source": [
    "# colocando dicionário em ordem crescente/decrescente\n",
    "from random import randint\n",
    "from operator import itemgetter\n",
    "jogo = {'jogador1':randint(1,6),\n",
    "        'jogador2':randint(1,6),\n",
    "        'jogador3':randint(1,6),\n",
    "        'jogador4':randint(1,6)}\n",
    "lista = []\n",
    "print(jogo)\n",
    "lista = sorted(jogo.items(), key=itemgetter(1), reverse=True) # Ordem decrescente\n",
    "print('-=' * 40)\n",
    "print(lista)\n",
    "lista = sorted(jogo.items(), key=itemgetter(1)) # Ordem crescente\n",
    "print('-=' * 40)\n",
    "print(lista)"
   ]
  },
  {
   "cell_type": "markdown",
   "metadata": {},
   "source": [
    "<h3><font color=#00BFFF>Exercicío 090 - Dicionário em Python</font></h3>\n",
    "Faça um programa que leia nome e média de um aluno, guardando também a situação em um dicionário. No final, mostre o conteúdo da estrutura na tela."
   ]
  },
  {
   "cell_type": "code",
   "execution_count": 51,
   "metadata": {},
   "outputs": [
    {
     "name": "stdout",
     "output_type": "stream",
     "text": [
      "Nome: livio\n",
      "Média de livio: 8.2\n",
      "  - nome é igual a livio\n",
      "  - média é igual a 8.2\n",
      "  - situação é igual a Aprovado\n"
     ]
    }
   ],
   "source": [
    "dados = {}\n",
    "dados['nome'] = str(input('Nome: '))\n",
    "dados['média'] = float(input(f'Média de {dados[\"nome\"]}: '))\n",
    "dados['situação'] = 'Aprovado' if dados['média'] >= 7 else 'Reprovado'\n",
    "for x, y in dados.items():\n",
    "    print(f'  - {x} é igual a {y}')\n"
   ]
  },
  {
   "cell_type": "markdown",
   "metadata": {},
   "source": [
    "<h3><font color=#00BFFF>Exercicío 091 - Jogo de Dados em Python</font></h3>\n",
    "Crie um programa onde 4 jogadores joguem um dado e tenham resultados aleatórios. Guarde esses resultados em um dicionário em Python. No final, coloque esse dicionário em ordem, sabendo que o vencedor tirou o maior número no dado."
   ]
  },
  {
   "cell_type": "code",
   "execution_count": 54,
   "metadata": {},
   "outputs": [
    {
     "name": "stdout",
     "output_type": "stream",
     "text": [
      "Valores sorteados:\n",
      "O jogador1 tirou 3 no dado.\n",
      "O jogador2 tirou 1 no dado.\n",
      "O jogador3 tirou 5 no dado.\n",
      "O jogador4 tirou 6 no dado.\n",
      "-=-=-=-=-=-=-=-=-=-=-=-=-=-=-=-=-=-=-=-=-=-=-=-=-=-=-=-=-=-=\n",
      "Ranking dos jogadores:\n",
      "   1º lugar: jogador4 com 6.\n",
      "   2º lugar: jogador3 com 5.\n",
      "   3º lugar: jogador1 com 3.\n",
      "   4º lugar: jogador2 com 1.\n"
     ]
    }
   ],
   "source": [
    "from random import randint\n",
    "from time import sleep\n",
    "from operator import itemgetter\n",
    "jogo = {'jogador1':randint(1,6),\n",
    "        'jogador2':randint(1,6),\n",
    "        'jogador3':randint(1,6),\n",
    "        'jogador4':randint(1,6)}\n",
    "rancking = []\n",
    "print('Valores sorteados:')\n",
    "for x, y in jogo.items():\n",
    "    print(f'O {x} tirou {y} no dado.')\n",
    "    sleep(1)\n",
    "rancking = sorted(jogo.items(), key=itemgetter(1), reverse=True)\n",
    "print('-=' * 30)\n",
    "print('Ranking dos jogadores:')\n",
    "for x, y in enumerate(rancking):\n",
    "    print(f'   {x + 1}º lugar: {y[0]} com {[1]}.')\n",
    "    sleep(1)"
   ]
  },
  {
   "cell_type": "markdown",
   "metadata": {},
   "source": [
    "<h3><font color=#00BFFF>Exercicío 092 - Cadastro de Trabalhador em Python</font></h3>\n",
    "Crie um programa que leia nome, ano de nascimento e carteira de trabalho e cadastre-o (com idade) em um dicionário. Se por acaso a CTPS for diferente de ZERO, o dicionário receberá também o ano de contratação e o salário. Calcule e acrescente, além da idade, com quantos anos a pessoa vai se aposentar."
   ]
  },
  {
   "cell_type": "code",
   "execution_count": 35,
   "metadata": {},
   "outputs": [
    {
     "name": "stdout",
     "output_type": "stream",
     "text": [
      "Nome: joão\n",
      "Ano de Nascimento: 1995\n",
      "Carteira de trabalho (0 não tem): 3333\n",
      "-=-=-=-=-=-=-=-=-=-=-=-=-=-=-=-=-=-=-=-=-=-=-=-=-=-=-=-=-=-=-=-=-=-=-=-=-=-=-=-=\n",
      "Ano de contratação: 2000\n",
      "Salário: 1000\n",
      "-=-=-=-=-=-=-=-=-=-=-=-=-=-=-=-=-=-=-=-=-=-=-=-=-=-=-=-=-=-=-=-=-=-=-=-=-=-=-=-=\n",
      "nome tem o valor João\n",
      "idade tem o valor 26\n",
      "ctps tem o valor 3333\n",
      "contratação tem o valor 2000\n",
      "salario tem o valor 1000.0\n",
      "aposentadoria tem o valor 40\n"
     ]
    }
   ],
   "source": [
    "from datetime import date\n",
    "a = date.today().year\n",
    "dados = {}\n",
    "dados['nome'] = str(input('Nome: ')).strip().capitalize()\n",
    "dados['idade'] = a - int(input('Ano de Nascimento: '))\n",
    "dados['ctps'] = int(input('Carteira de trabalho (0 não tem): '))\n",
    "\n",
    "if dados['ctps'] != 0:\n",
    "    dados['contratação'] = int(input('Ano de contratação: '))\n",
    "    dados['salario'] = float(input('Salário: '))\n",
    "    dados['aposentadoria'] = (35 - (a - dados['contratação'])) + dados['idade']\n",
    "    print('-=' * 40)\n",
    "    for x, y in dados.items():\n",
    "        print(f'{x} tem o valor {y}')\n",
    "else:\n",
    "    print('-=' * 40)\n",
    "    for x, y in dados.items():\n",
    "        print(f'{x} tem o valor {y}')\n",
    "  "
   ]
  },
  {
   "cell_type": "markdown",
   "metadata": {},
   "source": [
    "<h3><font color=#00BFFF>Exercicío 093 - Cadastro de Jogador de Futebol</font></h3>\n",
    "Crie um programa que gerencie o aproveitamento de um jogador de futebol. O programa vai ler o nome do jogador e quantas partidas ele jogou. Depois vai ler a quantidade de gols feitos em cada partida. No final, tudo isso será guardado em um dicionário, incluindo o total de gols feitos durante o campeonato."
   ]
  },
  {
   "cell_type": "code",
   "execution_count": 37,
   "metadata": {},
   "outputs": [
    {
     "name": "stdout",
     "output_type": "stream",
     "text": [
      "Nome do jogador: Helio\n",
      "Quantas partidas Helio jogou? 3\n",
      "Quantos gols na partida 0? 4\n",
      "Quantos gols na partida 1? 0\n",
      "Quantos gols na partida 2? 1\n",
      "-=-=-=-=-=-=-=-=-=-=-=-=-=-=-=-=-=-=-=-=-=-=-=-=-=-=-=-=-=-=-=-=-=-=-=-=-=-=-=-=\n",
      "{'jogador': 'Helio', 'gols': [4, 0, 1], 'total': 5}\n",
      "-=-=-=-=-=-=-=-=-=-=-=-=-=-=-=-=-=-=-=-=-=-=-=-=-=-=-=-=-=-=-=-=-=-=-=-=-=-=-=-=\n",
      "O campo jogador tem o valor Helio.\n",
      "O campo gols tem o valor [4, 0, 1].\n",
      "O campo total tem o valor 5.\n",
      "-=-=-=-=-=-=-=-=-=-=-=-=-=-=-=-=-=-=-=-=-=-=-=-=-=-=-=-=-=-=-=-=-=-=-=-=-=-=-=-=\n",
      "O jogador Helio jogou 3 partidas.\n",
      "   => Na partida 0, fez 4 gols.\n",
      "   => Na partida 1, fez 0 gols.\n",
      "   => Na partida 2, fez 1 gols.\n",
      "Foi um total de 5 gols.\n"
     ]
    }
   ],
   "source": [
    "dados = {}\n",
    "lista = []\n",
    "dados['jogador'] = str(input('Nome do jogador: ')).strip().capitalize()\n",
    "partidas = int(input(f'Quantas partidas {dados[\"jogador\"]} jogou? '))\n",
    "for x in range(0, partidas):\n",
    "    lista.append(int(input(f'Quantos gols na partida {x}? ')))\n",
    "dados['gols'] = lista[:]\n",
    "dados['total'] = sum(lista)\n",
    "print(f'{\"-=\" * 40}\\n{dados}\\n{\"-=\" * 40}')\n",
    "for x, y in dados.items():\n",
    "    print(f'O campo {x} tem o valor {y}.')\n",
    "print('-=' * 40)\n",
    "print(f'O jogador {dados[\"jogador\"]} jogou {partidas} partidas.')\n",
    "for x, y in enumerate(lista):\n",
    "    print(f'   => Na partida {x}, fez {y} gols.')\n",
    "print(f'Foi um total de {dados[\"total\"]} gols.')\n"
   ]
  },
  {
   "cell_type": "markdown",
   "metadata": {},
   "source": [
    "<h3><font color=#00BFFF>Exercicío 094 - Unindo dicionários e listas</font></h3>\n",
    "Crie um programa que leia nome, sexo e idade de várias pessoas, guardando os dados de cada pessoa em um dicionário e todos os dicionários em uma lista. No final, mostre: A) Quantas pessoas foram cadastradas B) A média de idade C) Uma lista com as mulheres D) Uma lista de pessoas com idade acima da média"
   ]
  },
  {
   "cell_type": "code",
   "execution_count": 43,
   "metadata": {},
   "outputs": [
    {
     "name": "stdout",
     "output_type": "stream",
     "text": [
      "Nome: Theo\n",
      "Sexo: [M/F] m\n",
      "Idade: 12\n",
      "Quer continuar? [S/N] s\n",
      "Nome: maria\n",
      "Sexo: [M/F] f\n",
      "Idade: 22\n",
      "Quer continuar? [S/N] s\n",
      "Nome: pedro\n",
      "Sexo: [M/F] m\n",
      "Idade: 18\n",
      "Quer continuar? [S/N] s\n",
      "Nome: vanessa\n",
      "Sexo: [M/F] f\n",
      "Idade: 44\n",
      "Quer continuar? [S/N] n\n",
      "-=-=-=-=-=-=-=-=-=-=-=-=-=-=-=-=-=-=-=-=-=-=-=-=-=-=-=-=-=-=-=-=-=-=-=-=-=-=-=-=\n",
      "- O grupo tem 4 pessoas.\n",
      "- A média de idade é de 24.00 anos.\n",
      "- As mulheres cadastradas foram: Maria - Vanessa - \n",
      "- Lista das pessoas que estão acima da média:\n",
      "\n",
      "nome = Vanessa; sexo = F; idade = 44;\n",
      "\n",
      "<<  ENCERRADO  >>\n"
     ]
    }
   ],
   "source": [
    "dados = []\n",
    "temp = {}\n",
    "total_idade = 0\n",
    "while True:\n",
    "    temp['nome'] = str(input('Nome: ').capitalize()).strip()\n",
    "    while True:\n",
    "        temp['sexo'] = str(input('Sexo: [M/F] ')).strip().upper()[0]\n",
    "        if temp['sexo'] in 'MF':\n",
    "            break\n",
    "        print('ERRO! Por favor digite apenas M ou F.')\n",
    "    temp['idade'] = int(input('Idade: '))\n",
    "    total_idade += temp['idade']\n",
    "    dados.append(temp.copy())\n",
    "    while True:\n",
    "        r = str(input('Quer continuar? [S/N] ')).upper()[0]\n",
    "        if r in 'SN':\n",
    "            break\n",
    "        print('ERRO! Por favor digite apenas S ou N.')\n",
    "    if r in 'N':\n",
    "        break     \n",
    "print(f'{\"-=\" * 40}\\n- O grupo tem {len(dados)} pessoas.')\n",
    "print(f'- A média de idade é de {total_idade/len(dados):5.2f} anos.')\n",
    "print('- As mulheres cadastradas foram: ', end='')\n",
    "for c in dados:\n",
    "    if c['sexo'] in 'F':\n",
    "        print(c['nome'], end=' - ')\n",
    "print()\n",
    "print('- Lista das pessoas que estão acima da média:\\n')\n",
    "for c in dados:\n",
    "    for x, y in c.items():\n",
    "        if type(y) == int and y > total_idade/len(dados):\n",
    "            print(f'nome = {c[\"nome\"]}; sexo = {c[\"sexo\"]}; idade = {c[\"idade\"]};\\n')\n",
    "print('<<  ENCERRADO  >>')"
   ]
  },
  {
   "cell_type": "markdown",
   "metadata": {},
   "source": [
    "<h3><font color=#00BFFF>Exercicío 095 - Aprimorando os Dicionários</font></h3>\n",
    "Aprimore o desafio 93 para que ele funcione com vários jogadores, incluindo um sistema de visualização de detalhes do aproveitamento de cada jogador."
   ]
  },
  {
   "cell_type": "code",
   "execution_count": 47,
   "metadata": {},
   "outputs": [
    {
     "name": "stdout",
     "output_type": "stream",
     "text": [
      "Nome do jogador: livio\n",
      "Quantas partidas Livio jogou? 5\n",
      "Quantos gols na partida 1? 0\n",
      "Quantos gols na partida 2? 0\n",
      "Quantos gols na partida 3? 2\n",
      "Quantos gols na partida 4? 0\n",
      "Quantos gols na partida 5? 5\n",
      "Quer continuar? [S/N] s\n",
      "Nome do jogador: matheus\n",
      "Quantas partidas Matheus jogou? 2\n",
      "Quantos gols na partida 1? 0\n",
      "Quantos gols na partida 2? 3\n",
      "Quer continuar? [S/N] s\n",
      "Nome do jogador: arthur\n",
      "Quantas partidas Arthur jogou? 3\n",
      "Quantos gols na partida 1? 3\n",
      "Quantos gols na partida 2? 2\n",
      "Quantos gols na partida 3? 0\n",
      "Quer continuar? [S/N] s\n",
      "Nome do jogador: flavia\n",
      "Quantas partidas Flavia jogou? 2\n",
      "Quantos gols na partida 1? 0\n",
      "Quantos gols na partida 2? 2\n",
      "Quer continuar? [S/N] n\n",
      "-=-=-=-=-=-=-=-=-=-=-=-=-=-=-=-=-=-=-=-=-=-=-=-=-=-=-=-=-=-=-=-=-=-=-=-=-=-=-=-=\n",
      "Cod. NOME       GOLS              TOTAL\n",
      "----------------------------------------\n",
      "  0  Livio      [0, 0, 2, 0, 5]   7    \n",
      "  1  Matheus    [0, 3]            3    \n",
      "  2  Arthur     [3, 2, 0]         5    \n",
      "  3  Flavia     [0, 2]            2    \n",
      "----------------------------------------\n",
      "Mostrar dados de qual jogador? [999 p/ sair] 5\n",
      "ERRO! Não existe este jogador com cod. 5! Tente novamente\n",
      "--------------------------------\n",
      "--------------------------------\n",
      "Mostrar dados de qual jogador? [999 p/ sair] 0\n",
      "-- OS DADOS DO JOGADOR LIVIO:\n",
      "   No jogo 1 fez 0 gols.\n",
      "   No jogo 2 fez 0 gols.\n",
      "   No jogo 3 fez 2 gols.\n",
      "   No jogo 4 fez 0 gols.\n",
      "   No jogo 5 fez 5 gols.\n",
      "--------------------------------\n",
      "Mostrar dados de qual jogador? [999 p/ sair] 1\n",
      "-- OS DADOS DO JOGADOR MATHEUS:\n",
      "   No jogo 1 fez 0 gols.\n",
      "   No jogo 2 fez 3 gols.\n",
      "--------------------------------\n",
      "Mostrar dados de qual jogador? [999 p/ sair] 2\n",
      "-- OS DADOS DO JOGADOR ARTHUR:\n",
      "   No jogo 1 fez 3 gols.\n",
      "   No jogo 2 fez 2 gols.\n",
      "   No jogo 3 fez 0 gols.\n",
      "--------------------------------\n",
      "Mostrar dados de qual jogador? [999 p/ sair] 3\n",
      "-- OS DADOS DO JOGADOR FLAVIA:\n",
      "   No jogo 1 fez 0 gols.\n",
      "   No jogo 2 fez 2 gols.\n",
      "--------------------------------\n",
      "Mostrar dados de qual jogador? [999 p/ sair] 999\n",
      "<<  VOLTE SEMPRE  >>\n"
     ]
    }
   ],
   "source": [
    "lista_geral = []\n",
    "dados = {}\n",
    "lista = []\n",
    "while True:\n",
    "    dados['jogador'] = str(input('Nome do jogador: ')).strip().capitalize()\n",
    "    partidas = int(input(f'Quantas partidas {dados[\"jogador\"]} jogou? '))\n",
    "    for x in range(0, partidas):\n",
    "        lista.append(int(input(f'Quantos gols na partida {x + 1}? ')))\n",
    "    dados['gols'] = lista[:]\n",
    "    dados['total'] = sum(lista)\n",
    "    lista_geral.append(dados.copy())\n",
    "    lista.clear()\n",
    "    while True:\n",
    "        r = str(input('Quer continuar? [S/N] ')).strip().upper()[0]\n",
    "        if r in 'SN':\n",
    "            break\n",
    "        print('ERRO! Responda apenas S ou N.')\n",
    "    if r in 'N':\n",
    "        print('-=' * 40)\n",
    "        print(f'{\"Cod.\":<5}{\"NOME\":<11}{\"GOLS\":<18}{\"TOTAL\":<5}')\n",
    "        print('-' * 40)\n",
    "        for y in lista_geral:\n",
    "            print(f'{lista_geral.index(y):>3}  {y[\"jogador\"]:<11}{str(y[\"gols\"]):<18}{y[\"total\"]:<5}')\n",
    "            #se não colocar lista em str você não consegue formatar:<18\n",
    "        print('-'*40)\n",
    "        break\n",
    "while True:    \n",
    "    r = int(input('Mostrar dados de qual jogador? [999 p/ sair] '))    \n",
    "    if r == 999:\n",
    "        break\n",
    "    elif r >= len(lista_geral):\n",
    "        print(f'ERRO! Não existe este jogador com cod. {r}! Tente novamente')\n",
    "    else:\n",
    "        print(f'-- OS DADOS DO JOGADOR {lista_geral[r][\"jogador\"].upper()}:')        \n",
    "        for a, b in enumerate(lista_geral[r]['gols']):\n",
    "            print(f'   No jogo {a + 1} fez {b} gols.')\n",
    "    print('-' * 40)\n",
    "print('<<  VOLTE SEMPRE  >>')\n",
    "    "
   ]
  },
  {
   "cell_type": "markdown",
   "metadata": {},
   "source": [
    "<h2>Aula 20 - Funções (Parte 1)</h2>\n",
    "Nessa aula, vamos aprender o que são funções ou rotinas e como utilizar funções em Python. Funções são trechos de código que podem ser executados em momentos diferentes de nossos códigos em Python. Veja como funciona o comando def em Python e como utilizá-lo com parâmetros simples e múltiplos."
   ]
  },
  {
   "cell_type": "code",
   "execution_count": 12,
   "metadata": {},
   "outputs": [
    {
     "name": "stdout",
     "output_type": "stream",
     "text": [
      "-=-=-=-=-=-=-=-=-=-=-=-=-=-=-=-=-=-=-=-=-=-=-=-=-=-=-=-=-=-=\n",
      "                      LIVIO ALVARENGA                       \n",
      "-=-=-=-=-=-=-=-=-=-=-=-=-=-=-=-=-=-=-=-=-=-=-=-=-=-=-=-=-=-=\n",
      "-=-=-=-=-=-=-=-=-=-=-=-=-=-=-=-=-=-=-=-=-=-=-=-=-=-=-=-=-=-=\n",
      "                   testando a função lin2                   \n",
      "-=-=-=-=-=-=-=-=-=-=-=-=-=-=-=-=-=-=-=-=-=-=-=-=-=-=-=-=-=-=\n"
     ]
    }
   ],
   "source": [
    "def lin():\n",
    "    print('-=' * 30)\n",
    "\n",
    "def lin2(txt):\n",
    "    print('-=' * 30)\n",
    "    print(f'{txt:^60}')\n",
    "    print('-=' * 30)\n",
    "    \n",
    "\n",
    "lin()\n",
    "print(f'{\"LIVIO ALVARENGA\":^60}')\n",
    "lin()\n",
    "\n",
    "lin2('testando a função lin2')\n"
   ]
  },
  {
   "cell_type": "code",
   "execution_count": 29,
   "metadata": {},
   "outputs": [
    {
     "name": "stdout",
     "output_type": "stream",
     "text": [
      "a = 1 e b = 3\n",
      "Logo: a + b = 4\n",
      "---------------\n",
      "a = 1 e b = 3\n",
      "Logo: a + b = 4\n",
      "---------------\n",
      "a = 4 e b = 2\n",
      "Logo: a + b = 6\n",
      "---------------\n",
      "A soma de 1 + 2 + 3 + 4 = 10.\n"
     ]
    }
   ],
   "source": [
    "def soma(a, b):\n",
    "    print(f'a = {a} e b = {b}')\n",
    "    s = a + b\n",
    "    print(f'Logo: a + b = {s}')\n",
    "    print('-' * 15)\n",
    "    \n",
    "soma(1, 3) # posso omitir os parametros\n",
    "soma(a=1, b=3) # posso colocar os parametros\n",
    "soma(b=2, a=4) # posso inverter as ordens do parametro\n",
    "\n",
    "def soma1(* valores):\n",
    "    print('A soma de', end='')\n",
    "    s = 0\n",
    "    for x, y in enumerate(valores):\n",
    "        s += y\n",
    "        if x < len(valores) - 1:\n",
    "            print(f' {y} +',end='')\n",
    "        else:\n",
    "            print(f' {y} = {s}.')\n",
    "            \n",
    "soma1(1, 2, 3, 4)"
   ]
  },
  {
   "cell_type": "code",
   "execution_count": 19,
   "metadata": {},
   "outputs": [
    {
     "name": "stdout",
     "output_type": "stream",
     "text": [
      "Recebi os valores (1, 2, 3, 4) e são ao todo 4 números.\n",
      "-=-=-=-=-=-=-=-=-=-=-=-=-=-=-=-=-=-=-=-=-=-=-=-=-=-=-=-=-=-=\n",
      "Recebi os valores (10,) e são ao todo 1 números.\n",
      "-=-=-=-=-=-=-=-=-=-=-=-=-=-=-=-=-=-=-=-=-=-=-=-=-=-=-=-=-=-=\n",
      "Recebi os valores (1, 100, 'livio') e são ao todo 3 números.\n",
      "-=-=-=-=-=-=-=-=-=-=-=-=-=-=-=-=-=-=-=-=-=-=-=-=-=-=-=-=-=-=\n"
     ]
    }
   ],
   "source": [
    "# conceito empacotamento, se não sabemos quantos parametros sera passado usamos este recurso\n",
    "def contador(* a):\n",
    "    tam = len(a)\n",
    "    print(f'Recebi os valores {a} e são ao todo {tam} números.')\n",
    "    print('-=' * 30)\n",
    "    \n",
    "contador(1, 2, 3, 4)\n",
    "contador(10)\n",
    "contador(1, 100, 'livio')\n"
   ]
  },
  {
   "cell_type": "code",
   "execution_count": 24,
   "metadata": {},
   "outputs": [
    {
     "name": "stdout",
     "output_type": "stream",
     "text": [
      "[2, 4, 6, 8]\n"
     ]
    }
   ],
   "source": [
    "def dobra(lst):\n",
    "    pos = 0\n",
    "    while pos < len(lst):\n",
    "        lst[pos] *= 2\n",
    "        pos += 1 \n",
    "        \n",
    "valores = [1, 2, 3, 4]     \n",
    "dobra(valores)\n",
    "print(valores)"
   ]
  },
  {
   "cell_type": "markdown",
   "metadata": {},
   "source": [
    "<h3><font color=#00BFFF>Exercicío 096 - Função que calcula área</font></h3>\n",
    "Faça um programa que tenha uma função chamada área(), que receba as dimensões de um terreno retangular (largura e comprimento) e mostre a área do terreno."
   ]
  },
  {
   "cell_type": "code",
   "execution_count": 35,
   "metadata": {},
   "outputs": [
    {
     "name": "stdout",
     "output_type": "stream",
     "text": [
      "---- Controle de terrenos ----\n",
      "LARGURA (m): 3.5\n",
      "COMPRIMENTO (m): 4.8\n",
      "------------------------------\n",
      "A área de um terreno 3.5x4.8 é de 16.8m².\n",
      "------------------------------\n"
     ]
    }
   ],
   "source": [
    "def area(x, y):\n",
    "    a = x * y\n",
    "    print(f'-' * 50)\n",
    "    print(f'A área de um terreno {x}x{y} é de {a}m².')\n",
    "    print(f'-' * 50)\n",
    "\n",
    "print(f'{\" Controle de terrenos \":-^30}')\n",
    "l = float(input('LARGURA (m): '))\n",
    "c = float(input('COMPRIMENTO (m): '))\n",
    "area(l, c)"
   ]
  },
  {
   "cell_type": "markdown",
   "metadata": {},
   "source": [
    "<h3><font color=#00BFFF>Exercicío 097 - Um print especial</font></h3>\n",
    "Faça um programa que tenha uma função chamada escreva(), que receba um texto qualquer como parâmetro e mostre uma mensagem com tamanho adaptável.Ex:         escreva(‘Olá, Mundo!’) Saída:                                                                                                                          ~~~~~~~~~ Olá, Mundo!~~~~~~~~~\n",
    "Veja o curso de Python PARTE 1 em:https://www.youtube.com/playlist?list… \n",
    "Veja o curso de Python PARTE 2 em https://www.youtube.com/playlist?list…\n",
    "Veja o curso de Python PARTE 3 em https://www.youtube.com/watch?v=0LB3F…\n",
    "Veja a lista de exercícios de Python em https://www.youtube.com/playlist?list…"
   ]
  },
  {
   "cell_type": "code",
   "execution_count": 50,
   "metadata": {},
   "outputs": [
    {
     "name": "stdout",
     "output_type": "stream",
     "text": [
      "~~~~~~~~~~~~~~~~~~~\n",
      "  Livio Alvarenga\n",
      "~~~~~~~~~~~~~~~~~~~\n"
     ]
    }
   ],
   "source": [
    "def escreva(txt):\n",
    "    c = len(txt) + 4\n",
    "    print('~' * c)\n",
    "    print(f'  {txt}')\n",
    "    print('~' * c)\n",
    "    \n",
    "escreva('Livio Alvarenga')"
   ]
  },
  {
   "cell_type": "markdown",
   "metadata": {},
   "source": [
    "<h3><font color=#00BFFF>Exercicío 098 - Função de Contador</font></h3>\n",
    "Faça um programa que tenha uma função chamada contador(), que receba três parâmetros: início, fim e passo. Seu programa tem que realizar três contagens através da função criada:\n",
    "a) de 1 até 10, de 1 em 1                                                                                                                                   b) de 10 até 0, de 2 em 2                                                                                                                                   c) uma contagem personalizada"
   ]
  },
  {
   "cell_type": "code",
   "execution_count": 11,
   "metadata": {},
   "outputs": [
    {
     "name": "stdout",
     "output_type": "stream",
     "text": [
      "-=-=-=-=-=-=-=-=-=-=-=-=-=-=-=-=-=-=-=-=-=-=-=-=-=-=-=-=-=-=\n",
      "Contagem de 1 até 10 de 1 em 1\n",
      "1 2 3 4 5 6 7 8 9 10 FIM!\n",
      "-=-=-=-=-=-=-=-=-=-=-=-=-=-=-=-=-=-=-=-=-=-=-=-=-=-=-=-=-=-=\n",
      "Contagem de 10 até 0 de 2 em 2\n",
      "10 8 6 4 2 0 FIM!\n",
      "-=-=-=-=-=-=-=-=-=-=-=-=-=-=-=-=-=-=-=-=-=-=-=-=-=-=-=-=-=-=\n",
      "Agora é sua vez de personalizar a contagem!\n",
      "Início: 20\n",
      "Fim: 0\n",
      "Passo: -2\n",
      "-=-=-=-=-=-=-=-=-=-=-=-=-=-=-=-=-=-=-=-=-=-=-=-=-=-=-=-=-=-=\n",
      "Contagem de 20 até 0 de 2 em 2\n",
      "20 18 16 14 12 10 8 6 4 2 0 FIM!\n",
      "-=-=-=-=-=-=-=-=-=-=-=-=-=-=-=-=-=-=-=-=-=-=-=-=-=-=-=-=-=-=\n"
     ]
    }
   ],
   "source": [
    "from time import sleep\n",
    "def contador(a, b, c):\n",
    "    if c == 0:\n",
    "        c = 1\n",
    "    elif c <0:\n",
    "        c *= -1\n",
    "    print(f'Contagem de {a} até {b} de {c} em {c}') \n",
    "    if a < b:\n",
    "        for c in range(a, b + 1, c):\n",
    "            print(f'{c}', end=' ')\n",
    "            sleep(0.4)\n",
    "    elif a > b:\n",
    "        for c in range(a, b - 1, -c):\n",
    "            print(f'{c}', end=' ')\n",
    "            sleep(0.4)\n",
    "    print('FIM!')\n",
    "    print('-=' * 30)\n",
    "      \n",
    "print('-=' * 30)    \n",
    "contador(1, 10, 1)\n",
    "contador(10, 0, 2)\n",
    "print('Agora é sua vez de personalizar a contagem!')\n",
    "i = int(input('Início: '))\n",
    "f = int(input('Fim: '))\n",
    "p = int(input('Passo: '))\n",
    "print('-=' * 30)\n",
    "contador(i, f, p)"
   ]
  },
  {
   "cell_type": "markdown",
   "metadata": {},
   "source": [
    "<h3><font color=#00BFFF>Exercicío 099 - Função que descobre o maior</font></h3>\n",
    "Faça um programa que tenha uma função chamada maior(), que receba vários parâmetros com valores inteiros. Seu programa tem que analisar todos os valores e dizer qual deles é o maior."
   ]
  },
  {
   "cell_type": "code",
   "execution_count": 12,
   "metadata": {},
   "outputs": [
    {
     "name": "stdout",
     "output_type": "stream",
     "text": [
      "-=-=-=-=-=-=-=-=-=-=-=-=-=-=-=-=-=-=-=-=-=-=-=-=-=-=-=-=-=-=\n",
      "Analisando os valores passados...\n",
      "Foram informados 0 valores ao todo.\n",
      "O maior valor informado foi 0.\n",
      "-=-=-=-=-=-=-=-=-=-=-=-=-=-=-=-=-=-=-=-=-=-=-=-=-=-=-=-=-=-=\n",
      "Analisando os valores passados...\n",
      "6 Foram informados 1 valores ao todo.\n",
      "O maior valor informado foi 6.\n",
      "-=-=-=-=-=-=-=-=-=-=-=-=-=-=-=-=-=-=-=-=-=-=-=-=-=-=-=-=-=-=\n",
      "Analisando os valores passados...\n",
      "1 3 10 Foram informados 3 valores ao todo.\n",
      "O maior valor informado foi 10.\n"
     ]
    }
   ],
   "source": [
    "from time import sleep\n",
    "def maior(* m):\n",
    "    print('-=' * 30)\n",
    "    print('Analisando os valores passados...')\n",
    "    if bool(m) == False:\n",
    "        print(f'Foram informados 0 valores ao todo.')\n",
    "        print(f'O maior valor informado foi 0.')\n",
    "    else:   \n",
    "        for c in m:\n",
    "            print(c, end=' ')\n",
    "            sleep(0.4)\n",
    "        print(f'Foram informados {len(m)} valores ao todo.')\n",
    "        print(f'O maior valor informado foi {max(m)}.')\n",
    "    \n",
    "maior()\n",
    "maior(6)\n",
    "maior(1, 3, 10)"
   ]
  },
  {
   "cell_type": "markdown",
   "metadata": {},
   "source": [
    "<h3><font color=#00BFFF>Exercicío 100 - Funções para sortear e somar</font></h3>\n",
    "Faça um programa que tenha uma lista chamada números e duas funções chamadas sorteia() e somaPar(). A primeira função vai sortear 5 números e vai colocá-los dentro da lista e a segunda função vai mostrar a soma entre todos os valores pares sorteados pela função anterior."
   ]
  },
  {
   "cell_type": "code",
   "execution_count": 19,
   "metadata": {},
   "outputs": [
    {
     "name": "stdout",
     "output_type": "stream",
     "text": [
      "Sorteando 5 valores da lista: 0 1 2 3 4 PRONTO!\n",
      "Somando os valores pares de [2, 5, 3, 4, 0], temos 6\n"
     ]
    }
   ],
   "source": [
    "from random import randint\n",
    "from time import sleep\n",
    "\n",
    "def sorteia(lista):\n",
    "    print(f'Sorteando 5 valores da lista:', end=' ')\n",
    "    for c in range(0, 5):\n",
    "        n = randint(0, 10)\n",
    "        lista.append(n)       \n",
    "        print(c, end=' ')\n",
    "        sleep(0.4)\n",
    "    print('PRONTO!')\n",
    "def somapar(lista):\n",
    "    s = 0\n",
    "    for c in lista:\n",
    "        if c % 2 == 0:\n",
    "            s += c\n",
    "    print(f'Somando os valores pares de {lista}, temos {s}')\n",
    "    \n",
    "    \n",
    "numeros = []   \n",
    "sorteia(numeros)\n",
    "somapar(numeros)"
   ]
  },
  {
   "cell_type": "markdown",
   "metadata": {},
   "source": [
    "<h2>Aula 21 - Funções (Parte 2)</h2>\n",
    "Nessa aula, vamos continuar nossos estudos de funções em Python, aprendendo mais sobre Interactive Help em Python, o uso de docstrings para documentar nossas funções, argumentos opcionais para dar mais dinamismo em funções Python, escopo de variáveis e retorno de resultados."
   ]
  },
  {
   "cell_type": "code",
   "execution_count": 21,
   "metadata": {},
   "outputs": [
    {
     "name": "stdout",
     "output_type": "stream",
     "text": [
      "Help on built-in function print in module builtins:\n",
      "\n",
      "print(...)\n",
      "    print(value, ..., sep=' ', end='\\n', file=sys.stdout, flush=False)\n",
      "    \n",
      "    Prints the values to a stream, or to sys.stdout by default.\n",
      "    Optional keyword arguments:\n",
      "    file:  a file-like object (stream); defaults to the current sys.stdout.\n",
      "    sep:   string inserted between values, default a space.\n",
      "    end:   string appended after the last value, default a newline.\n",
      "    flush: whether to forcibly flush the stream.\n",
      "\n"
     ]
    }
   ],
   "source": [
    "#para verificar o help de uma função\n",
    "help(print)"
   ]
  },
  {
   "cell_type": "code",
   "execution_count": 22,
   "metadata": {},
   "outputs": [
    {
     "name": "stdout",
     "output_type": "stream",
     "text": [
      "print(value, ..., sep=' ', end='\\n', file=sys.stdout, flush=False)\n",
      "\n",
      "Prints the values to a stream, or to sys.stdout by default.\n",
      "Optional keyword arguments:\n",
      "file:  a file-like object (stream); defaults to the current sys.stdout.\n",
      "sep:   string inserted between values, default a space.\n",
      "end:   string appended after the last value, default a newline.\n",
      "flush: whether to forcibly flush the stream.\n"
     ]
    }
   ],
   "source": [
    "# Também podemos usar o .__doc__\n",
    "print(print.__doc__)"
   ]
  },
  {
   "cell_type": "code",
   "execution_count": 26,
   "metadata": {},
   "outputs": [
    {
     "name": "stdout",
     "output_type": "stream",
     "text": [
      "Help on function contador in module __main__:\n",
      "\n",
      "contador(i, f, p)\n",
      "    --> Faz uma contagem e mostra na tela.\n",
      "    :param i: início da contagem\n",
      "    :param f: fim da contagem\n",
      "    :param p: passo da contagem\n",
      "    :return: sem retorno\n",
      "\n"
     ]
    }
   ],
   "source": [
    "# criando docstrings em funções\n",
    "def contador(i, f, p):\n",
    "    \"\"\"\n",
    "    --> Faz uma contagem e mostra na tela.\n",
    "    :param i: início da contagem\n",
    "    :param f: fim da contagem\n",
    "    :param p: passo da contagem\n",
    "    :return: sem retorno\n",
    "    \"\"\"\n",
    "    c = i\n",
    "    while c <= f:\n",
    "        print(f'{c}', end=' ')\n",
    "        c += p\n",
    "    print('FIM!')\n",
    "    \n",
    "help(contador)    \n",
    "#contador(2, 10, 2)"
   ]
  },
  {
   "cell_type": "code",
   "execution_count": 33,
   "metadata": {},
   "outputs": [
    {
     "name": "stdout",
     "output_type": "stream",
     "text": [
      "A soma vale 3\n",
      "A soma vale 0\n"
     ]
    }
   ],
   "source": [
    "# funções como parametros opcionais\n",
    "def somar(i=0, f=0, p=0): # para tornar um parametro opcional,  dados=o \n",
    "    \"\"\"\n",
    "    --> Faz a soma de três valores e mostra na tela.\n",
    "    :param i: primeiro valor\n",
    "    :param f: segundo valor\n",
    "    :param p: terceiro valor\n",
    "    Função criada por Livio Alvarenga GitHub ...\n",
    "    \"\"\"\n",
    "    s = i + f + p\n",
    "    print(f'A soma vale {s}')\n",
    " \n",
    "\n",
    "somar(1, 2) # funciona pois colocamos p=0.\n",
    "somar() # funciona pois colocamos todos os parametros como opcionais."
   ]
  },
  {
   "cell_type": "code",
   "execution_count": 40,
   "metadata": {},
   "outputs": [
    {
     "name": "stdout",
     "output_type": "stream",
     "text": [
      "A variavel \"b\" fora da função vale 15\n",
      "A variavel \"a\" dentro da função vale 5\n",
      "A variavel \"a\" fora da função vale 10\n",
      "A variavel \"c\" fora da função vale 22\n"
     ]
    }
   ],
   "source": [
    "# escopo de variáveis\n",
    "def função():\n",
    "    global c # agora vamos declarar c como global dentro da função usando o comando global\n",
    "    a = 5 # variavel declarada aqui é chamada de local, ou seja, somente funciona dentro do local (função).\n",
    "    c = 22 \n",
    "    print(f'A variavel \"b\" fora da função vale {b}')\n",
    "    print(f'A variavel \"a\" dentro da função vale {a}')\n",
    "\n",
    "\n",
    "a = 10 # toda variavel declarada aqui é chama de global, ou seja funciona aqui e dentro de qualquer função\n",
    "b = 15 # a variavel global é reconhecida dentro da função, mas a que é criada dentro da função não é reconhecida fora.\n",
    "c = 2\n",
    "função()\n",
    "print(f'A variavel \"a\" fora da função vale {a}')\n",
    "print(f'A variavel \"c\" fora da função vale {c}') # c valera 22, pois dentro da função declaramos ela como global"
   ]
  },
  {
   "cell_type": "code",
   "execution_count": 43,
   "metadata": {},
   "outputs": [
    {
     "name": "stdout",
     "output_type": "stream",
     "text": [
      "A soma vale 10\n",
      "A soma vale 4\n",
      "A soma vale 6\n",
      "Os resultados foram None, None e None\n",
      "Os resultados foram 10, 4 e 6\n"
     ]
    }
   ],
   "source": [
    "# retornando de valores (return)\n",
    "def somar(i=0, f=0, p=0): \n",
    "    s = i + f + p\n",
    "    print(f'A soma vale {s}')\n",
    "    \n",
    "r1 = somar(3, 2, 5)\n",
    "r2 = somar(2, 2)\n",
    "r3 = somar(6)\n",
    "\n",
    "print(f'Os resultados foram {r1}, {r2} e {r3}') # veja que assim os resultados são \"Nome\", ou seja, porque a função esta sem return\n",
    "\n",
    "def somar1(i=0, f=0, p=0): \n",
    "    s = i + f + p\n",
    "    return s\n",
    "    \n",
    "r1 = somar1(3, 2, 5)\n",
    "r2 = somar1(2, 2)\n",
    "r3 = somar1(6)\n",
    "\n",
    "print(f'Os resultados foram {r1}, {r2} e {r3}') # veja que agora conseguimos usar a função na formatação ao lado\n"
   ]
  },
  {
   "cell_type": "markdown",
   "metadata": {},
   "source": [
    "<h3><font color=#00BFFF>Exercicío 101 - Funções para votação</font></h3>\n",
    "Crie um programa que tenha uma função chamada voto() que vai receber como parâmetro o ano de nascimento de uma pessoa, retornando um valor literal indicando se uma pessoa tem voto NEGADO(<18 anos), OPCIONAL(> 65 anos) e OBRIGATÓRIO (>= 18 anos) nas eleições."
   ]
  },
  {
   "cell_type": "code",
   "execution_count": 73,
   "metadata": {},
   "outputs": [
    {
     "name": "stdout",
     "output_type": "stream",
     "text": [
      "------------------------------\n",
      "Em que ano você nasceu?1981\n"
     ]
    },
    {
     "data": {
      "text/plain": [
       "'Com 40 anos: VOTO OBRIGATÓRIO'"
      ]
     },
     "execution_count": 73,
     "metadata": {},
     "output_type": "execute_result"
    }
   ],
   "source": [
    "def voto(an):\n",
    "    \"\"\"\n",
    "    --> Verifica as opções para votação sendo:NEGADO(<18 anos) - OBRIGATÓRIO (>= 18 anos) - OPCIONAL(> 65 anos).\n",
    "    :param an: ano de nascimento\n",
    "    Função criada por Livio Alvarenga GitHub ...\n",
    "    \"\"\"\n",
    "    from datetime import date\n",
    "    i = date.today().year - an\n",
    "    if i < 16:\n",
    "        return f'Com {i} anos: NÃO VOTA'\n",
    "    elif 16 <= i < 18 or i > 65:\n",
    "        return f'Com {i} anos: VOTO OPCIONAL'\n",
    "    else:\n",
    "        return f'Com {i} anos: VOTO OBRIGATÓRIO'\n",
    "    \n",
    "    \n",
    "print('-' * 30)\n",
    "x = int(input('Em que ano você nasceu?' ))\n",
    "voto(x)"
   ]
  },
  {
   "cell_type": "markdown",
   "metadata": {},
   "source": [
    "<h3><font color=#00BFFF>Exercicío 102 - Função para Fatorial</font></h3>\n",
    "Crie um programa que tenha uma função fatorial() que receba dois parâmetros: o primeiro que indique o número a calcular e outro chamado show, que será um valor lógico (opcional) indicando se será mostrado ou não na tela o processo de cálculo do fatorial."
   ]
  },
  {
   "cell_type": "code",
   "execution_count": 89,
   "metadata": {},
   "outputs": [
    {
     "name": "stdout",
     "output_type": "stream",
     "text": [
      "------------------------------\n",
      "5 x 4 x 3 x 2 x 1 = 120\n",
      "------------------------------\n",
      "120\n",
      "120\n",
      "Help on function fatorial in module __main__:\n",
      "\n",
      "fatorial(n, show=False)\n",
      "    --> Calcula o Fatorial de um número.\n",
      "    :param n: O número a ser calculado.\n",
      "    :param show: (opicional) Mostrar ou não a conta.\n",
      "    :return: O valor do fatorial de um número n.\n",
      "    Função criada por Livio Alvarenga GitHub ...\n",
      "\n"
     ]
    }
   ],
   "source": [
    "def fatorial(n, show=False):\n",
    "    \"\"\"\n",
    "    --> Calcula o Fatorial de um número.\n",
    "    :param n: O número a ser calculado.\n",
    "    :param show: (opicional) Mostrar ou não a conta.\n",
    "    :return: O valor do fatorial de um número n.\n",
    "    Função criada por Livio Alvarenga GitHub ...\n",
    "    \"\"\"\n",
    "    cont = 1\n",
    "    for c in range(n, 0, -1):\n",
    "        if show:\n",
    "            print(c, end='')\n",
    "            if c > 1:\n",
    "                print(' x ', end='')\n",
    "            else:\n",
    "                print(' = ', end='')\n",
    "        cont*= c\n",
    "    return cont\n",
    "\n",
    "\n",
    "print('-' * 30)\n",
    "print(fatorial(5, show=True))\n",
    "print('-' * 30)\n",
    "print(fatorial(5))\n",
    "print(fatorial(5, show=False))\n",
    "help(fatorial)\n"
   ]
  },
  {
   "cell_type": "markdown",
   "metadata": {},
   "source": [
    "<h3><font color=#00BFFF>Exercicío 103 - Ficha do Jogador</font></h3>\n",
    "Faça um programa que tenha uma função chamada ficha(), que receba dois parâmetros opcionais: o nome de um jogador e quantos gols ele marcou. O programa deverá ser capaz de mostrar a ficha do jogador, mesmo que algum dado não tenha sido informado corretamente."
   ]
  },
  {
   "cell_type": "code",
   "execution_count": 136,
   "metadata": {},
   "outputs": [
    {
     "name": "stdout",
     "output_type": "stream",
     "text": [
      "Nome do jogador: 9\n",
      "Número de gols: l\n",
      "--------------------------------------------------------------------------------\n",
      "O jogador <desconhecido> fez 0 gol(s) no campeonato.\n"
     ]
    }
   ],
   "source": [
    "def ficha(a='', b=''):\n",
    "    print('-' * 80)\n",
    "    if a == '' or a.isnumeric():\n",
    "        a = '<desconhecido>'\n",
    "    if b == '' or type(b) == str:\n",
    "        b = 0 \n",
    "    print(f'O jogador {a} fez {b} gol(s) no campeonato.')\n",
    "    \n",
    "    \n",
    "n = str(input('Nome do jogador: '))\n",
    "g = str(input('Número de gols: '))\n",
    "ficha(n, g)\n"
   ]
  },
  {
   "cell_type": "markdown",
   "metadata": {},
   "source": [
    "<h3><font color=#00BFFF>Exercicío 104 - Validando entrada de dados em Python</font></h3>\n",
    "Crie um programa que tenha a função leiaInt(), que vai funcionar de forma semelhante ‘a função input() do Python, só que fazendo a validação para aceitar apenas um valor numérico. Ex: n = leiaInt(‘Digite um n: ‘)"
   ]
  },
  {
   "cell_type": "code",
   "execution_count": 141,
   "metadata": {},
   "outputs": [
    {
     "name": "stdout",
     "output_type": "stream",
     "text": [
      "Digite um número: \n",
      "ERRO! Digite um número inteiro válido.\n",
      "Digite um número: d\n",
      "ERRO! Digite um número inteiro válido.\n",
      "Digite um número:  \n",
      "ERRO! Digite um número inteiro válido.\n",
      "Digite um número: 3\n",
      "Você acabou de digitar o número 3\n"
     ]
    }
   ],
   "source": [
    "def leiaInt(x=''): \n",
    "    while True:\n",
    "        a = str(input('Digite um número: ')).strip()\n",
    "        if a.isnumeric():\n",
    "            a = int(a)\n",
    "            print(f'Você acabou de digitar o número {a}')\n",
    "            break\n",
    "        print('ERRO! Digite um número inteiro válido.')\n",
    "\n",
    "\n",
    "n = leiaInt('Digite um número: ')"
   ]
  },
  {
   "cell_type": "markdown",
   "metadata": {},
   "source": [
    "<h3><font color=#00BFFF>Exercicío 105 - Analisando e gerando Dicionários</font></h3>\n",
    "Faça um programa que tenha uma função notas() que pode receber várias notas de alunos e vai retornar um dicionário com as seguintes informações:\n",
    "\n",
    "– Quantidade de notas                                                                                                                                        – A maior nota                                                                                                                                                – A menor nota                                                                                                                                                – A média da turma                                                                                                                                            – A situação (opcional)"
   ]
  },
  {
   "cell_type": "code",
   "execution_count": 164,
   "metadata": {},
   "outputs": [
    {
     "name": "stdout",
     "output_type": "stream",
     "text": [
      "--------------------------------------------------------------------------------\n",
      "{'total': 4, 'maior': '10.00', 'menor': '1.50', 'média': 4.88, 'sit': 'RUIM'}\n",
      "--------------------------------------------------------------------------------\n",
      "{'total': 4, 'maior': '10.00', 'menor': '1.50', 'média': 4.88}\n"
     ]
    }
   ],
   "source": [
    "def notas(*n, sit=False):\n",
    "    \"\"\"\n",
    "    --> Função para analisar notas e situações de vários alunos.\n",
    "    :param n: Uma ou mais notas de alunos (aceita várias).\n",
    "    :param sit: (opicional) Indica se deve ou não mostrar a situação.\n",
    "    :return: Dicionário com várias informações sobre a situação da turma.\n",
    "    Função criada por Livio Alvarenga GitHub ...    \n",
    "    \"\"\"\n",
    "    print('-' * 80)\n",
    "    d = {}\n",
    "    d['total'] = len(n)\n",
    "    d['maior'] = f'{max(n):.2f}'\n",
    "    d['menor'] = f'{min(n):.2f}'\n",
    "    d['média'] = float(f'{sum(n)/len(n):.2f}')\n",
    "    if sit:\n",
    "        if d['média'] >= 7:\n",
    "            d['sit'] = 'BOA'\n",
    "        elif d['média'] >= 5:\n",
    "            d['sit'] = 'RAZOAVEL'\n",
    "        else:\n",
    "            d['sit'] = 'RUIM'\n",
    "    return d\n",
    "    \n",
    "    \n",
    "resp = notas(1.5, 1.5, 10, 6.5, sit=True)\n",
    "print(resp)\n",
    "resp = notas(1.5, 1.5, 10, 6.5)\n",
    "print(resp)"
   ]
  },
  {
   "cell_type": "markdown",
   "metadata": {},
   "source": [
    "<h3><font color=#00BFFF>Exercicío 106 - Interactive helping system in Python</font></h3>\n",
    "Faça um mini-sistema que utilize o Interactive Help do Python. O usuário vai digitar o comando e o manual vai aparecer. Quando o usuário digitar a palavra ‘FIM’, o programa se encerrará. Importante: use cores."
   ]
  },
  {
   "cell_type": "code",
   "execution_count": 3,
   "metadata": {},
   "outputs": [
    {
     "name": "stdout",
     "output_type": "stream",
     "text": [
      "~~~~~~~~~~~~~~~~~~~~~~~~~~~\n",
      "  SISTEMA DE AJUDA PyHELP  \n",
      "~~~~~~~~~~~~~~~~~~~~~~~~~~~\n",
      "Função ou biblioteca > len\n",
      "~~~~~~~~~~~~~~~~~~~~~~~~~~~~~~~~~~~~~~~\n",
      "  Acessando o manual do comando 'len'  \n",
      "~~~~~~~~~~~~~~~~~~~~~~~~~~~~~~~~~~~~~~~\n",
      "\u001b[7;30Help on built-in function len in module builtins:\n",
      "\n",
      "len(obj, /)\n",
      "    Return the number of items in a container.\n",
      "\n",
      "~~~~~~~~~~~~~~~~~~~~~~~~~~~\n",
      "  SISTEMA DE AJUDA PyHELP  \n",
      "~~~~~~~~~~~~~~~~~~~~~~~~~~~\n",
      "Função ou biblioteca > fim\n",
      "~~~~~~~~~~~~~\n",
      "  Até logo!  \n",
      "~~~~~~~~~~~~~\n"
     ]
    }
   ],
   "source": [
    "from time import sleep\n",
    "c = ('\\033[m]',\n",
    "     '\\033[0;30;41m',\n",
    "     '\\033[0;30;42m',\n",
    "     '\\033[0;30;43m',\n",
    "     '\\033[0;30;44m',\n",
    "     '\\033[0;30;45m',\n",
    "     '\\033[7;30')\n",
    "\n",
    "\n",
    "def ajuda(txt):\n",
    "    titulo(f'Acessando o manual do comando \\'{txt}\\'', 4)\n",
    "    print(c[6], end='')\n",
    "    help(txt)\n",
    "    print(c[0], end='')\n",
    "    sleep(2)\n",
    "\n",
    "\n",
    "def titulo(txt, cor=0):\n",
    "    tam=len(txt) + 4\n",
    "    print(c[cor], end='')\n",
    "    print('~' * tam)\n",
    "    print(f'  {txt}  ')\n",
    "    print('~' * tam)\n",
    "    print(c[0], end='')\n",
    "    sleep(1)\n",
    "    \n",
    "    \n",
    "comando =''\n",
    "while True:\n",
    "    titulo(\"SISTEMA DE AJUDA PyHELP\")\n",
    "    comando = str(input('Função ou biblioteca > ')).strip()\n",
    "    if comando.upper() in 'FIM':\n",
    "        break\n",
    "    else:\n",
    "        ajuda(comando)\n",
    "titulo(\"Até logo!\")"
   ]
  },
  {
   "cell_type": "markdown",
   "metadata": {},
   "source": [
    "<h2>Aula 22 - Módulos e Pacotes</h2>\n",
    "Nessa aula, vamos continuar nossos estudos de funções em Python, aprendendo como criar módulos em Python e reutilizar nossos códigos em outros projetos. Vamos aprender também como agrupar vários módulos em um pacote, ampliando ainda mais a modularização em grandes projetos em Python."
   ]
  },
  {
   "cell_type": "code",
   "execution_count": 1,
   "metadata": {},
   "outputs": [
    {
     "name": "stdout",
     "output_type": "stream",
     "text": [
      "Digite um valor: 5\n",
      "O fatorial de 5 é 120\n"
     ]
    }
   ],
   "source": [
    "# Modulo - vamos salvar dentro da mesma pasta um arquivo.py com as funções que deseja utilizar, apos isso é so fazer o import\n",
    "# obs. salvei o arquivo.py pelo vscode\n",
    "import moeda_mod\n",
    "\n",
    "num = int(input('Digite um valor: '))\n",
    "fat = moeda_mod.fatorial(num)\n",
    "print(f'O fatorial de {num} é {fat}')\n",
    "\n",
    "# Pacote  - tem varios modulos dentro, cria uma pasta onde esta o projeto e para cada seguimento cria outra pasta. O importante é que dentro de cada pasta \n",
    "#  tenha um arquivo __int__.py e dentro deste arquivo terá os codigos de funções por exemplo."
   ]
  },
  {
   "cell_type": "markdown",
   "metadata": {},
   "source": [
    "<h3><font color=#00BFFF>Exercicío 107 - Exercitando módulos em Python</font></h3>\n",
    "Crie um módulo chamado moeda.py que tenha as funções incorporadas aumentar(), diminuir(), dobro() e metade(). Faça também um programa que importe esse módulo e use algumas dessas funções."
   ]
  },
  {
   "cell_type": "code",
   "execution_count": 12,
   "metadata": {},
   "outputs": [
    {
     "name": "stdout",
     "output_type": "stream",
     "text": [
      "Digite o preço: R$100\n",
      "A metade de 100.0 é 50.0\n",
      "O dobro de 100.0 é 200.0\n",
      "Aumentando 10%, temos 110.00000000000001\n",
      "Reduzindo 13%, temos 87.0\n"
     ]
    }
   ],
   "source": [
    "import moeda_mod\n",
    "\n",
    "p = float(input('Digite o preço: R$'))\n",
    "print(f'A metade de {p} é {moeda_mod.metade(p)}')\n",
    "print(f'O dobro de {p} é {moeda_mod.dobro(p)}')\n",
    "print(f'Aumentando 10%, temos {moeda_mod.aumentar(p, 10)}')\n",
    "print(f'Reduzindo 13%, temos {moeda_mod.diminuir(p, 13)}')\n"
   ]
  },
  {
   "cell_type": "markdown",
   "metadata": {},
   "source": [
    "<h3><font color=#00BFFF>Exercicío 108 - Formatando Moedas em Python</font></h3>\n",
    "Adapte o código do desafio #107, criando uma função adicional chamada moeda() que consiga mostrar os números como um valor monetário formatado."
   ]
  },
  {
   "cell_type": "code",
   "execution_count": 11,
   "metadata": {},
   "outputs": [
    {
     "name": "stdout",
     "output_type": "stream",
     "text": [
      "Digite o preço: R$100\n",
      "A metade de R$100,00 é R$50,00\n",
      "O dobro de R$100,00 é R$200,00\n",
      "Aumentando 10%, temos R$110,00\n",
      "Reduzindo 13%, temos R$87,00\n"
     ]
    }
   ],
   "source": [
    "import moeda_mod\n",
    "\n",
    "p = float(input('Digite o preço: R$'))\n",
    "print(f'A metade de {moeda_mod.formatacao(p)} é {moeda_mod.formatacao(moeda_mod.metade(p))}')\n",
    "print(f'O dobro de {moeda_mod.formatacao(p)} é {moeda_mod.formatacao(moeda_mod.dobro(p))}')\n",
    "print(f'Aumentando 10%, temos {moeda_mod.formatacao(moeda_mod.aumentar(p, 10))}')\n",
    "print(f'Reduzindo 13%, temos {moeda_mod.formatacao(moeda_mod.diminuir(p, 13))}')\n"
   ]
  },
  {
   "cell_type": "markdown",
   "metadata": {},
   "source": [
    "<h3><font color=#00BFFF>Exercicío 109 - Formatando Moedas em Python</font></h3>\n",
    "Modifique as funções que form criadas no desafio 107 para que elas aceitem um parâmetro a mais, informando se o valor retornado por elas vai ser ou não formatado pela função moeda(), desenvolvida no desafio 108."
   ]
  },
  {
   "cell_type": "code",
   "execution_count": 10,
   "metadata": {},
   "outputs": [
    {
     "name": "stdout",
     "output_type": "stream",
     "text": [
      "Digite o preço: R$100\n",
      "A metade de R$100,00 é R$50,00\n",
      "O dobro de R$100,00 é R$200,00\n",
      "Aumentando 10%, temos R$110,00\n",
      "Reduzindo 13%, temos R$87,00\n"
     ]
    }
   ],
   "source": [
    "import moeda_mod\n",
    "\n",
    "p = float(input('Digite o preço: R$'))\n",
    "print(f'A metade de {moeda_mod.formatacao(p)} é {moeda_mod.metade(p, True)}')\n",
    "print(f'O dobro de {moeda_mod.formatacao(p)} é {moeda_mod.dobro(p, True)}')\n",
    "print(f'Aumentando 10%, temos {moeda_mod.aumentar(p, 10, True)}')\n",
    "print(f'Reduzindo 13%, temos {moeda_mod.diminuir(p, 13, True)}')\n"
   ]
  },
  {
   "cell_type": "markdown",
   "metadata": {},
   "source": [
    "<h3><font color=#00BFFF>Exercicío 110 - Reduzindo ainda mais seu programa</font></h3>\n",
    "Adicione o módulo moeda.py criado nos desafios anteriores, uma função chamada resumo(), que mostre na tela algumas informações geradas pelas funções que já temos no módulo criado até aqui."
   ]
  },
  {
   "cell_type": "code",
   "execution_count": 9,
   "metadata": {},
   "outputs": [
    {
     "name": "stdout",
     "output_type": "stream",
     "text": [
      "Digite o preço: R$100\n",
      "----------------------------------------\n",
      "            RESUMO DO VALOR             \n",
      "----------------------------------------\n",
      "Preço analisado: \tR$100,00\n",
      "Dobro do preço: \tR$200,00\n",
      "Metade do preço: \tR$50,00\n",
      "20% de aumento: \tR$120,00\n",
      "12% de redução: \tR$88,00\n",
      "----------------------------------------\n"
     ]
    }
   ],
   "source": [
    "import moeda_mod\n",
    "\n",
    "p = float(input('Digite o preço: R$'))\n",
    "moeda_mod.resumo(p, 20, 12)"
   ]
  },
  {
   "cell_type": "markdown",
   "metadata": {},
   "source": [
    "<h3><font color=#00BFFF>Exercicío 111 - Transformando módulos em pacotes</font></h3>\n",
    "Crie um pacote chamado utilidadesCeV que tenha dois módulos internos chamados moeda e dado. Transfira todas as funções utilizadas nos desafios 107, 108 e 109 para o primeiro pacote e mantenha tudo funcionando."
   ]
  },
  {
   "cell_type": "code",
   "execution_count": 1,
   "metadata": {},
   "outputs": [
    {
     "name": "stdout",
     "output_type": "stream",
     "text": [
      "Digite o preço: R$100\n",
      "----------------------------------------\n",
      "            RESUMO DO VALOR             \n",
      "----------------------------------------\n",
      "Preço analisado: \tR$100,00\n",
      "Dobro do preço: \tR$200,00\n",
      "Metade do preço: \tR$50,00\n",
      "20% de aumento: \tR$120,00\n",
      "12% de redução: \tR$88,00\n",
      "----------------------------------------\n"
     ]
    }
   ],
   "source": [
    "from utilidades import moeda\n",
    "\n",
    "p = float(input('Digite o preço: R$'))\n",
    "moeda.resumo(p, 20, 12)"
   ]
  },
  {
   "cell_type": "markdown",
   "metadata": {},
   "source": [
    "<h3><font color=#00BFFF>Exercicío 112 - Entrada de dados monetários</font></h3>\n",
    "Dentro do pacote utilidadesCeV que criamos no desafio 111, temos um módulo chamado dado. Crie uma função chamada leiaDinheiro() que seja capaz de funcionar como a função imputa(), mas com uma validação de dados para aceitar apenas valores que seja monetários."
   ]
  },
  {
   "cell_type": "code",
   "execution_count": 3,
   "metadata": {},
   "outputs": [
    {
     "name": "stdout",
     "output_type": "stream",
     "text": [
      "Digite o preço: R$100\n",
      "----------------------------------------\n",
      "            RESUMO DO VALOR             \n",
      "----------------------------------------\n",
      "Preço analisado: \tR$100,00\n",
      "Dobro do preço: \tR$200,00\n",
      "Metade do preço: \tR$50,00\n",
      "20% de aumento: \tR$120,00\n",
      "12% de redução: \tR$88,00\n",
      "----------------------------------------\n"
     ]
    }
   ],
   "source": [
    "from utilidades import moeda, dados\n",
    "\n",
    "p = str(input('Digite o preço: R$'))\n",
    "moeda.resumo(dados.leiaDinheiro(p), 20, 12)"
   ]
  },
  {
   "cell_type": "markdown",
   "metadata": {},
   "source": [
    "<h2>Aula 23 - Tratamento de Erros e Exceções</h2>\n",
    "Nessa aula, vamos ver como o Python permite tratar erros e criar respostas a essas exceções. Aprenda como usar a estrutura try except no Python de uma forma simples."
   ]
  },
  {
   "cell_type": "code",
   "execution_count": 14,
   "metadata": {},
   "outputs": [
    {
     "name": "stdout",
     "output_type": "stream",
     "text": [
      "Infelizmente tivemos um erro (<class 'ZeroDivisionError'>).\n",
      "causa (None).\n",
      "Volte sempre\n"
     ]
    }
   ],
   "source": [
    "try:\n",
    "    a = 2\n",
    "    b = 0\n",
    "    c = a/b # ZeroDivisionError: division by zero\n",
    "except Exception as x: # se quisermos detalhar o erro coloca Exception e cria uma variavel\n",
    "    print(f'Infelizmente tivemos um erro ({x.__class__}). causa ({x.__cause__})') # se o erro acontecer da esta mensagem, se colocamos Exception poderemos mostrar a falha\n",
    "except ZeroDivisionError: # podemos fazer as excessoes personalizadas\n",
    "    print('Não é possivel dividir um numero por Zero!')\n",
    "except (TypeError, ValueError): # podemos colocar mais de um except e dentro do except varias excessões\n",
    "    print('Tivemos um problema com os tipos de dados que você digitou.')\n",
    "else:\n",
    "    print(c) # Se não acontecer o erro gera a mensagem correta\n",
    "finally:\n",
    "    print('Volte sempre') # finally sempre vai acontecer"
   ]
  },
  {
   "cell_type": "markdown",
   "metadata": {},
   "source": [
    "<h3><font color=#00BFFF>Exercicío 113 - Funções aprofundadas em Python</font></h3>\n",
    "Reescreva a função leiaInt() que fizemos no desafio 104, incluindo agora a possibilidade da digitação de um número de tipo inválido. Aproveite e crie também uma função leiaFloat() com a mesma funcionalidade."
   ]
  },
  {
   "cell_type": "code",
   "execution_count": 2,
   "metadata": {},
   "outputs": [
    {
     "name": "stdout",
     "output_type": "stream",
     "text": [
      "Digite um número inteiro: 0\n",
      "Usuário preferiu não digitar esse número.\n",
      "O valor inteiro digitado foi 0 e o real foi 0\n",
      "Digite um número real: 5.5\n"
     ]
    }
   ],
   "source": [
    "from utilidades import dados\n",
    "\n",
    "print(f'O valor inteiro digitado foi {dados.leiaInt()} e o real foi {dados.leiaFloat()}')"
   ]
  },
  {
   "cell_type": "markdown",
   "metadata": {},
   "source": [
    "<h3><font color=#00BFFF>Exercicío 114 - Site está acessível?</font></h3>\n",
    "Crie um código em Python que teste se o site pudim está acessível pelo computador usado."
   ]
  },
  {
   "cell_type": "code",
   "execution_count": 10,
   "metadata": {},
   "outputs": [
    {
     "name": "stdout",
     "output_type": "stream",
     "text": [
      "O site do pudim está online!!\n"
     ]
    }
   ],
   "source": [
    "import requests\n",
    "try:\n",
    "    site = requests.get('http://pudim.com.br/')\n",
    "except:\n",
    "    print('No momento o site está fora do ar!')\n",
    "else:\n",
    "    print('O site do pudim está online!!')"
   ]
  },
  {
   "cell_type": "markdown",
   "metadata": {},
   "source": [
    "<h3><font color=#00BFFF>Exercicío 115a, b e c - Criando um menu</font></h3>\n",
    "Vamos criar um menu em Python, usando modularização."
   ]
  },
  {
   "cell_type": "code",
   "execution_count": 4,
   "metadata": {},
   "outputs": [
    {
     "name": "stdout",
     "output_type": "stream",
     "text": [
      "------------------------------------------------------------\n",
      "                       MENU PRINCIPAL                       \n",
      "------------------------------------------------------------\n",
      "1 - Ver pessoas cadastradas\n",
      "2 - Cadastrar nova Pessoa\n",
      "3 - Sair do Sistema\n",
      "------------------------------------------------------------\n",
      "Sua Opção: 1\n",
      "------------------------------------------------------------\n",
      "                    PESSOAS CADASTRADAS                     \n",
      "------------------------------------------------------------\n",
      "Livio                          39 anos\n",
      "Flavia                         42 anos\n",
      "Arthur                          4 anos\n",
      "Matheus                         7 anos\n",
      "------------------------------------------------------------\n",
      "                       MENU PRINCIPAL                       \n",
      "------------------------------------------------------------\n",
      "1 - Ver pessoas cadastradas\n",
      "2 - Cadastrar nova Pessoa\n",
      "3 - Sair do Sistema\n",
      "------------------------------------------------------------\n",
      "Sua Opção: 3\n",
      "------------------------------------------------------------\n",
      "               Saindo do sistema... Até logo!               \n",
      "------------------------------------------------------------\n"
     ]
    }
   ],
   "source": [
    "from ex115.lib.interface import *\n",
    "from ex115.lib.arquivo import *\n",
    "from time import sleep\n",
    "\n",
    "arq = 'cursoemvideo.txt'\n",
    "if not arquivoExiste(arq):\n",
    "    criarArquivo(arq)\n",
    "\n",
    "while True:\n",
    "    resposta = menu(['Ver pessoas cadastradas', 'Cadastrar nova Pessoa', 'Sair do Sistema'])\n",
    "    if resposta == 1:\n",
    "        # opção listar conteudo do arquivo\n",
    "        lerArquivo(arq)\n",
    "    elif resposta == 2:\n",
    "        # opção cadastrar uma nova pessoa\n",
    "        cabeçalho('NOVO CADASTRO')\n",
    "        nome = str(input('Nome: '))\n",
    "        idade = leiaInt('Idade: ')\n",
    "        cadastrar(arq, nome, idade)\n",
    "    elif resposta == 3:\n",
    "        # opção sair do sistema\n",
    "        cabeçalho('Saindo do sistema... Até logo!')\n",
    "        break\n",
    "    else:\n",
    "        # Digitou opção errada no menu\n",
    "        print('Erro! Digite uma opção válida!')\n",
    "    sleep(1)\n",
    "        "
   ]
  }
 ],
 "metadata": {
  "kernelspec": {
   "display_name": "Python 3",
   "language": "python",
   "name": "python3"
  },
  "language_info": {
   "codemirror_mode": {
    "name": "ipython",
    "version": 3
   },
   "file_extension": ".py",
   "mimetype": "text/x-python",
   "name": "python",
   "nbconvert_exporter": "python",
   "pygments_lexer": "ipython3",
   "version": "3.8.10"
  }
 },
 "nbformat": 4,
 "nbformat_minor": 4
}
